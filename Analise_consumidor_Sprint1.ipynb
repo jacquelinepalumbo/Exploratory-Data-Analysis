{
  "nbformat": 4,
  "nbformat_minor": 0,
  "metadata": {
    "colab": {
      "provenance": [],
      "collapsed_sections": [
        "7sX5yXSuf_G7",
        "VRgohWwDGi_J",
        "6dIo_bjhla5T",
        "GcmqmrWNUQA5",
        "RMc5WSVZP0WQ",
        "a1aUfmZ7QeOU",
        "pE2I0WGGl8CO",
        "sWD5u96ZG20t"
      ],
      "authorship_tag": "ABX9TyPrgyrbj6Ukccxk1H/+g4UH",
      "include_colab_link": true
    },
    "kernelspec": {
      "name": "python3",
      "display_name": "Python 3"
    },
    "language_info": {
      "name": "python"
    }
  },
  "cells": [
    {
      "cell_type": "markdown",
      "metadata": {
        "id": "view-in-github",
        "colab_type": "text"
      },
      "source": [
        "<a href=\"https://colab.research.google.com/github/jacquelinepalumbo/Sprint1_MVP/blob/main/Analise_consumidor_Sprint1.ipynb\" target=\"_parent\"><img src=\"https://colab.research.google.com/assets/colab-badge.svg\" alt=\"Open In Colab\"/></a>"
      ]
    },
    {
      "cell_type": "markdown",
      "source": [
        "# Sprint 1 - Desenvolvimento do MVP\n",
        "\n",
        "Título: Análise do Comportamento do Consumidor"
      ],
      "metadata": {
        "id": "7sX5yXSuf_G7"
      }
    },
    {
      "cell_type": "markdown",
      "source": [
        "O dataset utilizado neste notebook possibilitará uma analise comportamental dos hábitos do consumidor sobre artigos esportivos. \n",
        "Nossos dados são estruturados, onde foram extraídos de um banco de dados da plataforma Kaggle.\n",
        "Trataremos um modelo em aprendizado supervisionado, já que este modelo é construído a partir de um dataset, que são apresentados para um algoritmo na forma de entrada e saída desejada. \n",
        "\n",
        "A técnica de estatística descritiva será aplicada para organizar, descrever, analisar e interpretar dados extraídos do dataset, para que conclusões poossam ser feitas."
      ],
      "metadata": {
        "id": "VQGxf3r-gQNh"
      }
    },
    {
      "cell_type": "markdown",
      "source": [
        "Utilizaremos Pandas para realizarmos a Análise Exploratória do dataset. NumPy, pacote fundamental, para a computação científica com Python. \n",
        "Matplotlib, com as bibliotecas de plotagem gráfica.\n",
        "O Seaborn, é uma biblioteca de visualização baseada em Matplotlib, para a criação de gráficos atrativos.\n",
        "Neste notebook, será utilizado a Plotly. É uma biblioteca em Python que permite criar visualizações interativas em diversos formatos. A biblioteca Plotly possui uma interface com uma interação interesante a ser explorada para plots.\n",
        "Para isso, será gerado a importação destes pacotes e bibliotecas para desenvolver o Notbook."
      ],
      "metadata": {
        "id": "dqjO_o6QhxQq"
      }
    },
    {
      "cell_type": "code",
      "source": [
        "import numpy as np # Importação do Numpy\n",
        "import pandas as pd # Importação do Pandas\n",
        "import matplotlib.pyplot as plt # Importação do Pyplot\n",
        "import seaborn as sns # Importação do Seaborn\n",
        "import plotly # Importação do Plotly\n",
        "import plotly.graph_objs as go # Importação de algumas funcionalidades do Plotly\n",
        "import plotly.offline as py # Importante plotly libraries do plotly offline\n",
        "\n",
        "print(\"Configuração Concluída\") # Exibir na tela \"Configuração Concluída\" "
      ],
      "metadata": {
        "colab": {
          "base_uri": "https://localhost:8080/"
        },
        "id": "rxWsOi4olskL",
        "outputId": "e98c0ca2-a9e0-424c-de6f-880fbb2289a0"
      },
      "execution_count": 1,
      "outputs": [
        {
          "output_type": "stream",
          "name": "stdout",
          "text": [
            "Configuração Concluída\n"
          ]
        }
      ]
    },
    {
      "cell_type": "markdown",
      "source": [
        "Agora iremos importar o dataset com que iremos utilizar a partir de uma url para um dataframe. Neste caso, o arquivo foi inserido no repositório do GitHub. O arquivo está em formado csv. O dataset será nomeado como 'customer'."
      ],
      "metadata": {
        "id": "jzxFtGP7nUeh"
      }
    },
    {
      "cell_type": "code",
      "source": [
        "# url a importar\n",
        "url_dados = 'https://raw.githubusercontent.com/jacquelinepalumbo/Sprint1_MVP/main/SalesForCourse_quizz_table.csv'\n",
        "\n",
        "# Carga do dataset através do arquivo csv\n",
        "customer = pd.read_csv(url_dados)"
      ],
      "metadata": {
        "id": "XbGTYj3cKyFT"
      },
      "execution_count": 2,
      "outputs": []
    },
    {
      "cell_type": "markdown",
      "source": [
        "# Análise Exploratória de Dados"
      ],
      "metadata": {
        "id": "VRgohWwDGi_J"
      }
    },
    {
      "cell_type": "markdown",
      "source": [
        "Inicialmente, iremos utilizar alguns comandos da biblioteca Pandas, para exibir algumas estatísticas descritivas e fazer uma rápida análise exploratória do dataset. Os comentários nos blocos de código auxiliam no seu entendimento."
      ],
      "metadata": {
        "id": "i0KEcmT3c--1"
      }
    },
    {
      "cell_type": "code",
      "source": [
        "# Verificando que 'customer' é um dataframe\n",
        "print(type(customer))\n",
        "\n",
        "# Verificando os tipos de cada coluna do dataframe\n",
        "customer.dtypes"
      ],
      "metadata": {
        "colab": {
          "base_uri": "https://localhost:8080/"
        },
        "id": "oybxOatoXMk5",
        "outputId": "91055de7-7c85-4a3b-abe5-ad6f93c4122e"
      },
      "execution_count": 3,
      "outputs": [
        {
          "output_type": "stream",
          "name": "stdout",
          "text": [
            "<class 'pandas.core.frame.DataFrame'>\n"
          ]
        },
        {
          "output_type": "execute_result",
          "data": {
            "text/plain": [
              "index                 int64\n",
              "Date                 object\n",
              "Year                float64\n",
              "Month                object\n",
              "Customer Age        float64\n",
              "Customer Gender      object\n",
              "Country              object\n",
              "State                object\n",
              "Product Category     object\n",
              "Sub Category         object\n",
              "Quantity            float64\n",
              "Unit Cost           float64\n",
              "Unit Price          float64\n",
              "Cost                float64\n",
              "Revenue             float64\n",
              "Column1             float64\n",
              "dtype: object"
            ]
          },
          "metadata": {},
          "execution_count": 3
        }
      ]
    },
    {
      "cell_type": "markdown",
      "source": [
        "Nosso dataset é um DataFrame e possui 16 colunas. Nossas variáveis são distribuídas no tipo Float, Inteiro e Objeto. "
      ],
      "metadata": {
        "id": "TvwJhZrdjucL"
      }
    },
    {
      "cell_type": "markdown",
      "source": [
        "Explorando o Dataset."
      ],
      "metadata": {
        "id": "LM9Ez0BxkZtg"
      }
    },
    {
      "cell_type": "code",
      "source": [
        "# Exibindo as 5 primeiras linhas\n",
        "customer.head()"
      ],
      "metadata": {
        "colab": {
          "base_uri": "https://localhost:8080/",
          "height": 206
        },
        "id": "N7uFWtWRXRsP",
        "outputId": "a7bb4408-c508-4cc3-9c04-d9236eadb98b"
      },
      "execution_count": 4,
      "outputs": [
        {
          "output_type": "execute_result",
          "data": {
            "text/plain": [
              "   index      Date    Year     Month  Customer Age Customer Gender  \\\n",
              "0      0  02/19/16  2016.0  February          29.0               F   \n",
              "1      1  02/20/16  2016.0  February          29.0               F   \n",
              "2      2  02/27/16  2016.0  February          29.0               F   \n",
              "3      3  03/12/16  2016.0     March          29.0               F   \n",
              "4      4  03/12/16  2016.0     March          29.0               F   \n",
              "\n",
              "         Country       State Product Category     Sub Category  Quantity  \\\n",
              "0  United States  Washington      Accessories  Tires and Tubes       1.0   \n",
              "1  United States  Washington         Clothing           Gloves       2.0   \n",
              "2  United States  Washington      Accessories  Tires and Tubes       3.0   \n",
              "3  United States  Washington      Accessories  Tires and Tubes       2.0   \n",
              "4  United States  Washington      Accessories  Tires and Tubes       3.0   \n",
              "\n",
              "   Unit Cost  Unit Price   Cost  Revenue  Column1  \n",
              "0      80.00  109.000000   80.0    109.0      NaN  \n",
              "1      24.50   28.500000   49.0     57.0      NaN  \n",
              "2       3.67    5.000000   11.0     15.0      NaN  \n",
              "3      87.50  116.500000  175.0    233.0      NaN  \n",
              "4      35.00   41.666667  105.0    125.0      NaN  "
            ],
            "text/html": [
              "\n",
              "  <div id=\"df-47994215-5468-43aa-9897-0a7b3f2c3eee\">\n",
              "    <div class=\"colab-df-container\">\n",
              "      <div>\n",
              "<style scoped>\n",
              "    .dataframe tbody tr th:only-of-type {\n",
              "        vertical-align: middle;\n",
              "    }\n",
              "\n",
              "    .dataframe tbody tr th {\n",
              "        vertical-align: top;\n",
              "    }\n",
              "\n",
              "    .dataframe thead th {\n",
              "        text-align: right;\n",
              "    }\n",
              "</style>\n",
              "<table border=\"1\" class=\"dataframe\">\n",
              "  <thead>\n",
              "    <tr style=\"text-align: right;\">\n",
              "      <th></th>\n",
              "      <th>index</th>\n",
              "      <th>Date</th>\n",
              "      <th>Year</th>\n",
              "      <th>Month</th>\n",
              "      <th>Customer Age</th>\n",
              "      <th>Customer Gender</th>\n",
              "      <th>Country</th>\n",
              "      <th>State</th>\n",
              "      <th>Product Category</th>\n",
              "      <th>Sub Category</th>\n",
              "      <th>Quantity</th>\n",
              "      <th>Unit Cost</th>\n",
              "      <th>Unit Price</th>\n",
              "      <th>Cost</th>\n",
              "      <th>Revenue</th>\n",
              "      <th>Column1</th>\n",
              "    </tr>\n",
              "  </thead>\n",
              "  <tbody>\n",
              "    <tr>\n",
              "      <th>0</th>\n",
              "      <td>0</td>\n",
              "      <td>02/19/16</td>\n",
              "      <td>2016.0</td>\n",
              "      <td>February</td>\n",
              "      <td>29.0</td>\n",
              "      <td>F</td>\n",
              "      <td>United States</td>\n",
              "      <td>Washington</td>\n",
              "      <td>Accessories</td>\n",
              "      <td>Tires and Tubes</td>\n",
              "      <td>1.0</td>\n",
              "      <td>80.00</td>\n",
              "      <td>109.000000</td>\n",
              "      <td>80.0</td>\n",
              "      <td>109.0</td>\n",
              "      <td>NaN</td>\n",
              "    </tr>\n",
              "    <tr>\n",
              "      <th>1</th>\n",
              "      <td>1</td>\n",
              "      <td>02/20/16</td>\n",
              "      <td>2016.0</td>\n",
              "      <td>February</td>\n",
              "      <td>29.0</td>\n",
              "      <td>F</td>\n",
              "      <td>United States</td>\n",
              "      <td>Washington</td>\n",
              "      <td>Clothing</td>\n",
              "      <td>Gloves</td>\n",
              "      <td>2.0</td>\n",
              "      <td>24.50</td>\n",
              "      <td>28.500000</td>\n",
              "      <td>49.0</td>\n",
              "      <td>57.0</td>\n",
              "      <td>NaN</td>\n",
              "    </tr>\n",
              "    <tr>\n",
              "      <th>2</th>\n",
              "      <td>2</td>\n",
              "      <td>02/27/16</td>\n",
              "      <td>2016.0</td>\n",
              "      <td>February</td>\n",
              "      <td>29.0</td>\n",
              "      <td>F</td>\n",
              "      <td>United States</td>\n",
              "      <td>Washington</td>\n",
              "      <td>Accessories</td>\n",
              "      <td>Tires and Tubes</td>\n",
              "      <td>3.0</td>\n",
              "      <td>3.67</td>\n",
              "      <td>5.000000</td>\n",
              "      <td>11.0</td>\n",
              "      <td>15.0</td>\n",
              "      <td>NaN</td>\n",
              "    </tr>\n",
              "    <tr>\n",
              "      <th>3</th>\n",
              "      <td>3</td>\n",
              "      <td>03/12/16</td>\n",
              "      <td>2016.0</td>\n",
              "      <td>March</td>\n",
              "      <td>29.0</td>\n",
              "      <td>F</td>\n",
              "      <td>United States</td>\n",
              "      <td>Washington</td>\n",
              "      <td>Accessories</td>\n",
              "      <td>Tires and Tubes</td>\n",
              "      <td>2.0</td>\n",
              "      <td>87.50</td>\n",
              "      <td>116.500000</td>\n",
              "      <td>175.0</td>\n",
              "      <td>233.0</td>\n",
              "      <td>NaN</td>\n",
              "    </tr>\n",
              "    <tr>\n",
              "      <th>4</th>\n",
              "      <td>4</td>\n",
              "      <td>03/12/16</td>\n",
              "      <td>2016.0</td>\n",
              "      <td>March</td>\n",
              "      <td>29.0</td>\n",
              "      <td>F</td>\n",
              "      <td>United States</td>\n",
              "      <td>Washington</td>\n",
              "      <td>Accessories</td>\n",
              "      <td>Tires and Tubes</td>\n",
              "      <td>3.0</td>\n",
              "      <td>35.00</td>\n",
              "      <td>41.666667</td>\n",
              "      <td>105.0</td>\n",
              "      <td>125.0</td>\n",
              "      <td>NaN</td>\n",
              "    </tr>\n",
              "  </tbody>\n",
              "</table>\n",
              "</div>\n",
              "      <button class=\"colab-df-convert\" onclick=\"convertToInteractive('df-47994215-5468-43aa-9897-0a7b3f2c3eee')\"\n",
              "              title=\"Convert this dataframe to an interactive table.\"\n",
              "              style=\"display:none;\">\n",
              "        \n",
              "  <svg xmlns=\"http://www.w3.org/2000/svg\" height=\"24px\"viewBox=\"0 0 24 24\"\n",
              "       width=\"24px\">\n",
              "    <path d=\"M0 0h24v24H0V0z\" fill=\"none\"/>\n",
              "    <path d=\"M18.56 5.44l.94 2.06.94-2.06 2.06-.94-2.06-.94-.94-2.06-.94 2.06-2.06.94zm-11 1L8.5 8.5l.94-2.06 2.06-.94-2.06-.94L8.5 2.5l-.94 2.06-2.06.94zm10 10l.94 2.06.94-2.06 2.06-.94-2.06-.94-.94-2.06-.94 2.06-2.06.94z\"/><path d=\"M17.41 7.96l-1.37-1.37c-.4-.4-.92-.59-1.43-.59-.52 0-1.04.2-1.43.59L10.3 9.45l-7.72 7.72c-.78.78-.78 2.05 0 2.83L4 21.41c.39.39.9.59 1.41.59.51 0 1.02-.2 1.41-.59l7.78-7.78 2.81-2.81c.8-.78.8-2.07 0-2.86zM5.41 20L4 18.59l7.72-7.72 1.47 1.35L5.41 20z\"/>\n",
              "  </svg>\n",
              "      </button>\n",
              "      \n",
              "  <style>\n",
              "    .colab-df-container {\n",
              "      display:flex;\n",
              "      flex-wrap:wrap;\n",
              "      gap: 12px;\n",
              "    }\n",
              "\n",
              "    .colab-df-convert {\n",
              "      background-color: #E8F0FE;\n",
              "      border: none;\n",
              "      border-radius: 50%;\n",
              "      cursor: pointer;\n",
              "      display: none;\n",
              "      fill: #1967D2;\n",
              "      height: 32px;\n",
              "      padding: 0 0 0 0;\n",
              "      width: 32px;\n",
              "    }\n",
              "\n",
              "    .colab-df-convert:hover {\n",
              "      background-color: #E2EBFA;\n",
              "      box-shadow: 0px 1px 2px rgba(60, 64, 67, 0.3), 0px 1px 3px 1px rgba(60, 64, 67, 0.15);\n",
              "      fill: #174EA6;\n",
              "    }\n",
              "\n",
              "    [theme=dark] .colab-df-convert {\n",
              "      background-color: #3B4455;\n",
              "      fill: #D2E3FC;\n",
              "    }\n",
              "\n",
              "    [theme=dark] .colab-df-convert:hover {\n",
              "      background-color: #434B5C;\n",
              "      box-shadow: 0px 1px 3px 1px rgba(0, 0, 0, 0.15);\n",
              "      filter: drop-shadow(0px 1px 2px rgba(0, 0, 0, 0.3));\n",
              "      fill: #FFFFFF;\n",
              "    }\n",
              "  </style>\n",
              "\n",
              "      <script>\n",
              "        const buttonEl =\n",
              "          document.querySelector('#df-47994215-5468-43aa-9897-0a7b3f2c3eee button.colab-df-convert');\n",
              "        buttonEl.style.display =\n",
              "          google.colab.kernel.accessAllowed ? 'block' : 'none';\n",
              "\n",
              "        async function convertToInteractive(key) {\n",
              "          const element = document.querySelector('#df-47994215-5468-43aa-9897-0a7b3f2c3eee');\n",
              "          const dataTable =\n",
              "            await google.colab.kernel.invokeFunction('convertToInteractive',\n",
              "                                                     [key], {});\n",
              "          if (!dataTable) return;\n",
              "\n",
              "          const docLinkHtml = 'Like what you see? Visit the ' +\n",
              "            '<a target=\"_blank\" href=https://colab.research.google.com/notebooks/data_table.ipynb>data table notebook</a>'\n",
              "            + ' to learn more about interactive tables.';\n",
              "          element.innerHTML = '';\n",
              "          dataTable['output_type'] = 'display_data';\n",
              "          await google.colab.output.renderOutput(dataTable, element);\n",
              "          const docLink = document.createElement('div');\n",
              "          docLink.innerHTML = docLinkHtml;\n",
              "          element.appendChild(docLink);\n",
              "        }\n",
              "      </script>\n",
              "    </div>\n",
              "  </div>\n",
              "  "
            ]
          },
          "metadata": {},
          "execution_count": 4
        }
      ]
    },
    {
      "cell_type": "code",
      "source": [
        "# Exibindo as últimas 5 linhas\n",
        "customer.tail()"
      ],
      "metadata": {
        "colab": {
          "base_uri": "https://localhost:8080/",
          "height": 206
        },
        "id": "0Dl9li0Lb1YX",
        "outputId": "f45c16e9-c039-4210-ad5b-cdf2c83e604e"
      },
      "execution_count": 5,
      "outputs": [
        {
          "output_type": "execute_result",
          "data": {
            "text/plain": [
              "       index      Date    Year     Month  Customer Age Customer Gender  \\\n",
              "34862  34862  02/07/16  2016.0  February          38.0               M   \n",
              "34863  34863  03/13/15  2015.0     March          38.0               M   \n",
              "34864  34864  04/05/15  2015.0     April          38.0               M   \n",
              "34865  34865  08/30/15  2015.0    August          38.0               M   \n",
              "34866  34866       NaN     NaN       NaN           NaN             NaN   \n",
              "\n",
              "      Country           State Product Category    Sub Category  Quantity  \\\n",
              "34862  France  Hauts de Seine            Bikes  Mountain Bikes       2.0   \n",
              "34863  France  Hauts de Seine            Bikes  Mountain Bikes       1.0   \n",
              "34864  France  Hauts de Seine            Bikes  Mountain Bikes       3.0   \n",
              "34865  France  Hauts de Seine            Bikes  Mountain Bikes       1.0   \n",
              "34866     NaN             NaN              NaN             NaN       NaN   \n",
              "\n",
              "       Unit Cost   Unit Price    Cost      Revenue  Column1  \n",
              "34862     1160.0   985.500000  2320.0  1971.000000      NaN  \n",
              "34863     2049.0  1583.000000  2049.0  1583.000000      NaN  \n",
              "34864      683.0   560.666667  2049.0  1682.000000      NaN  \n",
              "34865     2320.0  1568.000000  2320.0  1568.000000      NaN  \n",
              "34866        NaN          NaN     NaN   641.532095      NaN  "
            ],
            "text/html": [
              "\n",
              "  <div id=\"df-a47d1ba3-94db-44a3-ad51-cffcbb2e4d42\">\n",
              "    <div class=\"colab-df-container\">\n",
              "      <div>\n",
              "<style scoped>\n",
              "    .dataframe tbody tr th:only-of-type {\n",
              "        vertical-align: middle;\n",
              "    }\n",
              "\n",
              "    .dataframe tbody tr th {\n",
              "        vertical-align: top;\n",
              "    }\n",
              "\n",
              "    .dataframe thead th {\n",
              "        text-align: right;\n",
              "    }\n",
              "</style>\n",
              "<table border=\"1\" class=\"dataframe\">\n",
              "  <thead>\n",
              "    <tr style=\"text-align: right;\">\n",
              "      <th></th>\n",
              "      <th>index</th>\n",
              "      <th>Date</th>\n",
              "      <th>Year</th>\n",
              "      <th>Month</th>\n",
              "      <th>Customer Age</th>\n",
              "      <th>Customer Gender</th>\n",
              "      <th>Country</th>\n",
              "      <th>State</th>\n",
              "      <th>Product Category</th>\n",
              "      <th>Sub Category</th>\n",
              "      <th>Quantity</th>\n",
              "      <th>Unit Cost</th>\n",
              "      <th>Unit Price</th>\n",
              "      <th>Cost</th>\n",
              "      <th>Revenue</th>\n",
              "      <th>Column1</th>\n",
              "    </tr>\n",
              "  </thead>\n",
              "  <tbody>\n",
              "    <tr>\n",
              "      <th>34862</th>\n",
              "      <td>34862</td>\n",
              "      <td>02/07/16</td>\n",
              "      <td>2016.0</td>\n",
              "      <td>February</td>\n",
              "      <td>38.0</td>\n",
              "      <td>M</td>\n",
              "      <td>France</td>\n",
              "      <td>Hauts de Seine</td>\n",
              "      <td>Bikes</td>\n",
              "      <td>Mountain Bikes</td>\n",
              "      <td>2.0</td>\n",
              "      <td>1160.0</td>\n",
              "      <td>985.500000</td>\n",
              "      <td>2320.0</td>\n",
              "      <td>1971.000000</td>\n",
              "      <td>NaN</td>\n",
              "    </tr>\n",
              "    <tr>\n",
              "      <th>34863</th>\n",
              "      <td>34863</td>\n",
              "      <td>03/13/15</td>\n",
              "      <td>2015.0</td>\n",
              "      <td>March</td>\n",
              "      <td>38.0</td>\n",
              "      <td>M</td>\n",
              "      <td>France</td>\n",
              "      <td>Hauts de Seine</td>\n",
              "      <td>Bikes</td>\n",
              "      <td>Mountain Bikes</td>\n",
              "      <td>1.0</td>\n",
              "      <td>2049.0</td>\n",
              "      <td>1583.000000</td>\n",
              "      <td>2049.0</td>\n",
              "      <td>1583.000000</td>\n",
              "      <td>NaN</td>\n",
              "    </tr>\n",
              "    <tr>\n",
              "      <th>34864</th>\n",
              "      <td>34864</td>\n",
              "      <td>04/05/15</td>\n",
              "      <td>2015.0</td>\n",
              "      <td>April</td>\n",
              "      <td>38.0</td>\n",
              "      <td>M</td>\n",
              "      <td>France</td>\n",
              "      <td>Hauts de Seine</td>\n",
              "      <td>Bikes</td>\n",
              "      <td>Mountain Bikes</td>\n",
              "      <td>3.0</td>\n",
              "      <td>683.0</td>\n",
              "      <td>560.666667</td>\n",
              "      <td>2049.0</td>\n",
              "      <td>1682.000000</td>\n",
              "      <td>NaN</td>\n",
              "    </tr>\n",
              "    <tr>\n",
              "      <th>34865</th>\n",
              "      <td>34865</td>\n",
              "      <td>08/30/15</td>\n",
              "      <td>2015.0</td>\n",
              "      <td>August</td>\n",
              "      <td>38.0</td>\n",
              "      <td>M</td>\n",
              "      <td>France</td>\n",
              "      <td>Hauts de Seine</td>\n",
              "      <td>Bikes</td>\n",
              "      <td>Mountain Bikes</td>\n",
              "      <td>1.0</td>\n",
              "      <td>2320.0</td>\n",
              "      <td>1568.000000</td>\n",
              "      <td>2320.0</td>\n",
              "      <td>1568.000000</td>\n",
              "      <td>NaN</td>\n",
              "    </tr>\n",
              "    <tr>\n",
              "      <th>34866</th>\n",
              "      <td>34866</td>\n",
              "      <td>NaN</td>\n",
              "      <td>NaN</td>\n",
              "      <td>NaN</td>\n",
              "      <td>NaN</td>\n",
              "      <td>NaN</td>\n",
              "      <td>NaN</td>\n",
              "      <td>NaN</td>\n",
              "      <td>NaN</td>\n",
              "      <td>NaN</td>\n",
              "      <td>NaN</td>\n",
              "      <td>NaN</td>\n",
              "      <td>NaN</td>\n",
              "      <td>NaN</td>\n",
              "      <td>641.532095</td>\n",
              "      <td>NaN</td>\n",
              "    </tr>\n",
              "  </tbody>\n",
              "</table>\n",
              "</div>\n",
              "      <button class=\"colab-df-convert\" onclick=\"convertToInteractive('df-a47d1ba3-94db-44a3-ad51-cffcbb2e4d42')\"\n",
              "              title=\"Convert this dataframe to an interactive table.\"\n",
              "              style=\"display:none;\">\n",
              "        \n",
              "  <svg xmlns=\"http://www.w3.org/2000/svg\" height=\"24px\"viewBox=\"0 0 24 24\"\n",
              "       width=\"24px\">\n",
              "    <path d=\"M0 0h24v24H0V0z\" fill=\"none\"/>\n",
              "    <path d=\"M18.56 5.44l.94 2.06.94-2.06 2.06-.94-2.06-.94-.94-2.06-.94 2.06-2.06.94zm-11 1L8.5 8.5l.94-2.06 2.06-.94-2.06-.94L8.5 2.5l-.94 2.06-2.06.94zm10 10l.94 2.06.94-2.06 2.06-.94-2.06-.94-.94-2.06-.94 2.06-2.06.94z\"/><path d=\"M17.41 7.96l-1.37-1.37c-.4-.4-.92-.59-1.43-.59-.52 0-1.04.2-1.43.59L10.3 9.45l-7.72 7.72c-.78.78-.78 2.05 0 2.83L4 21.41c.39.39.9.59 1.41.59.51 0 1.02-.2 1.41-.59l7.78-7.78 2.81-2.81c.8-.78.8-2.07 0-2.86zM5.41 20L4 18.59l7.72-7.72 1.47 1.35L5.41 20z\"/>\n",
              "  </svg>\n",
              "      </button>\n",
              "      \n",
              "  <style>\n",
              "    .colab-df-container {\n",
              "      display:flex;\n",
              "      flex-wrap:wrap;\n",
              "      gap: 12px;\n",
              "    }\n",
              "\n",
              "    .colab-df-convert {\n",
              "      background-color: #E8F0FE;\n",
              "      border: none;\n",
              "      border-radius: 50%;\n",
              "      cursor: pointer;\n",
              "      display: none;\n",
              "      fill: #1967D2;\n",
              "      height: 32px;\n",
              "      padding: 0 0 0 0;\n",
              "      width: 32px;\n",
              "    }\n",
              "\n",
              "    .colab-df-convert:hover {\n",
              "      background-color: #E2EBFA;\n",
              "      box-shadow: 0px 1px 2px rgba(60, 64, 67, 0.3), 0px 1px 3px 1px rgba(60, 64, 67, 0.15);\n",
              "      fill: #174EA6;\n",
              "    }\n",
              "\n",
              "    [theme=dark] .colab-df-convert {\n",
              "      background-color: #3B4455;\n",
              "      fill: #D2E3FC;\n",
              "    }\n",
              "\n",
              "    [theme=dark] .colab-df-convert:hover {\n",
              "      background-color: #434B5C;\n",
              "      box-shadow: 0px 1px 3px 1px rgba(0, 0, 0, 0.15);\n",
              "      filter: drop-shadow(0px 1px 2px rgba(0, 0, 0, 0.3));\n",
              "      fill: #FFFFFF;\n",
              "    }\n",
              "  </style>\n",
              "\n",
              "      <script>\n",
              "        const buttonEl =\n",
              "          document.querySelector('#df-a47d1ba3-94db-44a3-ad51-cffcbb2e4d42 button.colab-df-convert');\n",
              "        buttonEl.style.display =\n",
              "          google.colab.kernel.accessAllowed ? 'block' : 'none';\n",
              "\n",
              "        async function convertToInteractive(key) {\n",
              "          const element = document.querySelector('#df-a47d1ba3-94db-44a3-ad51-cffcbb2e4d42');\n",
              "          const dataTable =\n",
              "            await google.colab.kernel.invokeFunction('convertToInteractive',\n",
              "                                                     [key], {});\n",
              "          if (!dataTable) return;\n",
              "\n",
              "          const docLinkHtml = 'Like what you see? Visit the ' +\n",
              "            '<a target=\"_blank\" href=https://colab.research.google.com/notebooks/data_table.ipynb>data table notebook</a>'\n",
              "            + ' to learn more about interactive tables.';\n",
              "          element.innerHTML = '';\n",
              "          dataTable['output_type'] = 'display_data';\n",
              "          await google.colab.output.renderOutput(dataTable, element);\n",
              "          const docLink = document.createElement('div');\n",
              "          docLink.innerHTML = docLinkHtml;\n",
              "          element.appendChild(docLink);\n",
              "        }\n",
              "      </script>\n",
              "    </div>\n",
              "  </div>\n",
              "  "
            ]
          },
          "metadata": {},
          "execution_count": 5
        }
      ]
    },
    {
      "cell_type": "code",
      "source": [
        "# Exibindo as dimensões do dataset\n",
        "customer.shape"
      ],
      "metadata": {
        "colab": {
          "base_uri": "https://localhost:8080/"
        },
        "id": "Yn_PIZXScAGn",
        "outputId": "c82ed9f8-d64c-4dbc-8ede-2910e6871cd7"
      },
      "execution_count": 6,
      "outputs": [
        {
          "output_type": "execute_result",
          "data": {
            "text/plain": [
              "(34867, 16)"
            ]
          },
          "metadata": {},
          "execution_count": 6
        }
      ]
    },
    {
      "cell_type": "code",
      "source": [
        "# Exibindo os nomes das colunas\n",
        "customer.columns"
      ],
      "metadata": {
        "colab": {
          "base_uri": "https://localhost:8080/"
        },
        "id": "gfQgLsU5cNJE",
        "outputId": "3c7207db-3fc2-4453-d587-388276f01091"
      },
      "execution_count": 7,
      "outputs": [
        {
          "output_type": "execute_result",
          "data": {
            "text/plain": [
              "Index(['index', 'Date', 'Year', 'Month', 'Customer Age', 'Customer Gender',\n",
              "       'Country', 'State', 'Product Category', 'Sub Category', 'Quantity',\n",
              "       'Unit Cost', 'Unit Price', 'Cost', 'Revenue', 'Column1'],\n",
              "      dtype='object')"
            ]
          },
          "metadata": {},
          "execution_count": 7
        }
      ]
    },
    {
      "cell_type": "code",
      "source": [
        "# Exibindo a quantidade de linhas por coluna\n",
        "customer.count()"
      ],
      "metadata": {
        "colab": {
          "base_uri": "https://localhost:8080/"
        },
        "id": "hPiQ2AG1fwqq",
        "outputId": "2a1dd793-35ee-4910-aeab-35518a3d3cdc"
      },
      "execution_count": 8,
      "outputs": [
        {
          "output_type": "execute_result",
          "data": {
            "text/plain": [
              "index               34867\n",
              "Date                34866\n",
              "Year                34866\n",
              "Month               34866\n",
              "Customer Age        34866\n",
              "Customer Gender     34866\n",
              "Country             34866\n",
              "State               34866\n",
              "Product Category    34866\n",
              "Sub Category        34866\n",
              "Quantity            34866\n",
              "Unit Cost           34866\n",
              "Unit Price          34866\n",
              "Cost                34866\n",
              "Revenue             34867\n",
              "Column1              2574\n",
              "dtype: int64"
            ]
          },
          "metadata": {},
          "execution_count": 8
        }
      ]
    },
    {
      "cell_type": "code",
      "source": [
        "# Ordenando o dataframe por uma coluna. No caso, a coluna 'Date' foi ordenada.\n",
        "customer= customer.sort_values(by='Date')"
      ],
      "metadata": {
        "id": "nQCEDuUzws9X"
      },
      "execution_count": 9,
      "outputs": []
    },
    {
      "cell_type": "code",
      "source": [
        "# Ordenando por uma coluna de ordem ascendente (do menor ao maior). No caso, a coluna 'Country' foi ordenada\n",
        "customer.sort_values(by='Country', ascending=True)"
      ],
      "metadata": {
        "colab": {
          "base_uri": "https://localhost:8080/",
          "height": 467
        },
        "id": "VZCABwdAyklj",
        "outputId": "7ecd36a4-29cd-4aac-9739-0e04fba98178"
      },
      "execution_count": 10,
      "outputs": [
        {
          "output_type": "execute_result",
          "data": {
            "text/plain": [
              "       index      Date    Year     Month  Customer Age Customer Gender  \\\n",
              "14576  14576  02/07/16  2016.0  February          38.0               F   \n",
              "24089  24089  08/06/15  2015.0    August          35.0               M   \n",
              "23860  23860  08/06/15  2015.0    August          29.0               F   \n",
              "33495  33495  05/11/16  2016.0       May          25.0               M   \n",
              "14776  14776  05/26/16  2016.0       May          32.0               F   \n",
              "...      ...       ...     ...       ...           ...             ...   \n",
              "9885    9885  05/27/16  2016.0       May          31.0               M   \n",
              "1406    1406  05/27/16  2016.0       May          32.0               F   \n",
              "9679    9679  05/27/16  2016.0       May          36.0               F   \n",
              "21524  21524  12/31/15  2015.0  December          53.0               M   \n",
              "34866  34866       NaN     NaN       NaN           NaN             NaN   \n",
              "\n",
              "             Country           State Product Category       Sub Category  \\\n",
              "14576         France         Essonne      Accessories    Tires and Tubes   \n",
              "24089         France      Val d'Oise         Clothing            Jerseys   \n",
              "23860         France   Seine (Paris)      Accessories            Helmets   \n",
              "33495         France  Seine et Marne      Accessories    Tires and Tubes   \n",
              "14776         France    Val de Marne      Accessories  Bottles and Cages   \n",
              "...              ...             ...              ...                ...   \n",
              "9885   United States      Washington      Accessories    Tires and Tubes   \n",
              "1406   United States      Washington            Bikes     Mountain Bikes   \n",
              "9679   United States      California            Bikes         Road Bikes   \n",
              "21524  United States          Oregon      Accessories  Bottles and Cages   \n",
              "34866            NaN             NaN              NaN                NaN   \n",
              "\n",
              "       Quantity  Unit Cost   Unit Price    Cost      Revenue  Column1  \n",
              "14576       2.0      75.00   123.500000   150.0   247.000000      NaN  \n",
              "24089       1.0    1134.00  1238.000000  1134.0  1238.000000      NaN  \n",
              "23860       1.0     105.00   150.000000   105.0   150.000000      NaN  \n",
              "33495       1.0     225.00   265.000000   225.0   265.000000      NaN  \n",
              "14776       3.0       1.67     2.666667     5.0     8.000000      NaN  \n",
              "...         ...        ...          ...     ...          ...      ...  \n",
              "9885        1.0     480.00   643.000000   480.0   643.000000      NaN  \n",
              "1406        1.0    2295.00  2681.000000  2295.0  2681.000000   1928.0  \n",
              "9679        1.0    1120.00  1142.000000  1120.0  1142.000000      NaN  \n",
              "21524       3.0      26.67    30.000000    80.0    90.000000      NaN  \n",
              "34866       NaN        NaN          NaN     NaN   641.532095      NaN  \n",
              "\n",
              "[34867 rows x 16 columns]"
            ],
            "text/html": [
              "\n",
              "  <div id=\"df-a467c472-6d33-4a19-97b5-4101ec45b094\">\n",
              "    <div class=\"colab-df-container\">\n",
              "      <div>\n",
              "<style scoped>\n",
              "    .dataframe tbody tr th:only-of-type {\n",
              "        vertical-align: middle;\n",
              "    }\n",
              "\n",
              "    .dataframe tbody tr th {\n",
              "        vertical-align: top;\n",
              "    }\n",
              "\n",
              "    .dataframe thead th {\n",
              "        text-align: right;\n",
              "    }\n",
              "</style>\n",
              "<table border=\"1\" class=\"dataframe\">\n",
              "  <thead>\n",
              "    <tr style=\"text-align: right;\">\n",
              "      <th></th>\n",
              "      <th>index</th>\n",
              "      <th>Date</th>\n",
              "      <th>Year</th>\n",
              "      <th>Month</th>\n",
              "      <th>Customer Age</th>\n",
              "      <th>Customer Gender</th>\n",
              "      <th>Country</th>\n",
              "      <th>State</th>\n",
              "      <th>Product Category</th>\n",
              "      <th>Sub Category</th>\n",
              "      <th>Quantity</th>\n",
              "      <th>Unit Cost</th>\n",
              "      <th>Unit Price</th>\n",
              "      <th>Cost</th>\n",
              "      <th>Revenue</th>\n",
              "      <th>Column1</th>\n",
              "    </tr>\n",
              "  </thead>\n",
              "  <tbody>\n",
              "    <tr>\n",
              "      <th>14576</th>\n",
              "      <td>14576</td>\n",
              "      <td>02/07/16</td>\n",
              "      <td>2016.0</td>\n",
              "      <td>February</td>\n",
              "      <td>38.0</td>\n",
              "      <td>F</td>\n",
              "      <td>France</td>\n",
              "      <td>Essonne</td>\n",
              "      <td>Accessories</td>\n",
              "      <td>Tires and Tubes</td>\n",
              "      <td>2.0</td>\n",
              "      <td>75.00</td>\n",
              "      <td>123.500000</td>\n",
              "      <td>150.0</td>\n",
              "      <td>247.000000</td>\n",
              "      <td>NaN</td>\n",
              "    </tr>\n",
              "    <tr>\n",
              "      <th>24089</th>\n",
              "      <td>24089</td>\n",
              "      <td>08/06/15</td>\n",
              "      <td>2015.0</td>\n",
              "      <td>August</td>\n",
              "      <td>35.0</td>\n",
              "      <td>M</td>\n",
              "      <td>France</td>\n",
              "      <td>Val d'Oise</td>\n",
              "      <td>Clothing</td>\n",
              "      <td>Jerseys</td>\n",
              "      <td>1.0</td>\n",
              "      <td>1134.00</td>\n",
              "      <td>1238.000000</td>\n",
              "      <td>1134.0</td>\n",
              "      <td>1238.000000</td>\n",
              "      <td>NaN</td>\n",
              "    </tr>\n",
              "    <tr>\n",
              "      <th>23860</th>\n",
              "      <td>23860</td>\n",
              "      <td>08/06/15</td>\n",
              "      <td>2015.0</td>\n",
              "      <td>August</td>\n",
              "      <td>29.0</td>\n",
              "      <td>F</td>\n",
              "      <td>France</td>\n",
              "      <td>Seine (Paris)</td>\n",
              "      <td>Accessories</td>\n",
              "      <td>Helmets</td>\n",
              "      <td>1.0</td>\n",
              "      <td>105.00</td>\n",
              "      <td>150.000000</td>\n",
              "      <td>105.0</td>\n",
              "      <td>150.000000</td>\n",
              "      <td>NaN</td>\n",
              "    </tr>\n",
              "    <tr>\n",
              "      <th>33495</th>\n",
              "      <td>33495</td>\n",
              "      <td>05/11/16</td>\n",
              "      <td>2016.0</td>\n",
              "      <td>May</td>\n",
              "      <td>25.0</td>\n",
              "      <td>M</td>\n",
              "      <td>France</td>\n",
              "      <td>Seine et Marne</td>\n",
              "      <td>Accessories</td>\n",
              "      <td>Tires and Tubes</td>\n",
              "      <td>1.0</td>\n",
              "      <td>225.00</td>\n",
              "      <td>265.000000</td>\n",
              "      <td>225.0</td>\n",
              "      <td>265.000000</td>\n",
              "      <td>NaN</td>\n",
              "    </tr>\n",
              "    <tr>\n",
              "      <th>14776</th>\n",
              "      <td>14776</td>\n",
              "      <td>05/26/16</td>\n",
              "      <td>2016.0</td>\n",
              "      <td>May</td>\n",
              "      <td>32.0</td>\n",
              "      <td>F</td>\n",
              "      <td>France</td>\n",
              "      <td>Val de Marne</td>\n",
              "      <td>Accessories</td>\n",
              "      <td>Bottles and Cages</td>\n",
              "      <td>3.0</td>\n",
              "      <td>1.67</td>\n",
              "      <td>2.666667</td>\n",
              "      <td>5.0</td>\n",
              "      <td>8.000000</td>\n",
              "      <td>NaN</td>\n",
              "    </tr>\n",
              "    <tr>\n",
              "      <th>...</th>\n",
              "      <td>...</td>\n",
              "      <td>...</td>\n",
              "      <td>...</td>\n",
              "      <td>...</td>\n",
              "      <td>...</td>\n",
              "      <td>...</td>\n",
              "      <td>...</td>\n",
              "      <td>...</td>\n",
              "      <td>...</td>\n",
              "      <td>...</td>\n",
              "      <td>...</td>\n",
              "      <td>...</td>\n",
              "      <td>...</td>\n",
              "      <td>...</td>\n",
              "      <td>...</td>\n",
              "      <td>...</td>\n",
              "    </tr>\n",
              "    <tr>\n",
              "      <th>9885</th>\n",
              "      <td>9885</td>\n",
              "      <td>05/27/16</td>\n",
              "      <td>2016.0</td>\n",
              "      <td>May</td>\n",
              "      <td>31.0</td>\n",
              "      <td>M</td>\n",
              "      <td>United States</td>\n",
              "      <td>Washington</td>\n",
              "      <td>Accessories</td>\n",
              "      <td>Tires and Tubes</td>\n",
              "      <td>1.0</td>\n",
              "      <td>480.00</td>\n",
              "      <td>643.000000</td>\n",
              "      <td>480.0</td>\n",
              "      <td>643.000000</td>\n",
              "      <td>NaN</td>\n",
              "    </tr>\n",
              "    <tr>\n",
              "      <th>1406</th>\n",
              "      <td>1406</td>\n",
              "      <td>05/27/16</td>\n",
              "      <td>2016.0</td>\n",
              "      <td>May</td>\n",
              "      <td>32.0</td>\n",
              "      <td>F</td>\n",
              "      <td>United States</td>\n",
              "      <td>Washington</td>\n",
              "      <td>Bikes</td>\n",
              "      <td>Mountain Bikes</td>\n",
              "      <td>1.0</td>\n",
              "      <td>2295.00</td>\n",
              "      <td>2681.000000</td>\n",
              "      <td>2295.0</td>\n",
              "      <td>2681.000000</td>\n",
              "      <td>1928.0</td>\n",
              "    </tr>\n",
              "    <tr>\n",
              "      <th>9679</th>\n",
              "      <td>9679</td>\n",
              "      <td>05/27/16</td>\n",
              "      <td>2016.0</td>\n",
              "      <td>May</td>\n",
              "      <td>36.0</td>\n",
              "      <td>F</td>\n",
              "      <td>United States</td>\n",
              "      <td>California</td>\n",
              "      <td>Bikes</td>\n",
              "      <td>Road Bikes</td>\n",
              "      <td>1.0</td>\n",
              "      <td>1120.00</td>\n",
              "      <td>1142.000000</td>\n",
              "      <td>1120.0</td>\n",
              "      <td>1142.000000</td>\n",
              "      <td>NaN</td>\n",
              "    </tr>\n",
              "    <tr>\n",
              "      <th>21524</th>\n",
              "      <td>21524</td>\n",
              "      <td>12/31/15</td>\n",
              "      <td>2015.0</td>\n",
              "      <td>December</td>\n",
              "      <td>53.0</td>\n",
              "      <td>M</td>\n",
              "      <td>United States</td>\n",
              "      <td>Oregon</td>\n",
              "      <td>Accessories</td>\n",
              "      <td>Bottles and Cages</td>\n",
              "      <td>3.0</td>\n",
              "      <td>26.67</td>\n",
              "      <td>30.000000</td>\n",
              "      <td>80.0</td>\n",
              "      <td>90.000000</td>\n",
              "      <td>NaN</td>\n",
              "    </tr>\n",
              "    <tr>\n",
              "      <th>34866</th>\n",
              "      <td>34866</td>\n",
              "      <td>NaN</td>\n",
              "      <td>NaN</td>\n",
              "      <td>NaN</td>\n",
              "      <td>NaN</td>\n",
              "      <td>NaN</td>\n",
              "      <td>NaN</td>\n",
              "      <td>NaN</td>\n",
              "      <td>NaN</td>\n",
              "      <td>NaN</td>\n",
              "      <td>NaN</td>\n",
              "      <td>NaN</td>\n",
              "      <td>NaN</td>\n",
              "      <td>NaN</td>\n",
              "      <td>641.532095</td>\n",
              "      <td>NaN</td>\n",
              "    </tr>\n",
              "  </tbody>\n",
              "</table>\n",
              "<p>34867 rows × 16 columns</p>\n",
              "</div>\n",
              "      <button class=\"colab-df-convert\" onclick=\"convertToInteractive('df-a467c472-6d33-4a19-97b5-4101ec45b094')\"\n",
              "              title=\"Convert this dataframe to an interactive table.\"\n",
              "              style=\"display:none;\">\n",
              "        \n",
              "  <svg xmlns=\"http://www.w3.org/2000/svg\" height=\"24px\"viewBox=\"0 0 24 24\"\n",
              "       width=\"24px\">\n",
              "    <path d=\"M0 0h24v24H0V0z\" fill=\"none\"/>\n",
              "    <path d=\"M18.56 5.44l.94 2.06.94-2.06 2.06-.94-2.06-.94-.94-2.06-.94 2.06-2.06.94zm-11 1L8.5 8.5l.94-2.06 2.06-.94-2.06-.94L8.5 2.5l-.94 2.06-2.06.94zm10 10l.94 2.06.94-2.06 2.06-.94-2.06-.94-.94-2.06-.94 2.06-2.06.94z\"/><path d=\"M17.41 7.96l-1.37-1.37c-.4-.4-.92-.59-1.43-.59-.52 0-1.04.2-1.43.59L10.3 9.45l-7.72 7.72c-.78.78-.78 2.05 0 2.83L4 21.41c.39.39.9.59 1.41.59.51 0 1.02-.2 1.41-.59l7.78-7.78 2.81-2.81c.8-.78.8-2.07 0-2.86zM5.41 20L4 18.59l7.72-7.72 1.47 1.35L5.41 20z\"/>\n",
              "  </svg>\n",
              "      </button>\n",
              "      \n",
              "  <style>\n",
              "    .colab-df-container {\n",
              "      display:flex;\n",
              "      flex-wrap:wrap;\n",
              "      gap: 12px;\n",
              "    }\n",
              "\n",
              "    .colab-df-convert {\n",
              "      background-color: #E8F0FE;\n",
              "      border: none;\n",
              "      border-radius: 50%;\n",
              "      cursor: pointer;\n",
              "      display: none;\n",
              "      fill: #1967D2;\n",
              "      height: 32px;\n",
              "      padding: 0 0 0 0;\n",
              "      width: 32px;\n",
              "    }\n",
              "\n",
              "    .colab-df-convert:hover {\n",
              "      background-color: #E2EBFA;\n",
              "      box-shadow: 0px 1px 2px rgba(60, 64, 67, 0.3), 0px 1px 3px 1px rgba(60, 64, 67, 0.15);\n",
              "      fill: #174EA6;\n",
              "    }\n",
              "\n",
              "    [theme=dark] .colab-df-convert {\n",
              "      background-color: #3B4455;\n",
              "      fill: #D2E3FC;\n",
              "    }\n",
              "\n",
              "    [theme=dark] .colab-df-convert:hover {\n",
              "      background-color: #434B5C;\n",
              "      box-shadow: 0px 1px 3px 1px rgba(0, 0, 0, 0.15);\n",
              "      filter: drop-shadow(0px 1px 2px rgba(0, 0, 0, 0.3));\n",
              "      fill: #FFFFFF;\n",
              "    }\n",
              "  </style>\n",
              "\n",
              "      <script>\n",
              "        const buttonEl =\n",
              "          document.querySelector('#df-a467c472-6d33-4a19-97b5-4101ec45b094 button.colab-df-convert');\n",
              "        buttonEl.style.display =\n",
              "          google.colab.kernel.accessAllowed ? 'block' : 'none';\n",
              "\n",
              "        async function convertToInteractive(key) {\n",
              "          const element = document.querySelector('#df-a467c472-6d33-4a19-97b5-4101ec45b094');\n",
              "          const dataTable =\n",
              "            await google.colab.kernel.invokeFunction('convertToInteractive',\n",
              "                                                     [key], {});\n",
              "          if (!dataTable) return;\n",
              "\n",
              "          const docLinkHtml = 'Like what you see? Visit the ' +\n",
              "            '<a target=\"_blank\" href=https://colab.research.google.com/notebooks/data_table.ipynb>data table notebook</a>'\n",
              "            + ' to learn more about interactive tables.';\n",
              "          element.innerHTML = '';\n",
              "          dataTable['output_type'] = 'display_data';\n",
              "          await google.colab.output.renderOutput(dataTable, element);\n",
              "          const docLink = document.createElement('div');\n",
              "          docLink.innerHTML = docLinkHtml;\n",
              "          element.appendChild(docLink);\n",
              "        }\n",
              "      </script>\n",
              "    </div>\n",
              "  </div>\n",
              "  "
            ]
          },
          "metadata": {},
          "execution_count": 10
        }
      ]
    },
    {
      "cell_type": "markdown",
      "source": [
        "Nosso Dataset agrega uma quantidade de atributos consideráveis, como data, mês e ano da compra; idade, sexo, país e estado do cliente; categoria do produto, subcategoria do produto, quantidade comprada, custo por unidade, preço de venda por unidade, total do custo comprado pelo cliente e receita gerada da venda.\n",
        "Podemos trabalhar com estes dados, dividindo-os em tempo relativo de vendas. Países que mais compraram os protudos, receita gerada por protudo e sazonalidade de vendas, por exemplo."
      ],
      "metadata": {
        "id": "aUhnbqCIgn9r"
      }
    },
    {
      "cell_type": "markdown",
      "source": [
        "Customer possui 16 colunas e 34867 linhas."
      ],
      "metadata": {
        "id": "aDwlzP6MmIjs"
      }
    },
    {
      "cell_type": "code",
      "source": [
        "# Exibindo informações sobre o Dataset\n",
        "print(customer.info()) "
      ],
      "metadata": {
        "colab": {
          "base_uri": "https://localhost:8080/"
        },
        "id": "ycty9d3YXhyK",
        "outputId": "a9e0497d-da4a-45ee-d30f-5f0d6e8b33c5"
      },
      "execution_count": 11,
      "outputs": [
        {
          "output_type": "stream",
          "name": "stdout",
          "text": [
            "<class 'pandas.core.frame.DataFrame'>\n",
            "Int64Index: 34867 entries, 2150 to 34866\n",
            "Data columns (total 16 columns):\n",
            " #   Column            Non-Null Count  Dtype  \n",
            "---  ------            --------------  -----  \n",
            " 0   index             34867 non-null  int64  \n",
            " 1   Date              34866 non-null  object \n",
            " 2   Year              34866 non-null  float64\n",
            " 3   Month             34866 non-null  object \n",
            " 4   Customer Age      34866 non-null  float64\n",
            " 5   Customer Gender   34866 non-null  object \n",
            " 6   Country           34866 non-null  object \n",
            " 7   State             34866 non-null  object \n",
            " 8   Product Category  34866 non-null  object \n",
            " 9   Sub Category      34866 non-null  object \n",
            " 10  Quantity          34866 non-null  float64\n",
            " 11  Unit Cost         34866 non-null  float64\n",
            " 12  Unit Price        34866 non-null  float64\n",
            " 13  Cost              34866 non-null  float64\n",
            " 14  Revenue           34867 non-null  float64\n",
            " 15  Column1           2574 non-null   float64\n",
            "dtypes: float64(8), int64(1), object(7)\n",
            "memory usage: 4.5+ MB\n",
            "None\n"
          ]
        }
      ]
    },
    {
      "cell_type": "code",
      "source": [
        "# Faz um resumo estatístico do dataset (média, desvio padrão, mínimo, máximo e os quartis)\n",
        "customer.describe()"
      ],
      "metadata": {
        "colab": {
          "base_uri": "https://localhost:8080/",
          "height": 300
        },
        "id": "9z4DgNX6O0rC",
        "outputId": "e72c74eb-aaa1-488a-8e71-d085c1817abd"
      },
      "execution_count": 12,
      "outputs": [
        {
          "output_type": "execute_result",
          "data": {
            "text/plain": [
              "              index          Year  Customer Age      Quantity     Unit Cost  \\\n",
              "count  34867.000000  34866.000000  34866.000000  34866.000000  34866.000000   \n",
              "mean   17433.000000   2015.569237     36.382895      2.002524    349.880567   \n",
              "std    10065.380254      0.495190     11.112902      0.813936    490.015846   \n",
              "min        0.000000   2015.000000     17.000000      1.000000      0.670000   \n",
              "25%     8716.500000   2015.000000     28.000000      1.000000     45.000000   \n",
              "50%    17433.000000   2016.000000     35.000000      2.000000    150.000000   \n",
              "75%    26149.500000   2016.000000     44.000000      3.000000    455.000000   \n",
              "max    34866.000000   2016.000000     87.000000      3.000000   3240.000000   \n",
              "\n",
              "         Unit Price          Cost       Revenue      Column1  \n",
              "count  34866.000000  34866.000000  34867.000000  2574.000000  \n",
              "mean     389.232485    576.004532    640.870093   688.054913  \n",
              "std      525.319091    690.500395    736.640033   774.200897  \n",
              "min        0.666667      2.000000      2.000000     2.000000  \n",
              "25%       53.666667     85.000000    102.000000   104.250000  \n",
              "50%      179.000000    261.000000    319.000000   390.500000  \n",
              "75%      521.000000    769.000000    902.000000   975.750000  \n",
              "max     5082.000000   3600.000000   5082.000000  3681.000000  "
            ],
            "text/html": [
              "\n",
              "  <div id=\"df-9b73ea1e-1056-40a5-adf0-d619d31f528a\">\n",
              "    <div class=\"colab-df-container\">\n",
              "      <div>\n",
              "<style scoped>\n",
              "    .dataframe tbody tr th:only-of-type {\n",
              "        vertical-align: middle;\n",
              "    }\n",
              "\n",
              "    .dataframe tbody tr th {\n",
              "        vertical-align: top;\n",
              "    }\n",
              "\n",
              "    .dataframe thead th {\n",
              "        text-align: right;\n",
              "    }\n",
              "</style>\n",
              "<table border=\"1\" class=\"dataframe\">\n",
              "  <thead>\n",
              "    <tr style=\"text-align: right;\">\n",
              "      <th></th>\n",
              "      <th>index</th>\n",
              "      <th>Year</th>\n",
              "      <th>Customer Age</th>\n",
              "      <th>Quantity</th>\n",
              "      <th>Unit Cost</th>\n",
              "      <th>Unit Price</th>\n",
              "      <th>Cost</th>\n",
              "      <th>Revenue</th>\n",
              "      <th>Column1</th>\n",
              "    </tr>\n",
              "  </thead>\n",
              "  <tbody>\n",
              "    <tr>\n",
              "      <th>count</th>\n",
              "      <td>34867.000000</td>\n",
              "      <td>34866.000000</td>\n",
              "      <td>34866.000000</td>\n",
              "      <td>34866.000000</td>\n",
              "      <td>34866.000000</td>\n",
              "      <td>34866.000000</td>\n",
              "      <td>34866.000000</td>\n",
              "      <td>34867.000000</td>\n",
              "      <td>2574.000000</td>\n",
              "    </tr>\n",
              "    <tr>\n",
              "      <th>mean</th>\n",
              "      <td>17433.000000</td>\n",
              "      <td>2015.569237</td>\n",
              "      <td>36.382895</td>\n",
              "      <td>2.002524</td>\n",
              "      <td>349.880567</td>\n",
              "      <td>389.232485</td>\n",
              "      <td>576.004532</td>\n",
              "      <td>640.870093</td>\n",
              "      <td>688.054913</td>\n",
              "    </tr>\n",
              "    <tr>\n",
              "      <th>std</th>\n",
              "      <td>10065.380254</td>\n",
              "      <td>0.495190</td>\n",
              "      <td>11.112902</td>\n",
              "      <td>0.813936</td>\n",
              "      <td>490.015846</td>\n",
              "      <td>525.319091</td>\n",
              "      <td>690.500395</td>\n",
              "      <td>736.640033</td>\n",
              "      <td>774.200897</td>\n",
              "    </tr>\n",
              "    <tr>\n",
              "      <th>min</th>\n",
              "      <td>0.000000</td>\n",
              "      <td>2015.000000</td>\n",
              "      <td>17.000000</td>\n",
              "      <td>1.000000</td>\n",
              "      <td>0.670000</td>\n",
              "      <td>0.666667</td>\n",
              "      <td>2.000000</td>\n",
              "      <td>2.000000</td>\n",
              "      <td>2.000000</td>\n",
              "    </tr>\n",
              "    <tr>\n",
              "      <th>25%</th>\n",
              "      <td>8716.500000</td>\n",
              "      <td>2015.000000</td>\n",
              "      <td>28.000000</td>\n",
              "      <td>1.000000</td>\n",
              "      <td>45.000000</td>\n",
              "      <td>53.666667</td>\n",
              "      <td>85.000000</td>\n",
              "      <td>102.000000</td>\n",
              "      <td>104.250000</td>\n",
              "    </tr>\n",
              "    <tr>\n",
              "      <th>50%</th>\n",
              "      <td>17433.000000</td>\n",
              "      <td>2016.000000</td>\n",
              "      <td>35.000000</td>\n",
              "      <td>2.000000</td>\n",
              "      <td>150.000000</td>\n",
              "      <td>179.000000</td>\n",
              "      <td>261.000000</td>\n",
              "      <td>319.000000</td>\n",
              "      <td>390.500000</td>\n",
              "    </tr>\n",
              "    <tr>\n",
              "      <th>75%</th>\n",
              "      <td>26149.500000</td>\n",
              "      <td>2016.000000</td>\n",
              "      <td>44.000000</td>\n",
              "      <td>3.000000</td>\n",
              "      <td>455.000000</td>\n",
              "      <td>521.000000</td>\n",
              "      <td>769.000000</td>\n",
              "      <td>902.000000</td>\n",
              "      <td>975.750000</td>\n",
              "    </tr>\n",
              "    <tr>\n",
              "      <th>max</th>\n",
              "      <td>34866.000000</td>\n",
              "      <td>2016.000000</td>\n",
              "      <td>87.000000</td>\n",
              "      <td>3.000000</td>\n",
              "      <td>3240.000000</td>\n",
              "      <td>5082.000000</td>\n",
              "      <td>3600.000000</td>\n",
              "      <td>5082.000000</td>\n",
              "      <td>3681.000000</td>\n",
              "    </tr>\n",
              "  </tbody>\n",
              "</table>\n",
              "</div>\n",
              "      <button class=\"colab-df-convert\" onclick=\"convertToInteractive('df-9b73ea1e-1056-40a5-adf0-d619d31f528a')\"\n",
              "              title=\"Convert this dataframe to an interactive table.\"\n",
              "              style=\"display:none;\">\n",
              "        \n",
              "  <svg xmlns=\"http://www.w3.org/2000/svg\" height=\"24px\"viewBox=\"0 0 24 24\"\n",
              "       width=\"24px\">\n",
              "    <path d=\"M0 0h24v24H0V0z\" fill=\"none\"/>\n",
              "    <path d=\"M18.56 5.44l.94 2.06.94-2.06 2.06-.94-2.06-.94-.94-2.06-.94 2.06-2.06.94zm-11 1L8.5 8.5l.94-2.06 2.06-.94-2.06-.94L8.5 2.5l-.94 2.06-2.06.94zm10 10l.94 2.06.94-2.06 2.06-.94-2.06-.94-.94-2.06-.94 2.06-2.06.94z\"/><path d=\"M17.41 7.96l-1.37-1.37c-.4-.4-.92-.59-1.43-.59-.52 0-1.04.2-1.43.59L10.3 9.45l-7.72 7.72c-.78.78-.78 2.05 0 2.83L4 21.41c.39.39.9.59 1.41.59.51 0 1.02-.2 1.41-.59l7.78-7.78 2.81-2.81c.8-.78.8-2.07 0-2.86zM5.41 20L4 18.59l7.72-7.72 1.47 1.35L5.41 20z\"/>\n",
              "  </svg>\n",
              "      </button>\n",
              "      \n",
              "  <style>\n",
              "    .colab-df-container {\n",
              "      display:flex;\n",
              "      flex-wrap:wrap;\n",
              "      gap: 12px;\n",
              "    }\n",
              "\n",
              "    .colab-df-convert {\n",
              "      background-color: #E8F0FE;\n",
              "      border: none;\n",
              "      border-radius: 50%;\n",
              "      cursor: pointer;\n",
              "      display: none;\n",
              "      fill: #1967D2;\n",
              "      height: 32px;\n",
              "      padding: 0 0 0 0;\n",
              "      width: 32px;\n",
              "    }\n",
              "\n",
              "    .colab-df-convert:hover {\n",
              "      background-color: #E2EBFA;\n",
              "      box-shadow: 0px 1px 2px rgba(60, 64, 67, 0.3), 0px 1px 3px 1px rgba(60, 64, 67, 0.15);\n",
              "      fill: #174EA6;\n",
              "    }\n",
              "\n",
              "    [theme=dark] .colab-df-convert {\n",
              "      background-color: #3B4455;\n",
              "      fill: #D2E3FC;\n",
              "    }\n",
              "\n",
              "    [theme=dark] .colab-df-convert:hover {\n",
              "      background-color: #434B5C;\n",
              "      box-shadow: 0px 1px 3px 1px rgba(0, 0, 0, 0.15);\n",
              "      filter: drop-shadow(0px 1px 2px rgba(0, 0, 0, 0.3));\n",
              "      fill: #FFFFFF;\n",
              "    }\n",
              "  </style>\n",
              "\n",
              "      <script>\n",
              "        const buttonEl =\n",
              "          document.querySelector('#df-9b73ea1e-1056-40a5-adf0-d619d31f528a button.colab-df-convert');\n",
              "        buttonEl.style.display =\n",
              "          google.colab.kernel.accessAllowed ? 'block' : 'none';\n",
              "\n",
              "        async function convertToInteractive(key) {\n",
              "          const element = document.querySelector('#df-9b73ea1e-1056-40a5-adf0-d619d31f528a');\n",
              "          const dataTable =\n",
              "            await google.colab.kernel.invokeFunction('convertToInteractive',\n",
              "                                                     [key], {});\n",
              "          if (!dataTable) return;\n",
              "\n",
              "          const docLinkHtml = 'Like what you see? Visit the ' +\n",
              "            '<a target=\"_blank\" href=https://colab.research.google.com/notebooks/data_table.ipynb>data table notebook</a>'\n",
              "            + ' to learn more about interactive tables.';\n",
              "          element.innerHTML = '';\n",
              "          dataTable['output_type'] = 'display_data';\n",
              "          await google.colab.output.renderOutput(dataTable, element);\n",
              "          const docLink = document.createElement('div');\n",
              "          docLink.innerHTML = docLinkHtml;\n",
              "          element.appendChild(docLink);\n",
              "        }\n",
              "      </script>\n",
              "    </div>\n",
              "  </div>\n",
              "  "
            ]
          },
          "metadata": {},
          "execution_count": 12
        }
      ]
    },
    {
      "cell_type": "markdown",
      "source": [
        "No resumo estatístico do dataset, percebemos que os valores não estão negativos, sendo uma caracterítica positiva e coerente das variáveis presentes."
      ],
      "metadata": {
        "id": "sQJomKvLnXPU"
      }
    },
    {
      "cell_type": "markdown",
      "source": [
        "Nesta etapa, iremos utilizar as técnicas de Pré-Processamento de Dados pelo Pandas, para tratar nossos dados e identificar possíveis probelmas com o nosso dataset, como valores incosistentes e valores faltantes, já observados em algumas linhas e colunas do nosso dataset, representados por \"NaN\". Note, que ao informar a função abaixo, encontramos diversos valores \"null\". \n",
        "Iremos realizar a trativa para remover valores null."
      ],
      "metadata": {
        "id": "7MRF09g6Bk0Z"
      }
    },
    {
      "cell_type": "code",
      "source": [
        "# Verificando nulls no dataset\n",
        "customer.isnull().sum()"
      ],
      "metadata": {
        "colab": {
          "base_uri": "https://localhost:8080/"
        },
        "id": "lUiKo9ErO__U",
        "outputId": "e6084472-23ae-4055-a563-08fd42112ac2"
      },
      "execution_count": 13,
      "outputs": [
        {
          "output_type": "execute_result",
          "data": {
            "text/plain": [
              "index                   0\n",
              "Date                    1\n",
              "Year                    1\n",
              "Month                   1\n",
              "Customer Age            1\n",
              "Customer Gender         1\n",
              "Country                 1\n",
              "State                   1\n",
              "Product Category        1\n",
              "Sub Category            1\n",
              "Quantity                1\n",
              "Unit Cost               1\n",
              "Unit Price              1\n",
              "Cost                    1\n",
              "Revenue                 0\n",
              "Column1             32293\n",
              "dtype: int64"
            ]
          },
          "metadata": {},
          "execution_count": 13
        }
      ]
    },
    {
      "cell_type": "markdown",
      "source": [
        "Nosso dataset possui em cada coluna 1 valor null. A coluna representada como 'Column1' possui 32293 valores null. Estes valores missing na coluna em questão trazem relevância ao contexto, em relação as outras colunas? \n",
        "'Column1' neste caso, apresenta dados missing que não interferem na análise proposta. Por este motivo, iremos remover os valores null e a 'Column1' por ser uma coluna que não contém nenhum dado que agraga as análises desejadas."
      ],
      "metadata": {
        "id": "TIrU-MJan6sX"
      }
    },
    {
      "cell_type": "code",
      "source": [
        "# Eliminando linhas que tenham  algum valores NULL\n",
        "customer = customer.dropna(how='any')"
      ],
      "metadata": {
        "id": "mL4jeGi2Pwfx"
      },
      "execution_count": 14,
      "outputs": []
    },
    {
      "cell_type": "code",
      "source": [
        "# Exibindo as 5 primeiras linhas\n",
        "customer.head()"
      ],
      "metadata": {
        "colab": {
          "base_uri": "https://localhost:8080/",
          "height": 206
        },
        "id": "xJQsaMyTySpV",
        "outputId": "73de7d07-1fe6-4558-a2ad-ce3bc847487f"
      },
      "execution_count": 15,
      "outputs": [
        {
          "output_type": "execute_result",
          "data": {
            "text/plain": [
              "      index      Date    Year    Month  Customer Age Customer Gender  \\\n",
              "2150   2150  01/01/15  2015.0  January          19.0               F   \n",
              "2055   2055  01/01/16  2016.0  January          39.0               F   \n",
              "1068   1068  01/01/16  2016.0  January          30.0               F   \n",
              "1132   1132  01/01/16  2016.0  January          31.0               M   \n",
              "2604   2604  01/01/16  2016.0  January          33.0               M   \n",
              "\n",
              "             Country       State Product Category Sub Category  Quantity  \\\n",
              "2150   United States  Washington            Bikes   Road Bikes       1.0   \n",
              "2055   United States  California      Accessories      Helmets       1.0   \n",
              "1068  United Kingdom     England         Clothing      Jerseys       1.0   \n",
              "1132  United Kingdom     England      Accessories      Helmets       2.0   \n",
              "2604   United States  California      Accessories     Cleaners       3.0   \n",
              "\n",
              "      Unit Cost  Unit Price    Cost  Revenue  Column1  \n",
              "2150    1000.00  938.000000  1000.0    938.0    214.0  \n",
              "2055     210.00  271.000000   210.0    271.0    517.0  \n",
              "1068     216.00  243.000000   216.0    243.0     86.0  \n",
              "1132     297.50  379.500000   595.0    759.0    595.0  \n",
              "2604      13.33   16.333333    40.0     49.0    632.0  "
            ],
            "text/html": [
              "\n",
              "  <div id=\"df-fca94012-c91b-4248-b505-7ad14a392a14\">\n",
              "    <div class=\"colab-df-container\">\n",
              "      <div>\n",
              "<style scoped>\n",
              "    .dataframe tbody tr th:only-of-type {\n",
              "        vertical-align: middle;\n",
              "    }\n",
              "\n",
              "    .dataframe tbody tr th {\n",
              "        vertical-align: top;\n",
              "    }\n",
              "\n",
              "    .dataframe thead th {\n",
              "        text-align: right;\n",
              "    }\n",
              "</style>\n",
              "<table border=\"1\" class=\"dataframe\">\n",
              "  <thead>\n",
              "    <tr style=\"text-align: right;\">\n",
              "      <th></th>\n",
              "      <th>index</th>\n",
              "      <th>Date</th>\n",
              "      <th>Year</th>\n",
              "      <th>Month</th>\n",
              "      <th>Customer Age</th>\n",
              "      <th>Customer Gender</th>\n",
              "      <th>Country</th>\n",
              "      <th>State</th>\n",
              "      <th>Product Category</th>\n",
              "      <th>Sub Category</th>\n",
              "      <th>Quantity</th>\n",
              "      <th>Unit Cost</th>\n",
              "      <th>Unit Price</th>\n",
              "      <th>Cost</th>\n",
              "      <th>Revenue</th>\n",
              "      <th>Column1</th>\n",
              "    </tr>\n",
              "  </thead>\n",
              "  <tbody>\n",
              "    <tr>\n",
              "      <th>2150</th>\n",
              "      <td>2150</td>\n",
              "      <td>01/01/15</td>\n",
              "      <td>2015.0</td>\n",
              "      <td>January</td>\n",
              "      <td>19.0</td>\n",
              "      <td>F</td>\n",
              "      <td>United States</td>\n",
              "      <td>Washington</td>\n",
              "      <td>Bikes</td>\n",
              "      <td>Road Bikes</td>\n",
              "      <td>1.0</td>\n",
              "      <td>1000.00</td>\n",
              "      <td>938.000000</td>\n",
              "      <td>1000.0</td>\n",
              "      <td>938.0</td>\n",
              "      <td>214.0</td>\n",
              "    </tr>\n",
              "    <tr>\n",
              "      <th>2055</th>\n",
              "      <td>2055</td>\n",
              "      <td>01/01/16</td>\n",
              "      <td>2016.0</td>\n",
              "      <td>January</td>\n",
              "      <td>39.0</td>\n",
              "      <td>F</td>\n",
              "      <td>United States</td>\n",
              "      <td>California</td>\n",
              "      <td>Accessories</td>\n",
              "      <td>Helmets</td>\n",
              "      <td>1.0</td>\n",
              "      <td>210.00</td>\n",
              "      <td>271.000000</td>\n",
              "      <td>210.0</td>\n",
              "      <td>271.0</td>\n",
              "      <td>517.0</td>\n",
              "    </tr>\n",
              "    <tr>\n",
              "      <th>1068</th>\n",
              "      <td>1068</td>\n",
              "      <td>01/01/16</td>\n",
              "      <td>2016.0</td>\n",
              "      <td>January</td>\n",
              "      <td>30.0</td>\n",
              "      <td>F</td>\n",
              "      <td>United Kingdom</td>\n",
              "      <td>England</td>\n",
              "      <td>Clothing</td>\n",
              "      <td>Jerseys</td>\n",
              "      <td>1.0</td>\n",
              "      <td>216.00</td>\n",
              "      <td>243.000000</td>\n",
              "      <td>216.0</td>\n",
              "      <td>243.0</td>\n",
              "      <td>86.0</td>\n",
              "    </tr>\n",
              "    <tr>\n",
              "      <th>1132</th>\n",
              "      <td>1132</td>\n",
              "      <td>01/01/16</td>\n",
              "      <td>2016.0</td>\n",
              "      <td>January</td>\n",
              "      <td>31.0</td>\n",
              "      <td>M</td>\n",
              "      <td>United Kingdom</td>\n",
              "      <td>England</td>\n",
              "      <td>Accessories</td>\n",
              "      <td>Helmets</td>\n",
              "      <td>2.0</td>\n",
              "      <td>297.50</td>\n",
              "      <td>379.500000</td>\n",
              "      <td>595.0</td>\n",
              "      <td>759.0</td>\n",
              "      <td>595.0</td>\n",
              "    </tr>\n",
              "    <tr>\n",
              "      <th>2604</th>\n",
              "      <td>2604</td>\n",
              "      <td>01/01/16</td>\n",
              "      <td>2016.0</td>\n",
              "      <td>January</td>\n",
              "      <td>33.0</td>\n",
              "      <td>M</td>\n",
              "      <td>United States</td>\n",
              "      <td>California</td>\n",
              "      <td>Accessories</td>\n",
              "      <td>Cleaners</td>\n",
              "      <td>3.0</td>\n",
              "      <td>13.33</td>\n",
              "      <td>16.333333</td>\n",
              "      <td>40.0</td>\n",
              "      <td>49.0</td>\n",
              "      <td>632.0</td>\n",
              "    </tr>\n",
              "  </tbody>\n",
              "</table>\n",
              "</div>\n",
              "      <button class=\"colab-df-convert\" onclick=\"convertToInteractive('df-fca94012-c91b-4248-b505-7ad14a392a14')\"\n",
              "              title=\"Convert this dataframe to an interactive table.\"\n",
              "              style=\"display:none;\">\n",
              "        \n",
              "  <svg xmlns=\"http://www.w3.org/2000/svg\" height=\"24px\"viewBox=\"0 0 24 24\"\n",
              "       width=\"24px\">\n",
              "    <path d=\"M0 0h24v24H0V0z\" fill=\"none\"/>\n",
              "    <path d=\"M18.56 5.44l.94 2.06.94-2.06 2.06-.94-2.06-.94-.94-2.06-.94 2.06-2.06.94zm-11 1L8.5 8.5l.94-2.06 2.06-.94-2.06-.94L8.5 2.5l-.94 2.06-2.06.94zm10 10l.94 2.06.94-2.06 2.06-.94-2.06-.94-.94-2.06-.94 2.06-2.06.94z\"/><path d=\"M17.41 7.96l-1.37-1.37c-.4-.4-.92-.59-1.43-.59-.52 0-1.04.2-1.43.59L10.3 9.45l-7.72 7.72c-.78.78-.78 2.05 0 2.83L4 21.41c.39.39.9.59 1.41.59.51 0 1.02-.2 1.41-.59l7.78-7.78 2.81-2.81c.8-.78.8-2.07 0-2.86zM5.41 20L4 18.59l7.72-7.72 1.47 1.35L5.41 20z\"/>\n",
              "  </svg>\n",
              "      </button>\n",
              "      \n",
              "  <style>\n",
              "    .colab-df-container {\n",
              "      display:flex;\n",
              "      flex-wrap:wrap;\n",
              "      gap: 12px;\n",
              "    }\n",
              "\n",
              "    .colab-df-convert {\n",
              "      background-color: #E8F0FE;\n",
              "      border: none;\n",
              "      border-radius: 50%;\n",
              "      cursor: pointer;\n",
              "      display: none;\n",
              "      fill: #1967D2;\n",
              "      height: 32px;\n",
              "      padding: 0 0 0 0;\n",
              "      width: 32px;\n",
              "    }\n",
              "\n",
              "    .colab-df-convert:hover {\n",
              "      background-color: #E2EBFA;\n",
              "      box-shadow: 0px 1px 2px rgba(60, 64, 67, 0.3), 0px 1px 3px 1px rgba(60, 64, 67, 0.15);\n",
              "      fill: #174EA6;\n",
              "    }\n",
              "\n",
              "    [theme=dark] .colab-df-convert {\n",
              "      background-color: #3B4455;\n",
              "      fill: #D2E3FC;\n",
              "    }\n",
              "\n",
              "    [theme=dark] .colab-df-convert:hover {\n",
              "      background-color: #434B5C;\n",
              "      box-shadow: 0px 1px 3px 1px rgba(0, 0, 0, 0.15);\n",
              "      filter: drop-shadow(0px 1px 2px rgba(0, 0, 0, 0.3));\n",
              "      fill: #FFFFFF;\n",
              "    }\n",
              "  </style>\n",
              "\n",
              "      <script>\n",
              "        const buttonEl =\n",
              "          document.querySelector('#df-fca94012-c91b-4248-b505-7ad14a392a14 button.colab-df-convert');\n",
              "        buttonEl.style.display =\n",
              "          google.colab.kernel.accessAllowed ? 'block' : 'none';\n",
              "\n",
              "        async function convertToInteractive(key) {\n",
              "          const element = document.querySelector('#df-fca94012-c91b-4248-b505-7ad14a392a14');\n",
              "          const dataTable =\n",
              "            await google.colab.kernel.invokeFunction('convertToInteractive',\n",
              "                                                     [key], {});\n",
              "          if (!dataTable) return;\n",
              "\n",
              "          const docLinkHtml = 'Like what you see? Visit the ' +\n",
              "            '<a target=\"_blank\" href=https://colab.research.google.com/notebooks/data_table.ipynb>data table notebook</a>'\n",
              "            + ' to learn more about interactive tables.';\n",
              "          element.innerHTML = '';\n",
              "          dataTable['output_type'] = 'display_data';\n",
              "          await google.colab.output.renderOutput(dataTable, element);\n",
              "          const docLink = document.createElement('div');\n",
              "          docLink.innerHTML = docLinkHtml;\n",
              "          element.appendChild(docLink);\n",
              "        }\n",
              "      </script>\n",
              "    </div>\n",
              "  </div>\n",
              "  "
            ]
          },
          "metadata": {},
          "execution_count": 15
        }
      ]
    },
    {
      "cell_type": "code",
      "source": [
        "# exibindo as 5 últimas linhas\n",
        "customer.tail() "
      ],
      "metadata": {
        "colab": {
          "base_uri": "https://localhost:8080/",
          "height": 206
        },
        "id": "oMw9M4tiPzHc",
        "outputId": "96ed93ff-1dc3-400a-9367-ae9f35e4dc1e"
      },
      "execution_count": 16,
      "outputs": [
        {
          "output_type": "execute_result",
          "data": {
            "text/plain": [
              "      index      Date    Year     Month  Customer Age Customer Gender  \\\n",
              "1808   1808  12/31/15  2015.0  December          28.0               M   \n",
              "1807   1807  12/31/15  2015.0  December          28.0               M   \n",
              "1806   1806  12/31/15  2015.0  December          28.0               M   \n",
              "1805   1805  12/31/15  2015.0  December          28.0               M   \n",
              "1222   1222  12/31/15  2015.0  December          23.0               M   \n",
              "\n",
              "            Country       State Product Category     Sub Category  Quantity  \\\n",
              "1808  United States  California      Accessories  Tires and Tubes       2.0   \n",
              "1807  United States  California      Accessories          Helmets       2.0   \n",
              "1806  United States  California      Accessories  Tires and Tubes       1.0   \n",
              "1805  United States  California      Accessories  Tires and Tubes       3.0   \n",
              "1222         France      Loiret            Bikes   Mountain Bikes       3.0   \n",
              "\n",
              "      Unit Cost  Unit Price    Cost  Revenue  Column1  \n",
              "1808     455.00  497.000000   910.0    994.0   1138.0  \n",
              "1807      70.00   75.500000   140.0    151.0   2378.0  \n",
              "1806      90.00   89.000000    90.0     89.0   1405.0  \n",
              "1805      81.67   91.333333   245.0    274.0    223.0  \n",
              "1222     765.00  940.333333  2295.0   2821.0    580.0  "
            ],
            "text/html": [
              "\n",
              "  <div id=\"df-c1aedc8b-b597-491e-862e-254aa36975a6\">\n",
              "    <div class=\"colab-df-container\">\n",
              "      <div>\n",
              "<style scoped>\n",
              "    .dataframe tbody tr th:only-of-type {\n",
              "        vertical-align: middle;\n",
              "    }\n",
              "\n",
              "    .dataframe tbody tr th {\n",
              "        vertical-align: top;\n",
              "    }\n",
              "\n",
              "    .dataframe thead th {\n",
              "        text-align: right;\n",
              "    }\n",
              "</style>\n",
              "<table border=\"1\" class=\"dataframe\">\n",
              "  <thead>\n",
              "    <tr style=\"text-align: right;\">\n",
              "      <th></th>\n",
              "      <th>index</th>\n",
              "      <th>Date</th>\n",
              "      <th>Year</th>\n",
              "      <th>Month</th>\n",
              "      <th>Customer Age</th>\n",
              "      <th>Customer Gender</th>\n",
              "      <th>Country</th>\n",
              "      <th>State</th>\n",
              "      <th>Product Category</th>\n",
              "      <th>Sub Category</th>\n",
              "      <th>Quantity</th>\n",
              "      <th>Unit Cost</th>\n",
              "      <th>Unit Price</th>\n",
              "      <th>Cost</th>\n",
              "      <th>Revenue</th>\n",
              "      <th>Column1</th>\n",
              "    </tr>\n",
              "  </thead>\n",
              "  <tbody>\n",
              "    <tr>\n",
              "      <th>1808</th>\n",
              "      <td>1808</td>\n",
              "      <td>12/31/15</td>\n",
              "      <td>2015.0</td>\n",
              "      <td>December</td>\n",
              "      <td>28.0</td>\n",
              "      <td>M</td>\n",
              "      <td>United States</td>\n",
              "      <td>California</td>\n",
              "      <td>Accessories</td>\n",
              "      <td>Tires and Tubes</td>\n",
              "      <td>2.0</td>\n",
              "      <td>455.00</td>\n",
              "      <td>497.000000</td>\n",
              "      <td>910.0</td>\n",
              "      <td>994.0</td>\n",
              "      <td>1138.0</td>\n",
              "    </tr>\n",
              "    <tr>\n",
              "      <th>1807</th>\n",
              "      <td>1807</td>\n",
              "      <td>12/31/15</td>\n",
              "      <td>2015.0</td>\n",
              "      <td>December</td>\n",
              "      <td>28.0</td>\n",
              "      <td>M</td>\n",
              "      <td>United States</td>\n",
              "      <td>California</td>\n",
              "      <td>Accessories</td>\n",
              "      <td>Helmets</td>\n",
              "      <td>2.0</td>\n",
              "      <td>70.00</td>\n",
              "      <td>75.500000</td>\n",
              "      <td>140.0</td>\n",
              "      <td>151.0</td>\n",
              "      <td>2378.0</td>\n",
              "    </tr>\n",
              "    <tr>\n",
              "      <th>1806</th>\n",
              "      <td>1806</td>\n",
              "      <td>12/31/15</td>\n",
              "      <td>2015.0</td>\n",
              "      <td>December</td>\n",
              "      <td>28.0</td>\n",
              "      <td>M</td>\n",
              "      <td>United States</td>\n",
              "      <td>California</td>\n",
              "      <td>Accessories</td>\n",
              "      <td>Tires and Tubes</td>\n",
              "      <td>1.0</td>\n",
              "      <td>90.00</td>\n",
              "      <td>89.000000</td>\n",
              "      <td>90.0</td>\n",
              "      <td>89.0</td>\n",
              "      <td>1405.0</td>\n",
              "    </tr>\n",
              "    <tr>\n",
              "      <th>1805</th>\n",
              "      <td>1805</td>\n",
              "      <td>12/31/15</td>\n",
              "      <td>2015.0</td>\n",
              "      <td>December</td>\n",
              "      <td>28.0</td>\n",
              "      <td>M</td>\n",
              "      <td>United States</td>\n",
              "      <td>California</td>\n",
              "      <td>Accessories</td>\n",
              "      <td>Tires and Tubes</td>\n",
              "      <td>3.0</td>\n",
              "      <td>81.67</td>\n",
              "      <td>91.333333</td>\n",
              "      <td>245.0</td>\n",
              "      <td>274.0</td>\n",
              "      <td>223.0</td>\n",
              "    </tr>\n",
              "    <tr>\n",
              "      <th>1222</th>\n",
              "      <td>1222</td>\n",
              "      <td>12/31/15</td>\n",
              "      <td>2015.0</td>\n",
              "      <td>December</td>\n",
              "      <td>23.0</td>\n",
              "      <td>M</td>\n",
              "      <td>France</td>\n",
              "      <td>Loiret</td>\n",
              "      <td>Bikes</td>\n",
              "      <td>Mountain Bikes</td>\n",
              "      <td>3.0</td>\n",
              "      <td>765.00</td>\n",
              "      <td>940.333333</td>\n",
              "      <td>2295.0</td>\n",
              "      <td>2821.0</td>\n",
              "      <td>580.0</td>\n",
              "    </tr>\n",
              "  </tbody>\n",
              "</table>\n",
              "</div>\n",
              "      <button class=\"colab-df-convert\" onclick=\"convertToInteractive('df-c1aedc8b-b597-491e-862e-254aa36975a6')\"\n",
              "              title=\"Convert this dataframe to an interactive table.\"\n",
              "              style=\"display:none;\">\n",
              "        \n",
              "  <svg xmlns=\"http://www.w3.org/2000/svg\" height=\"24px\"viewBox=\"0 0 24 24\"\n",
              "       width=\"24px\">\n",
              "    <path d=\"M0 0h24v24H0V0z\" fill=\"none\"/>\n",
              "    <path d=\"M18.56 5.44l.94 2.06.94-2.06 2.06-.94-2.06-.94-.94-2.06-.94 2.06-2.06.94zm-11 1L8.5 8.5l.94-2.06 2.06-.94-2.06-.94L8.5 2.5l-.94 2.06-2.06.94zm10 10l.94 2.06.94-2.06 2.06-.94-2.06-.94-.94-2.06-.94 2.06-2.06.94z\"/><path d=\"M17.41 7.96l-1.37-1.37c-.4-.4-.92-.59-1.43-.59-.52 0-1.04.2-1.43.59L10.3 9.45l-7.72 7.72c-.78.78-.78 2.05 0 2.83L4 21.41c.39.39.9.59 1.41.59.51 0 1.02-.2 1.41-.59l7.78-7.78 2.81-2.81c.8-.78.8-2.07 0-2.86zM5.41 20L4 18.59l7.72-7.72 1.47 1.35L5.41 20z\"/>\n",
              "  </svg>\n",
              "      </button>\n",
              "      \n",
              "  <style>\n",
              "    .colab-df-container {\n",
              "      display:flex;\n",
              "      flex-wrap:wrap;\n",
              "      gap: 12px;\n",
              "    }\n",
              "\n",
              "    .colab-df-convert {\n",
              "      background-color: #E8F0FE;\n",
              "      border: none;\n",
              "      border-radius: 50%;\n",
              "      cursor: pointer;\n",
              "      display: none;\n",
              "      fill: #1967D2;\n",
              "      height: 32px;\n",
              "      padding: 0 0 0 0;\n",
              "      width: 32px;\n",
              "    }\n",
              "\n",
              "    .colab-df-convert:hover {\n",
              "      background-color: #E2EBFA;\n",
              "      box-shadow: 0px 1px 2px rgba(60, 64, 67, 0.3), 0px 1px 3px 1px rgba(60, 64, 67, 0.15);\n",
              "      fill: #174EA6;\n",
              "    }\n",
              "\n",
              "    [theme=dark] .colab-df-convert {\n",
              "      background-color: #3B4455;\n",
              "      fill: #D2E3FC;\n",
              "    }\n",
              "\n",
              "    [theme=dark] .colab-df-convert:hover {\n",
              "      background-color: #434B5C;\n",
              "      box-shadow: 0px 1px 3px 1px rgba(0, 0, 0, 0.15);\n",
              "      filter: drop-shadow(0px 1px 2px rgba(0, 0, 0, 0.3));\n",
              "      fill: #FFFFFF;\n",
              "    }\n",
              "  </style>\n",
              "\n",
              "      <script>\n",
              "        const buttonEl =\n",
              "          document.querySelector('#df-c1aedc8b-b597-491e-862e-254aa36975a6 button.colab-df-convert');\n",
              "        buttonEl.style.display =\n",
              "          google.colab.kernel.accessAllowed ? 'block' : 'none';\n",
              "\n",
              "        async function convertToInteractive(key) {\n",
              "          const element = document.querySelector('#df-c1aedc8b-b597-491e-862e-254aa36975a6');\n",
              "          const dataTable =\n",
              "            await google.colab.kernel.invokeFunction('convertToInteractive',\n",
              "                                                     [key], {});\n",
              "          if (!dataTable) return;\n",
              "\n",
              "          const docLinkHtml = 'Like what you see? Visit the ' +\n",
              "            '<a target=\"_blank\" href=https://colab.research.google.com/notebooks/data_table.ipynb>data table notebook</a>'\n",
              "            + ' to learn more about interactive tables.';\n",
              "          element.innerHTML = '';\n",
              "          dataTable['output_type'] = 'display_data';\n",
              "          await google.colab.output.renderOutput(dataTable, element);\n",
              "          const docLink = document.createElement('div');\n",
              "          docLink.innerHTML = docLinkHtml;\n",
              "          element.appendChild(docLink);\n",
              "        }\n",
              "      </script>\n",
              "    </div>\n",
              "  </div>\n",
              "  "
            ]
          },
          "metadata": {},
          "execution_count": 16
        }
      ]
    },
    {
      "cell_type": "code",
      "source": [
        "# Exibindo informações sobre o Dataset\n",
        "print(customer.info())"
      ],
      "metadata": {
        "colab": {
          "base_uri": "https://localhost:8080/"
        },
        "id": "RsCh5wISP3Gd",
        "outputId": "1f641c35-fca2-4568-d754-7d69e87724f5"
      },
      "execution_count": 17,
      "outputs": [
        {
          "output_type": "stream",
          "name": "stdout",
          "text": [
            "<class 'pandas.core.frame.DataFrame'>\n",
            "Int64Index: 2574 entries, 2150 to 1222\n",
            "Data columns (total 16 columns):\n",
            " #   Column            Non-Null Count  Dtype  \n",
            "---  ------            --------------  -----  \n",
            " 0   index             2574 non-null   int64  \n",
            " 1   Date              2574 non-null   object \n",
            " 2   Year              2574 non-null   float64\n",
            " 3   Month             2574 non-null   object \n",
            " 4   Customer Age      2574 non-null   float64\n",
            " 5   Customer Gender   2574 non-null   object \n",
            " 6   Country           2574 non-null   object \n",
            " 7   State             2574 non-null   object \n",
            " 8   Product Category  2574 non-null   object \n",
            " 9   Sub Category      2574 non-null   object \n",
            " 10  Quantity          2574 non-null   float64\n",
            " 11  Unit Cost         2574 non-null   float64\n",
            " 12  Unit Price        2574 non-null   float64\n",
            " 13  Cost              2574 non-null   float64\n",
            " 14  Revenue           2574 non-null   float64\n",
            " 15  Column1           2574 non-null   float64\n",
            "dtypes: float64(8), int64(1), object(7)\n",
            "memory usage: 341.9+ KB\n",
            "None\n"
          ]
        }
      ]
    },
    {
      "cell_type": "markdown",
      "source": [
        "Após realizar o tratramento dos valores missing, o Dataframe tem agora 2574 linhas, em que anteriormente haviam 34867 linhas."
      ],
      "metadata": {
        "id": "rsr8jWq5P6Vw"
      }
    },
    {
      "cell_type": "code",
      "source": [
        "# Exibindo as dimensões do dataset\n",
        "customer.shape"
      ],
      "metadata": {
        "colab": {
          "base_uri": "https://localhost:8080/"
        },
        "id": "TGzdlrdUP7nj",
        "outputId": "0985b508-8902-4e0c-f381-374ddcd12713"
      },
      "execution_count": 18,
      "outputs": [
        {
          "output_type": "execute_result",
          "data": {
            "text/plain": [
              "(2574, 16)"
            ]
          },
          "metadata": {},
          "execution_count": 18
        }
      ]
    },
    {
      "cell_type": "code",
      "source": [
        "# Verificando nulls no dataset novamente\n",
        "customer.isnull().sum()"
      ],
      "metadata": {
        "colab": {
          "base_uri": "https://localhost:8080/"
        },
        "id": "o1Kq-qtjQAXl",
        "outputId": "59d4f117-d0ce-40e9-f008-1340012102bc"
      },
      "execution_count": 19,
      "outputs": [
        {
          "output_type": "execute_result",
          "data": {
            "text/plain": [
              "index               0\n",
              "Date                0\n",
              "Year                0\n",
              "Month               0\n",
              "Customer Age        0\n",
              "Customer Gender     0\n",
              "Country             0\n",
              "State               0\n",
              "Product Category    0\n",
              "Sub Category        0\n",
              "Quantity            0\n",
              "Unit Cost           0\n",
              "Unit Price          0\n",
              "Cost                0\n",
              "Revenue             0\n",
              "Column1             0\n",
              "dtype: int64"
            ]
          },
          "metadata": {},
          "execution_count": 19
        }
      ]
    },
    {
      "cell_type": "code",
      "source": [
        "# Renomeando os dados do dataframe\n",
        "customer = customer.rename(columns={'Date':'Data', 'Year':'Ano', 'Month':'Mês', 'Customer Age':'Idade Cliente', 'Customer Gender':'Sexo',\n",
        "       'Country':'País', 'State':'Estado', 'Product Category':'Categoria Produto', 'Sub Category':'Sub Categoria', 'Quantity':'Quantidade',\n",
        "       'Unit Cost':'Custo Unitário', 'Unit Price':'Preço Unitário', 'Cost':'Custo', 'Revenue':'Receita'})"
      ],
      "metadata": {
        "id": "CZucMa4lL0X1"
      },
      "execution_count": 20,
      "outputs": []
    },
    {
      "cell_type": "code",
      "source": [
        "# Analisar quais são valores que contém em coluna específicas\n",
        "customer['Categoria Produto'].value_counts()"
      ],
      "metadata": {
        "colab": {
          "base_uri": "https://localhost:8080/"
        },
        "id": "f6-Fp_OHQmY2",
        "outputId": "76a2fe02-84b8-4af2-8943-6dd0d2f2e1f4"
      },
      "execution_count": 21,
      "outputs": [
        {
          "output_type": "execute_result",
          "data": {
            "text/plain": [
              "Accessories    1653\n",
              "Bikes           528\n",
              "Clothing        393\n",
              "Name: Categoria Produto, dtype: int64"
            ]
          },
          "metadata": {},
          "execution_count": 21
        }
      ]
    },
    {
      "cell_type": "code",
      "source": [
        "# Analisar quais são valores que contém em coluna específicas\n",
        "customer['Sub Categoria'].value_counts()"
      ],
      "metadata": {
        "colab": {
          "base_uri": "https://localhost:8080/"
        },
        "id": "TM0UTzRyQqYq",
        "outputId": "46643e24-3752-431a-b71a-0af6eeae55b3"
      },
      "execution_count": 22,
      "outputs": [
        {
          "output_type": "execute_result",
          "data": {
            "text/plain": [
              "Tires and Tubes      895\n",
              "Helmets              314\n",
              "Mountain Bikes       305\n",
              "Bottles and Cages    241\n",
              "Jerseys              217\n",
              "Road Bikes           126\n",
              "Caps                 113\n",
              "Touring Bikes         97\n",
              "Cleaners              88\n",
              "Fenders               64\n",
              "Gloves                35\n",
              "Hydration Packs       25\n",
              "Vests                 17\n",
              "Bike Stands           14\n",
              "Bike Racks            12\n",
              "Socks                 11\n",
              "Name: Sub Categoria, dtype: int64"
            ]
          },
          "metadata": {},
          "execution_count": 22
        }
      ]
    },
    {
      "cell_type": "code",
      "source": [
        "# Analisar quais são valores que contém em coluna específicas\n",
        "customer['País'].value_counts()"
      ],
      "metadata": {
        "colab": {
          "base_uri": "https://localhost:8080/"
        },
        "id": "44cmCefxPmAv",
        "outputId": "c81a44e4-204e-45fc-bfb9-53878c38b7a0"
      },
      "execution_count": 23,
      "outputs": [
        {
          "output_type": "execute_result",
          "data": {
            "text/plain": [
              "United States     1549\n",
              "France             430\n",
              "United Kingdom     344\n",
              "Germany            251\n",
              "Name: País, dtype: int64"
            ]
          },
          "metadata": {},
          "execution_count": 23
        }
      ]
    },
    {
      "cell_type": "code",
      "source": [
        "# Analisar quais são valores que contém em coluna específicas\n",
        "customer['Estado'].value_counts()"
      ],
      "metadata": {
        "colab": {
          "base_uri": "https://localhost:8080/"
        },
        "id": "saMUS1wXRBrc",
        "outputId": "51d54ac9-704b-42c8-ec9d-d9e36c1558d5"
      },
      "execution_count": 24,
      "outputs": [
        {
          "output_type": "execute_result",
          "data": {
            "text/plain": [
              "California             860\n",
              "Washington             513\n",
              "England                344\n",
              "Oregon                 164\n",
              "Hessen                  90\n",
              "Seine Saint Denis       76\n",
              "Seine (Paris)           65\n",
              "Nordrhein-Westfalen     61\n",
              "Val d'Oise              58\n",
              "Nord                    50\n",
              "Yveline                 46\n",
              "Hauts de Seine          36\n",
              "Hamburg                 34\n",
              "Bayern                  33\n",
              "Saarland                31\n",
              "Essonne                 24\n",
              "Seine et Marne          21\n",
              "Charente-Maritime       14\n",
              "Loiret                  12\n",
              "Moselle                 11\n",
              "Loir et Cher             9\n",
              "Pas de Calais            5\n",
              "Ohio                     5\n",
              "Minnesota                3\n",
              "Garonne (Haute)          2\n",
              "Alabama                  2\n",
              "Wyoming                  2\n",
              "Brandenburg              2\n",
              "Val de Marne             1\n",
              "Name: Estado, dtype: int64"
            ]
          },
          "metadata": {},
          "execution_count": 24
        }
      ]
    },
    {
      "cell_type": "code",
      "source": [
        "# Analisar quais são valores que contém em coluna específicas\n",
        "customer['Idade Cliente'].value_counts()"
      ],
      "metadata": {
        "colab": {
          "base_uri": "https://localhost:8080/"
        },
        "id": "_tYYhlP3RFHq",
        "outputId": "9af6f4a2-ef4b-4373-c191-714e43318dca"
      },
      "execution_count": 25,
      "outputs": [
        {
          "output_type": "execute_result",
          "data": {
            "text/plain": [
              "39.0    167\n",
              "38.0    154\n",
              "34.0    151\n",
              "32.0    149\n",
              "40.0    128\n",
              "28.0    124\n",
              "30.0    122\n",
              "53.0    107\n",
              "24.0    102\n",
              "27.0    101\n",
              "36.0     96\n",
              "35.0     87\n",
              "33.0     85\n",
              "43.0     81\n",
              "42.0     72\n",
              "37.0     65\n",
              "26.0     58\n",
              "22.0     56\n",
              "45.0     56\n",
              "46.0     52\n",
              "44.0     52\n",
              "41.0     52\n",
              "31.0     36\n",
              "52.0     36\n",
              "50.0     31\n",
              "64.0     31\n",
              "59.0     30\n",
              "29.0     28\n",
              "58.0     26\n",
              "20.0     26\n",
              "54.0     22\n",
              "19.0     21\n",
              "61.0     21\n",
              "23.0     20\n",
              "55.0     14\n",
              "47.0     13\n",
              "63.0     13\n",
              "57.0     11\n",
              "60.0     10\n",
              "49.0     10\n",
              "18.0      9\n",
              "56.0      8\n",
              "62.0      6\n",
              "51.0      6\n",
              "17.0      5\n",
              "48.0      5\n",
              "65.0      5\n",
              "21.0      4\n",
              "66.0      4\n",
              "67.0      2\n",
              "25.0      2\n",
              "71.0      2\n",
              "Name: Idade Cliente, dtype: int64"
            ]
          },
          "metadata": {},
          "execution_count": 25
        }
      ]
    },
    {
      "cell_type": "code",
      "source": [
        "# Analisar quais são valores que contém em coluna específicas\n",
        "customer['Sexo'].value_counts()"
      ],
      "metadata": {
        "colab": {
          "base_uri": "https://localhost:8080/"
        },
        "id": "hyJRBPKNPHUk",
        "outputId": "8db3f81d-9600-4870-d507-ab0ee4d76ee2"
      },
      "execution_count": 26,
      "outputs": [
        {
          "output_type": "execute_result",
          "data": {
            "text/plain": [
              "M    1324\n",
              "F    1250\n",
              "Name: Sexo, dtype: int64"
            ]
          },
          "metadata": {},
          "execution_count": 26
        }
      ]
    },
    {
      "cell_type": "code",
      "source": [
        "# Analisar quais são valores que contém em coluna específicas\n",
        "customer['Data'].value_counts()"
      ],
      "metadata": {
        "colab": {
          "base_uri": "https://localhost:8080/"
        },
        "id": "LNKm0zOsknLr",
        "outputId": "ff85a62e-e9b7-411b-d710-84c860eeed9d"
      },
      "execution_count": 27,
      "outputs": [
        {
          "output_type": "execute_result",
          "data": {
            "text/plain": [
              "01/20/16    19\n",
              "06/27/16    18\n",
              "09/13/15    17\n",
              "06/05/16    17\n",
              "10/28/15    16\n",
              "            ..\n",
              "05/09/15     1\n",
              "05/08/15     1\n",
              "05/06/15     1\n",
              "05/05/15     1\n",
              "06/18/15     1\n",
              "Name: Data, Length: 445, dtype: int64"
            ]
          },
          "metadata": {},
          "execution_count": 27
        }
      ]
    },
    {
      "cell_type": "code",
      "source": [
        "# Exluir uma coluna\n",
        "customer.drop('Column1', axis = 1, inplace = True) # Coluna 'Column' excluída"
      ],
      "metadata": {
        "id": "qAZYhQ5hR74A"
      },
      "execution_count": 28,
      "outputs": []
    },
    {
      "cell_type": "code",
      "source": [
        "# Exluir uma coluna\n",
        "customer.drop('index', axis = 1, inplace = True) # Coluna 'index' excluída"
      ],
      "metadata": {
        "id": "rs2NN9vyTiSk"
      },
      "execution_count": 29,
      "outputs": []
    },
    {
      "cell_type": "code",
      "source": [
        "# Exibindo as 5 primeiras linhas\n",
        "customer.head()"
      ],
      "metadata": {
        "colab": {
          "base_uri": "https://localhost:8080/",
          "height": 206
        },
        "id": "1ocupgbkTPyS",
        "outputId": "c04eea9c-fed3-43c7-afd9-b9372ee4963f"
      },
      "execution_count": 30,
      "outputs": [
        {
          "output_type": "execute_result",
          "data": {
            "text/plain": [
              "          Data     Ano      Mês  Idade Cliente Sexo            País  \\\n",
              "2150  01/01/15  2015.0  January           19.0    F   United States   \n",
              "2055  01/01/16  2016.0  January           39.0    F   United States   \n",
              "1068  01/01/16  2016.0  January           30.0    F  United Kingdom   \n",
              "1132  01/01/16  2016.0  January           31.0    M  United Kingdom   \n",
              "2604  01/01/16  2016.0  January           33.0    M   United States   \n",
              "\n",
              "          Estado Categoria Produto Sub Categoria  Quantidade  Custo Unitário  \\\n",
              "2150  Washington             Bikes    Road Bikes         1.0         1000.00   \n",
              "2055  California       Accessories       Helmets         1.0          210.00   \n",
              "1068     England          Clothing       Jerseys         1.0          216.00   \n",
              "1132     England       Accessories       Helmets         2.0          297.50   \n",
              "2604  California       Accessories      Cleaners         3.0           13.33   \n",
              "\n",
              "      Preço Unitário   Custo  Receita  \n",
              "2150      938.000000  1000.0    938.0  \n",
              "2055      271.000000   210.0    271.0  \n",
              "1068      243.000000   216.0    243.0  \n",
              "1132      379.500000   595.0    759.0  \n",
              "2604       16.333333    40.0     49.0  "
            ],
            "text/html": [
              "\n",
              "  <div id=\"df-0abca794-0695-494a-80df-aced53685aa2\">\n",
              "    <div class=\"colab-df-container\">\n",
              "      <div>\n",
              "<style scoped>\n",
              "    .dataframe tbody tr th:only-of-type {\n",
              "        vertical-align: middle;\n",
              "    }\n",
              "\n",
              "    .dataframe tbody tr th {\n",
              "        vertical-align: top;\n",
              "    }\n",
              "\n",
              "    .dataframe thead th {\n",
              "        text-align: right;\n",
              "    }\n",
              "</style>\n",
              "<table border=\"1\" class=\"dataframe\">\n",
              "  <thead>\n",
              "    <tr style=\"text-align: right;\">\n",
              "      <th></th>\n",
              "      <th>Data</th>\n",
              "      <th>Ano</th>\n",
              "      <th>Mês</th>\n",
              "      <th>Idade Cliente</th>\n",
              "      <th>Sexo</th>\n",
              "      <th>País</th>\n",
              "      <th>Estado</th>\n",
              "      <th>Categoria Produto</th>\n",
              "      <th>Sub Categoria</th>\n",
              "      <th>Quantidade</th>\n",
              "      <th>Custo Unitário</th>\n",
              "      <th>Preço Unitário</th>\n",
              "      <th>Custo</th>\n",
              "      <th>Receita</th>\n",
              "    </tr>\n",
              "  </thead>\n",
              "  <tbody>\n",
              "    <tr>\n",
              "      <th>2150</th>\n",
              "      <td>01/01/15</td>\n",
              "      <td>2015.0</td>\n",
              "      <td>January</td>\n",
              "      <td>19.0</td>\n",
              "      <td>F</td>\n",
              "      <td>United States</td>\n",
              "      <td>Washington</td>\n",
              "      <td>Bikes</td>\n",
              "      <td>Road Bikes</td>\n",
              "      <td>1.0</td>\n",
              "      <td>1000.00</td>\n",
              "      <td>938.000000</td>\n",
              "      <td>1000.0</td>\n",
              "      <td>938.0</td>\n",
              "    </tr>\n",
              "    <tr>\n",
              "      <th>2055</th>\n",
              "      <td>01/01/16</td>\n",
              "      <td>2016.0</td>\n",
              "      <td>January</td>\n",
              "      <td>39.0</td>\n",
              "      <td>F</td>\n",
              "      <td>United States</td>\n",
              "      <td>California</td>\n",
              "      <td>Accessories</td>\n",
              "      <td>Helmets</td>\n",
              "      <td>1.0</td>\n",
              "      <td>210.00</td>\n",
              "      <td>271.000000</td>\n",
              "      <td>210.0</td>\n",
              "      <td>271.0</td>\n",
              "    </tr>\n",
              "    <tr>\n",
              "      <th>1068</th>\n",
              "      <td>01/01/16</td>\n",
              "      <td>2016.0</td>\n",
              "      <td>January</td>\n",
              "      <td>30.0</td>\n",
              "      <td>F</td>\n",
              "      <td>United Kingdom</td>\n",
              "      <td>England</td>\n",
              "      <td>Clothing</td>\n",
              "      <td>Jerseys</td>\n",
              "      <td>1.0</td>\n",
              "      <td>216.00</td>\n",
              "      <td>243.000000</td>\n",
              "      <td>216.0</td>\n",
              "      <td>243.0</td>\n",
              "    </tr>\n",
              "    <tr>\n",
              "      <th>1132</th>\n",
              "      <td>01/01/16</td>\n",
              "      <td>2016.0</td>\n",
              "      <td>January</td>\n",
              "      <td>31.0</td>\n",
              "      <td>M</td>\n",
              "      <td>United Kingdom</td>\n",
              "      <td>England</td>\n",
              "      <td>Accessories</td>\n",
              "      <td>Helmets</td>\n",
              "      <td>2.0</td>\n",
              "      <td>297.50</td>\n",
              "      <td>379.500000</td>\n",
              "      <td>595.0</td>\n",
              "      <td>759.0</td>\n",
              "    </tr>\n",
              "    <tr>\n",
              "      <th>2604</th>\n",
              "      <td>01/01/16</td>\n",
              "      <td>2016.0</td>\n",
              "      <td>January</td>\n",
              "      <td>33.0</td>\n",
              "      <td>M</td>\n",
              "      <td>United States</td>\n",
              "      <td>California</td>\n",
              "      <td>Accessories</td>\n",
              "      <td>Cleaners</td>\n",
              "      <td>3.0</td>\n",
              "      <td>13.33</td>\n",
              "      <td>16.333333</td>\n",
              "      <td>40.0</td>\n",
              "      <td>49.0</td>\n",
              "    </tr>\n",
              "  </tbody>\n",
              "</table>\n",
              "</div>\n",
              "      <button class=\"colab-df-convert\" onclick=\"convertToInteractive('df-0abca794-0695-494a-80df-aced53685aa2')\"\n",
              "              title=\"Convert this dataframe to an interactive table.\"\n",
              "              style=\"display:none;\">\n",
              "        \n",
              "  <svg xmlns=\"http://www.w3.org/2000/svg\" height=\"24px\"viewBox=\"0 0 24 24\"\n",
              "       width=\"24px\">\n",
              "    <path d=\"M0 0h24v24H0V0z\" fill=\"none\"/>\n",
              "    <path d=\"M18.56 5.44l.94 2.06.94-2.06 2.06-.94-2.06-.94-.94-2.06-.94 2.06-2.06.94zm-11 1L8.5 8.5l.94-2.06 2.06-.94-2.06-.94L8.5 2.5l-.94 2.06-2.06.94zm10 10l.94 2.06.94-2.06 2.06-.94-2.06-.94-.94-2.06-.94 2.06-2.06.94z\"/><path d=\"M17.41 7.96l-1.37-1.37c-.4-.4-.92-.59-1.43-.59-.52 0-1.04.2-1.43.59L10.3 9.45l-7.72 7.72c-.78.78-.78 2.05 0 2.83L4 21.41c.39.39.9.59 1.41.59.51 0 1.02-.2 1.41-.59l7.78-7.78 2.81-2.81c.8-.78.8-2.07 0-2.86zM5.41 20L4 18.59l7.72-7.72 1.47 1.35L5.41 20z\"/>\n",
              "  </svg>\n",
              "      </button>\n",
              "      \n",
              "  <style>\n",
              "    .colab-df-container {\n",
              "      display:flex;\n",
              "      flex-wrap:wrap;\n",
              "      gap: 12px;\n",
              "    }\n",
              "\n",
              "    .colab-df-convert {\n",
              "      background-color: #E8F0FE;\n",
              "      border: none;\n",
              "      border-radius: 50%;\n",
              "      cursor: pointer;\n",
              "      display: none;\n",
              "      fill: #1967D2;\n",
              "      height: 32px;\n",
              "      padding: 0 0 0 0;\n",
              "      width: 32px;\n",
              "    }\n",
              "\n",
              "    .colab-df-convert:hover {\n",
              "      background-color: #E2EBFA;\n",
              "      box-shadow: 0px 1px 2px rgba(60, 64, 67, 0.3), 0px 1px 3px 1px rgba(60, 64, 67, 0.15);\n",
              "      fill: #174EA6;\n",
              "    }\n",
              "\n",
              "    [theme=dark] .colab-df-convert {\n",
              "      background-color: #3B4455;\n",
              "      fill: #D2E3FC;\n",
              "    }\n",
              "\n",
              "    [theme=dark] .colab-df-convert:hover {\n",
              "      background-color: #434B5C;\n",
              "      box-shadow: 0px 1px 3px 1px rgba(0, 0, 0, 0.15);\n",
              "      filter: drop-shadow(0px 1px 2px rgba(0, 0, 0, 0.3));\n",
              "      fill: #FFFFFF;\n",
              "    }\n",
              "  </style>\n",
              "\n",
              "      <script>\n",
              "        const buttonEl =\n",
              "          document.querySelector('#df-0abca794-0695-494a-80df-aced53685aa2 button.colab-df-convert');\n",
              "        buttonEl.style.display =\n",
              "          google.colab.kernel.accessAllowed ? 'block' : 'none';\n",
              "\n",
              "        async function convertToInteractive(key) {\n",
              "          const element = document.querySelector('#df-0abca794-0695-494a-80df-aced53685aa2');\n",
              "          const dataTable =\n",
              "            await google.colab.kernel.invokeFunction('convertToInteractive',\n",
              "                                                     [key], {});\n",
              "          if (!dataTable) return;\n",
              "\n",
              "          const docLinkHtml = 'Like what you see? Visit the ' +\n",
              "            '<a target=\"_blank\" href=https://colab.research.google.com/notebooks/data_table.ipynb>data table notebook</a>'\n",
              "            + ' to learn more about interactive tables.';\n",
              "          element.innerHTML = '';\n",
              "          dataTable['output_type'] = 'display_data';\n",
              "          await google.colab.output.renderOutput(dataTable, element);\n",
              "          const docLink = document.createElement('div');\n",
              "          docLink.innerHTML = docLinkHtml;\n",
              "          element.appendChild(docLink);\n",
              "        }\n",
              "      </script>\n",
              "    </div>\n",
              "  </div>\n",
              "  "
            ]
          },
          "metadata": {},
          "execution_count": 30
        }
      ]
    },
    {
      "cell_type": "markdown",
      "source": [
        "As variáveis da coluna 'Data' são o tipo object e iremos transformá-la em str para trabalhar com esses dados. Um objeto da classe date representa uma data(ano, mês e dia). Neste caso, iremos trabalhar em mês/ano, para visualizar as vendas mensais. A análise será feita com dados mensais. Claro que os dias dos meses são importantes para, por exemplo, verificar os dias da semana em que há o maior faturamento. Porém, para uma visualização mais generalista, trabalharemos com a visualização mês/ano.\n"
      ],
      "metadata": {
        "id": "PrjuCAjB0-6l"
      }
    },
    {
      "cell_type": "code",
      "source": [
        "# Transformar a coluna Data(formato inteiro) para o formato datetime\n",
        "customer.Data = pd.to_datetime(customer.Data)"
      ],
      "metadata": {
        "id": "2aU_qtNXjF0S"
      },
      "execution_count": 31,
      "outputs": []
    },
    {
      "cell_type": "code",
      "source": [
        "# Visualização da coluna Data para o formato datetime\n",
        "customer.info()"
      ],
      "metadata": {
        "colab": {
          "base_uri": "https://localhost:8080/"
        },
        "id": "fAlWuuohlTpK",
        "outputId": "65046aab-0129-4f9c-f9d5-24011f15d0d5"
      },
      "execution_count": 32,
      "outputs": [
        {
          "output_type": "stream",
          "name": "stdout",
          "text": [
            "<class 'pandas.core.frame.DataFrame'>\n",
            "Int64Index: 2574 entries, 2150 to 1222\n",
            "Data columns (total 14 columns):\n",
            " #   Column             Non-Null Count  Dtype         \n",
            "---  ------             --------------  -----         \n",
            " 0   Data               2574 non-null   datetime64[ns]\n",
            " 1   Ano                2574 non-null   float64       \n",
            " 2   Mês                2574 non-null   object        \n",
            " 3   Idade Cliente      2574 non-null   float64       \n",
            " 4   Sexo               2574 non-null   object        \n",
            " 5   País               2574 non-null   object        \n",
            " 6   Estado             2574 non-null   object        \n",
            " 7   Categoria Produto  2574 non-null   object        \n",
            " 8   Sub Categoria      2574 non-null   object        \n",
            " 9   Quantidade         2574 non-null   float64       \n",
            " 10  Custo Unitário     2574 non-null   float64       \n",
            " 11  Preço Unitário     2574 non-null   float64       \n",
            " 12  Custo              2574 non-null   float64       \n",
            " 13  Receita            2574 non-null   float64       \n",
            "dtypes: datetime64[ns](1), float64(7), object(6)\n",
            "memory usage: 301.6+ KB\n"
          ]
        }
      ]
    },
    {
      "cell_type": "code",
      "source": [
        "# Usar a função to_period para trabalhar com o dataframe em mês/ano\n",
        "customer.Data.dt.to_period('M')"
      ],
      "metadata": {
        "colab": {
          "base_uri": "https://localhost:8080/"
        },
        "id": "acY8myLZmWCM",
        "outputId": "ab110ded-eaec-458b-9f42-aded3c2c6ecf"
      },
      "execution_count": 33,
      "outputs": [
        {
          "output_type": "execute_result",
          "data": {
            "text/plain": [
              "2150    2015-01\n",
              "2055    2016-01\n",
              "1068    2016-01\n",
              "1132    2016-01\n",
              "2604    2016-01\n",
              "         ...   \n",
              "1808    2015-12\n",
              "1807    2015-12\n",
              "1806    2015-12\n",
              "1805    2015-12\n",
              "1222    2015-12\n",
              "Name: Data, Length: 2574, dtype: period[M]"
            ]
          },
          "metadata": {},
          "execution_count": 33
        }
      ]
    },
    {
      "cell_type": "code",
      "source": [
        "# Criando uma nova coluna ['cliente_data'] do tipo str para trabalhar no dataframe\n",
        "customer['cliente_data'] = customer.Data.dt.to_period('M').astype(str)"
      ],
      "metadata": {
        "id": "h5b5DoQxnkyJ"
      },
      "execution_count": 34,
      "outputs": []
    },
    {
      "cell_type": "code",
      "source": [
        "# Criar a variável vendas_por_mes: que é a soma do valor dos produtos agrupados por mês pela receita ['Receita']\n",
        "vendas_por_mes = customer.groupby(by='cliente_data').Receita.sum()"
      ],
      "metadata": {
        "id": "Mks7PPbroiwM"
      },
      "execution_count": 35,
      "outputs": []
    },
    {
      "cell_type": "code",
      "source": [
        "# Visualizando os primeiros valores de vendas_por_mes\n",
        "vendas_por_mes.head()"
      ],
      "metadata": {
        "colab": {
          "base_uri": "https://localhost:8080/"
        },
        "id": "CAiUXW7Np-Ga",
        "outputId": "265b002f-d905-43c9-fa90-460a78e14754"
      },
      "execution_count": 36,
      "outputs": [
        {
          "output_type": "execute_result",
          "data": {
            "text/plain": [
              "cliente_data\n",
              "2015-01    13547.0\n",
              "2015-02    21858.0\n",
              "2015-03    12254.0\n",
              "2015-04    19440.0\n",
              "2015-05    26033.0\n",
              "Name: Receita, dtype: float64"
            ]
          },
          "metadata": {},
          "execution_count": 36
        }
      ]
    },
    {
      "cell_type": "code",
      "source": [
        "# Exibindo os valores somados em vendas_por_mes\n",
        "vendas_por_mes.values"
      ],
      "metadata": {
        "colab": {
          "base_uri": "https://localhost:8080/"
        },
        "id": "GhhzXRcrrN2H",
        "outputId": "83ef2148-8e45-46ee-de66-4571ec198063"
      },
      "execution_count": 37,
      "outputs": [
        {
          "output_type": "execute_result",
          "data": {
            "text/plain": [
              "array([ 13547.,  21858.,  12254.,  19440.,  26033.,  52706.,  96932.,\n",
              "       150808., 121612., 120589., 122323., 183515., 176736., 112815.,\n",
              "       107259., 132992., 142105., 161668.,  36195.])"
            ]
          },
          "metadata": {},
          "execution_count": 37
        }
      ]
    },
    {
      "cell_type": "code",
      "source": [
        "# Exibindo os meses que foram somados\n",
        "vendas_por_mes.index.item"
      ],
      "metadata": {
        "colab": {
          "base_uri": "https://localhost:8080/"
        },
        "id": "ZTdcizS4rcTt",
        "outputId": "16fa7d04-2065-4f2b-ecd5-42c249f5dfdc"
      },
      "execution_count": 38,
      "outputs": [
        {
          "output_type": "execute_result",
          "data": {
            "text/plain": [
              "<bound method IndexOpsMixin.item of Index(['2015-01', '2015-02', '2015-03', '2015-04', '2015-05', '2015-06',\n",
              "       '2015-07', '2015-08', '2015-09', '2015-10', '2015-11', '2015-12',\n",
              "       '2016-01', '2016-02', '2016-03', '2016-04', '2016-05', '2016-06',\n",
              "       '2016-07'],\n",
              "      dtype='object', name='cliente_data')>"
            ]
          },
          "metadata": {},
          "execution_count": 38
        }
      ]
    },
    {
      "cell_type": "code",
      "source": [
        "# Exibindo as 5 primeiras linhas do dataset com a nova coluna ['cliente_data']\n",
        "customer.head() "
      ],
      "metadata": {
        "colab": {
          "base_uri": "https://localhost:8080/",
          "height": 206
        },
        "id": "5fndpo7B4du1",
        "outputId": "ed9ade90-679f-480b-de87-39f839ecaed5"
      },
      "execution_count": 39,
      "outputs": [
        {
          "output_type": "execute_result",
          "data": {
            "text/plain": [
              "           Data     Ano      Mês  Idade Cliente Sexo            País  \\\n",
              "2150 2015-01-01  2015.0  January           19.0    F   United States   \n",
              "2055 2016-01-01  2016.0  January           39.0    F   United States   \n",
              "1068 2016-01-01  2016.0  January           30.0    F  United Kingdom   \n",
              "1132 2016-01-01  2016.0  January           31.0    M  United Kingdom   \n",
              "2604 2016-01-01  2016.0  January           33.0    M   United States   \n",
              "\n",
              "          Estado Categoria Produto Sub Categoria  Quantidade  Custo Unitário  \\\n",
              "2150  Washington             Bikes    Road Bikes         1.0         1000.00   \n",
              "2055  California       Accessories       Helmets         1.0          210.00   \n",
              "1068     England          Clothing       Jerseys         1.0          216.00   \n",
              "1132     England       Accessories       Helmets         2.0          297.50   \n",
              "2604  California       Accessories      Cleaners         3.0           13.33   \n",
              "\n",
              "      Preço Unitário   Custo  Receita cliente_data  \n",
              "2150      938.000000  1000.0    938.0      2015-01  \n",
              "2055      271.000000   210.0    271.0      2016-01  \n",
              "1068      243.000000   216.0    243.0      2016-01  \n",
              "1132      379.500000   595.0    759.0      2016-01  \n",
              "2604       16.333333    40.0     49.0      2016-01  "
            ],
            "text/html": [
              "\n",
              "  <div id=\"df-5fdf56d8-1b4a-469b-9f8e-c9fdfeb533a2\">\n",
              "    <div class=\"colab-df-container\">\n",
              "      <div>\n",
              "<style scoped>\n",
              "    .dataframe tbody tr th:only-of-type {\n",
              "        vertical-align: middle;\n",
              "    }\n",
              "\n",
              "    .dataframe tbody tr th {\n",
              "        vertical-align: top;\n",
              "    }\n",
              "\n",
              "    .dataframe thead th {\n",
              "        text-align: right;\n",
              "    }\n",
              "</style>\n",
              "<table border=\"1\" class=\"dataframe\">\n",
              "  <thead>\n",
              "    <tr style=\"text-align: right;\">\n",
              "      <th></th>\n",
              "      <th>Data</th>\n",
              "      <th>Ano</th>\n",
              "      <th>Mês</th>\n",
              "      <th>Idade Cliente</th>\n",
              "      <th>Sexo</th>\n",
              "      <th>País</th>\n",
              "      <th>Estado</th>\n",
              "      <th>Categoria Produto</th>\n",
              "      <th>Sub Categoria</th>\n",
              "      <th>Quantidade</th>\n",
              "      <th>Custo Unitário</th>\n",
              "      <th>Preço Unitário</th>\n",
              "      <th>Custo</th>\n",
              "      <th>Receita</th>\n",
              "      <th>cliente_data</th>\n",
              "    </tr>\n",
              "  </thead>\n",
              "  <tbody>\n",
              "    <tr>\n",
              "      <th>2150</th>\n",
              "      <td>2015-01-01</td>\n",
              "      <td>2015.0</td>\n",
              "      <td>January</td>\n",
              "      <td>19.0</td>\n",
              "      <td>F</td>\n",
              "      <td>United States</td>\n",
              "      <td>Washington</td>\n",
              "      <td>Bikes</td>\n",
              "      <td>Road Bikes</td>\n",
              "      <td>1.0</td>\n",
              "      <td>1000.00</td>\n",
              "      <td>938.000000</td>\n",
              "      <td>1000.0</td>\n",
              "      <td>938.0</td>\n",
              "      <td>2015-01</td>\n",
              "    </tr>\n",
              "    <tr>\n",
              "      <th>2055</th>\n",
              "      <td>2016-01-01</td>\n",
              "      <td>2016.0</td>\n",
              "      <td>January</td>\n",
              "      <td>39.0</td>\n",
              "      <td>F</td>\n",
              "      <td>United States</td>\n",
              "      <td>California</td>\n",
              "      <td>Accessories</td>\n",
              "      <td>Helmets</td>\n",
              "      <td>1.0</td>\n",
              "      <td>210.00</td>\n",
              "      <td>271.000000</td>\n",
              "      <td>210.0</td>\n",
              "      <td>271.0</td>\n",
              "      <td>2016-01</td>\n",
              "    </tr>\n",
              "    <tr>\n",
              "      <th>1068</th>\n",
              "      <td>2016-01-01</td>\n",
              "      <td>2016.0</td>\n",
              "      <td>January</td>\n",
              "      <td>30.0</td>\n",
              "      <td>F</td>\n",
              "      <td>United Kingdom</td>\n",
              "      <td>England</td>\n",
              "      <td>Clothing</td>\n",
              "      <td>Jerseys</td>\n",
              "      <td>1.0</td>\n",
              "      <td>216.00</td>\n",
              "      <td>243.000000</td>\n",
              "      <td>216.0</td>\n",
              "      <td>243.0</td>\n",
              "      <td>2016-01</td>\n",
              "    </tr>\n",
              "    <tr>\n",
              "      <th>1132</th>\n",
              "      <td>2016-01-01</td>\n",
              "      <td>2016.0</td>\n",
              "      <td>January</td>\n",
              "      <td>31.0</td>\n",
              "      <td>M</td>\n",
              "      <td>United Kingdom</td>\n",
              "      <td>England</td>\n",
              "      <td>Accessories</td>\n",
              "      <td>Helmets</td>\n",
              "      <td>2.0</td>\n",
              "      <td>297.50</td>\n",
              "      <td>379.500000</td>\n",
              "      <td>595.0</td>\n",
              "      <td>759.0</td>\n",
              "      <td>2016-01</td>\n",
              "    </tr>\n",
              "    <tr>\n",
              "      <th>2604</th>\n",
              "      <td>2016-01-01</td>\n",
              "      <td>2016.0</td>\n",
              "      <td>January</td>\n",
              "      <td>33.0</td>\n",
              "      <td>M</td>\n",
              "      <td>United States</td>\n",
              "      <td>California</td>\n",
              "      <td>Accessories</td>\n",
              "      <td>Cleaners</td>\n",
              "      <td>3.0</td>\n",
              "      <td>13.33</td>\n",
              "      <td>16.333333</td>\n",
              "      <td>40.0</td>\n",
              "      <td>49.0</td>\n",
              "      <td>2016-01</td>\n",
              "    </tr>\n",
              "  </tbody>\n",
              "</table>\n",
              "</div>\n",
              "      <button class=\"colab-df-convert\" onclick=\"convertToInteractive('df-5fdf56d8-1b4a-469b-9f8e-c9fdfeb533a2')\"\n",
              "              title=\"Convert this dataframe to an interactive table.\"\n",
              "              style=\"display:none;\">\n",
              "        \n",
              "  <svg xmlns=\"http://www.w3.org/2000/svg\" height=\"24px\"viewBox=\"0 0 24 24\"\n",
              "       width=\"24px\">\n",
              "    <path d=\"M0 0h24v24H0V0z\" fill=\"none\"/>\n",
              "    <path d=\"M18.56 5.44l.94 2.06.94-2.06 2.06-.94-2.06-.94-.94-2.06-.94 2.06-2.06.94zm-11 1L8.5 8.5l.94-2.06 2.06-.94-2.06-.94L8.5 2.5l-.94 2.06-2.06.94zm10 10l.94 2.06.94-2.06 2.06-.94-2.06-.94-.94-2.06-.94 2.06-2.06.94z\"/><path d=\"M17.41 7.96l-1.37-1.37c-.4-.4-.92-.59-1.43-.59-.52 0-1.04.2-1.43.59L10.3 9.45l-7.72 7.72c-.78.78-.78 2.05 0 2.83L4 21.41c.39.39.9.59 1.41.59.51 0 1.02-.2 1.41-.59l7.78-7.78 2.81-2.81c.8-.78.8-2.07 0-2.86zM5.41 20L4 18.59l7.72-7.72 1.47 1.35L5.41 20z\"/>\n",
              "  </svg>\n",
              "      </button>\n",
              "      \n",
              "  <style>\n",
              "    .colab-df-container {\n",
              "      display:flex;\n",
              "      flex-wrap:wrap;\n",
              "      gap: 12px;\n",
              "    }\n",
              "\n",
              "    .colab-df-convert {\n",
              "      background-color: #E8F0FE;\n",
              "      border: none;\n",
              "      border-radius: 50%;\n",
              "      cursor: pointer;\n",
              "      display: none;\n",
              "      fill: #1967D2;\n",
              "      height: 32px;\n",
              "      padding: 0 0 0 0;\n",
              "      width: 32px;\n",
              "    }\n",
              "\n",
              "    .colab-df-convert:hover {\n",
              "      background-color: #E2EBFA;\n",
              "      box-shadow: 0px 1px 2px rgba(60, 64, 67, 0.3), 0px 1px 3px 1px rgba(60, 64, 67, 0.15);\n",
              "      fill: #174EA6;\n",
              "    }\n",
              "\n",
              "    [theme=dark] .colab-df-convert {\n",
              "      background-color: #3B4455;\n",
              "      fill: #D2E3FC;\n",
              "    }\n",
              "\n",
              "    [theme=dark] .colab-df-convert:hover {\n",
              "      background-color: #434B5C;\n",
              "      box-shadow: 0px 1px 3px 1px rgba(0, 0, 0, 0.15);\n",
              "      filter: drop-shadow(0px 1px 2px rgba(0, 0, 0, 0.3));\n",
              "      fill: #FFFFFF;\n",
              "    }\n",
              "  </style>\n",
              "\n",
              "      <script>\n",
              "        const buttonEl =\n",
              "          document.querySelector('#df-5fdf56d8-1b4a-469b-9f8e-c9fdfeb533a2 button.colab-df-convert');\n",
              "        buttonEl.style.display =\n",
              "          google.colab.kernel.accessAllowed ? 'block' : 'none';\n",
              "\n",
              "        async function convertToInteractive(key) {\n",
              "          const element = document.querySelector('#df-5fdf56d8-1b4a-469b-9f8e-c9fdfeb533a2');\n",
              "          const dataTable =\n",
              "            await google.colab.kernel.invokeFunction('convertToInteractive',\n",
              "                                                     [key], {});\n",
              "          if (!dataTable) return;\n",
              "\n",
              "          const docLinkHtml = 'Like what you see? Visit the ' +\n",
              "            '<a target=\"_blank\" href=https://colab.research.google.com/notebooks/data_table.ipynb>data table notebook</a>'\n",
              "            + ' to learn more about interactive tables.';\n",
              "          element.innerHTML = '';\n",
              "          dataTable['output_type'] = 'display_data';\n",
              "          await google.colab.output.renderOutput(dataTable, element);\n",
              "          const docLink = document.createElement('div');\n",
              "          docLink.innerHTML = docLinkHtml;\n",
              "          element.appendChild(docLink);\n",
              "        }\n",
              "      </script>\n",
              "    </div>\n",
              "  </div>\n",
              "  "
            ]
          },
          "metadata": {},
          "execution_count": 39
        }
      ]
    },
    {
      "cell_type": "markdown",
      "source": [
        "**CONSTRUÇÃO DOS GRÁFICOS - ANÁLISE**"
      ],
      "metadata": {
        "id": "mcPqVSduPs1T"
      }
    },
    {
      "cell_type": "markdown",
      "source": [
        " Os gráficos gerados serão utilizados na biblioteca Pyplot."
      ],
      "metadata": {
        "id": "hBKbDR0mSZX6"
      }
    },
    {
      "cell_type": "markdown",
      "source": [
        "# Gráfico de Barras"
      ],
      "metadata": {
        "id": "6dIo_bjhla5T"
      }
    },
    {
      "cell_type": "markdown",
      "source": [
        "O gráfico de colunas permite contar o número de objetos (ou observações) em dada categoria, neste caso, o valor da receita gerada, em meses, pelos anos de 2015 e 2016."
      ],
      "metadata": {
        "id": "sZVZsU41PzLI"
      }
    },
    {
      "cell_type": "markdown",
      "source": [
        "Gráfico de Barras referente a receita gerada em 2015 e 2016."
      ],
      "metadata": {
        "id": "TqH7qMlrPcnp"
      }
    },
    {
      "cell_type": "code",
      "source": [
        "# Atribuindo os valores de x e y\n",
        "data = [go.Bar(x=vendas_por_mes.index,\n",
        "               y=vendas_por_mes.values,\n",
        "               marker = {'color': 'DeepSkyBlue'} # definindo a cor           \n",
        "              )\n",
        "       ]\n",
        "\n",
        "# Incluindo Título\n",
        "receita_fig_layout = go.Layout(title='Receita Mensal 2015-2016 (em k $)',\n",
        "                               titlefont=dict(size=30), # tamanho do título\n",
        "                               autosize=True, # auto-ajuste das dimensões do grafico\n",
        "                               yaxis={'title':'Receita USD'}, # título ao eixo y\n",
        "                               xaxis={'title':'Período'} # título ao eixo x\n",
        "                              )\n",
        "\n",
        "# Definindo objeto figura para print\n",
        "fig1 = go.Figure(data=data, layout=receita_fig_layout)\n",
        "\n",
        "# print gráfico\n",
        "py.iplot(fig1)\n"
      ],
      "metadata": {
        "colab": {
          "base_uri": "https://localhost:8080/",
          "height": 542
        },
        "id": "jgGUHZeMQJhQ",
        "outputId": "1ed63927-a7ea-4d30-ec8d-44d8cac59e07"
      },
      "execution_count": 123,
      "outputs": [
        {
          "output_type": "display_data",
          "data": {
            "text/html": [
              "<html>\n",
              "<head><meta charset=\"utf-8\" /></head>\n",
              "<body>\n",
              "    <div>            <script src=\"https://cdnjs.cloudflare.com/ajax/libs/mathjax/2.7.5/MathJax.js?config=TeX-AMS-MML_SVG\"></script><script type=\"text/javascript\">if (window.MathJax && window.MathJax.Hub && window.MathJax.Hub.Config) {window.MathJax.Hub.Config({SVG: {font: \"STIX-Web\"}});}</script>                <script type=\"text/javascript\">window.PlotlyConfig = {MathJaxConfig: 'local'};</script>\n",
              "        <script src=\"https://cdn.plot.ly/plotly-2.18.2.min.js\"></script>                <div id=\"5586525c-67da-4da6-bf4b-c8251ad41ecb\" class=\"plotly-graph-div\" style=\"height:525px; width:100%;\"></div>            <script type=\"text/javascript\">                                    window.PLOTLYENV=window.PLOTLYENV || {};                                    if (document.getElementById(\"5586525c-67da-4da6-bf4b-c8251ad41ecb\")) {                    Plotly.newPlot(                        \"5586525c-67da-4da6-bf4b-c8251ad41ecb\",                        [{\"marker\":{\"color\":\"DeepSkyBlue\"},\"x\":[\"2015-01\",\"2015-02\",\"2015-03\",\"2015-04\",\"2015-05\",\"2015-06\",\"2015-07\",\"2015-08\",\"2015-09\",\"2015-10\",\"2015-11\",\"2015-12\",\"2016-01\",\"2016-02\",\"2016-03\",\"2016-04\",\"2016-05\",\"2016-06\",\"2016-07\"],\"y\":[13547.0,21858.0,12254.0,19440.0,26033.0,52706.0,96932.0,150808.0,121612.0,120589.0,122323.0,183515.0,176736.0,112815.0,107259.0,132992.0,142105.0,161668.0,36195.0],\"type\":\"bar\"}],                        {\"autosize\":true,\"template\":{\"data\":{\"barpolar\":[{\"marker\":{\"line\":{\"color\":\"#E5ECF6\",\"width\":0.5},\"pattern\":{\"fillmode\":\"overlay\",\"size\":10,\"solidity\":0.2}},\"type\":\"barpolar\"}],\"bar\":[{\"error_x\":{\"color\":\"#2a3f5f\"},\"error_y\":{\"color\":\"#2a3f5f\"},\"marker\":{\"line\":{\"color\":\"#E5ECF6\",\"width\":0.5},\"pattern\":{\"fillmode\":\"overlay\",\"size\":10,\"solidity\":0.2}},\"type\":\"bar\"}],\"carpet\":[{\"aaxis\":{\"endlinecolor\":\"#2a3f5f\",\"gridcolor\":\"white\",\"linecolor\":\"white\",\"minorgridcolor\":\"white\",\"startlinecolor\":\"#2a3f5f\"},\"baxis\":{\"endlinecolor\":\"#2a3f5f\",\"gridcolor\":\"white\",\"linecolor\":\"white\",\"minorgridcolor\":\"white\",\"startlinecolor\":\"#2a3f5f\"},\"type\":\"carpet\"}],\"choropleth\":[{\"colorbar\":{\"outlinewidth\":0,\"ticks\":\"\"},\"type\":\"choropleth\"}],\"contourcarpet\":[{\"colorbar\":{\"outlinewidth\":0,\"ticks\":\"\"},\"type\":\"contourcarpet\"}],\"contour\":[{\"colorbar\":{\"outlinewidth\":0,\"ticks\":\"\"},\"colorscale\":[[0.0,\"#0d0887\"],[0.1111111111111111,\"#46039f\"],[0.2222222222222222,\"#7201a8\"],[0.3333333333333333,\"#9c179e\"],[0.4444444444444444,\"#bd3786\"],[0.5555555555555556,\"#d8576b\"],[0.6666666666666666,\"#ed7953\"],[0.7777777777777778,\"#fb9f3a\"],[0.8888888888888888,\"#fdca26\"],[1.0,\"#f0f921\"]],\"type\":\"contour\"}],\"heatmapgl\":[{\"colorbar\":{\"outlinewidth\":0,\"ticks\":\"\"},\"colorscale\":[[0.0,\"#0d0887\"],[0.1111111111111111,\"#46039f\"],[0.2222222222222222,\"#7201a8\"],[0.3333333333333333,\"#9c179e\"],[0.4444444444444444,\"#bd3786\"],[0.5555555555555556,\"#d8576b\"],[0.6666666666666666,\"#ed7953\"],[0.7777777777777778,\"#fb9f3a\"],[0.8888888888888888,\"#fdca26\"],[1.0,\"#f0f921\"]],\"type\":\"heatmapgl\"}],\"heatmap\":[{\"colorbar\":{\"outlinewidth\":0,\"ticks\":\"\"},\"colorscale\":[[0.0,\"#0d0887\"],[0.1111111111111111,\"#46039f\"],[0.2222222222222222,\"#7201a8\"],[0.3333333333333333,\"#9c179e\"],[0.4444444444444444,\"#bd3786\"],[0.5555555555555556,\"#d8576b\"],[0.6666666666666666,\"#ed7953\"],[0.7777777777777778,\"#fb9f3a\"],[0.8888888888888888,\"#fdca26\"],[1.0,\"#f0f921\"]],\"type\":\"heatmap\"}],\"histogram2dcontour\":[{\"colorbar\":{\"outlinewidth\":0,\"ticks\":\"\"},\"colorscale\":[[0.0,\"#0d0887\"],[0.1111111111111111,\"#46039f\"],[0.2222222222222222,\"#7201a8\"],[0.3333333333333333,\"#9c179e\"],[0.4444444444444444,\"#bd3786\"],[0.5555555555555556,\"#d8576b\"],[0.6666666666666666,\"#ed7953\"],[0.7777777777777778,\"#fb9f3a\"],[0.8888888888888888,\"#fdca26\"],[1.0,\"#f0f921\"]],\"type\":\"histogram2dcontour\"}],\"histogram2d\":[{\"colorbar\":{\"outlinewidth\":0,\"ticks\":\"\"},\"colorscale\":[[0.0,\"#0d0887\"],[0.1111111111111111,\"#46039f\"],[0.2222222222222222,\"#7201a8\"],[0.3333333333333333,\"#9c179e\"],[0.4444444444444444,\"#bd3786\"],[0.5555555555555556,\"#d8576b\"],[0.6666666666666666,\"#ed7953\"],[0.7777777777777778,\"#fb9f3a\"],[0.8888888888888888,\"#fdca26\"],[1.0,\"#f0f921\"]],\"type\":\"histogram2d\"}],\"histogram\":[{\"marker\":{\"pattern\":{\"fillmode\":\"overlay\",\"size\":10,\"solidity\":0.2}},\"type\":\"histogram\"}],\"mesh3d\":[{\"colorbar\":{\"outlinewidth\":0,\"ticks\":\"\"},\"type\":\"mesh3d\"}],\"parcoords\":[{\"line\":{\"colorbar\":{\"outlinewidth\":0,\"ticks\":\"\"}},\"type\":\"parcoords\"}],\"pie\":[{\"automargin\":true,\"type\":\"pie\"}],\"scatter3d\":[{\"line\":{\"colorbar\":{\"outlinewidth\":0,\"ticks\":\"\"}},\"marker\":{\"colorbar\":{\"outlinewidth\":0,\"ticks\":\"\"}},\"type\":\"scatter3d\"}],\"scattercarpet\":[{\"marker\":{\"colorbar\":{\"outlinewidth\":0,\"ticks\":\"\"}},\"type\":\"scattercarpet\"}],\"scattergeo\":[{\"marker\":{\"colorbar\":{\"outlinewidth\":0,\"ticks\":\"\"}},\"type\":\"scattergeo\"}],\"scattergl\":[{\"marker\":{\"colorbar\":{\"outlinewidth\":0,\"ticks\":\"\"}},\"type\":\"scattergl\"}],\"scattermapbox\":[{\"marker\":{\"colorbar\":{\"outlinewidth\":0,\"ticks\":\"\"}},\"type\":\"scattermapbox\"}],\"scatterpolargl\":[{\"marker\":{\"colorbar\":{\"outlinewidth\":0,\"ticks\":\"\"}},\"type\":\"scatterpolargl\"}],\"scatterpolar\":[{\"marker\":{\"colorbar\":{\"outlinewidth\":0,\"ticks\":\"\"}},\"type\":\"scatterpolar\"}],\"scatter\":[{\"fillpattern\":{\"fillmode\":\"overlay\",\"size\":10,\"solidity\":0.2},\"type\":\"scatter\"}],\"scatterternary\":[{\"marker\":{\"colorbar\":{\"outlinewidth\":0,\"ticks\":\"\"}},\"type\":\"scatterternary\"}],\"surface\":[{\"colorbar\":{\"outlinewidth\":0,\"ticks\":\"\"},\"colorscale\":[[0.0,\"#0d0887\"],[0.1111111111111111,\"#46039f\"],[0.2222222222222222,\"#7201a8\"],[0.3333333333333333,\"#9c179e\"],[0.4444444444444444,\"#bd3786\"],[0.5555555555555556,\"#d8576b\"],[0.6666666666666666,\"#ed7953\"],[0.7777777777777778,\"#fb9f3a\"],[0.8888888888888888,\"#fdca26\"],[1.0,\"#f0f921\"]],\"type\":\"surface\"}],\"table\":[{\"cells\":{\"fill\":{\"color\":\"#EBF0F8\"},\"line\":{\"color\":\"white\"}},\"header\":{\"fill\":{\"color\":\"#C8D4E3\"},\"line\":{\"color\":\"white\"}},\"type\":\"table\"}]},\"layout\":{\"annotationdefaults\":{\"arrowcolor\":\"#2a3f5f\",\"arrowhead\":0,\"arrowwidth\":1},\"autotypenumbers\":\"strict\",\"coloraxis\":{\"colorbar\":{\"outlinewidth\":0,\"ticks\":\"\"}},\"colorscale\":{\"diverging\":[[0,\"#8e0152\"],[0.1,\"#c51b7d\"],[0.2,\"#de77ae\"],[0.3,\"#f1b6da\"],[0.4,\"#fde0ef\"],[0.5,\"#f7f7f7\"],[0.6,\"#e6f5d0\"],[0.7,\"#b8e186\"],[0.8,\"#7fbc41\"],[0.9,\"#4d9221\"],[1,\"#276419\"]],\"sequential\":[[0.0,\"#0d0887\"],[0.1111111111111111,\"#46039f\"],[0.2222222222222222,\"#7201a8\"],[0.3333333333333333,\"#9c179e\"],[0.4444444444444444,\"#bd3786\"],[0.5555555555555556,\"#d8576b\"],[0.6666666666666666,\"#ed7953\"],[0.7777777777777778,\"#fb9f3a\"],[0.8888888888888888,\"#fdca26\"],[1.0,\"#f0f921\"]],\"sequentialminus\":[[0.0,\"#0d0887\"],[0.1111111111111111,\"#46039f\"],[0.2222222222222222,\"#7201a8\"],[0.3333333333333333,\"#9c179e\"],[0.4444444444444444,\"#bd3786\"],[0.5555555555555556,\"#d8576b\"],[0.6666666666666666,\"#ed7953\"],[0.7777777777777778,\"#fb9f3a\"],[0.8888888888888888,\"#fdca26\"],[1.0,\"#f0f921\"]]},\"colorway\":[\"#636efa\",\"#EF553B\",\"#00cc96\",\"#ab63fa\",\"#FFA15A\",\"#19d3f3\",\"#FF6692\",\"#B6E880\",\"#FF97FF\",\"#FECB52\"],\"font\":{\"color\":\"#2a3f5f\"},\"geo\":{\"bgcolor\":\"white\",\"lakecolor\":\"white\",\"landcolor\":\"#E5ECF6\",\"showlakes\":true,\"showland\":true,\"subunitcolor\":\"white\"},\"hoverlabel\":{\"align\":\"left\"},\"hovermode\":\"closest\",\"mapbox\":{\"style\":\"light\"},\"paper_bgcolor\":\"white\",\"plot_bgcolor\":\"#E5ECF6\",\"polar\":{\"angularaxis\":{\"gridcolor\":\"white\",\"linecolor\":\"white\",\"ticks\":\"\"},\"bgcolor\":\"#E5ECF6\",\"radialaxis\":{\"gridcolor\":\"white\",\"linecolor\":\"white\",\"ticks\":\"\"}},\"scene\":{\"xaxis\":{\"backgroundcolor\":\"#E5ECF6\",\"gridcolor\":\"white\",\"gridwidth\":2,\"linecolor\":\"white\",\"showbackground\":true,\"ticks\":\"\",\"zerolinecolor\":\"white\"},\"yaxis\":{\"backgroundcolor\":\"#E5ECF6\",\"gridcolor\":\"white\",\"gridwidth\":2,\"linecolor\":\"white\",\"showbackground\":true,\"ticks\":\"\",\"zerolinecolor\":\"white\"},\"zaxis\":{\"backgroundcolor\":\"#E5ECF6\",\"gridcolor\":\"white\",\"gridwidth\":2,\"linecolor\":\"white\",\"showbackground\":true,\"ticks\":\"\",\"zerolinecolor\":\"white\"}},\"shapedefaults\":{\"line\":{\"color\":\"#2a3f5f\"}},\"ternary\":{\"aaxis\":{\"gridcolor\":\"white\",\"linecolor\":\"white\",\"ticks\":\"\"},\"baxis\":{\"gridcolor\":\"white\",\"linecolor\":\"white\",\"ticks\":\"\"},\"bgcolor\":\"#E5ECF6\",\"caxis\":{\"gridcolor\":\"white\",\"linecolor\":\"white\",\"ticks\":\"\"}},\"title\":{\"x\":0.05},\"xaxis\":{\"automargin\":true,\"gridcolor\":\"white\",\"linecolor\":\"white\",\"ticks\":\"\",\"title\":{\"standoff\":15},\"zerolinecolor\":\"white\",\"zerolinewidth\":2},\"yaxis\":{\"automargin\":true,\"gridcolor\":\"white\",\"linecolor\":\"white\",\"ticks\":\"\",\"title\":{\"standoff\":15},\"zerolinecolor\":\"white\",\"zerolinewidth\":2}}},\"title\":{\"font\":{\"size\":30},\"text\":\"Receita Mensal 2015-2016 (em k $)\"},\"xaxis\":{\"title\":{\"text\":\"Per\\u00edodo\"}},\"yaxis\":{\"title\":{\"text\":\"Receita USD\"}}},                        {\"responsive\": true}                    ).then(function(){\n",
              "                            \n",
              "var gd = document.getElementById('5586525c-67da-4da6-bf4b-c8251ad41ecb');\n",
              "var x = new MutationObserver(function (mutations, observer) {{\n",
              "        var display = window.getComputedStyle(gd).display;\n",
              "        if (!display || display === 'none') {{\n",
              "            console.log([gd, 'removed!']);\n",
              "            Plotly.purge(gd);\n",
              "            observer.disconnect();\n",
              "        }}\n",
              "}});\n",
              "\n",
              "// Listen for the removal of the full notebook cells\n",
              "var notebookContainer = gd.closest('#notebook-container');\n",
              "if (notebookContainer) {{\n",
              "    x.observe(notebookContainer, {childList: true});\n",
              "}}\n",
              "\n",
              "// Listen for the clearing of the current output cell\n",
              "var outputEl = gd.closest('.output');\n",
              "if (outputEl) {{\n",
              "    x.observe(outputEl, {childList: true});\n",
              "}}\n",
              "\n",
              "                        })                };                            </script>        </div>\n",
              "</body>\n",
              "</html>"
            ]
          },
          "metadata": {}
        }
      ]
    },
    {
      "cell_type": "markdown",
      "source": [
        "O primeiro gráfico gerado nos mostra uma tendência de receita gerada conforme os meses avançam. A bibloteca Pyplot nos permite interagir com o gráfico, ao passar o mouse, podemos analisar os valores da receita mensal gerada."
      ],
      "metadata": {
        "id": "LMNlRG2GUKQA"
      }
    },
    {
      "cell_type": "markdown",
      "source": [
        "Destacando barras com o valor abaixo da média de vendas"
      ],
      "metadata": {
        "id": "18_1NGXmN245"
      }
    },
    {
      "cell_type": "code",
      "source": [
        "# Definindo 'cores' para destaque de barras. [] representa uma definição vazia de cores\n",
        "cores = []"
      ],
      "metadata": {
        "id": "Pw-rHSwEMWp5"
      },
      "execution_count": 124,
      "outputs": []
    },
    {
      "cell_type": "code",
      "source": [
        "# Média de Vendas 2015-2016\n",
        "media = vendas_por_mes.values.mean() # mean: faz a média dos valores\n",
        "\n",
        "print (media)"
      ],
      "metadata": {
        "colab": {
          "base_uri": "https://localhost:8080/"
        },
        "id": "p252l2v84K2I",
        "outputId": "a1bff648-d7da-4093-bccf-280a227da14f"
      },
      "execution_count": 125,
      "outputs": [
        {
          "output_type": "stream",
          "name": "stdout",
          "text": [
            "95336.15789473684\n"
          ]
        }
      ]
    },
    {
      "cell_type": "markdown",
      "source": [
        "Para definir cores em destaque, utilizaremos a Condicional If/Else. Iremos propor uma condição: caso os meses que não atinjam o valor médio, será marcado pela cor vermelha. Os demais, serão mantidos com a cor atual.\n",
        "O método append() acrescenta um elemento ao final da lista (neste caso, a cor)."
      ],
      "metadata": {
        "id": "cTrFKH__OUWe"
      }
    },
    {
      "cell_type": "code",
      "source": [
        "# Parâmetro valores vendas_por_mês\n",
        "for x in vendas_por_mes.values: \n",
        "  if x < media:  # Se x for menor que a média\n",
        "    cores.append('red') # 'Cores' será destacado em vermelho \n",
        "\n",
        "  else: # Senão\n",
        "    cores.append('DeepSkyBlue')  #'Cores' será permanecerá a cor definida anteriormente"
      ],
      "metadata": {
        "id": "9VrSgU1241rX"
      },
      "execution_count": 126,
      "outputs": []
    },
    {
      "cell_type": "code",
      "source": [
        "# Exisbindo novas cores a serem plotadas após a função If/Else\n",
        "cores"
      ],
      "metadata": {
        "colab": {
          "base_uri": "https://localhost:8080/"
        },
        "id": "BIbsHp32MdTX",
        "outputId": "5c12038f-05ed-4dd5-ff80-2b87f860329a"
      },
      "execution_count": 127,
      "outputs": [
        {
          "output_type": "execute_result",
          "data": {
            "text/plain": [
              "['red',\n",
              " 'red',\n",
              " 'red',\n",
              " 'red',\n",
              " 'red',\n",
              " 'red',\n",
              " 'DeepSkyBlue',\n",
              " 'DeepSkyBlue',\n",
              " 'DeepSkyBlue',\n",
              " 'DeepSkyBlue',\n",
              " 'DeepSkyBlue',\n",
              " 'DeepSkyBlue',\n",
              " 'DeepSkyBlue',\n",
              " 'DeepSkyBlue',\n",
              " 'DeepSkyBlue',\n",
              " 'DeepSkyBlue',\n",
              " 'DeepSkyBlue',\n",
              " 'DeepSkyBlue',\n",
              " 'red']"
            ]
          },
          "metadata": {},
          "execution_count": 127
        }
      ]
    },
    {
      "cell_type": "markdown",
      "source": [
        "Gráfico de Barras plotado com destaque de barras"
      ],
      "metadata": {
        "id": "XEYhfb6CPLuC"
      }
    },
    {
      "cell_type": "code",
      "source": [
        "# Atribuindo os valores de x e y\n",
        "data = [go.Bar(x=vendas_por_mes.index,\n",
        "               y=vendas_por_mes.values,\n",
        "               marker = {'color': cores} # definindo cores com novos parâmetros\n",
        "                        \n",
        "              )\n",
        "       ]\n",
        "\n",
        "# Incluindo Título\n",
        "receita_fig_layout = go.Layout(title='Receita Mensal 2015-2016 (em k $)',\n",
        "                               titlefont=dict(size=30), # tamanho do título\n",
        "                               autosize=True, # auto-ajuste das dimensões do grafico\n",
        "                               yaxis={'title':'Receita'}, # título do eixo y\n",
        "                               xaxis={'title':'Período'} # título do eixo x\n",
        "                              )\n",
        "\n",
        "# Definindo objeto figura para print\n",
        "fig1 = go.Figure(data=data, layout=receita_fig_layout)\n",
        "\n",
        "\n",
        "py.iplot(fig1)"
      ],
      "metadata": {
        "colab": {
          "base_uri": "https://localhost:8080/",
          "height": 542
        },
        "id": "MUdQaetwDTT7",
        "outputId": "55cbb310-8231-4cb7-e22d-005858140343"
      },
      "execution_count": 128,
      "outputs": [
        {
          "output_type": "display_data",
          "data": {
            "text/html": [
              "<html>\n",
              "<head><meta charset=\"utf-8\" /></head>\n",
              "<body>\n",
              "    <div>            <script src=\"https://cdnjs.cloudflare.com/ajax/libs/mathjax/2.7.5/MathJax.js?config=TeX-AMS-MML_SVG\"></script><script type=\"text/javascript\">if (window.MathJax && window.MathJax.Hub && window.MathJax.Hub.Config) {window.MathJax.Hub.Config({SVG: {font: \"STIX-Web\"}});}</script>                <script type=\"text/javascript\">window.PlotlyConfig = {MathJaxConfig: 'local'};</script>\n",
              "        <script src=\"https://cdn.plot.ly/plotly-2.18.2.min.js\"></script>                <div id=\"4c71a18c-e8ed-4a07-961e-4b611375327a\" class=\"plotly-graph-div\" style=\"height:525px; width:100%;\"></div>            <script type=\"text/javascript\">                                    window.PLOTLYENV=window.PLOTLYENV || {};                                    if (document.getElementById(\"4c71a18c-e8ed-4a07-961e-4b611375327a\")) {                    Plotly.newPlot(                        \"4c71a18c-e8ed-4a07-961e-4b611375327a\",                        [{\"marker\":{\"color\":[\"red\",\"red\",\"red\",\"red\",\"red\",\"red\",\"DeepSkyBlue\",\"DeepSkyBlue\",\"DeepSkyBlue\",\"DeepSkyBlue\",\"DeepSkyBlue\",\"DeepSkyBlue\",\"DeepSkyBlue\",\"DeepSkyBlue\",\"DeepSkyBlue\",\"DeepSkyBlue\",\"DeepSkyBlue\",\"DeepSkyBlue\",\"red\"]},\"x\":[\"2015-01\",\"2015-02\",\"2015-03\",\"2015-04\",\"2015-05\",\"2015-06\",\"2015-07\",\"2015-08\",\"2015-09\",\"2015-10\",\"2015-11\",\"2015-12\",\"2016-01\",\"2016-02\",\"2016-03\",\"2016-04\",\"2016-05\",\"2016-06\",\"2016-07\"],\"y\":[13547.0,21858.0,12254.0,19440.0,26033.0,52706.0,96932.0,150808.0,121612.0,120589.0,122323.0,183515.0,176736.0,112815.0,107259.0,132992.0,142105.0,161668.0,36195.0],\"type\":\"bar\"}],                        {\"autosize\":true,\"template\":{\"data\":{\"barpolar\":[{\"marker\":{\"line\":{\"color\":\"#E5ECF6\",\"width\":0.5},\"pattern\":{\"fillmode\":\"overlay\",\"size\":10,\"solidity\":0.2}},\"type\":\"barpolar\"}],\"bar\":[{\"error_x\":{\"color\":\"#2a3f5f\"},\"error_y\":{\"color\":\"#2a3f5f\"},\"marker\":{\"line\":{\"color\":\"#E5ECF6\",\"width\":0.5},\"pattern\":{\"fillmode\":\"overlay\",\"size\":10,\"solidity\":0.2}},\"type\":\"bar\"}],\"carpet\":[{\"aaxis\":{\"endlinecolor\":\"#2a3f5f\",\"gridcolor\":\"white\",\"linecolor\":\"white\",\"minorgridcolor\":\"white\",\"startlinecolor\":\"#2a3f5f\"},\"baxis\":{\"endlinecolor\":\"#2a3f5f\",\"gridcolor\":\"white\",\"linecolor\":\"white\",\"minorgridcolor\":\"white\",\"startlinecolor\":\"#2a3f5f\"},\"type\":\"carpet\"}],\"choropleth\":[{\"colorbar\":{\"outlinewidth\":0,\"ticks\":\"\"},\"type\":\"choropleth\"}],\"contourcarpet\":[{\"colorbar\":{\"outlinewidth\":0,\"ticks\":\"\"},\"type\":\"contourcarpet\"}],\"contour\":[{\"colorbar\":{\"outlinewidth\":0,\"ticks\":\"\"},\"colorscale\":[[0.0,\"#0d0887\"],[0.1111111111111111,\"#46039f\"],[0.2222222222222222,\"#7201a8\"],[0.3333333333333333,\"#9c179e\"],[0.4444444444444444,\"#bd3786\"],[0.5555555555555556,\"#d8576b\"],[0.6666666666666666,\"#ed7953\"],[0.7777777777777778,\"#fb9f3a\"],[0.8888888888888888,\"#fdca26\"],[1.0,\"#f0f921\"]],\"type\":\"contour\"}],\"heatmapgl\":[{\"colorbar\":{\"outlinewidth\":0,\"ticks\":\"\"},\"colorscale\":[[0.0,\"#0d0887\"],[0.1111111111111111,\"#46039f\"],[0.2222222222222222,\"#7201a8\"],[0.3333333333333333,\"#9c179e\"],[0.4444444444444444,\"#bd3786\"],[0.5555555555555556,\"#d8576b\"],[0.6666666666666666,\"#ed7953\"],[0.7777777777777778,\"#fb9f3a\"],[0.8888888888888888,\"#fdca26\"],[1.0,\"#f0f921\"]],\"type\":\"heatmapgl\"}],\"heatmap\":[{\"colorbar\":{\"outlinewidth\":0,\"ticks\":\"\"},\"colorscale\":[[0.0,\"#0d0887\"],[0.1111111111111111,\"#46039f\"],[0.2222222222222222,\"#7201a8\"],[0.3333333333333333,\"#9c179e\"],[0.4444444444444444,\"#bd3786\"],[0.5555555555555556,\"#d8576b\"],[0.6666666666666666,\"#ed7953\"],[0.7777777777777778,\"#fb9f3a\"],[0.8888888888888888,\"#fdca26\"],[1.0,\"#f0f921\"]],\"type\":\"heatmap\"}],\"histogram2dcontour\":[{\"colorbar\":{\"outlinewidth\":0,\"ticks\":\"\"},\"colorscale\":[[0.0,\"#0d0887\"],[0.1111111111111111,\"#46039f\"],[0.2222222222222222,\"#7201a8\"],[0.3333333333333333,\"#9c179e\"],[0.4444444444444444,\"#bd3786\"],[0.5555555555555556,\"#d8576b\"],[0.6666666666666666,\"#ed7953\"],[0.7777777777777778,\"#fb9f3a\"],[0.8888888888888888,\"#fdca26\"],[1.0,\"#f0f921\"]],\"type\":\"histogram2dcontour\"}],\"histogram2d\":[{\"colorbar\":{\"outlinewidth\":0,\"ticks\":\"\"},\"colorscale\":[[0.0,\"#0d0887\"],[0.1111111111111111,\"#46039f\"],[0.2222222222222222,\"#7201a8\"],[0.3333333333333333,\"#9c179e\"],[0.4444444444444444,\"#bd3786\"],[0.5555555555555556,\"#d8576b\"],[0.6666666666666666,\"#ed7953\"],[0.7777777777777778,\"#fb9f3a\"],[0.8888888888888888,\"#fdca26\"],[1.0,\"#f0f921\"]],\"type\":\"histogram2d\"}],\"histogram\":[{\"marker\":{\"pattern\":{\"fillmode\":\"overlay\",\"size\":10,\"solidity\":0.2}},\"type\":\"histogram\"}],\"mesh3d\":[{\"colorbar\":{\"outlinewidth\":0,\"ticks\":\"\"},\"type\":\"mesh3d\"}],\"parcoords\":[{\"line\":{\"colorbar\":{\"outlinewidth\":0,\"ticks\":\"\"}},\"type\":\"parcoords\"}],\"pie\":[{\"automargin\":true,\"type\":\"pie\"}],\"scatter3d\":[{\"line\":{\"colorbar\":{\"outlinewidth\":0,\"ticks\":\"\"}},\"marker\":{\"colorbar\":{\"outlinewidth\":0,\"ticks\":\"\"}},\"type\":\"scatter3d\"}],\"scattercarpet\":[{\"marker\":{\"colorbar\":{\"outlinewidth\":0,\"ticks\":\"\"}},\"type\":\"scattercarpet\"}],\"scattergeo\":[{\"marker\":{\"colorbar\":{\"outlinewidth\":0,\"ticks\":\"\"}},\"type\":\"scattergeo\"}],\"scattergl\":[{\"marker\":{\"colorbar\":{\"outlinewidth\":0,\"ticks\":\"\"}},\"type\":\"scattergl\"}],\"scattermapbox\":[{\"marker\":{\"colorbar\":{\"outlinewidth\":0,\"ticks\":\"\"}},\"type\":\"scattermapbox\"}],\"scatterpolargl\":[{\"marker\":{\"colorbar\":{\"outlinewidth\":0,\"ticks\":\"\"}},\"type\":\"scatterpolargl\"}],\"scatterpolar\":[{\"marker\":{\"colorbar\":{\"outlinewidth\":0,\"ticks\":\"\"}},\"type\":\"scatterpolar\"}],\"scatter\":[{\"fillpattern\":{\"fillmode\":\"overlay\",\"size\":10,\"solidity\":0.2},\"type\":\"scatter\"}],\"scatterternary\":[{\"marker\":{\"colorbar\":{\"outlinewidth\":0,\"ticks\":\"\"}},\"type\":\"scatterternary\"}],\"surface\":[{\"colorbar\":{\"outlinewidth\":0,\"ticks\":\"\"},\"colorscale\":[[0.0,\"#0d0887\"],[0.1111111111111111,\"#46039f\"],[0.2222222222222222,\"#7201a8\"],[0.3333333333333333,\"#9c179e\"],[0.4444444444444444,\"#bd3786\"],[0.5555555555555556,\"#d8576b\"],[0.6666666666666666,\"#ed7953\"],[0.7777777777777778,\"#fb9f3a\"],[0.8888888888888888,\"#fdca26\"],[1.0,\"#f0f921\"]],\"type\":\"surface\"}],\"table\":[{\"cells\":{\"fill\":{\"color\":\"#EBF0F8\"},\"line\":{\"color\":\"white\"}},\"header\":{\"fill\":{\"color\":\"#C8D4E3\"},\"line\":{\"color\":\"white\"}},\"type\":\"table\"}]},\"layout\":{\"annotationdefaults\":{\"arrowcolor\":\"#2a3f5f\",\"arrowhead\":0,\"arrowwidth\":1},\"autotypenumbers\":\"strict\",\"coloraxis\":{\"colorbar\":{\"outlinewidth\":0,\"ticks\":\"\"}},\"colorscale\":{\"diverging\":[[0,\"#8e0152\"],[0.1,\"#c51b7d\"],[0.2,\"#de77ae\"],[0.3,\"#f1b6da\"],[0.4,\"#fde0ef\"],[0.5,\"#f7f7f7\"],[0.6,\"#e6f5d0\"],[0.7,\"#b8e186\"],[0.8,\"#7fbc41\"],[0.9,\"#4d9221\"],[1,\"#276419\"]],\"sequential\":[[0.0,\"#0d0887\"],[0.1111111111111111,\"#46039f\"],[0.2222222222222222,\"#7201a8\"],[0.3333333333333333,\"#9c179e\"],[0.4444444444444444,\"#bd3786\"],[0.5555555555555556,\"#d8576b\"],[0.6666666666666666,\"#ed7953\"],[0.7777777777777778,\"#fb9f3a\"],[0.8888888888888888,\"#fdca26\"],[1.0,\"#f0f921\"]],\"sequentialminus\":[[0.0,\"#0d0887\"],[0.1111111111111111,\"#46039f\"],[0.2222222222222222,\"#7201a8\"],[0.3333333333333333,\"#9c179e\"],[0.4444444444444444,\"#bd3786\"],[0.5555555555555556,\"#d8576b\"],[0.6666666666666666,\"#ed7953\"],[0.7777777777777778,\"#fb9f3a\"],[0.8888888888888888,\"#fdca26\"],[1.0,\"#f0f921\"]]},\"colorway\":[\"#636efa\",\"#EF553B\",\"#00cc96\",\"#ab63fa\",\"#FFA15A\",\"#19d3f3\",\"#FF6692\",\"#B6E880\",\"#FF97FF\",\"#FECB52\"],\"font\":{\"color\":\"#2a3f5f\"},\"geo\":{\"bgcolor\":\"white\",\"lakecolor\":\"white\",\"landcolor\":\"#E5ECF6\",\"showlakes\":true,\"showland\":true,\"subunitcolor\":\"white\"},\"hoverlabel\":{\"align\":\"left\"},\"hovermode\":\"closest\",\"mapbox\":{\"style\":\"light\"},\"paper_bgcolor\":\"white\",\"plot_bgcolor\":\"#E5ECF6\",\"polar\":{\"angularaxis\":{\"gridcolor\":\"white\",\"linecolor\":\"white\",\"ticks\":\"\"},\"bgcolor\":\"#E5ECF6\",\"radialaxis\":{\"gridcolor\":\"white\",\"linecolor\":\"white\",\"ticks\":\"\"}},\"scene\":{\"xaxis\":{\"backgroundcolor\":\"#E5ECF6\",\"gridcolor\":\"white\",\"gridwidth\":2,\"linecolor\":\"white\",\"showbackground\":true,\"ticks\":\"\",\"zerolinecolor\":\"white\"},\"yaxis\":{\"backgroundcolor\":\"#E5ECF6\",\"gridcolor\":\"white\",\"gridwidth\":2,\"linecolor\":\"white\",\"showbackground\":true,\"ticks\":\"\",\"zerolinecolor\":\"white\"},\"zaxis\":{\"backgroundcolor\":\"#E5ECF6\",\"gridcolor\":\"white\",\"gridwidth\":2,\"linecolor\":\"white\",\"showbackground\":true,\"ticks\":\"\",\"zerolinecolor\":\"white\"}},\"shapedefaults\":{\"line\":{\"color\":\"#2a3f5f\"}},\"ternary\":{\"aaxis\":{\"gridcolor\":\"white\",\"linecolor\":\"white\",\"ticks\":\"\"},\"baxis\":{\"gridcolor\":\"white\",\"linecolor\":\"white\",\"ticks\":\"\"},\"bgcolor\":\"#E5ECF6\",\"caxis\":{\"gridcolor\":\"white\",\"linecolor\":\"white\",\"ticks\":\"\"}},\"title\":{\"x\":0.05},\"xaxis\":{\"automargin\":true,\"gridcolor\":\"white\",\"linecolor\":\"white\",\"ticks\":\"\",\"title\":{\"standoff\":15},\"zerolinecolor\":\"white\",\"zerolinewidth\":2},\"yaxis\":{\"automargin\":true,\"gridcolor\":\"white\",\"linecolor\":\"white\",\"ticks\":\"\",\"title\":{\"standoff\":15},\"zerolinecolor\":\"white\",\"zerolinewidth\":2}}},\"title\":{\"font\":{\"size\":30},\"text\":\"Receita Mensal 2015-2016 (em k $)\"},\"xaxis\":{\"title\":{\"text\":\"Per\\u00edodo\"}},\"yaxis\":{\"title\":{\"text\":\"Receita\"}}},                        {\"responsive\": true}                    ).then(function(){\n",
              "                            \n",
              "var gd = document.getElementById('4c71a18c-e8ed-4a07-961e-4b611375327a');\n",
              "var x = new MutationObserver(function (mutations, observer) {{\n",
              "        var display = window.getComputedStyle(gd).display;\n",
              "        if (!display || display === 'none') {{\n",
              "            console.log([gd, 'removed!']);\n",
              "            Plotly.purge(gd);\n",
              "            observer.disconnect();\n",
              "        }}\n",
              "}});\n",
              "\n",
              "// Listen for the removal of the full notebook cells\n",
              "var notebookContainer = gd.closest('#notebook-container');\n",
              "if (notebookContainer) {{\n",
              "    x.observe(notebookContainer, {childList: true});\n",
              "}}\n",
              "\n",
              "// Listen for the clearing of the current output cell\n",
              "var outputEl = gd.closest('.output');\n",
              "if (outputEl) {{\n",
              "    x.observe(outputEl, {childList: true});\n",
              "}}\n",
              "\n",
              "                        })                };                            </script>        </div>\n",
              "</body>\n",
              "</html>"
            ]
          },
          "metadata": {}
        }
      ]
    },
    {
      "cell_type": "markdown",
      "source": [
        "Note, que no primeiro semestre de 2015, a receita gerada foi abaixo da média. Já no segundo semestre foi o oposto. Os meses atingiram e ultrapassaram a média de $ 95k, mantendo uma tendência por 11 meses. \n",
        "Após esse período, o último dado gerado (Julho/2016) apresenta uma queda brusca da receita gerada. O que causa curiosidade a descobrir o que levou essa queda brusca e repentina ? Falência? Mudança de hábidos do consumidor? Concorrência? Alta nos produtos?"
      ],
      "metadata": {
        "id": "3BOWO-ifWwIx"
      }
    },
    {
      "cell_type": "markdown",
      "source": [
        "Destacando o maior e o menor valor da receita em 2015-2016. A função max() retorna o item com o valor mais alto. A função min() retorna o item com o valor mais baixo."
      ],
      "metadata": {
        "id": "HKhem4e3WAii"
      }
    },
    {
      "cell_type": "code",
      "source": [
        "# Calculando o valor máximo das vendas_por_mes, representada pela variável maximo_de_vendas\n",
        "maximo_de_vendas = vendas_por_mes.values.max()\n",
        "\n",
        "# Exibindo o valor\n",
        "print(maximo_de_vendas)"
      ],
      "metadata": {
        "colab": {
          "base_uri": "https://localhost:8080/"
        },
        "id": "y0ijjcraWQG9",
        "outputId": "70c9cc26-ebd2-4806-dfcb-8f011c4d3202"
      },
      "execution_count": 129,
      "outputs": [
        {
          "output_type": "stream",
          "name": "stdout",
          "text": [
            "183515.0\n"
          ]
        }
      ]
    },
    {
      "cell_type": "markdown",
      "source": [
        "A função zip() retorna um objeto zip, que é um iterador de tuplas onde o primeiro item em cada iterador passado é emparelhado e, em seguida, o segundo item em cada iterador passado é emparelhado. No caso x = vendas_por_mes.values == maximo_de_vendas e y = vendas_por_mes.index. == mes_maximo_de_vendas (será descatado)."
      ],
      "metadata": {
        "id": "7oO1JKIMaFNt"
      }
    },
    {
      "cell_type": "code",
      "source": [
        "# Definindo novas cores(reset)\n",
        "cores = [] \n",
        "\n",
        "# Parâmetro valores vendas por mês e receita\n",
        "for x,y in zip(vendas_por_mes.values, vendas_por_mes.index): \n",
        "  if x == maximo_de_vendas:  # Se x for igual a máxima de vendas\n",
        "       mes_maximo_de_vendas = y   # o mes máximo de vendas será igual a y\n",
        "       cores.append('RoyalBlue') # 'Cores' será destacado em azul\n",
        "\n",
        "  else: # Senão\n",
        "    cores.append('LightGrey')  # os demais valores serão destacados em cinza"
      ],
      "metadata": {
        "id": "HKyaZ2sQYisv"
      },
      "execution_count": 130,
      "outputs": []
    },
    {
      "cell_type": "code",
      "source": [
        "# Exibindo o mês com a maior receita de vendas\n",
        "mes_maximo_de_vendas "
      ],
      "metadata": {
        "colab": {
          "base_uri": "https://localhost:8080/",
          "height": 36
        },
        "id": "rtTpzw2aa1hM",
        "outputId": "6ebaf873-9b1f-4565-a3fe-15ed86e773d6"
      },
      "execution_count": 131,
      "outputs": [
        {
          "output_type": "execute_result",
          "data": {
            "text/plain": [
              "'2015-12'"
            ],
            "application/vnd.google.colaboratory.intrinsic+json": {
              "type": "string"
            }
          },
          "metadata": {},
          "execution_count": 131
        }
      ]
    },
    {
      "cell_type": "code",
      "source": [
        "# Exibindo a lista [cores] que serão plotadas\n",
        "cores "
      ],
      "metadata": {
        "colab": {
          "base_uri": "https://localhost:8080/"
        },
        "id": "hmghTzfpa5UH",
        "outputId": "9f095d10-7222-4ea7-836b-bf03a5a38ecb"
      },
      "execution_count": 132,
      "outputs": [
        {
          "output_type": "execute_result",
          "data": {
            "text/plain": [
              "['LightGrey',\n",
              " 'LightGrey',\n",
              " 'LightGrey',\n",
              " 'LightGrey',\n",
              " 'LightGrey',\n",
              " 'LightGrey',\n",
              " 'LightGrey',\n",
              " 'LightGrey',\n",
              " 'LightGrey',\n",
              " 'LightGrey',\n",
              " 'LightGrey',\n",
              " 'RoyalBlue',\n",
              " 'LightGrey',\n",
              " 'LightGrey',\n",
              " 'LightGrey',\n",
              " 'LightGrey',\n",
              " 'LightGrey',\n",
              " 'LightGrey',\n",
              " 'LightGrey']"
            ]
          },
          "metadata": {},
          "execution_count": 132
        }
      ]
    },
    {
      "cell_type": "markdown",
      "source": [
        "Gráfico de Barras plotado com destaque de barras"
      ],
      "metadata": {
        "id": "mKF1Ol-Qb1U-"
      }
    },
    {
      "cell_type": "code",
      "source": [
        "# Atribuindo os valores de x e y\n",
        "max_vendas = [go.Bar(x=vendas_por_mes.index,\n",
        "                     y=vendas_por_mes.values,\n",
        "                     marker = {'color': cores, # definindo cores com novos parâmetros\n",
        "                         'line': {'color': '#333', # definindo cor da borda\n",
        "                         'width': 1,}   # definindo espessura da borda \n",
        "                              }                       \n",
        "                    )\n",
        "             ]\n",
        "\n",
        "# Incluindo Título\n",
        "max_fig_layout = go.Layout(title='Receita Mensal 2015-2016 (em k $)', # título do gráfico\n",
        "                           titlefont=dict(size=30), # tamanho da fonte do título\n",
        "                           autosize=True, # auto-ajuste das dimensões do grafico\n",
        "                           yaxis={'title':'Receita'}, # título  eixo y\n",
        "                           xaxis={'title':'Período'}, # título  eixo x\n",
        "                           annotations = [{'text': 'Mês destaque de vendas', # função que gera uma anotação no gráfico\n",
        "                                           'x': mes_maximo_de_vendas, # definindo a posição da anotação eixo x\n",
        "                                           'y': maximo_de_vendas} # definindo a posição da anotação eixo y\n",
        "                                         ] \n",
        "                          )\n",
        "\n",
        "# Definindo objeto figura para print \n",
        "fig1 = go.Figure(data=max_vendas, layout=max_fig_layout)\n",
        "\n",
        "py.iplot(fig1)"
      ],
      "metadata": {
        "colab": {
          "base_uri": "https://localhost:8080/",
          "height": 542
        },
        "id": "M9uTpRHob1xw",
        "outputId": "191a8334-b87f-41de-b883-a2216f8cea08"
      },
      "execution_count": 133,
      "outputs": [
        {
          "output_type": "display_data",
          "data": {
            "text/html": [
              "<html>\n",
              "<head><meta charset=\"utf-8\" /></head>\n",
              "<body>\n",
              "    <div>            <script src=\"https://cdnjs.cloudflare.com/ajax/libs/mathjax/2.7.5/MathJax.js?config=TeX-AMS-MML_SVG\"></script><script type=\"text/javascript\">if (window.MathJax && window.MathJax.Hub && window.MathJax.Hub.Config) {window.MathJax.Hub.Config({SVG: {font: \"STIX-Web\"}});}</script>                <script type=\"text/javascript\">window.PlotlyConfig = {MathJaxConfig: 'local'};</script>\n",
              "        <script src=\"https://cdn.plot.ly/plotly-2.18.2.min.js\"></script>                <div id=\"295677b9-29f1-4d30-9af5-fe3f42d3e5f6\" class=\"plotly-graph-div\" style=\"height:525px; width:100%;\"></div>            <script type=\"text/javascript\">                                    window.PLOTLYENV=window.PLOTLYENV || {};                                    if (document.getElementById(\"295677b9-29f1-4d30-9af5-fe3f42d3e5f6\")) {                    Plotly.newPlot(                        \"295677b9-29f1-4d30-9af5-fe3f42d3e5f6\",                        [{\"marker\":{\"color\":[\"LightGrey\",\"LightGrey\",\"LightGrey\",\"LightGrey\",\"LightGrey\",\"LightGrey\",\"LightGrey\",\"LightGrey\",\"LightGrey\",\"LightGrey\",\"LightGrey\",\"RoyalBlue\",\"LightGrey\",\"LightGrey\",\"LightGrey\",\"LightGrey\",\"LightGrey\",\"LightGrey\",\"LightGrey\"],\"line\":{\"color\":\"#333\",\"width\":1}},\"x\":[\"2015-01\",\"2015-02\",\"2015-03\",\"2015-04\",\"2015-05\",\"2015-06\",\"2015-07\",\"2015-08\",\"2015-09\",\"2015-10\",\"2015-11\",\"2015-12\",\"2016-01\",\"2016-02\",\"2016-03\",\"2016-04\",\"2016-05\",\"2016-06\",\"2016-07\"],\"y\":[13547.0,21858.0,12254.0,19440.0,26033.0,52706.0,96932.0,150808.0,121612.0,120589.0,122323.0,183515.0,176736.0,112815.0,107259.0,132992.0,142105.0,161668.0,36195.0],\"type\":\"bar\"}],                        {\"annotations\":[{\"text\":\"M\\u00eas destaque de vendas\",\"x\":\"2015-12\",\"y\":183515.0}],\"autosize\":true,\"template\":{\"data\":{\"barpolar\":[{\"marker\":{\"line\":{\"color\":\"#E5ECF6\",\"width\":0.5},\"pattern\":{\"fillmode\":\"overlay\",\"size\":10,\"solidity\":0.2}},\"type\":\"barpolar\"}],\"bar\":[{\"error_x\":{\"color\":\"#2a3f5f\"},\"error_y\":{\"color\":\"#2a3f5f\"},\"marker\":{\"line\":{\"color\":\"#E5ECF6\",\"width\":0.5},\"pattern\":{\"fillmode\":\"overlay\",\"size\":10,\"solidity\":0.2}},\"type\":\"bar\"}],\"carpet\":[{\"aaxis\":{\"endlinecolor\":\"#2a3f5f\",\"gridcolor\":\"white\",\"linecolor\":\"white\",\"minorgridcolor\":\"white\",\"startlinecolor\":\"#2a3f5f\"},\"baxis\":{\"endlinecolor\":\"#2a3f5f\",\"gridcolor\":\"white\",\"linecolor\":\"white\",\"minorgridcolor\":\"white\",\"startlinecolor\":\"#2a3f5f\"},\"type\":\"carpet\"}],\"choropleth\":[{\"colorbar\":{\"outlinewidth\":0,\"ticks\":\"\"},\"type\":\"choropleth\"}],\"contourcarpet\":[{\"colorbar\":{\"outlinewidth\":0,\"ticks\":\"\"},\"type\":\"contourcarpet\"}],\"contour\":[{\"colorbar\":{\"outlinewidth\":0,\"ticks\":\"\"},\"colorscale\":[[0.0,\"#0d0887\"],[0.1111111111111111,\"#46039f\"],[0.2222222222222222,\"#7201a8\"],[0.3333333333333333,\"#9c179e\"],[0.4444444444444444,\"#bd3786\"],[0.5555555555555556,\"#d8576b\"],[0.6666666666666666,\"#ed7953\"],[0.7777777777777778,\"#fb9f3a\"],[0.8888888888888888,\"#fdca26\"],[1.0,\"#f0f921\"]],\"type\":\"contour\"}],\"heatmapgl\":[{\"colorbar\":{\"outlinewidth\":0,\"ticks\":\"\"},\"colorscale\":[[0.0,\"#0d0887\"],[0.1111111111111111,\"#46039f\"],[0.2222222222222222,\"#7201a8\"],[0.3333333333333333,\"#9c179e\"],[0.4444444444444444,\"#bd3786\"],[0.5555555555555556,\"#d8576b\"],[0.6666666666666666,\"#ed7953\"],[0.7777777777777778,\"#fb9f3a\"],[0.8888888888888888,\"#fdca26\"],[1.0,\"#f0f921\"]],\"type\":\"heatmapgl\"}],\"heatmap\":[{\"colorbar\":{\"outlinewidth\":0,\"ticks\":\"\"},\"colorscale\":[[0.0,\"#0d0887\"],[0.1111111111111111,\"#46039f\"],[0.2222222222222222,\"#7201a8\"],[0.3333333333333333,\"#9c179e\"],[0.4444444444444444,\"#bd3786\"],[0.5555555555555556,\"#d8576b\"],[0.6666666666666666,\"#ed7953\"],[0.7777777777777778,\"#fb9f3a\"],[0.8888888888888888,\"#fdca26\"],[1.0,\"#f0f921\"]],\"type\":\"heatmap\"}],\"histogram2dcontour\":[{\"colorbar\":{\"outlinewidth\":0,\"ticks\":\"\"},\"colorscale\":[[0.0,\"#0d0887\"],[0.1111111111111111,\"#46039f\"],[0.2222222222222222,\"#7201a8\"],[0.3333333333333333,\"#9c179e\"],[0.4444444444444444,\"#bd3786\"],[0.5555555555555556,\"#d8576b\"],[0.6666666666666666,\"#ed7953\"],[0.7777777777777778,\"#fb9f3a\"],[0.8888888888888888,\"#fdca26\"],[1.0,\"#f0f921\"]],\"type\":\"histogram2dcontour\"}],\"histogram2d\":[{\"colorbar\":{\"outlinewidth\":0,\"ticks\":\"\"},\"colorscale\":[[0.0,\"#0d0887\"],[0.1111111111111111,\"#46039f\"],[0.2222222222222222,\"#7201a8\"],[0.3333333333333333,\"#9c179e\"],[0.4444444444444444,\"#bd3786\"],[0.5555555555555556,\"#d8576b\"],[0.6666666666666666,\"#ed7953\"],[0.7777777777777778,\"#fb9f3a\"],[0.8888888888888888,\"#fdca26\"],[1.0,\"#f0f921\"]],\"type\":\"histogram2d\"}],\"histogram\":[{\"marker\":{\"pattern\":{\"fillmode\":\"overlay\",\"size\":10,\"solidity\":0.2}},\"type\":\"histogram\"}],\"mesh3d\":[{\"colorbar\":{\"outlinewidth\":0,\"ticks\":\"\"},\"type\":\"mesh3d\"}],\"parcoords\":[{\"line\":{\"colorbar\":{\"outlinewidth\":0,\"ticks\":\"\"}},\"type\":\"parcoords\"}],\"pie\":[{\"automargin\":true,\"type\":\"pie\"}],\"scatter3d\":[{\"line\":{\"colorbar\":{\"outlinewidth\":0,\"ticks\":\"\"}},\"marker\":{\"colorbar\":{\"outlinewidth\":0,\"ticks\":\"\"}},\"type\":\"scatter3d\"}],\"scattercarpet\":[{\"marker\":{\"colorbar\":{\"outlinewidth\":0,\"ticks\":\"\"}},\"type\":\"scattercarpet\"}],\"scattergeo\":[{\"marker\":{\"colorbar\":{\"outlinewidth\":0,\"ticks\":\"\"}},\"type\":\"scattergeo\"}],\"scattergl\":[{\"marker\":{\"colorbar\":{\"outlinewidth\":0,\"ticks\":\"\"}},\"type\":\"scattergl\"}],\"scattermapbox\":[{\"marker\":{\"colorbar\":{\"outlinewidth\":0,\"ticks\":\"\"}},\"type\":\"scattermapbox\"}],\"scatterpolargl\":[{\"marker\":{\"colorbar\":{\"outlinewidth\":0,\"ticks\":\"\"}},\"type\":\"scatterpolargl\"}],\"scatterpolar\":[{\"marker\":{\"colorbar\":{\"outlinewidth\":0,\"ticks\":\"\"}},\"type\":\"scatterpolar\"}],\"scatter\":[{\"fillpattern\":{\"fillmode\":\"overlay\",\"size\":10,\"solidity\":0.2},\"type\":\"scatter\"}],\"scatterternary\":[{\"marker\":{\"colorbar\":{\"outlinewidth\":0,\"ticks\":\"\"}},\"type\":\"scatterternary\"}],\"surface\":[{\"colorbar\":{\"outlinewidth\":0,\"ticks\":\"\"},\"colorscale\":[[0.0,\"#0d0887\"],[0.1111111111111111,\"#46039f\"],[0.2222222222222222,\"#7201a8\"],[0.3333333333333333,\"#9c179e\"],[0.4444444444444444,\"#bd3786\"],[0.5555555555555556,\"#d8576b\"],[0.6666666666666666,\"#ed7953\"],[0.7777777777777778,\"#fb9f3a\"],[0.8888888888888888,\"#fdca26\"],[1.0,\"#f0f921\"]],\"type\":\"surface\"}],\"table\":[{\"cells\":{\"fill\":{\"color\":\"#EBF0F8\"},\"line\":{\"color\":\"white\"}},\"header\":{\"fill\":{\"color\":\"#C8D4E3\"},\"line\":{\"color\":\"white\"}},\"type\":\"table\"}]},\"layout\":{\"annotationdefaults\":{\"arrowcolor\":\"#2a3f5f\",\"arrowhead\":0,\"arrowwidth\":1},\"autotypenumbers\":\"strict\",\"coloraxis\":{\"colorbar\":{\"outlinewidth\":0,\"ticks\":\"\"}},\"colorscale\":{\"diverging\":[[0,\"#8e0152\"],[0.1,\"#c51b7d\"],[0.2,\"#de77ae\"],[0.3,\"#f1b6da\"],[0.4,\"#fde0ef\"],[0.5,\"#f7f7f7\"],[0.6,\"#e6f5d0\"],[0.7,\"#b8e186\"],[0.8,\"#7fbc41\"],[0.9,\"#4d9221\"],[1,\"#276419\"]],\"sequential\":[[0.0,\"#0d0887\"],[0.1111111111111111,\"#46039f\"],[0.2222222222222222,\"#7201a8\"],[0.3333333333333333,\"#9c179e\"],[0.4444444444444444,\"#bd3786\"],[0.5555555555555556,\"#d8576b\"],[0.6666666666666666,\"#ed7953\"],[0.7777777777777778,\"#fb9f3a\"],[0.8888888888888888,\"#fdca26\"],[1.0,\"#f0f921\"]],\"sequentialminus\":[[0.0,\"#0d0887\"],[0.1111111111111111,\"#46039f\"],[0.2222222222222222,\"#7201a8\"],[0.3333333333333333,\"#9c179e\"],[0.4444444444444444,\"#bd3786\"],[0.5555555555555556,\"#d8576b\"],[0.6666666666666666,\"#ed7953\"],[0.7777777777777778,\"#fb9f3a\"],[0.8888888888888888,\"#fdca26\"],[1.0,\"#f0f921\"]]},\"colorway\":[\"#636efa\",\"#EF553B\",\"#00cc96\",\"#ab63fa\",\"#FFA15A\",\"#19d3f3\",\"#FF6692\",\"#B6E880\",\"#FF97FF\",\"#FECB52\"],\"font\":{\"color\":\"#2a3f5f\"},\"geo\":{\"bgcolor\":\"white\",\"lakecolor\":\"white\",\"landcolor\":\"#E5ECF6\",\"showlakes\":true,\"showland\":true,\"subunitcolor\":\"white\"},\"hoverlabel\":{\"align\":\"left\"},\"hovermode\":\"closest\",\"mapbox\":{\"style\":\"light\"},\"paper_bgcolor\":\"white\",\"plot_bgcolor\":\"#E5ECF6\",\"polar\":{\"angularaxis\":{\"gridcolor\":\"white\",\"linecolor\":\"white\",\"ticks\":\"\"},\"bgcolor\":\"#E5ECF6\",\"radialaxis\":{\"gridcolor\":\"white\",\"linecolor\":\"white\",\"ticks\":\"\"}},\"scene\":{\"xaxis\":{\"backgroundcolor\":\"#E5ECF6\",\"gridcolor\":\"white\",\"gridwidth\":2,\"linecolor\":\"white\",\"showbackground\":true,\"ticks\":\"\",\"zerolinecolor\":\"white\"},\"yaxis\":{\"backgroundcolor\":\"#E5ECF6\",\"gridcolor\":\"white\",\"gridwidth\":2,\"linecolor\":\"white\",\"showbackground\":true,\"ticks\":\"\",\"zerolinecolor\":\"white\"},\"zaxis\":{\"backgroundcolor\":\"#E5ECF6\",\"gridcolor\":\"white\",\"gridwidth\":2,\"linecolor\":\"white\",\"showbackground\":true,\"ticks\":\"\",\"zerolinecolor\":\"white\"}},\"shapedefaults\":{\"line\":{\"color\":\"#2a3f5f\"}},\"ternary\":{\"aaxis\":{\"gridcolor\":\"white\",\"linecolor\":\"white\",\"ticks\":\"\"},\"baxis\":{\"gridcolor\":\"white\",\"linecolor\":\"white\",\"ticks\":\"\"},\"bgcolor\":\"#E5ECF6\",\"caxis\":{\"gridcolor\":\"white\",\"linecolor\":\"white\",\"ticks\":\"\"}},\"title\":{\"x\":0.05},\"xaxis\":{\"automargin\":true,\"gridcolor\":\"white\",\"linecolor\":\"white\",\"ticks\":\"\",\"title\":{\"standoff\":15},\"zerolinecolor\":\"white\",\"zerolinewidth\":2},\"yaxis\":{\"automargin\":true,\"gridcolor\":\"white\",\"linecolor\":\"white\",\"ticks\":\"\",\"title\":{\"standoff\":15},\"zerolinecolor\":\"white\",\"zerolinewidth\":2}}},\"title\":{\"font\":{\"size\":30},\"text\":\"Receita Mensal 2015-2016 (em k $)\"},\"xaxis\":{\"title\":{\"text\":\"Per\\u00edodo\"}},\"yaxis\":{\"title\":{\"text\":\"Receita\"}}},                        {\"responsive\": true}                    ).then(function(){\n",
              "                            \n",
              "var gd = document.getElementById('295677b9-29f1-4d30-9af5-fe3f42d3e5f6');\n",
              "var x = new MutationObserver(function (mutations, observer) {{\n",
              "        var display = window.getComputedStyle(gd).display;\n",
              "        if (!display || display === 'none') {{\n",
              "            console.log([gd, 'removed!']);\n",
              "            Plotly.purge(gd);\n",
              "            observer.disconnect();\n",
              "        }}\n",
              "}});\n",
              "\n",
              "// Listen for the removal of the full notebook cells\n",
              "var notebookContainer = gd.closest('#notebook-container');\n",
              "if (notebookContainer) {{\n",
              "    x.observe(notebookContainer, {childList: true});\n",
              "}}\n",
              "\n",
              "// Listen for the clearing of the current output cell\n",
              "var outputEl = gd.closest('.output');\n",
              "if (outputEl) {{\n",
              "    x.observe(outputEl, {childList: true});\n",
              "}}\n",
              "\n",
              "                        })                };                            </script>        </div>\n",
              "</body>\n",
              "</html>"
            ]
          },
          "metadata": {}
        }
      ]
    },
    {
      "cell_type": "markdown",
      "source": [
        "O mês campeão de vendas foi dezembro/2015 e foi destacada como mostrado na figura anterior."
      ],
      "metadata": {
        "id": "PuuEy1LjdCD1"
      }
    },
    {
      "cell_type": "code",
      "source": [
        "# Calculando o valor mínimo das vendas_por_mes, representada pela variável minimo_de_vendas\n",
        "minimo_de_vendas = vendas_por_mes.values.min()\n",
        "\n",
        "# Exibindo o valor\n",
        "print(minimo_de_vendas)"
      ],
      "metadata": {
        "colab": {
          "base_uri": "https://localhost:8080/"
        },
        "id": "JiWbOWCGeFBX",
        "outputId": "3897ae32-35f3-4c40-85ac-8f8b09f5b905"
      },
      "execution_count": 134,
      "outputs": [
        {
          "output_type": "stream",
          "name": "stdout",
          "text": [
            "12254.0\n"
          ]
        }
      ]
    },
    {
      "cell_type": "code",
      "source": [
        "# Definindo novas cores(reset)\n",
        "cores = [] \n",
        "\n",
        "# Parâmetro valores vendas por mês e receita\n",
        "for x,y in zip(vendas_por_mes.values, vendas_por_mes.index): \n",
        "  if x == minimo_de_vendas:  # Se x for igual ao mínimo de vendas\n",
        "       mes_minimo_de_vendas = y   # o mes mínimo de vendas será igual a y\n",
        "       cores.append('FireBrick') # 'Cores' será destacado em vermelho\n",
        "\n",
        "  else: # Senão\n",
        "    cores.append('LightGrey')  # os demais valores serão destacados em cinza"
      ],
      "metadata": {
        "id": "UFmv_FkAnJSA"
      },
      "execution_count": 135,
      "outputs": []
    },
    {
      "cell_type": "code",
      "source": [
        "# Exibindo a lista [cores] que serão plotadas\n",
        "cores"
      ],
      "metadata": {
        "colab": {
          "base_uri": "https://localhost:8080/"
        },
        "id": "M4-rvClfnp4y",
        "outputId": "df0ea153-3b3c-4ec3-b254-c191686ff9c0"
      },
      "execution_count": 136,
      "outputs": [
        {
          "output_type": "execute_result",
          "data": {
            "text/plain": [
              "['LightGrey',\n",
              " 'LightGrey',\n",
              " 'FireBrick',\n",
              " 'LightGrey',\n",
              " 'LightGrey',\n",
              " 'LightGrey',\n",
              " 'LightGrey',\n",
              " 'LightGrey',\n",
              " 'LightGrey',\n",
              " 'LightGrey',\n",
              " 'LightGrey',\n",
              " 'LightGrey',\n",
              " 'LightGrey',\n",
              " 'LightGrey',\n",
              " 'LightGrey',\n",
              " 'LightGrey',\n",
              " 'LightGrey',\n",
              " 'LightGrey',\n",
              " 'LightGrey']"
            ]
          },
          "metadata": {},
          "execution_count": 136
        }
      ]
    },
    {
      "cell_type": "code",
      "source": [
        "# Atribuindo os valores de x e y\n",
        "min_vendas = [go.Bar(x=vendas_por_mes.index,\n",
        "                     y=vendas_por_mes.values,\n",
        "                     marker = {'color': cores, # definindo cores com novos parâmetros\n",
        "                         'line': {'color': '#333', # definindo cor da borda\n",
        "                         'width': 1,}   # definindo espessura da borda \n",
        "                              }                       \n",
        "                    )\n",
        "             ]\n",
        "\n",
        "# Incluindo Título\n",
        "min_fig_layout = go.Layout(title='Receita Mensal 2015-2016 (em k $)', # título do gráfico\n",
        "                           titlefont=dict(size=30), # tamanho da fonte do título\n",
        "                           autosize=True, # auto-ajuste das dimensões do grafico\n",
        "                           yaxis={'title':'Receita'}, # título  eixo y\n",
        "                           xaxis={'title':'Período'}, # título  eixo x\n",
        "                           annotations = [{'text': 'Mês pior de vendas', # função que gera uma anotação no gráfico\n",
        "                                           'x': mes_minimo_de_vendas, # definindo a posição da anotação eixo x\n",
        "                                           'y': minimo_de_vendas} # definindo a posição da anotação eixo y\n",
        "                                         ] \n",
        "                          )\n",
        "\n",
        "# Definindo objeto figura para print \n",
        "fig1 = go.Figure(data=min_vendas, layout=min_fig_layout)\n",
        "\n",
        "py.iplot(fig1)"
      ],
      "metadata": {
        "colab": {
          "base_uri": "https://localhost:8080/",
          "height": 542
        },
        "id": "SbXutS4v6bxt",
        "outputId": "a97b47f4-181c-4a78-a1fc-d4f6be67a013"
      },
      "execution_count": 137,
      "outputs": [
        {
          "output_type": "display_data",
          "data": {
            "text/html": [
              "<html>\n",
              "<head><meta charset=\"utf-8\" /></head>\n",
              "<body>\n",
              "    <div>            <script src=\"https://cdnjs.cloudflare.com/ajax/libs/mathjax/2.7.5/MathJax.js?config=TeX-AMS-MML_SVG\"></script><script type=\"text/javascript\">if (window.MathJax && window.MathJax.Hub && window.MathJax.Hub.Config) {window.MathJax.Hub.Config({SVG: {font: \"STIX-Web\"}});}</script>                <script type=\"text/javascript\">window.PlotlyConfig = {MathJaxConfig: 'local'};</script>\n",
              "        <script src=\"https://cdn.plot.ly/plotly-2.18.2.min.js\"></script>                <div id=\"988a4f16-32bb-4719-8c7a-50b503fd9d75\" class=\"plotly-graph-div\" style=\"height:525px; width:100%;\"></div>            <script type=\"text/javascript\">                                    window.PLOTLYENV=window.PLOTLYENV || {};                                    if (document.getElementById(\"988a4f16-32bb-4719-8c7a-50b503fd9d75\")) {                    Plotly.newPlot(                        \"988a4f16-32bb-4719-8c7a-50b503fd9d75\",                        [{\"marker\":{\"color\":[\"LightGrey\",\"LightGrey\",\"FireBrick\",\"LightGrey\",\"LightGrey\",\"LightGrey\",\"LightGrey\",\"LightGrey\",\"LightGrey\",\"LightGrey\",\"LightGrey\",\"LightGrey\",\"LightGrey\",\"LightGrey\",\"LightGrey\",\"LightGrey\",\"LightGrey\",\"LightGrey\",\"LightGrey\"],\"line\":{\"color\":\"#333\",\"width\":1}},\"x\":[\"2015-01\",\"2015-02\",\"2015-03\",\"2015-04\",\"2015-05\",\"2015-06\",\"2015-07\",\"2015-08\",\"2015-09\",\"2015-10\",\"2015-11\",\"2015-12\",\"2016-01\",\"2016-02\",\"2016-03\",\"2016-04\",\"2016-05\",\"2016-06\",\"2016-07\"],\"y\":[13547.0,21858.0,12254.0,19440.0,26033.0,52706.0,96932.0,150808.0,121612.0,120589.0,122323.0,183515.0,176736.0,112815.0,107259.0,132992.0,142105.0,161668.0,36195.0],\"type\":\"bar\"}],                        {\"annotations\":[{\"text\":\"M\\u00eas pior de vendas\",\"x\":\"2015-03\",\"y\":12254.0}],\"autosize\":true,\"template\":{\"data\":{\"barpolar\":[{\"marker\":{\"line\":{\"color\":\"#E5ECF6\",\"width\":0.5},\"pattern\":{\"fillmode\":\"overlay\",\"size\":10,\"solidity\":0.2}},\"type\":\"barpolar\"}],\"bar\":[{\"error_x\":{\"color\":\"#2a3f5f\"},\"error_y\":{\"color\":\"#2a3f5f\"},\"marker\":{\"line\":{\"color\":\"#E5ECF6\",\"width\":0.5},\"pattern\":{\"fillmode\":\"overlay\",\"size\":10,\"solidity\":0.2}},\"type\":\"bar\"}],\"carpet\":[{\"aaxis\":{\"endlinecolor\":\"#2a3f5f\",\"gridcolor\":\"white\",\"linecolor\":\"white\",\"minorgridcolor\":\"white\",\"startlinecolor\":\"#2a3f5f\"},\"baxis\":{\"endlinecolor\":\"#2a3f5f\",\"gridcolor\":\"white\",\"linecolor\":\"white\",\"minorgridcolor\":\"white\",\"startlinecolor\":\"#2a3f5f\"},\"type\":\"carpet\"}],\"choropleth\":[{\"colorbar\":{\"outlinewidth\":0,\"ticks\":\"\"},\"type\":\"choropleth\"}],\"contourcarpet\":[{\"colorbar\":{\"outlinewidth\":0,\"ticks\":\"\"},\"type\":\"contourcarpet\"}],\"contour\":[{\"colorbar\":{\"outlinewidth\":0,\"ticks\":\"\"},\"colorscale\":[[0.0,\"#0d0887\"],[0.1111111111111111,\"#46039f\"],[0.2222222222222222,\"#7201a8\"],[0.3333333333333333,\"#9c179e\"],[0.4444444444444444,\"#bd3786\"],[0.5555555555555556,\"#d8576b\"],[0.6666666666666666,\"#ed7953\"],[0.7777777777777778,\"#fb9f3a\"],[0.8888888888888888,\"#fdca26\"],[1.0,\"#f0f921\"]],\"type\":\"contour\"}],\"heatmapgl\":[{\"colorbar\":{\"outlinewidth\":0,\"ticks\":\"\"},\"colorscale\":[[0.0,\"#0d0887\"],[0.1111111111111111,\"#46039f\"],[0.2222222222222222,\"#7201a8\"],[0.3333333333333333,\"#9c179e\"],[0.4444444444444444,\"#bd3786\"],[0.5555555555555556,\"#d8576b\"],[0.6666666666666666,\"#ed7953\"],[0.7777777777777778,\"#fb9f3a\"],[0.8888888888888888,\"#fdca26\"],[1.0,\"#f0f921\"]],\"type\":\"heatmapgl\"}],\"heatmap\":[{\"colorbar\":{\"outlinewidth\":0,\"ticks\":\"\"},\"colorscale\":[[0.0,\"#0d0887\"],[0.1111111111111111,\"#46039f\"],[0.2222222222222222,\"#7201a8\"],[0.3333333333333333,\"#9c179e\"],[0.4444444444444444,\"#bd3786\"],[0.5555555555555556,\"#d8576b\"],[0.6666666666666666,\"#ed7953\"],[0.7777777777777778,\"#fb9f3a\"],[0.8888888888888888,\"#fdca26\"],[1.0,\"#f0f921\"]],\"type\":\"heatmap\"}],\"histogram2dcontour\":[{\"colorbar\":{\"outlinewidth\":0,\"ticks\":\"\"},\"colorscale\":[[0.0,\"#0d0887\"],[0.1111111111111111,\"#46039f\"],[0.2222222222222222,\"#7201a8\"],[0.3333333333333333,\"#9c179e\"],[0.4444444444444444,\"#bd3786\"],[0.5555555555555556,\"#d8576b\"],[0.6666666666666666,\"#ed7953\"],[0.7777777777777778,\"#fb9f3a\"],[0.8888888888888888,\"#fdca26\"],[1.0,\"#f0f921\"]],\"type\":\"histogram2dcontour\"}],\"histogram2d\":[{\"colorbar\":{\"outlinewidth\":0,\"ticks\":\"\"},\"colorscale\":[[0.0,\"#0d0887\"],[0.1111111111111111,\"#46039f\"],[0.2222222222222222,\"#7201a8\"],[0.3333333333333333,\"#9c179e\"],[0.4444444444444444,\"#bd3786\"],[0.5555555555555556,\"#d8576b\"],[0.6666666666666666,\"#ed7953\"],[0.7777777777777778,\"#fb9f3a\"],[0.8888888888888888,\"#fdca26\"],[1.0,\"#f0f921\"]],\"type\":\"histogram2d\"}],\"histogram\":[{\"marker\":{\"pattern\":{\"fillmode\":\"overlay\",\"size\":10,\"solidity\":0.2}},\"type\":\"histogram\"}],\"mesh3d\":[{\"colorbar\":{\"outlinewidth\":0,\"ticks\":\"\"},\"type\":\"mesh3d\"}],\"parcoords\":[{\"line\":{\"colorbar\":{\"outlinewidth\":0,\"ticks\":\"\"}},\"type\":\"parcoords\"}],\"pie\":[{\"automargin\":true,\"type\":\"pie\"}],\"scatter3d\":[{\"line\":{\"colorbar\":{\"outlinewidth\":0,\"ticks\":\"\"}},\"marker\":{\"colorbar\":{\"outlinewidth\":0,\"ticks\":\"\"}},\"type\":\"scatter3d\"}],\"scattercarpet\":[{\"marker\":{\"colorbar\":{\"outlinewidth\":0,\"ticks\":\"\"}},\"type\":\"scattercarpet\"}],\"scattergeo\":[{\"marker\":{\"colorbar\":{\"outlinewidth\":0,\"ticks\":\"\"}},\"type\":\"scattergeo\"}],\"scattergl\":[{\"marker\":{\"colorbar\":{\"outlinewidth\":0,\"ticks\":\"\"}},\"type\":\"scattergl\"}],\"scattermapbox\":[{\"marker\":{\"colorbar\":{\"outlinewidth\":0,\"ticks\":\"\"}},\"type\":\"scattermapbox\"}],\"scatterpolargl\":[{\"marker\":{\"colorbar\":{\"outlinewidth\":0,\"ticks\":\"\"}},\"type\":\"scatterpolargl\"}],\"scatterpolar\":[{\"marker\":{\"colorbar\":{\"outlinewidth\":0,\"ticks\":\"\"}},\"type\":\"scatterpolar\"}],\"scatter\":[{\"fillpattern\":{\"fillmode\":\"overlay\",\"size\":10,\"solidity\":0.2},\"type\":\"scatter\"}],\"scatterternary\":[{\"marker\":{\"colorbar\":{\"outlinewidth\":0,\"ticks\":\"\"}},\"type\":\"scatterternary\"}],\"surface\":[{\"colorbar\":{\"outlinewidth\":0,\"ticks\":\"\"},\"colorscale\":[[0.0,\"#0d0887\"],[0.1111111111111111,\"#46039f\"],[0.2222222222222222,\"#7201a8\"],[0.3333333333333333,\"#9c179e\"],[0.4444444444444444,\"#bd3786\"],[0.5555555555555556,\"#d8576b\"],[0.6666666666666666,\"#ed7953\"],[0.7777777777777778,\"#fb9f3a\"],[0.8888888888888888,\"#fdca26\"],[1.0,\"#f0f921\"]],\"type\":\"surface\"}],\"table\":[{\"cells\":{\"fill\":{\"color\":\"#EBF0F8\"},\"line\":{\"color\":\"white\"}},\"header\":{\"fill\":{\"color\":\"#C8D4E3\"},\"line\":{\"color\":\"white\"}},\"type\":\"table\"}]},\"layout\":{\"annotationdefaults\":{\"arrowcolor\":\"#2a3f5f\",\"arrowhead\":0,\"arrowwidth\":1},\"autotypenumbers\":\"strict\",\"coloraxis\":{\"colorbar\":{\"outlinewidth\":0,\"ticks\":\"\"}},\"colorscale\":{\"diverging\":[[0,\"#8e0152\"],[0.1,\"#c51b7d\"],[0.2,\"#de77ae\"],[0.3,\"#f1b6da\"],[0.4,\"#fde0ef\"],[0.5,\"#f7f7f7\"],[0.6,\"#e6f5d0\"],[0.7,\"#b8e186\"],[0.8,\"#7fbc41\"],[0.9,\"#4d9221\"],[1,\"#276419\"]],\"sequential\":[[0.0,\"#0d0887\"],[0.1111111111111111,\"#46039f\"],[0.2222222222222222,\"#7201a8\"],[0.3333333333333333,\"#9c179e\"],[0.4444444444444444,\"#bd3786\"],[0.5555555555555556,\"#d8576b\"],[0.6666666666666666,\"#ed7953\"],[0.7777777777777778,\"#fb9f3a\"],[0.8888888888888888,\"#fdca26\"],[1.0,\"#f0f921\"]],\"sequentialminus\":[[0.0,\"#0d0887\"],[0.1111111111111111,\"#46039f\"],[0.2222222222222222,\"#7201a8\"],[0.3333333333333333,\"#9c179e\"],[0.4444444444444444,\"#bd3786\"],[0.5555555555555556,\"#d8576b\"],[0.6666666666666666,\"#ed7953\"],[0.7777777777777778,\"#fb9f3a\"],[0.8888888888888888,\"#fdca26\"],[1.0,\"#f0f921\"]]},\"colorway\":[\"#636efa\",\"#EF553B\",\"#00cc96\",\"#ab63fa\",\"#FFA15A\",\"#19d3f3\",\"#FF6692\",\"#B6E880\",\"#FF97FF\",\"#FECB52\"],\"font\":{\"color\":\"#2a3f5f\"},\"geo\":{\"bgcolor\":\"white\",\"lakecolor\":\"white\",\"landcolor\":\"#E5ECF6\",\"showlakes\":true,\"showland\":true,\"subunitcolor\":\"white\"},\"hoverlabel\":{\"align\":\"left\"},\"hovermode\":\"closest\",\"mapbox\":{\"style\":\"light\"},\"paper_bgcolor\":\"white\",\"plot_bgcolor\":\"#E5ECF6\",\"polar\":{\"angularaxis\":{\"gridcolor\":\"white\",\"linecolor\":\"white\",\"ticks\":\"\"},\"bgcolor\":\"#E5ECF6\",\"radialaxis\":{\"gridcolor\":\"white\",\"linecolor\":\"white\",\"ticks\":\"\"}},\"scene\":{\"xaxis\":{\"backgroundcolor\":\"#E5ECF6\",\"gridcolor\":\"white\",\"gridwidth\":2,\"linecolor\":\"white\",\"showbackground\":true,\"ticks\":\"\",\"zerolinecolor\":\"white\"},\"yaxis\":{\"backgroundcolor\":\"#E5ECF6\",\"gridcolor\":\"white\",\"gridwidth\":2,\"linecolor\":\"white\",\"showbackground\":true,\"ticks\":\"\",\"zerolinecolor\":\"white\"},\"zaxis\":{\"backgroundcolor\":\"#E5ECF6\",\"gridcolor\":\"white\",\"gridwidth\":2,\"linecolor\":\"white\",\"showbackground\":true,\"ticks\":\"\",\"zerolinecolor\":\"white\"}},\"shapedefaults\":{\"line\":{\"color\":\"#2a3f5f\"}},\"ternary\":{\"aaxis\":{\"gridcolor\":\"white\",\"linecolor\":\"white\",\"ticks\":\"\"},\"baxis\":{\"gridcolor\":\"white\",\"linecolor\":\"white\",\"ticks\":\"\"},\"bgcolor\":\"#E5ECF6\",\"caxis\":{\"gridcolor\":\"white\",\"linecolor\":\"white\",\"ticks\":\"\"}},\"title\":{\"x\":0.05},\"xaxis\":{\"automargin\":true,\"gridcolor\":\"white\",\"linecolor\":\"white\",\"ticks\":\"\",\"title\":{\"standoff\":15},\"zerolinecolor\":\"white\",\"zerolinewidth\":2},\"yaxis\":{\"automargin\":true,\"gridcolor\":\"white\",\"linecolor\":\"white\",\"ticks\":\"\",\"title\":{\"standoff\":15},\"zerolinecolor\":\"white\",\"zerolinewidth\":2}}},\"title\":{\"font\":{\"size\":30},\"text\":\"Receita Mensal 2015-2016 (em k $)\"},\"xaxis\":{\"title\":{\"text\":\"Per\\u00edodo\"}},\"yaxis\":{\"title\":{\"text\":\"Receita\"}}},                        {\"responsive\": true}                    ).then(function(){\n",
              "                            \n",
              "var gd = document.getElementById('988a4f16-32bb-4719-8c7a-50b503fd9d75');\n",
              "var x = new MutationObserver(function (mutations, observer) {{\n",
              "        var display = window.getComputedStyle(gd).display;\n",
              "        if (!display || display === 'none') {{\n",
              "            console.log([gd, 'removed!']);\n",
              "            Plotly.purge(gd);\n",
              "            observer.disconnect();\n",
              "        }}\n",
              "}});\n",
              "\n",
              "// Listen for the removal of the full notebook cells\n",
              "var notebookContainer = gd.closest('#notebook-container');\n",
              "if (notebookContainer) {{\n",
              "    x.observe(notebookContainer, {childList: true});\n",
              "}}\n",
              "\n",
              "// Listen for the clearing of the current output cell\n",
              "var outputEl = gd.closest('.output');\n",
              "if (outputEl) {{\n",
              "    x.observe(outputEl, {childList: true});\n",
              "}}\n",
              "\n",
              "                        })                };                            </script>        </div>\n",
              "</body>\n",
              "</html>"
            ]
          },
          "metadata": {}
        }
      ]
    },
    {
      "cell_type": "markdown",
      "source": [
        "O mês pior de vendas foi março/2015 e foi destacada como mostrado na figura anterior."
      ],
      "metadata": {
        "id": "0_vKzZ59hBXe"
      }
    },
    {
      "cell_type": "markdown",
      "source": [
        "# Histograma "
      ],
      "metadata": {
        "id": "GcmqmrWNUQA5"
      }
    },
    {
      "cell_type": "markdown",
      "source": [
        "Histograma é uma espécie de gráfico de barras que demonstra uma distribuição de frequências. No histograma, a base de cada uma das barras representa uma classe, no caso a Idade dos consumidores e a altura representa a frequência absoluta com que o valor de cada classe ocorre."
      ],
      "metadata": {
        "id": "ORNnTCO-h8Eq"
      }
    },
    {
      "cell_type": "code",
      "source": [
        "# Histograma usando Pyplot Librarie\n",
        "# Plotando o histograma Idade dos Clientes\n",
        "data = [go.Histogram(x=customer['Idade Cliente'])]\n",
        "\n",
        "# Incluindo título do gráfico e legenda\n",
        "layout = go.Layout(title='Idade Dos Cosumidores', # Título do gráfico\n",
        "                   titlefont=dict(size=30), # tamanho do título\n",
        "                   yaxis={'title':'Frequência'}, # título do eixo y\n",
        "                   xaxis={'title':'Idade Clientes'}, # título do eixo x\n",
        "                  ) \n",
        "\n",
        "# Definindo objeto figura para print \n",
        "fig = go.Figure(data=data, layout=layout)\n",
        "\n",
        "py.iplot(fig)"
      ],
      "metadata": {
        "colab": {
          "base_uri": "https://localhost:8080/",
          "height": 0
        },
        "id": "BrAvCyoVPoDv",
        "outputId": "4657b1e4-57bf-4356-e5a6-3a26b3516999"
      },
      "execution_count": 112,
      "outputs": [
        {
          "output_type": "display_data",
          "data": {
            "text/html": [
              "<html>\n",
              "<head><meta charset=\"utf-8\" /></head>\n",
              "<body>\n",
              "    <div>            <script src=\"https://cdnjs.cloudflare.com/ajax/libs/mathjax/2.7.5/MathJax.js?config=TeX-AMS-MML_SVG\"></script><script type=\"text/javascript\">if (window.MathJax && window.MathJax.Hub && window.MathJax.Hub.Config) {window.MathJax.Hub.Config({SVG: {font: \"STIX-Web\"}});}</script>                <script type=\"text/javascript\">window.PlotlyConfig = {MathJaxConfig: 'local'};</script>\n",
              "        <script src=\"https://cdn.plot.ly/plotly-2.18.2.min.js\"></script>                <div id=\"1e245221-8c75-4128-ab1e-4f190b041b56\" class=\"plotly-graph-div\" style=\"height:525px; width:100%;\"></div>            <script type=\"text/javascript\">                                    window.PLOTLYENV=window.PLOTLYENV || {};                                    if (document.getElementById(\"1e245221-8c75-4128-ab1e-4f190b041b56\")) {                    Plotly.newPlot(                        \"1e245221-8c75-4128-ab1e-4f190b041b56\",                        [{\"x\":[19.0,39.0,30.0,31.0,33.0,27.0,34.0,44.0,34.0,22.0,22.0,22.0,24.0,24.0,27.0,32.0,32.0,34.0,64.0,34.0,52.0,43.0,28.0,28.0,35.0,35.0,35.0,28.0,32.0,32.0,27.0,27.0,52.0,52.0,61.0,61.0,61.0,36.0,42.0,53.0,22.0,39.0,39.0,19.0,28.0,44.0,45.0,26.0,27.0,35.0,28.0,36.0,54.0,54.0,28.0,32.0,24.0,47.0,62.0,43.0,31.0,27.0,32.0,34.0,34.0,56.0,31.0,32.0,38.0,38.0,41.0,41.0,41.0,41.0,43.0,43.0,37.0,37.0,20.0,40.0,33.0,40.0,34.0,18.0,34.0,34.0,28.0,28.0,28.0,28.0,38.0,38.0,35.0,35.0,35.0,38.0,28.0,32.0,56.0,18.0,34.0,59.0,59.0,59.0,58.0,24.0,34.0,47.0,18.0,29.0,39.0,39.0,53.0,27.0,42.0,42.0,42.0,27.0,44.0,28.0,42.0,42.0,42.0,64.0,23.0,23.0,27.0,45.0,40.0,40.0,40.0,40.0,24.0,39.0,22.0,31.0,31.0,39.0,39.0,39.0,32.0,28.0,50.0,19.0,36.0,61.0,61.0,28.0,61.0,61.0,39.0,39.0,39.0,39.0,40.0,32.0,40.0,40.0,40.0,35.0,36.0,36.0,36.0,30.0,30.0,36.0,40.0,40.0,34.0,34.0,21.0,36.0,36.0,30.0,30.0,30.0,34.0,55.0,55.0,28.0,40.0,28.0,40.0,28.0,28.0,32.0,45.0,42.0,24.0,39.0,39.0,39.0,39.0,39.0,39.0,39.0,28.0,28.0,24.0,37.0,37.0,37.0,32.0,37.0,24.0,24.0,24.0,53.0,53.0,53.0,32.0,53.0,32.0,36.0,36.0,36.0,36.0,44.0,33.0,35.0,36.0,33.0,24.0,46.0,46.0,46.0,41.0,41.0,46.0,34.0,38.0,38.0,38.0,50.0,50.0,45.0,45.0,45.0,36.0,36.0,36.0,44.0,34.0,54.0,54.0,38.0,27.0,38.0,27.0,37.0,24.0,27.0,43.0,43.0,22.0,52.0,52.0,43.0,33.0,33.0,57.0,32.0,38.0,38.0,39.0,38.0,37.0,37.0,30.0,37.0,40.0,40.0,39.0,33.0,33.0,46.0,35.0,43.0,28.0,28.0,32.0,28.0,34.0,41.0,46.0,38.0,33.0,27.0,27.0,34.0,34.0,38.0,43.0,33.0,38.0,32.0,42.0,42.0,42.0,33.0,26.0,26.0,53.0,53.0,33.0,31.0,38.0,38.0,32.0,37.0,34.0,37.0,34.0,59.0,34.0,29.0,39.0,39.0,63.0,24.0,24.0,63.0,63.0,34.0,46.0,34.0,43.0,43.0,39.0,45.0,39.0,36.0,24.0,31.0,27.0,27.0,43.0,27.0,43.0,27.0,27.0,27.0,27.0,28.0,37.0,39.0,39.0,45.0,38.0,38.0,39.0,39.0,39.0,46.0,40.0,40.0,40.0,39.0,24.0,36.0,36.0,39.0,23.0,37.0,38.0,53.0,36.0,53.0,36.0,34.0,34.0,57.0,42.0,18.0,18.0,43.0,32.0,26.0,52.0,24.0,24.0,24.0,24.0,24.0,29.0,52.0,38.0,28.0,60.0,60.0,44.0,24.0,38.0,31.0,30.0,31.0,30.0,30.0,30.0,30.0,55.0,26.0,55.0,37.0,38.0,37.0,37.0,37.0,35.0,40.0,28.0,49.0,43.0,29.0,43.0,43.0,43.0,60.0,36.0,35.0,35.0,50.0,50.0,50.0,50.0,27.0,27.0,32.0,43.0,38.0,28.0,43.0,34.0,59.0,59.0,24.0,54.0,54.0,54.0,39.0,38.0,64.0,64.0,64.0,53.0,53.0,31.0,64.0,30.0,30.0,30.0,35.0,34.0,64.0,28.0,28.0,28.0,28.0,37.0,38.0,38.0,34.0,28.0,17.0,40.0,53.0,39.0,36.0,26.0,32.0,36.0,36.0,32.0,33.0,33.0,33.0,44.0,53.0,42.0,53.0,32.0,32.0,43.0,24.0,30.0,32.0,29.0,29.0,29.0,45.0,22.0,22.0,23.0,28.0,46.0,46.0,46.0,60.0,31.0,32.0,45.0,45.0,41.0,45.0,45.0,41.0,26.0,30.0,40.0,53.0,40.0,40.0,40.0,37.0,34.0,28.0,37.0,37.0,28.0,24.0,26.0,26.0,26.0,39.0,26.0,28.0,28.0,26.0,26.0,44.0,30.0,30.0,35.0,46.0,27.0,19.0,39.0,41.0,41.0,39.0,39.0,26.0,41.0,26.0,41.0,58.0,26.0,29.0,56.0,26.0,30.0,53.0,36.0,53.0,36.0,28.0,32.0,39.0,39.0,39.0,39.0,40.0,32.0,53.0,39.0,39.0,39.0,38.0,53.0,35.0,35.0,53.0,53.0,53.0,47.0,34.0,26.0,34.0,24.0,24.0,24.0,32.0,33.0,33.0,44.0,44.0,32.0,37.0,30.0,30.0,38.0,38.0,38.0,39.0,58.0,58.0,45.0,31.0,24.0,22.0,22.0,22.0,55.0,55.0,47.0,17.0,40.0,47.0,34.0,45.0,45.0,45.0,45.0,40.0,40.0,35.0,39.0,39.0,39.0,32.0,39.0,49.0,32.0,27.0,32.0,43.0,32.0,26.0,32.0,26.0,32.0,45.0,45.0,45.0,34.0,34.0,27.0,32.0,34.0,36.0,45.0,37.0,38.0,45.0,36.0,36.0,39.0,39.0,32.0,39.0,38.0,34.0,34.0,34.0,24.0,38.0,34.0,33.0,55.0,26.0,26.0,55.0,38.0,53.0,39.0,28.0,24.0,38.0,27.0,38.0,32.0,32.0,42.0,40.0,46.0,36.0,20.0,43.0,43.0,53.0,27.0,53.0,42.0,42.0,42.0,57.0,50.0,32.0,32.0,32.0,32.0,32.0,43.0,43.0,36.0,36.0,42.0,40.0,42.0,40.0,34.0,34.0,34.0,36.0,44.0,45.0,31.0,27.0,50.0,54.0,27.0,23.0,20.0,32.0,32.0,32.0,53.0,28.0,64.0,64.0,64.0,22.0,22.0,42.0,42.0,42.0,43.0,43.0,50.0,38.0,37.0,34.0,43.0,22.0,22.0,39.0,44.0,30.0,30.0,30.0,44.0,43.0,39.0,39.0,39.0,49.0,43.0,43.0,44.0,38.0,35.0,32.0,42.0,42.0,61.0,61.0,44.0,34.0,45.0,40.0,30.0,24.0,37.0,24.0,36.0,36.0,36.0,34.0,30.0,30.0,36.0,34.0,38.0,33.0,34.0,34.0,35.0,37.0,58.0,31.0,36.0,36.0,42.0,39.0,42.0,39.0,40.0,33.0,40.0,28.0,28.0,37.0,53.0,58.0,53.0,53.0,53.0,42.0,40.0,61.0,54.0,32.0,37.0,30.0,32.0,32.0,27.0,30.0,28.0,28.0,30.0,53.0,30.0,30.0,31.0,34.0,47.0,32.0,43.0,37.0,34.0,52.0,33.0,44.0,52.0,52.0,52.0,28.0,38.0,48.0,47.0,39.0,23.0,37.0,55.0,55.0,22.0,35.0,22.0,45.0,34.0,51.0,51.0,34.0,39.0,39.0,27.0,32.0,52.0,41.0,41.0,52.0,26.0,39.0,33.0,27.0,39.0,39.0,33.0,39.0,45.0,32.0,28.0,42.0,27.0,27.0,30.0,30.0,52.0,46.0,46.0,32.0,52.0,32.0,39.0,39.0,32.0,39.0,52.0,27.0,24.0,24.0,27.0,39.0,24.0,38.0,38.0,52.0,24.0,38.0,56.0,30.0,19.0,44.0,44.0,44.0,30.0,27.0,39.0,63.0,63.0,30.0,30.0,45.0,45.0,47.0,53.0,39.0,39.0,41.0,41.0,38.0,35.0,35.0,46.0,41.0,62.0,20.0,32.0,62.0,33.0,34.0,33.0,32.0,37.0,33.0,28.0,45.0,27.0,27.0,40.0,27.0,38.0,29.0,23.0,35.0,35.0,26.0,26.0,36.0,27.0,40.0,40.0,40.0,40.0,22.0,27.0,39.0,59.0,39.0,59.0,43.0,28.0,43.0,43.0,42.0,39.0,45.0,39.0,39.0,39.0,39.0,31.0,39.0,32.0,43.0,39.0,39.0,39.0,39.0,63.0,63.0,34.0,22.0,22.0,34.0,34.0,34.0,47.0,35.0,35.0,28.0,28.0,21.0,64.0,52.0,64.0,64.0,32.0,32.0,38.0,32.0,48.0,28.0,26.0,24.0,24.0,22.0,37.0,22.0,36.0,38.0,34.0,41.0,41.0,32.0,34.0,34.0,41.0,57.0,44.0,38.0,39.0,39.0,39.0,39.0,53.0,24.0,33.0,38.0,33.0,24.0,34.0,34.0,34.0,34.0,53.0,53.0,53.0,39.0,32.0,46.0,46.0,46.0,63.0,34.0,34.0,33.0,33.0,49.0,33.0,37.0,36.0,33.0,53.0,27.0,43.0,23.0,42.0,45.0,45.0,45.0,50.0,45.0,43.0,44.0,38.0,26.0,38.0,38.0,44.0,46.0,35.0,38.0,35.0,38.0,34.0,44.0,54.0,30.0,35.0,38.0,44.0,29.0,55.0,40.0,55.0,29.0,55.0,40.0,38.0,34.0,34.0,24.0,39.0,27.0,41.0,41.0,41.0,40.0,32.0,38.0,32.0,38.0,38.0,39.0,57.0,32.0,32.0,32.0,30.0,30.0,36.0,24.0,40.0,27.0,50.0,50.0,39.0,53.0,39.0,32.0,30.0,36.0,24.0,32.0,67.0,31.0,53.0,31.0,53.0,53.0,53.0,34.0,34.0,51.0,31.0,33.0,64.0,38.0,46.0,41.0,41.0,38.0,27.0,38.0,27.0,40.0,40.0,22.0,35.0,38.0,31.0,38.0,33.0,40.0,23.0,21.0,32.0,58.0,28.0,28.0,32.0,64.0,64.0,64.0,64.0,35.0,38.0,38.0,45.0,24.0,40.0,33.0,33.0,52.0,33.0,58.0,26.0,27.0,32.0,42.0,42.0,42.0,26.0,39.0,39.0,53.0,42.0,40.0,40.0,39.0,52.0,52.0,27.0,38.0,27.0,34.0,28.0,34.0,34.0,38.0,44.0,35.0,35.0,35.0,22.0,22.0,65.0,22.0,37.0,40.0,22.0,34.0,34.0,45.0,45.0,48.0,42.0,41.0,34.0,34.0,34.0,34.0,34.0,32.0,32.0,41.0,64.0,34.0,34.0,34.0,35.0,29.0,32.0,32.0,33.0,38.0,52.0,32.0,32.0,58.0,32.0,35.0,53.0,58.0,33.0,33.0,39.0,39.0,39.0,45.0,45.0,45.0,45.0,35.0,28.0,28.0,28.0,30.0,51.0,41.0,46.0,46.0,46.0,50.0,40.0,36.0,36.0,50.0,50.0,37.0,40.0,54.0,54.0,23.0,41.0,35.0,40.0,35.0,35.0,35.0,53.0,38.0,38.0,38.0,28.0,38.0,42.0,50.0,24.0,27.0,22.0,22.0,32.0,35.0,22.0,40.0,38.0,54.0,38.0,36.0,51.0,41.0,41.0,41.0,33.0,42.0,42.0,42.0,42.0,33.0,44.0,44.0,30.0,38.0,33.0,33.0,39.0,39.0,18.0,35.0,33.0,59.0,59.0,59.0,59.0,34.0,34.0,34.0,36.0,36.0,36.0,36.0,41.0,41.0,28.0,41.0,34.0,44.0,34.0,40.0,40.0,40.0,28.0,28.0,64.0,37.0,37.0,37.0,37.0,35.0,35.0,38.0,38.0,46.0,46.0,35.0,46.0,46.0,46.0,42.0,35.0,35.0,42.0,46.0,26.0,26.0,61.0,61.0,61.0,61.0,28.0,61.0,61.0,61.0,19.0,36.0,36.0,43.0,19.0,30.0,36.0,30.0,35.0,30.0,35.0,35.0,35.0,35.0,30.0,35.0,40.0,28.0,35.0,30.0,38.0,30.0,30.0,49.0,33.0,38.0,38.0,38.0,38.0,18.0,33.0,33.0,43.0,43.0,22.0,40.0,33.0,22.0,22.0,27.0,29.0,28.0,33.0,39.0,39.0,52.0,34.0,26.0,38.0,28.0,40.0,40.0,40.0,53.0,43.0,43.0,59.0,35.0,43.0,37.0,40.0,27.0,40.0,30.0,32.0,31.0,27.0,39.0,39.0,53.0,30.0,53.0,34.0,34.0,25.0,34.0,30.0,43.0,22.0,28.0,28.0,33.0,28.0,28.0,28.0,28.0,28.0,38.0,38.0,36.0,34.0,34.0,40.0,40.0,33.0,37.0,36.0,37.0,19.0,36.0,49.0,28.0,28.0,36.0,41.0,41.0,64.0,61.0,53.0,43.0,34.0,50.0,50.0,34.0,32.0,40.0,40.0,40.0,42.0,36.0,35.0,35.0,26.0,40.0,40.0,40.0,40.0,38.0,38.0,36.0,36.0,36.0,39.0,19.0,38.0,38.0,29.0,29.0,29.0,29.0,59.0,59.0,30.0,30.0,59.0,62.0,20.0,28.0,31.0,27.0,42.0,38.0,42.0,42.0,31.0,38.0,24.0,42.0,59.0,24.0,30.0,58.0,58.0,33.0,43.0,40.0,40.0,43.0,58.0,58.0,28.0,34.0,52.0,34.0,37.0,37.0,52.0,54.0,39.0,39.0,54.0,38.0,38.0,38.0,26.0,29.0,26.0,28.0,29.0,29.0,30.0,49.0,30.0,30.0,58.0,30.0,58.0,53.0,53.0,28.0,48.0,28.0,24.0,35.0,24.0,30.0,35.0,24.0,24.0,30.0,27.0,40.0,51.0,43.0,40.0,43.0,43.0,43.0,30.0,44.0,36.0,40.0,43.0,24.0,24.0,24.0,27.0,60.0,46.0,28.0,28.0,46.0,30.0,30.0,39.0,39.0,42.0,42.0,55.0,36.0,36.0,46.0,31.0,46.0,34.0,42.0,42.0,42.0,42.0,42.0,36.0,32.0,30.0,32.0,32.0,28.0,37.0,37.0,37.0,29.0,32.0,32.0,28.0,28.0,26.0,28.0,28.0,27.0,39.0,35.0,38.0,53.0,53.0,38.0,53.0,53.0,38.0,38.0,38.0,32.0,32.0,32.0,36.0,45.0,34.0,34.0,35.0,32.0,32.0,26.0,26.0,26.0,26.0,38.0,38.0,27.0,30.0,30.0,30.0,58.0,58.0,38.0,26.0,62.0,38.0,38.0,26.0,26.0,27.0,27.0,24.0,27.0,27.0,27.0,27.0,27.0,24.0,24.0,24.0,24.0,24.0,64.0,42.0,19.0,26.0,27.0,63.0,27.0,53.0,53.0,53.0,43.0,38.0,38.0,38.0,39.0,39.0,38.0,30.0,45.0,45.0,27.0,44.0,44.0,24.0,36.0,37.0,53.0,39.0,39.0,39.0,22.0,53.0,32.0,30.0,32.0,21.0,22.0,22.0,36.0,48.0,36.0,36.0,40.0,53.0,40.0,34.0,38.0,30.0,29.0,61.0,61.0,32.0,32.0,38.0,46.0,27.0,46.0,35.0,31.0,31.0,41.0,41.0,41.0,36.0,53.0,36.0,53.0,53.0,24.0,50.0,53.0,50.0,54.0,39.0,54.0,39.0,37.0,39.0,28.0,30.0,28.0,28.0,31.0,31.0,49.0,35.0,34.0,28.0,58.0,58.0,35.0,39.0,40.0,62.0,40.0,34.0,60.0,40.0,39.0,39.0,30.0,45.0,45.0,32.0,45.0,23.0,32.0,52.0,40.0,40.0,32.0,32.0,27.0,39.0,58.0,32.0,41.0,20.0,41.0,28.0,33.0,33.0,33.0,32.0,52.0,29.0,61.0,41.0,53.0,53.0,53.0,53.0,53.0,27.0,35.0,44.0,37.0,31.0,30.0,42.0,39.0,39.0,49.0,42.0,42.0,34.0,30.0,37.0,53.0,37.0,45.0,45.0,39.0,65.0,65.0,39.0,65.0,32.0,39.0,39.0,20.0,39.0,30.0,37.0,37.0,31.0,31.0,36.0,36.0,38.0,38.0,47.0,32.0,32.0,32.0,24.0,41.0,38.0,26.0,32.0,33.0,26.0,32.0,59.0,59.0,59.0,19.0,40.0,40.0,40.0,40.0,19.0,19.0,45.0,22.0,35.0,35.0,46.0,53.0,46.0,18.0,35.0,42.0,50.0,42.0,30.0,30.0,46.0,30.0,50.0,27.0,50.0,50.0,39.0,39.0,39.0,33.0,33.0,30.0,27.0,27.0,30.0,42.0,64.0,36.0,37.0,45.0,36.0,34.0,34.0,34.0,53.0,53.0,38.0,53.0,38.0,32.0,28.0,30.0,30.0,30.0,36.0,32.0,30.0,38.0,27.0,27.0,41.0,20.0,38.0,38.0,26.0,26.0,26.0,22.0,22.0,36.0,35.0,35.0,35.0,54.0,54.0,23.0,36.0,24.0,53.0,19.0,53.0,40.0,40.0,53.0,40.0,40.0,32.0,38.0,33.0,33.0,33.0,24.0,33.0,35.0,43.0,43.0,43.0,28.0,28.0,38.0,28.0,40.0,40.0,24.0,24.0,57.0,37.0,34.0,18.0,32.0,32.0,32.0,47.0,39.0,39.0,36.0,36.0,46.0,50.0,30.0,64.0,37.0,64.0,30.0,54.0,54.0,54.0,30.0,42.0,39.0,39.0,39.0,26.0,39.0,57.0,57.0,64.0,43.0,43.0,43.0,23.0,32.0,44.0,44.0,28.0,30.0,42.0,43.0,27.0,33.0,33.0,44.0,44.0,53.0,32.0,27.0,53.0,38.0,27.0,53.0,53.0,53.0,30.0,27.0,27.0,27.0,23.0,23.0,30.0,44.0,30.0,40.0,40.0,53.0,53.0,53.0,28.0,28.0,27.0,27.0,24.0,24.0,24.0,24.0,34.0,22.0,22.0,53.0,20.0,37.0,53.0,22.0,24.0,53.0,36.0,36.0,36.0,53.0,23.0,24.0,32.0,38.0,28.0,39.0,39.0,39.0,28.0,23.0,33.0,34.0,34.0,38.0,36.0,43.0,34.0,34.0,47.0,42.0,42.0,36.0,40.0,39.0,31.0,39.0,24.0,34.0,41.0,41.0,57.0,57.0,66.0,34.0,40.0,40.0,35.0,35.0,40.0,64.0,30.0,35.0,64.0,38.0,38.0,60.0,46.0,46.0,66.0,46.0,66.0,46.0,66.0,43.0,30.0,34.0,39.0,39.0,34.0,34.0,32.0,30.0,52.0,30.0,32.0,52.0,20.0,27.0,35.0,35.0,39.0,35.0,22.0,58.0,22.0,40.0,44.0,44.0,30.0,39.0,39.0,34.0,34.0,39.0,44.0,71.0,71.0,31.0,58.0,25.0,44.0,60.0,32.0,28.0,28.0,40.0,63.0,65.0,38.0,26.0,26.0,33.0,29.0,42.0,42.0,29.0,19.0,19.0,29.0,37.0,35.0,35.0,24.0,19.0,33.0,24.0,40.0,45.0,24.0,24.0,24.0,24.0,24.0,39.0,39.0,35.0,36.0,36.0,30.0,30.0,24.0,44.0,39.0,40.0,38.0,38.0,24.0,38.0,34.0,59.0,40.0,40.0,33.0,24.0,38.0,24.0,33.0,32.0,34.0,34.0,34.0,59.0,33.0,33.0,33.0,44.0,44.0,32.0,32.0,32.0,32.0,59.0,34.0,34.0,40.0,32.0,40.0,64.0,64.0,64.0,27.0,28.0,47.0,44.0,39.0,52.0,39.0,44.0,34.0,34.0,34.0,28.0,28.0,41.0,40.0,40.0,41.0,58.0,58.0,34.0,40.0,40.0,24.0,24.0,24.0,58.0,40.0,40.0,26.0,39.0,40.0,40.0,33.0,22.0,22.0,22.0,26.0,22.0,38.0,38.0,40.0,40.0,67.0,39.0,39.0,39.0,39.0,40.0,35.0,60.0,59.0,30.0,34.0,28.0,28.0,28.0,53.0,33.0,31.0,30.0,30.0,34.0,33.0,33.0,42.0,46.0,46.0,59.0,43.0,59.0,34.0,43.0,38.0,38.0,32.0,32.0,53.0,32.0,32.0,53.0,53.0,27.0,27.0,27.0,40.0,53.0,53.0,53.0,28.0,19.0,38.0,38.0,38.0,44.0,44.0,17.0,52.0,52.0,27.0,52.0,17.0,56.0,56.0,56.0,56.0,39.0,24.0,60.0,24.0,24.0,33.0,32.0,63.0,63.0,63.0,50.0,50.0,50.0,50.0,43.0,43.0,36.0,24.0,29.0,43.0,43.0,43.0,45.0,43.0,36.0,49.0,24.0,30.0,30.0,30.0,53.0,53.0,53.0,40.0,32.0,32.0,32.0,32.0,20.0,30.0,20.0,20.0,20.0,20.0,30.0,30.0,46.0,46.0,34.0,40.0,22.0,34.0,34.0,34.0,34.0,31.0,28.0,28.0,28.0,38.0,38.0,38.0,40.0,30.0,30.0,44.0,38.0,42.0,42.0,22.0,22.0,20.0,22.0,38.0,30.0,30.0,20.0,30.0,43.0,59.0,59.0,27.0,52.0,52.0,52.0,27.0,28.0,28.0,59.0,27.0,27.0,59.0,20.0,20.0,32.0,20.0,20.0,53.0,53.0,36.0,20.0,53.0,24.0,26.0,26.0,26.0,22.0,24.0,32.0,38.0,19.0,32.0,53.0,53.0,27.0,34.0,41.0,41.0,43.0,19.0,24.0,24.0,33.0,44.0,44.0,44.0,33.0,33.0,28.0,38.0,28.0,43.0,45.0,43.0,43.0,34.0,33.0,36.0,33.0,34.0,26.0,39.0,35.0,40.0,40.0,27.0,38.0,35.0,38.0,35.0,19.0,20.0,23.0,34.0,34.0,34.0,20.0,20.0,36.0,37.0,37.0,38.0,28.0,46.0,50.0,28.0,53.0,31.0,27.0,34.0,34.0,34.0,39.0,27.0,45.0,38.0,33.0,27.0,33.0,30.0,24.0,24.0,32.0,34.0,32.0,24.0,43.0,32.0,43.0,43.0,32.0,43.0,38.0,38.0,38.0,32.0,32.0,32.0,39.0,20.0,37.0,37.0,37.0,24.0,30.0,30.0,57.0,22.0,29.0,30.0,30.0,30.0,22.0,42.0,42.0,17.0,46.0,46.0,46.0,23.0,28.0,28.0,28.0,28.0,28.0,28.0,23.0],\"type\":\"histogram\"}],                        {\"template\":{\"data\":{\"barpolar\":[{\"marker\":{\"line\":{\"color\":\"#E5ECF6\",\"width\":0.5},\"pattern\":{\"fillmode\":\"overlay\",\"size\":10,\"solidity\":0.2}},\"type\":\"barpolar\"}],\"bar\":[{\"error_x\":{\"color\":\"#2a3f5f\"},\"error_y\":{\"color\":\"#2a3f5f\"},\"marker\":{\"line\":{\"color\":\"#E5ECF6\",\"width\":0.5},\"pattern\":{\"fillmode\":\"overlay\",\"size\":10,\"solidity\":0.2}},\"type\":\"bar\"}],\"carpet\":[{\"aaxis\":{\"endlinecolor\":\"#2a3f5f\",\"gridcolor\":\"white\",\"linecolor\":\"white\",\"minorgridcolor\":\"white\",\"startlinecolor\":\"#2a3f5f\"},\"baxis\":{\"endlinecolor\":\"#2a3f5f\",\"gridcolor\":\"white\",\"linecolor\":\"white\",\"minorgridcolor\":\"white\",\"startlinecolor\":\"#2a3f5f\"},\"type\":\"carpet\"}],\"choropleth\":[{\"colorbar\":{\"outlinewidth\":0,\"ticks\":\"\"},\"type\":\"choropleth\"}],\"contourcarpet\":[{\"colorbar\":{\"outlinewidth\":0,\"ticks\":\"\"},\"type\":\"contourcarpet\"}],\"contour\":[{\"colorbar\":{\"outlinewidth\":0,\"ticks\":\"\"},\"colorscale\":[[0.0,\"#0d0887\"],[0.1111111111111111,\"#46039f\"],[0.2222222222222222,\"#7201a8\"],[0.3333333333333333,\"#9c179e\"],[0.4444444444444444,\"#bd3786\"],[0.5555555555555556,\"#d8576b\"],[0.6666666666666666,\"#ed7953\"],[0.7777777777777778,\"#fb9f3a\"],[0.8888888888888888,\"#fdca26\"],[1.0,\"#f0f921\"]],\"type\":\"contour\"}],\"heatmapgl\":[{\"colorbar\":{\"outlinewidth\":0,\"ticks\":\"\"},\"colorscale\":[[0.0,\"#0d0887\"],[0.1111111111111111,\"#46039f\"],[0.2222222222222222,\"#7201a8\"],[0.3333333333333333,\"#9c179e\"],[0.4444444444444444,\"#bd3786\"],[0.5555555555555556,\"#d8576b\"],[0.6666666666666666,\"#ed7953\"],[0.7777777777777778,\"#fb9f3a\"],[0.8888888888888888,\"#fdca26\"],[1.0,\"#f0f921\"]],\"type\":\"heatmapgl\"}],\"heatmap\":[{\"colorbar\":{\"outlinewidth\":0,\"ticks\":\"\"},\"colorscale\":[[0.0,\"#0d0887\"],[0.1111111111111111,\"#46039f\"],[0.2222222222222222,\"#7201a8\"],[0.3333333333333333,\"#9c179e\"],[0.4444444444444444,\"#bd3786\"],[0.5555555555555556,\"#d8576b\"],[0.6666666666666666,\"#ed7953\"],[0.7777777777777778,\"#fb9f3a\"],[0.8888888888888888,\"#fdca26\"],[1.0,\"#f0f921\"]],\"type\":\"heatmap\"}],\"histogram2dcontour\":[{\"colorbar\":{\"outlinewidth\":0,\"ticks\":\"\"},\"colorscale\":[[0.0,\"#0d0887\"],[0.1111111111111111,\"#46039f\"],[0.2222222222222222,\"#7201a8\"],[0.3333333333333333,\"#9c179e\"],[0.4444444444444444,\"#bd3786\"],[0.5555555555555556,\"#d8576b\"],[0.6666666666666666,\"#ed7953\"],[0.7777777777777778,\"#fb9f3a\"],[0.8888888888888888,\"#fdca26\"],[1.0,\"#f0f921\"]],\"type\":\"histogram2dcontour\"}],\"histogram2d\":[{\"colorbar\":{\"outlinewidth\":0,\"ticks\":\"\"},\"colorscale\":[[0.0,\"#0d0887\"],[0.1111111111111111,\"#46039f\"],[0.2222222222222222,\"#7201a8\"],[0.3333333333333333,\"#9c179e\"],[0.4444444444444444,\"#bd3786\"],[0.5555555555555556,\"#d8576b\"],[0.6666666666666666,\"#ed7953\"],[0.7777777777777778,\"#fb9f3a\"],[0.8888888888888888,\"#fdca26\"],[1.0,\"#f0f921\"]],\"type\":\"histogram2d\"}],\"histogram\":[{\"marker\":{\"pattern\":{\"fillmode\":\"overlay\",\"size\":10,\"solidity\":0.2}},\"type\":\"histogram\"}],\"mesh3d\":[{\"colorbar\":{\"outlinewidth\":0,\"ticks\":\"\"},\"type\":\"mesh3d\"}],\"parcoords\":[{\"line\":{\"colorbar\":{\"outlinewidth\":0,\"ticks\":\"\"}},\"type\":\"parcoords\"}],\"pie\":[{\"automargin\":true,\"type\":\"pie\"}],\"scatter3d\":[{\"line\":{\"colorbar\":{\"outlinewidth\":0,\"ticks\":\"\"}},\"marker\":{\"colorbar\":{\"outlinewidth\":0,\"ticks\":\"\"}},\"type\":\"scatter3d\"}],\"scattercarpet\":[{\"marker\":{\"colorbar\":{\"outlinewidth\":0,\"ticks\":\"\"}},\"type\":\"scattercarpet\"}],\"scattergeo\":[{\"marker\":{\"colorbar\":{\"outlinewidth\":0,\"ticks\":\"\"}},\"type\":\"scattergeo\"}],\"scattergl\":[{\"marker\":{\"colorbar\":{\"outlinewidth\":0,\"ticks\":\"\"}},\"type\":\"scattergl\"}],\"scattermapbox\":[{\"marker\":{\"colorbar\":{\"outlinewidth\":0,\"ticks\":\"\"}},\"type\":\"scattermapbox\"}],\"scatterpolargl\":[{\"marker\":{\"colorbar\":{\"outlinewidth\":0,\"ticks\":\"\"}},\"type\":\"scatterpolargl\"}],\"scatterpolar\":[{\"marker\":{\"colorbar\":{\"outlinewidth\":0,\"ticks\":\"\"}},\"type\":\"scatterpolar\"}],\"scatter\":[{\"fillpattern\":{\"fillmode\":\"overlay\",\"size\":10,\"solidity\":0.2},\"type\":\"scatter\"}],\"scatterternary\":[{\"marker\":{\"colorbar\":{\"outlinewidth\":0,\"ticks\":\"\"}},\"type\":\"scatterternary\"}],\"surface\":[{\"colorbar\":{\"outlinewidth\":0,\"ticks\":\"\"},\"colorscale\":[[0.0,\"#0d0887\"],[0.1111111111111111,\"#46039f\"],[0.2222222222222222,\"#7201a8\"],[0.3333333333333333,\"#9c179e\"],[0.4444444444444444,\"#bd3786\"],[0.5555555555555556,\"#d8576b\"],[0.6666666666666666,\"#ed7953\"],[0.7777777777777778,\"#fb9f3a\"],[0.8888888888888888,\"#fdca26\"],[1.0,\"#f0f921\"]],\"type\":\"surface\"}],\"table\":[{\"cells\":{\"fill\":{\"color\":\"#EBF0F8\"},\"line\":{\"color\":\"white\"}},\"header\":{\"fill\":{\"color\":\"#C8D4E3\"},\"line\":{\"color\":\"white\"}},\"type\":\"table\"}]},\"layout\":{\"annotationdefaults\":{\"arrowcolor\":\"#2a3f5f\",\"arrowhead\":0,\"arrowwidth\":1},\"autotypenumbers\":\"strict\",\"coloraxis\":{\"colorbar\":{\"outlinewidth\":0,\"ticks\":\"\"}},\"colorscale\":{\"diverging\":[[0,\"#8e0152\"],[0.1,\"#c51b7d\"],[0.2,\"#de77ae\"],[0.3,\"#f1b6da\"],[0.4,\"#fde0ef\"],[0.5,\"#f7f7f7\"],[0.6,\"#e6f5d0\"],[0.7,\"#b8e186\"],[0.8,\"#7fbc41\"],[0.9,\"#4d9221\"],[1,\"#276419\"]],\"sequential\":[[0.0,\"#0d0887\"],[0.1111111111111111,\"#46039f\"],[0.2222222222222222,\"#7201a8\"],[0.3333333333333333,\"#9c179e\"],[0.4444444444444444,\"#bd3786\"],[0.5555555555555556,\"#d8576b\"],[0.6666666666666666,\"#ed7953\"],[0.7777777777777778,\"#fb9f3a\"],[0.8888888888888888,\"#fdca26\"],[1.0,\"#f0f921\"]],\"sequentialminus\":[[0.0,\"#0d0887\"],[0.1111111111111111,\"#46039f\"],[0.2222222222222222,\"#7201a8\"],[0.3333333333333333,\"#9c179e\"],[0.4444444444444444,\"#bd3786\"],[0.5555555555555556,\"#d8576b\"],[0.6666666666666666,\"#ed7953\"],[0.7777777777777778,\"#fb9f3a\"],[0.8888888888888888,\"#fdca26\"],[1.0,\"#f0f921\"]]},\"colorway\":[\"#636efa\",\"#EF553B\",\"#00cc96\",\"#ab63fa\",\"#FFA15A\",\"#19d3f3\",\"#FF6692\",\"#B6E880\",\"#FF97FF\",\"#FECB52\"],\"font\":{\"color\":\"#2a3f5f\"},\"geo\":{\"bgcolor\":\"white\",\"lakecolor\":\"white\",\"landcolor\":\"#E5ECF6\",\"showlakes\":true,\"showland\":true,\"subunitcolor\":\"white\"},\"hoverlabel\":{\"align\":\"left\"},\"hovermode\":\"closest\",\"mapbox\":{\"style\":\"light\"},\"paper_bgcolor\":\"white\",\"plot_bgcolor\":\"#E5ECF6\",\"polar\":{\"angularaxis\":{\"gridcolor\":\"white\",\"linecolor\":\"white\",\"ticks\":\"\"},\"bgcolor\":\"#E5ECF6\",\"radialaxis\":{\"gridcolor\":\"white\",\"linecolor\":\"white\",\"ticks\":\"\"}},\"scene\":{\"xaxis\":{\"backgroundcolor\":\"#E5ECF6\",\"gridcolor\":\"white\",\"gridwidth\":2,\"linecolor\":\"white\",\"showbackground\":true,\"ticks\":\"\",\"zerolinecolor\":\"white\"},\"yaxis\":{\"backgroundcolor\":\"#E5ECF6\",\"gridcolor\":\"white\",\"gridwidth\":2,\"linecolor\":\"white\",\"showbackground\":true,\"ticks\":\"\",\"zerolinecolor\":\"white\"},\"zaxis\":{\"backgroundcolor\":\"#E5ECF6\",\"gridcolor\":\"white\",\"gridwidth\":2,\"linecolor\":\"white\",\"showbackground\":true,\"ticks\":\"\",\"zerolinecolor\":\"white\"}},\"shapedefaults\":{\"line\":{\"color\":\"#2a3f5f\"}},\"ternary\":{\"aaxis\":{\"gridcolor\":\"white\",\"linecolor\":\"white\",\"ticks\":\"\"},\"baxis\":{\"gridcolor\":\"white\",\"linecolor\":\"white\",\"ticks\":\"\"},\"bgcolor\":\"#E5ECF6\",\"caxis\":{\"gridcolor\":\"white\",\"linecolor\":\"white\",\"ticks\":\"\"}},\"title\":{\"x\":0.05},\"xaxis\":{\"automargin\":true,\"gridcolor\":\"white\",\"linecolor\":\"white\",\"ticks\":\"\",\"title\":{\"standoff\":15},\"zerolinecolor\":\"white\",\"zerolinewidth\":2},\"yaxis\":{\"automargin\":true,\"gridcolor\":\"white\",\"linecolor\":\"white\",\"ticks\":\"\",\"title\":{\"standoff\":15},\"zerolinecolor\":\"white\",\"zerolinewidth\":2}}},\"title\":{\"font\":{\"size\":30},\"text\":\"Idade Dos Cosumidores\"},\"xaxis\":{\"title\":{\"text\":\"Idade Clientes\"}},\"yaxis\":{\"title\":{\"text\":\"Frequ\\u00eancia\"}}},                        {\"responsive\": true}                    ).then(function(){\n",
              "                            \n",
              "var gd = document.getElementById('1e245221-8c75-4128-ab1e-4f190b041b56');\n",
              "var x = new MutationObserver(function (mutations, observer) {{\n",
              "        var display = window.getComputedStyle(gd).display;\n",
              "        if (!display || display === 'none') {{\n",
              "            console.log([gd, 'removed!']);\n",
              "            Plotly.purge(gd);\n",
              "            observer.disconnect();\n",
              "        }}\n",
              "}});\n",
              "\n",
              "// Listen for the removal of the full notebook cells\n",
              "var notebookContainer = gd.closest('#notebook-container');\n",
              "if (notebookContainer) {{\n",
              "    x.observe(notebookContainer, {childList: true});\n",
              "}}\n",
              "\n",
              "// Listen for the clearing of the current output cell\n",
              "var outputEl = gd.closest('.output');\n",
              "if (outputEl) {{\n",
              "    x.observe(outputEl, {childList: true});\n",
              "}}\n",
              "\n",
              "                        })                };                            </script>        </div>\n",
              "</body>\n",
              "</html>"
            ]
          },
          "metadata": {}
        }
      ]
    },
    {
      "cell_type": "markdown",
      "source": [
        "# Gráfico de Pizza"
      ],
      "metadata": {
        "id": "RMc5WSVZP0WQ"
      }
    },
    {
      "cell_type": "markdown",
      "source": [
        "Mostraremos a visualização de um valor relativo de cada categoria estabelecida em relação a um todo. Neste caso, a proporção de clientes que consomem os produtos por sexo."
      ],
      "metadata": {
        "id": "uqut0TmUivo3"
      }
    },
    {
      "cell_type": "code",
      "source": [
        "# Analisar quais são valores que contém em coluna específicas\n",
        "sexo_customer = customer['Sexo'].value_counts()\n",
        "\n",
        "print(sexo_customer)"
      ],
      "metadata": {
        "id": "7nzQtUlxQVBk",
        "colab": {
          "base_uri": "https://localhost:8080/"
        },
        "outputId": "66c3f7ef-bdb7-4a3b-fc94-31cfd9ab6462"
      },
      "execution_count": 113,
      "outputs": [
        {
          "output_type": "stream",
          "name": "stdout",
          "text": [
            "M    1324\n",
            "F    1250\n",
            "Name: Sexo, dtype: int64\n"
          ]
        }
      ]
    },
    {
      "cell_type": "code",
      "source": [
        "# Definindo cores para o gráfico\n",
        "cores = ['#B0C4DE', '#DDA0DD'] \n",
        "\n",
        "# Construção do Gráfico de Pizza\n",
        "trace = go.Pie(labels = sexo_customer.index, # labels/rótulos (Feminino/Masculino)\n",
        "               values = sexo_customer.values, # valores\n",
        "               marker = {'colors': cores, # inserindo as cores\n",
        "                         'line': {'color': '#000000', 'width': 1} # definindo cor da borda e espessura da borda\n",
        "                        }\n",
        "              )\n",
        "# Armazenando gráfico em uma lista\n",
        "data = [trace]\n",
        "\n",
        "# Layout\n",
        "layout = go.Layout(title='Cosumidores por Sexo', # título do gráfico\n",
        "                   titlefont=dict(size=30), # tamanho do título\n",
        "                   autosize=True # auto-ajuste das dimensões do gráfico\n",
        "                   )\n",
        "\n",
        "# Definindo objeto figura para print \n",
        "fig = go.Figure(data=data, layout=layout)\n",
        "\n",
        "py.iplot(fig)"
      ],
      "metadata": {
        "colab": {
          "base_uri": "https://localhost:8080/",
          "height": 0
        },
        "id": "uDpzmMddInEN",
        "outputId": "b894de9d-b34d-4b3b-fde5-ef67c3236485"
      },
      "execution_count": 114,
      "outputs": [
        {
          "output_type": "display_data",
          "data": {
            "text/html": [
              "<html>\n",
              "<head><meta charset=\"utf-8\" /></head>\n",
              "<body>\n",
              "    <div>            <script src=\"https://cdnjs.cloudflare.com/ajax/libs/mathjax/2.7.5/MathJax.js?config=TeX-AMS-MML_SVG\"></script><script type=\"text/javascript\">if (window.MathJax && window.MathJax.Hub && window.MathJax.Hub.Config) {window.MathJax.Hub.Config({SVG: {font: \"STIX-Web\"}});}</script>                <script type=\"text/javascript\">window.PlotlyConfig = {MathJaxConfig: 'local'};</script>\n",
              "        <script src=\"https://cdn.plot.ly/plotly-2.18.2.min.js\"></script>                <div id=\"fd8b7aa0-b3e1-4af1-abdb-85336532c6b5\" class=\"plotly-graph-div\" style=\"height:525px; width:100%;\"></div>            <script type=\"text/javascript\">                                    window.PLOTLYENV=window.PLOTLYENV || {};                                    if (document.getElementById(\"fd8b7aa0-b3e1-4af1-abdb-85336532c6b5\")) {                    Plotly.newPlot(                        \"fd8b7aa0-b3e1-4af1-abdb-85336532c6b5\",                        [{\"labels\":[\"M\",\"F\"],\"marker\":{\"colors\":[\"#B0C4DE\",\"#DDA0DD\"],\"line\":{\"color\":\"#000000\",\"width\":1}},\"values\":[1324,1250],\"type\":\"pie\"}],                        {\"autosize\":true,\"template\":{\"data\":{\"barpolar\":[{\"marker\":{\"line\":{\"color\":\"#E5ECF6\",\"width\":0.5},\"pattern\":{\"fillmode\":\"overlay\",\"size\":10,\"solidity\":0.2}},\"type\":\"barpolar\"}],\"bar\":[{\"error_x\":{\"color\":\"#2a3f5f\"},\"error_y\":{\"color\":\"#2a3f5f\"},\"marker\":{\"line\":{\"color\":\"#E5ECF6\",\"width\":0.5},\"pattern\":{\"fillmode\":\"overlay\",\"size\":10,\"solidity\":0.2}},\"type\":\"bar\"}],\"carpet\":[{\"aaxis\":{\"endlinecolor\":\"#2a3f5f\",\"gridcolor\":\"white\",\"linecolor\":\"white\",\"minorgridcolor\":\"white\",\"startlinecolor\":\"#2a3f5f\"},\"baxis\":{\"endlinecolor\":\"#2a3f5f\",\"gridcolor\":\"white\",\"linecolor\":\"white\",\"minorgridcolor\":\"white\",\"startlinecolor\":\"#2a3f5f\"},\"type\":\"carpet\"}],\"choropleth\":[{\"colorbar\":{\"outlinewidth\":0,\"ticks\":\"\"},\"type\":\"choropleth\"}],\"contourcarpet\":[{\"colorbar\":{\"outlinewidth\":0,\"ticks\":\"\"},\"type\":\"contourcarpet\"}],\"contour\":[{\"colorbar\":{\"outlinewidth\":0,\"ticks\":\"\"},\"colorscale\":[[0.0,\"#0d0887\"],[0.1111111111111111,\"#46039f\"],[0.2222222222222222,\"#7201a8\"],[0.3333333333333333,\"#9c179e\"],[0.4444444444444444,\"#bd3786\"],[0.5555555555555556,\"#d8576b\"],[0.6666666666666666,\"#ed7953\"],[0.7777777777777778,\"#fb9f3a\"],[0.8888888888888888,\"#fdca26\"],[1.0,\"#f0f921\"]],\"type\":\"contour\"}],\"heatmapgl\":[{\"colorbar\":{\"outlinewidth\":0,\"ticks\":\"\"},\"colorscale\":[[0.0,\"#0d0887\"],[0.1111111111111111,\"#46039f\"],[0.2222222222222222,\"#7201a8\"],[0.3333333333333333,\"#9c179e\"],[0.4444444444444444,\"#bd3786\"],[0.5555555555555556,\"#d8576b\"],[0.6666666666666666,\"#ed7953\"],[0.7777777777777778,\"#fb9f3a\"],[0.8888888888888888,\"#fdca26\"],[1.0,\"#f0f921\"]],\"type\":\"heatmapgl\"}],\"heatmap\":[{\"colorbar\":{\"outlinewidth\":0,\"ticks\":\"\"},\"colorscale\":[[0.0,\"#0d0887\"],[0.1111111111111111,\"#46039f\"],[0.2222222222222222,\"#7201a8\"],[0.3333333333333333,\"#9c179e\"],[0.4444444444444444,\"#bd3786\"],[0.5555555555555556,\"#d8576b\"],[0.6666666666666666,\"#ed7953\"],[0.7777777777777778,\"#fb9f3a\"],[0.8888888888888888,\"#fdca26\"],[1.0,\"#f0f921\"]],\"type\":\"heatmap\"}],\"histogram2dcontour\":[{\"colorbar\":{\"outlinewidth\":0,\"ticks\":\"\"},\"colorscale\":[[0.0,\"#0d0887\"],[0.1111111111111111,\"#46039f\"],[0.2222222222222222,\"#7201a8\"],[0.3333333333333333,\"#9c179e\"],[0.4444444444444444,\"#bd3786\"],[0.5555555555555556,\"#d8576b\"],[0.6666666666666666,\"#ed7953\"],[0.7777777777777778,\"#fb9f3a\"],[0.8888888888888888,\"#fdca26\"],[1.0,\"#f0f921\"]],\"type\":\"histogram2dcontour\"}],\"histogram2d\":[{\"colorbar\":{\"outlinewidth\":0,\"ticks\":\"\"},\"colorscale\":[[0.0,\"#0d0887\"],[0.1111111111111111,\"#46039f\"],[0.2222222222222222,\"#7201a8\"],[0.3333333333333333,\"#9c179e\"],[0.4444444444444444,\"#bd3786\"],[0.5555555555555556,\"#d8576b\"],[0.6666666666666666,\"#ed7953\"],[0.7777777777777778,\"#fb9f3a\"],[0.8888888888888888,\"#fdca26\"],[1.0,\"#f0f921\"]],\"type\":\"histogram2d\"}],\"histogram\":[{\"marker\":{\"pattern\":{\"fillmode\":\"overlay\",\"size\":10,\"solidity\":0.2}},\"type\":\"histogram\"}],\"mesh3d\":[{\"colorbar\":{\"outlinewidth\":0,\"ticks\":\"\"},\"type\":\"mesh3d\"}],\"parcoords\":[{\"line\":{\"colorbar\":{\"outlinewidth\":0,\"ticks\":\"\"}},\"type\":\"parcoords\"}],\"pie\":[{\"automargin\":true,\"type\":\"pie\"}],\"scatter3d\":[{\"line\":{\"colorbar\":{\"outlinewidth\":0,\"ticks\":\"\"}},\"marker\":{\"colorbar\":{\"outlinewidth\":0,\"ticks\":\"\"}},\"type\":\"scatter3d\"}],\"scattercarpet\":[{\"marker\":{\"colorbar\":{\"outlinewidth\":0,\"ticks\":\"\"}},\"type\":\"scattercarpet\"}],\"scattergeo\":[{\"marker\":{\"colorbar\":{\"outlinewidth\":0,\"ticks\":\"\"}},\"type\":\"scattergeo\"}],\"scattergl\":[{\"marker\":{\"colorbar\":{\"outlinewidth\":0,\"ticks\":\"\"}},\"type\":\"scattergl\"}],\"scattermapbox\":[{\"marker\":{\"colorbar\":{\"outlinewidth\":0,\"ticks\":\"\"}},\"type\":\"scattermapbox\"}],\"scatterpolargl\":[{\"marker\":{\"colorbar\":{\"outlinewidth\":0,\"ticks\":\"\"}},\"type\":\"scatterpolargl\"}],\"scatterpolar\":[{\"marker\":{\"colorbar\":{\"outlinewidth\":0,\"ticks\":\"\"}},\"type\":\"scatterpolar\"}],\"scatter\":[{\"fillpattern\":{\"fillmode\":\"overlay\",\"size\":10,\"solidity\":0.2},\"type\":\"scatter\"}],\"scatterternary\":[{\"marker\":{\"colorbar\":{\"outlinewidth\":0,\"ticks\":\"\"}},\"type\":\"scatterternary\"}],\"surface\":[{\"colorbar\":{\"outlinewidth\":0,\"ticks\":\"\"},\"colorscale\":[[0.0,\"#0d0887\"],[0.1111111111111111,\"#46039f\"],[0.2222222222222222,\"#7201a8\"],[0.3333333333333333,\"#9c179e\"],[0.4444444444444444,\"#bd3786\"],[0.5555555555555556,\"#d8576b\"],[0.6666666666666666,\"#ed7953\"],[0.7777777777777778,\"#fb9f3a\"],[0.8888888888888888,\"#fdca26\"],[1.0,\"#f0f921\"]],\"type\":\"surface\"}],\"table\":[{\"cells\":{\"fill\":{\"color\":\"#EBF0F8\"},\"line\":{\"color\":\"white\"}},\"header\":{\"fill\":{\"color\":\"#C8D4E3\"},\"line\":{\"color\":\"white\"}},\"type\":\"table\"}]},\"layout\":{\"annotationdefaults\":{\"arrowcolor\":\"#2a3f5f\",\"arrowhead\":0,\"arrowwidth\":1},\"autotypenumbers\":\"strict\",\"coloraxis\":{\"colorbar\":{\"outlinewidth\":0,\"ticks\":\"\"}},\"colorscale\":{\"diverging\":[[0,\"#8e0152\"],[0.1,\"#c51b7d\"],[0.2,\"#de77ae\"],[0.3,\"#f1b6da\"],[0.4,\"#fde0ef\"],[0.5,\"#f7f7f7\"],[0.6,\"#e6f5d0\"],[0.7,\"#b8e186\"],[0.8,\"#7fbc41\"],[0.9,\"#4d9221\"],[1,\"#276419\"]],\"sequential\":[[0.0,\"#0d0887\"],[0.1111111111111111,\"#46039f\"],[0.2222222222222222,\"#7201a8\"],[0.3333333333333333,\"#9c179e\"],[0.4444444444444444,\"#bd3786\"],[0.5555555555555556,\"#d8576b\"],[0.6666666666666666,\"#ed7953\"],[0.7777777777777778,\"#fb9f3a\"],[0.8888888888888888,\"#fdca26\"],[1.0,\"#f0f921\"]],\"sequentialminus\":[[0.0,\"#0d0887\"],[0.1111111111111111,\"#46039f\"],[0.2222222222222222,\"#7201a8\"],[0.3333333333333333,\"#9c179e\"],[0.4444444444444444,\"#bd3786\"],[0.5555555555555556,\"#d8576b\"],[0.6666666666666666,\"#ed7953\"],[0.7777777777777778,\"#fb9f3a\"],[0.8888888888888888,\"#fdca26\"],[1.0,\"#f0f921\"]]},\"colorway\":[\"#636efa\",\"#EF553B\",\"#00cc96\",\"#ab63fa\",\"#FFA15A\",\"#19d3f3\",\"#FF6692\",\"#B6E880\",\"#FF97FF\",\"#FECB52\"],\"font\":{\"color\":\"#2a3f5f\"},\"geo\":{\"bgcolor\":\"white\",\"lakecolor\":\"white\",\"landcolor\":\"#E5ECF6\",\"showlakes\":true,\"showland\":true,\"subunitcolor\":\"white\"},\"hoverlabel\":{\"align\":\"left\"},\"hovermode\":\"closest\",\"mapbox\":{\"style\":\"light\"},\"paper_bgcolor\":\"white\",\"plot_bgcolor\":\"#E5ECF6\",\"polar\":{\"angularaxis\":{\"gridcolor\":\"white\",\"linecolor\":\"white\",\"ticks\":\"\"},\"bgcolor\":\"#E5ECF6\",\"radialaxis\":{\"gridcolor\":\"white\",\"linecolor\":\"white\",\"ticks\":\"\"}},\"scene\":{\"xaxis\":{\"backgroundcolor\":\"#E5ECF6\",\"gridcolor\":\"white\",\"gridwidth\":2,\"linecolor\":\"white\",\"showbackground\":true,\"ticks\":\"\",\"zerolinecolor\":\"white\"},\"yaxis\":{\"backgroundcolor\":\"#E5ECF6\",\"gridcolor\":\"white\",\"gridwidth\":2,\"linecolor\":\"white\",\"showbackground\":true,\"ticks\":\"\",\"zerolinecolor\":\"white\"},\"zaxis\":{\"backgroundcolor\":\"#E5ECF6\",\"gridcolor\":\"white\",\"gridwidth\":2,\"linecolor\":\"white\",\"showbackground\":true,\"ticks\":\"\",\"zerolinecolor\":\"white\"}},\"shapedefaults\":{\"line\":{\"color\":\"#2a3f5f\"}},\"ternary\":{\"aaxis\":{\"gridcolor\":\"white\",\"linecolor\":\"white\",\"ticks\":\"\"},\"baxis\":{\"gridcolor\":\"white\",\"linecolor\":\"white\",\"ticks\":\"\"},\"bgcolor\":\"#E5ECF6\",\"caxis\":{\"gridcolor\":\"white\",\"linecolor\":\"white\",\"ticks\":\"\"}},\"title\":{\"x\":0.05},\"xaxis\":{\"automargin\":true,\"gridcolor\":\"white\",\"linecolor\":\"white\",\"ticks\":\"\",\"title\":{\"standoff\":15},\"zerolinecolor\":\"white\",\"zerolinewidth\":2},\"yaxis\":{\"automargin\":true,\"gridcolor\":\"white\",\"linecolor\":\"white\",\"ticks\":\"\",\"title\":{\"standoff\":15},\"zerolinecolor\":\"white\",\"zerolinewidth\":2}}},\"title\":{\"font\":{\"size\":30},\"text\":\"Cosumidores por Sexo\"}},                        {\"responsive\": true}                    ).then(function(){\n",
              "                            \n",
              "var gd = document.getElementById('fd8b7aa0-b3e1-4af1-abdb-85336532c6b5');\n",
              "var x = new MutationObserver(function (mutations, observer) {{\n",
              "        var display = window.getComputedStyle(gd).display;\n",
              "        if (!display || display === 'none') {{\n",
              "            console.log([gd, 'removed!']);\n",
              "            Plotly.purge(gd);\n",
              "            observer.disconnect();\n",
              "        }}\n",
              "}});\n",
              "\n",
              "// Listen for the removal of the full notebook cells\n",
              "var notebookContainer = gd.closest('#notebook-container');\n",
              "if (notebookContainer) {{\n",
              "    x.observe(notebookContainer, {childList: true});\n",
              "}}\n",
              "\n",
              "// Listen for the clearing of the current output cell\n",
              "var outputEl = gd.closest('.output');\n",
              "if (outputEl) {{\n",
              "    x.observe(outputEl, {childList: true});\n",
              "}}\n",
              "\n",
              "                        })                };                            </script>        </div>\n",
              "</body>\n",
              "</html>"
            ]
          },
          "metadata": {}
        }
      ]
    },
    {
      "cell_type": "markdown",
      "source": [
        "Os consumidores são quase proporcionalmente muito semelhantes em questão ao sexo"
      ],
      "metadata": {
        "id": "dfdMtNPnlI7E"
      }
    },
    {
      "cell_type": "markdown",
      "source": [
        "# Gráfico de Barras"
      ],
      "metadata": {
        "id": "a1aUfmZ7QeOU"
      }
    },
    {
      "cell_type": "markdown",
      "source": [
        "Distinção de países geradores da receita"
      ],
      "metadata": {
        "id": "9gT1ANpan6V2"
      }
    },
    {
      "cell_type": "code",
      "source": [
        "# Criar a variável vendas_por_paises: que é a soma da receita gerada ['Receita'] pelos países ['País']\n",
        "vendas_por_paises = customer.groupby(by='País').Receita.sum()/1e3"
      ],
      "metadata": {
        "id": "3kkFgS34-iY5"
      },
      "execution_count": 115,
      "outputs": []
    },
    {
      "cell_type": "code",
      "source": [
        "# Exibindo os valores\n",
        "vendas_por_paises.head()"
      ],
      "metadata": {
        "colab": {
          "base_uri": "https://localhost:8080/"
        },
        "id": "dZN88pBG-soU",
        "outputId": "18f140b8-bb57-4eee-f803-adf09ee8b9b6"
      },
      "execution_count": 116,
      "outputs": [
        {
          "output_type": "execute_result",
          "data": {
            "text/plain": [
              "País\n",
              "France            391.566\n",
              "Germany           245.817\n",
              "United Kingdom    298.926\n",
              "United States     875.078\n",
              "Name: Receita, dtype: float64"
            ]
          },
          "metadata": {},
          "execution_count": 116
        }
      ]
    },
    {
      "cell_type": "code",
      "source": [
        "# Criando gráfico\n",
        "\n",
        "# Atribuindo os valores de x e y\n",
        "data = [go.Bar(x = vendas_por_paises.index,\n",
        "               y = vendas_por_paises.values,\n",
        "               marker = {'color': '#BA55D3', # definindo cor das barras\n",
        "                         'line': {'color': '#333', # definindo cor da borda\n",
        "                         'width': 1} # definindo espessura da borda\n",
        "                         }   \n",
        "              )\n",
        "      ]\n",
        "# Criando Layout\n",
        "layout = go.Layout(title='Vendas Países em Mil USD (2015-2016)', # título do gráfico\n",
        "                   yaxis={'title':'USD', # título do eixo y\n",
        "                          'tickprefix':'$', # adicionar nos valores do eixo y o \"$\" no início\n",
        "                          'ticksuffix':'k'} # adicionar nos valores do eixo y o \"$\" no final\n",
        ") \n",
        "# Definindo objeto figura para print \n",
        "fig = go.Figure(data=data, layout=layout)\n",
        "\n",
        "py.iplot(fig)"
      ],
      "metadata": {
        "colab": {
          "base_uri": "https://localhost:8080/",
          "height": 0
        },
        "id": "pJrIEKcnDiDl",
        "outputId": "7ba43499-0656-4639-b165-49578d9e70c1"
      },
      "execution_count": 117,
      "outputs": [
        {
          "output_type": "display_data",
          "data": {
            "text/html": [
              "<html>\n",
              "<head><meta charset=\"utf-8\" /></head>\n",
              "<body>\n",
              "    <div>            <script src=\"https://cdnjs.cloudflare.com/ajax/libs/mathjax/2.7.5/MathJax.js?config=TeX-AMS-MML_SVG\"></script><script type=\"text/javascript\">if (window.MathJax && window.MathJax.Hub && window.MathJax.Hub.Config) {window.MathJax.Hub.Config({SVG: {font: \"STIX-Web\"}});}</script>                <script type=\"text/javascript\">window.PlotlyConfig = {MathJaxConfig: 'local'};</script>\n",
              "        <script src=\"https://cdn.plot.ly/plotly-2.18.2.min.js\"></script>                <div id=\"770d6f40-a5be-45dc-9fb2-1b705ccd7d42\" class=\"plotly-graph-div\" style=\"height:525px; width:100%;\"></div>            <script type=\"text/javascript\">                                    window.PLOTLYENV=window.PLOTLYENV || {};                                    if (document.getElementById(\"770d6f40-a5be-45dc-9fb2-1b705ccd7d42\")) {                    Plotly.newPlot(                        \"770d6f40-a5be-45dc-9fb2-1b705ccd7d42\",                        [{\"marker\":{\"color\":\"#BA55D3\",\"line\":{\"color\":\"#333\",\"width\":1}},\"x\":[\"France\",\"Germany\",\"United Kingdom\",\"United States\"],\"y\":[391.566,245.817,298.926,875.078],\"type\":\"bar\"}],                        {\"template\":{\"data\":{\"barpolar\":[{\"marker\":{\"line\":{\"color\":\"#E5ECF6\",\"width\":0.5},\"pattern\":{\"fillmode\":\"overlay\",\"size\":10,\"solidity\":0.2}},\"type\":\"barpolar\"}],\"bar\":[{\"error_x\":{\"color\":\"#2a3f5f\"},\"error_y\":{\"color\":\"#2a3f5f\"},\"marker\":{\"line\":{\"color\":\"#E5ECF6\",\"width\":0.5},\"pattern\":{\"fillmode\":\"overlay\",\"size\":10,\"solidity\":0.2}},\"type\":\"bar\"}],\"carpet\":[{\"aaxis\":{\"endlinecolor\":\"#2a3f5f\",\"gridcolor\":\"white\",\"linecolor\":\"white\",\"minorgridcolor\":\"white\",\"startlinecolor\":\"#2a3f5f\"},\"baxis\":{\"endlinecolor\":\"#2a3f5f\",\"gridcolor\":\"white\",\"linecolor\":\"white\",\"minorgridcolor\":\"white\",\"startlinecolor\":\"#2a3f5f\"},\"type\":\"carpet\"}],\"choropleth\":[{\"colorbar\":{\"outlinewidth\":0,\"ticks\":\"\"},\"type\":\"choropleth\"}],\"contourcarpet\":[{\"colorbar\":{\"outlinewidth\":0,\"ticks\":\"\"},\"type\":\"contourcarpet\"}],\"contour\":[{\"colorbar\":{\"outlinewidth\":0,\"ticks\":\"\"},\"colorscale\":[[0.0,\"#0d0887\"],[0.1111111111111111,\"#46039f\"],[0.2222222222222222,\"#7201a8\"],[0.3333333333333333,\"#9c179e\"],[0.4444444444444444,\"#bd3786\"],[0.5555555555555556,\"#d8576b\"],[0.6666666666666666,\"#ed7953\"],[0.7777777777777778,\"#fb9f3a\"],[0.8888888888888888,\"#fdca26\"],[1.0,\"#f0f921\"]],\"type\":\"contour\"}],\"heatmapgl\":[{\"colorbar\":{\"outlinewidth\":0,\"ticks\":\"\"},\"colorscale\":[[0.0,\"#0d0887\"],[0.1111111111111111,\"#46039f\"],[0.2222222222222222,\"#7201a8\"],[0.3333333333333333,\"#9c179e\"],[0.4444444444444444,\"#bd3786\"],[0.5555555555555556,\"#d8576b\"],[0.6666666666666666,\"#ed7953\"],[0.7777777777777778,\"#fb9f3a\"],[0.8888888888888888,\"#fdca26\"],[1.0,\"#f0f921\"]],\"type\":\"heatmapgl\"}],\"heatmap\":[{\"colorbar\":{\"outlinewidth\":0,\"ticks\":\"\"},\"colorscale\":[[0.0,\"#0d0887\"],[0.1111111111111111,\"#46039f\"],[0.2222222222222222,\"#7201a8\"],[0.3333333333333333,\"#9c179e\"],[0.4444444444444444,\"#bd3786\"],[0.5555555555555556,\"#d8576b\"],[0.6666666666666666,\"#ed7953\"],[0.7777777777777778,\"#fb9f3a\"],[0.8888888888888888,\"#fdca26\"],[1.0,\"#f0f921\"]],\"type\":\"heatmap\"}],\"histogram2dcontour\":[{\"colorbar\":{\"outlinewidth\":0,\"ticks\":\"\"},\"colorscale\":[[0.0,\"#0d0887\"],[0.1111111111111111,\"#46039f\"],[0.2222222222222222,\"#7201a8\"],[0.3333333333333333,\"#9c179e\"],[0.4444444444444444,\"#bd3786\"],[0.5555555555555556,\"#d8576b\"],[0.6666666666666666,\"#ed7953\"],[0.7777777777777778,\"#fb9f3a\"],[0.8888888888888888,\"#fdca26\"],[1.0,\"#f0f921\"]],\"type\":\"histogram2dcontour\"}],\"histogram2d\":[{\"colorbar\":{\"outlinewidth\":0,\"ticks\":\"\"},\"colorscale\":[[0.0,\"#0d0887\"],[0.1111111111111111,\"#46039f\"],[0.2222222222222222,\"#7201a8\"],[0.3333333333333333,\"#9c179e\"],[0.4444444444444444,\"#bd3786\"],[0.5555555555555556,\"#d8576b\"],[0.6666666666666666,\"#ed7953\"],[0.7777777777777778,\"#fb9f3a\"],[0.8888888888888888,\"#fdca26\"],[1.0,\"#f0f921\"]],\"type\":\"histogram2d\"}],\"histogram\":[{\"marker\":{\"pattern\":{\"fillmode\":\"overlay\",\"size\":10,\"solidity\":0.2}},\"type\":\"histogram\"}],\"mesh3d\":[{\"colorbar\":{\"outlinewidth\":0,\"ticks\":\"\"},\"type\":\"mesh3d\"}],\"parcoords\":[{\"line\":{\"colorbar\":{\"outlinewidth\":0,\"ticks\":\"\"}},\"type\":\"parcoords\"}],\"pie\":[{\"automargin\":true,\"type\":\"pie\"}],\"scatter3d\":[{\"line\":{\"colorbar\":{\"outlinewidth\":0,\"ticks\":\"\"}},\"marker\":{\"colorbar\":{\"outlinewidth\":0,\"ticks\":\"\"}},\"type\":\"scatter3d\"}],\"scattercarpet\":[{\"marker\":{\"colorbar\":{\"outlinewidth\":0,\"ticks\":\"\"}},\"type\":\"scattercarpet\"}],\"scattergeo\":[{\"marker\":{\"colorbar\":{\"outlinewidth\":0,\"ticks\":\"\"}},\"type\":\"scattergeo\"}],\"scattergl\":[{\"marker\":{\"colorbar\":{\"outlinewidth\":0,\"ticks\":\"\"}},\"type\":\"scattergl\"}],\"scattermapbox\":[{\"marker\":{\"colorbar\":{\"outlinewidth\":0,\"ticks\":\"\"}},\"type\":\"scattermapbox\"}],\"scatterpolargl\":[{\"marker\":{\"colorbar\":{\"outlinewidth\":0,\"ticks\":\"\"}},\"type\":\"scatterpolargl\"}],\"scatterpolar\":[{\"marker\":{\"colorbar\":{\"outlinewidth\":0,\"ticks\":\"\"}},\"type\":\"scatterpolar\"}],\"scatter\":[{\"fillpattern\":{\"fillmode\":\"overlay\",\"size\":10,\"solidity\":0.2},\"type\":\"scatter\"}],\"scatterternary\":[{\"marker\":{\"colorbar\":{\"outlinewidth\":0,\"ticks\":\"\"}},\"type\":\"scatterternary\"}],\"surface\":[{\"colorbar\":{\"outlinewidth\":0,\"ticks\":\"\"},\"colorscale\":[[0.0,\"#0d0887\"],[0.1111111111111111,\"#46039f\"],[0.2222222222222222,\"#7201a8\"],[0.3333333333333333,\"#9c179e\"],[0.4444444444444444,\"#bd3786\"],[0.5555555555555556,\"#d8576b\"],[0.6666666666666666,\"#ed7953\"],[0.7777777777777778,\"#fb9f3a\"],[0.8888888888888888,\"#fdca26\"],[1.0,\"#f0f921\"]],\"type\":\"surface\"}],\"table\":[{\"cells\":{\"fill\":{\"color\":\"#EBF0F8\"},\"line\":{\"color\":\"white\"}},\"header\":{\"fill\":{\"color\":\"#C8D4E3\"},\"line\":{\"color\":\"white\"}},\"type\":\"table\"}]},\"layout\":{\"annotationdefaults\":{\"arrowcolor\":\"#2a3f5f\",\"arrowhead\":0,\"arrowwidth\":1},\"autotypenumbers\":\"strict\",\"coloraxis\":{\"colorbar\":{\"outlinewidth\":0,\"ticks\":\"\"}},\"colorscale\":{\"diverging\":[[0,\"#8e0152\"],[0.1,\"#c51b7d\"],[0.2,\"#de77ae\"],[0.3,\"#f1b6da\"],[0.4,\"#fde0ef\"],[0.5,\"#f7f7f7\"],[0.6,\"#e6f5d0\"],[0.7,\"#b8e186\"],[0.8,\"#7fbc41\"],[0.9,\"#4d9221\"],[1,\"#276419\"]],\"sequential\":[[0.0,\"#0d0887\"],[0.1111111111111111,\"#46039f\"],[0.2222222222222222,\"#7201a8\"],[0.3333333333333333,\"#9c179e\"],[0.4444444444444444,\"#bd3786\"],[0.5555555555555556,\"#d8576b\"],[0.6666666666666666,\"#ed7953\"],[0.7777777777777778,\"#fb9f3a\"],[0.8888888888888888,\"#fdca26\"],[1.0,\"#f0f921\"]],\"sequentialminus\":[[0.0,\"#0d0887\"],[0.1111111111111111,\"#46039f\"],[0.2222222222222222,\"#7201a8\"],[0.3333333333333333,\"#9c179e\"],[0.4444444444444444,\"#bd3786\"],[0.5555555555555556,\"#d8576b\"],[0.6666666666666666,\"#ed7953\"],[0.7777777777777778,\"#fb9f3a\"],[0.8888888888888888,\"#fdca26\"],[1.0,\"#f0f921\"]]},\"colorway\":[\"#636efa\",\"#EF553B\",\"#00cc96\",\"#ab63fa\",\"#FFA15A\",\"#19d3f3\",\"#FF6692\",\"#B6E880\",\"#FF97FF\",\"#FECB52\"],\"font\":{\"color\":\"#2a3f5f\"},\"geo\":{\"bgcolor\":\"white\",\"lakecolor\":\"white\",\"landcolor\":\"#E5ECF6\",\"showlakes\":true,\"showland\":true,\"subunitcolor\":\"white\"},\"hoverlabel\":{\"align\":\"left\"},\"hovermode\":\"closest\",\"mapbox\":{\"style\":\"light\"},\"paper_bgcolor\":\"white\",\"plot_bgcolor\":\"#E5ECF6\",\"polar\":{\"angularaxis\":{\"gridcolor\":\"white\",\"linecolor\":\"white\",\"ticks\":\"\"},\"bgcolor\":\"#E5ECF6\",\"radialaxis\":{\"gridcolor\":\"white\",\"linecolor\":\"white\",\"ticks\":\"\"}},\"scene\":{\"xaxis\":{\"backgroundcolor\":\"#E5ECF6\",\"gridcolor\":\"white\",\"gridwidth\":2,\"linecolor\":\"white\",\"showbackground\":true,\"ticks\":\"\",\"zerolinecolor\":\"white\"},\"yaxis\":{\"backgroundcolor\":\"#E5ECF6\",\"gridcolor\":\"white\",\"gridwidth\":2,\"linecolor\":\"white\",\"showbackground\":true,\"ticks\":\"\",\"zerolinecolor\":\"white\"},\"zaxis\":{\"backgroundcolor\":\"#E5ECF6\",\"gridcolor\":\"white\",\"gridwidth\":2,\"linecolor\":\"white\",\"showbackground\":true,\"ticks\":\"\",\"zerolinecolor\":\"white\"}},\"shapedefaults\":{\"line\":{\"color\":\"#2a3f5f\"}},\"ternary\":{\"aaxis\":{\"gridcolor\":\"white\",\"linecolor\":\"white\",\"ticks\":\"\"},\"baxis\":{\"gridcolor\":\"white\",\"linecolor\":\"white\",\"ticks\":\"\"},\"bgcolor\":\"#E5ECF6\",\"caxis\":{\"gridcolor\":\"white\",\"linecolor\":\"white\",\"ticks\":\"\"}},\"title\":{\"x\":0.05},\"xaxis\":{\"automargin\":true,\"gridcolor\":\"white\",\"linecolor\":\"white\",\"ticks\":\"\",\"title\":{\"standoff\":15},\"zerolinecolor\":\"white\",\"zerolinewidth\":2},\"yaxis\":{\"automargin\":true,\"gridcolor\":\"white\",\"linecolor\":\"white\",\"ticks\":\"\",\"title\":{\"standoff\":15},\"zerolinecolor\":\"white\",\"zerolinewidth\":2}}},\"title\":{\"text\":\"Vendas Pa\\u00edses em Mil USD (2015-2016)\"},\"yaxis\":{\"tickprefix\":\"$\",\"ticksuffix\":\"k\",\"title\":{\"text\":\"USD\"}}},                        {\"responsive\": true}                    ).then(function(){\n",
              "                            \n",
              "var gd = document.getElementById('770d6f40-a5be-45dc-9fb2-1b705ccd7d42');\n",
              "var x = new MutationObserver(function (mutations, observer) {{\n",
              "        var display = window.getComputedStyle(gd).display;\n",
              "        if (!display || display === 'none') {{\n",
              "            console.log([gd, 'removed!']);\n",
              "            Plotly.purge(gd);\n",
              "            observer.disconnect();\n",
              "        }}\n",
              "}});\n",
              "\n",
              "// Listen for the removal of the full notebook cells\n",
              "var notebookContainer = gd.closest('#notebook-container');\n",
              "if (notebookContainer) {{\n",
              "    x.observe(notebookContainer, {childList: true});\n",
              "}}\n",
              "\n",
              "// Listen for the clearing of the current output cell\n",
              "var outputEl = gd.closest('.output');\n",
              "if (outputEl) {{\n",
              "    x.observe(outputEl, {childList: true});\n",
              "}}\n",
              "\n",
              "                        })                };                            </script>        </div>\n",
              "</body>\n",
              "</html>"
            ]
          },
          "metadata": {}
        }
      ]
    },
    {
      "cell_type": "markdown",
      "source": [
        "O maior gerador de receita é proveniente dos cosumidores que estão nos Estados Unidos. Será que é devido ao alto consumo desdes produtos? Grande quantidade de lojas? "
      ],
      "metadata": {
        "id": "jpDNWLp9qiFd"
      }
    },
    {
      "cell_type": "markdown",
      "source": [
        "# Gráfico Scatter "
      ],
      "metadata": {
        "id": "pE2I0WGGl8CO"
      }
    },
    {
      "cell_type": "markdown",
      "source": [
        "O gráfico de dispersão é útil para verificarmos se existe alguma relação entre duas variáveis numéricas. Neste caso, utilizaremos para distinção de estados geradores da receita"
      ],
      "metadata": {
        "id": "ecshR0Xml_x_"
      }
    },
    {
      "cell_type": "markdown",
      "source": [
        "Gráfico para análise da distribuição de Estados por países"
      ],
      "metadata": {
        "id": "PLEAUle0xkBI"
      }
    },
    {
      "cell_type": "code",
      "source": [
        "# Criando gráfico\n",
        "\n",
        "# Atribuindo os valores de x e y\n",
        "trace =  go.Scatter(x = customer['Estado'],\n",
        "                    y = customer['País'],\n",
        "                    mode = 'markers', # apresentação em plots/markers\n",
        "                    marker = {'color': '#9400D3'} # definindo uma cor\n",
        "                   )\n",
        "\n",
        "# Armazenando o gráfico em uma lista\n",
        "data = [trace]\n",
        "\n",
        "# Criando Layout\n",
        "layout = go.Layout(title='Distribução de Clientes por Países', # título do gráfico \n",
        "                   yaxis={'title':'Países'}, # título do gráfico eixo y\n",
        "                   xaxis={'title': 'Estados'}) # título do gráfico eixo x\n",
        "\n",
        "# Definindo objeto figura para print \n",
        "fig = go.Figure(data=data, layout=layout)\n",
        "\n",
        "py.iplot(fig)"
      ],
      "metadata": {
        "colab": {
          "base_uri": "https://localhost:8080/",
          "height": 542
        },
        "id": "8OBv55eXvkau",
        "outputId": "8acb6fe7-ce5c-4694-e11e-899eb5d310e4"
      },
      "execution_count": 121,
      "outputs": [
        {
          "output_type": "display_data",
          "data": {
            "text/html": [
              "<html>\n",
              "<head><meta charset=\"utf-8\" /></head>\n",
              "<body>\n",
              "    <div>            <script src=\"https://cdnjs.cloudflare.com/ajax/libs/mathjax/2.7.5/MathJax.js?config=TeX-AMS-MML_SVG\"></script><script type=\"text/javascript\">if (window.MathJax && window.MathJax.Hub && window.MathJax.Hub.Config) {window.MathJax.Hub.Config({SVG: {font: \"STIX-Web\"}});}</script>                <script type=\"text/javascript\">window.PlotlyConfig = {MathJaxConfig: 'local'};</script>\n",
              "        <script src=\"https://cdn.plot.ly/plotly-2.18.2.min.js\"></script>                <div id=\"efb16e79-1190-4765-83a5-fe784463aaeb\" class=\"plotly-graph-div\" style=\"height:525px; width:100%;\"></div>            <script type=\"text/javascript\">                                    window.PLOTLYENV=window.PLOTLYENV || {};                                    if (document.getElementById(\"efb16e79-1190-4765-83a5-fe784463aaeb\")) {                    Plotly.newPlot(                        \"efb16e79-1190-4765-83a5-fe784463aaeb\",                        [{\"marker\":{\"color\":\"#9400D3\"},\"mode\":\"markers\",\"x\":[\"Washington\",\"California\",\"England\",\"England\",\"California\",\"Hessen\",\"Washington\",\"Saarland\",\"Washington\",\"Washington\",\"Washington\",\"Washington\",\"California\",\"California\",\"Washington\",\"Washington\",\"Washington\",\"California\",\"Washington\",\"California\",\"California\",\"Oregon\",\"California\",\"California\",\"California\",\"California\",\"California\",\"England\",\"Oregon\",\"Oregon\",\"Washington\",\"Washington\",\"Washington\",\"Washington\",\"Oregon\",\"Oregon\",\"Oregon\",\"England\",\"England\",\"California\",\"Washington\",\"California\",\"California\",\"Oregon\",\"England\",\"California\",\"Washington\",\"California\",\"Oregon\",\"Seine (Paris)\",\"Seine (Paris)\",\"Yveline\",\"Washington\",\"Washington\",\"Yveline\",\"California\",\"California\",\"Washington\",\"Oregon\",\"Hessen\",\"England\",\"Washington\",\"Washington\",\"California\",\"California\",\"Saarland\",\"Seine (Paris)\",\"Washington\",\"Washington\",\"Washington\",\"Nordrhein-Westfalen\",\"Nordrhein-Westfalen\",\"Nordrhein-Westfalen\",\"Nordrhein-Westfalen\",\"Oregon\",\"Oregon\",\"Nordrhein-Westfalen\",\"Nordrhein-Westfalen\",\"Hessen\",\"Yveline\",\"California\",\"Yveline\",\"California\",\"Washington\",\"California\",\"California\",\"California\",\"California\",\"California\",\"California\",\"England\",\"England\",\"Pas de Calais\",\"Pas de Calais\",\"Pas de Calais\",\"Washington\",\"California\",\"Washington\",\"Hessen\",\"Washington\",\"Washington\",\"California\",\"California\",\"California\",\"California\",\"Hessen\",\"Washington\",\"Washington\",\"Washington\",\"Seine (Paris)\",\"Saarland\",\"Saarland\",\"California\",\"England\",\"Seine Saint Denis\",\"Seine Saint Denis\",\"Seine Saint Denis\",\"Hessen\",\"Washington\",\"California\",\"Nordrhein-Westfalen\",\"Nordrhein-Westfalen\",\"Nordrhein-Westfalen\",\"California\",\"Seine et Marne\",\"Seine et Marne\",\"Hessen\",\"Oregon\",\"Yveline\",\"Yveline\",\"Yveline\",\"Yveline\",\"Hessen\",\"California\",\"Washington\",\"Washington\",\"Washington\",\"California\",\"California\",\"California\",\"California\",\"California\",\"Oregon\",\"Washington\",\"England\",\"England\",\"England\",\"England\",\"England\",\"England\",\"California\",\"California\",\"California\",\"California\",\"England\",\"Washington\",\"England\",\"England\",\"England\",\"California\",\"Yveline\",\"Yveline\",\"Yveline\",\"Val d'Oise\",\"Val d'Oise\",\"England\",\"Yveline\",\"Yveline\",\"California\",\"California\",\"England\",\"Garonne (Haute)\",\"Garonne (Haute)\",\"Val d'Oise\",\"Val d'Oise\",\"Val d'Oise\",\"California\",\"England\",\"England\",\"California\",\"England\",\"California\",\"England\",\"California\",\"California\",\"California\",\"Oregon\",\"England\",\"California\",\"England\",\"England\",\"England\",\"England\",\"England\",\"England\",\"England\",\"California\",\"California\",\"Washington\",\"Nord\",\"Nord\",\"Nord\",\"Oregon\",\"Nord\",\"Seine Saint Denis\",\"Seine Saint Denis\",\"Seine Saint Denis\",\"Washington\",\"California\",\"California\",\"Washington\",\"California\",\"Washington\",\"Nord\",\"Nord\",\"Nord\",\"Nord\",\"California\",\"Washington\",\"California\",\"England\",\"Washington\",\"California\",\"California\",\"California\",\"Seine Saint Denis\",\"Hessen\",\"Hessen\",\"Seine Saint Denis\",\"California\",\"Washington\",\"Washington\",\"Washington\",\"Oregon\",\"Oregon\",\"Washington\",\"Oregon\",\"Oregon\",\"Hauts de Seine\",\"Hauts de Seine\",\"Hauts de Seine\",\"California\",\"California\",\"Seine Saint Denis\",\"Seine Saint Denis\",\"Washington\",\"Hessen\",\"Washington\",\"Hessen\",\"Washington\",\"California\",\"Washington\",\"California\",\"California\",\"Washington\",\"Seine Saint Denis\",\"Seine Saint Denis\",\"England\",\"Washington\",\"Washington\",\"Washington\",\"Oregon\",\"Washington\",\"Washington\",\"Bayern\",\"Washington\",\"Essonne\",\"Essonne\",\"California\",\"Essonne\",\"England\",\"England\",\"England\",\"Washington\",\"Washington\",\"Washington\",\"California\",\"Bayern\",\"Charente-Maritime\",\"California\",\"Washington\",\"California\",\"Yveline\",\"Hessen\",\"Hessen\",\"England\",\"California\",\"California\",\"California\",\"California\",\"California\",\"Hauts de Seine\",\"California\",\"Washington\",\"Hauts de Seine\",\"Oregon\",\"England\",\"England\",\"England\",\"Washington\",\"California\",\"California\",\"California\",\"California\",\"California\",\"England\",\"England\",\"California\",\"California\",\"Oregon\",\"Washington\",\"Oregon\",\"Washington\",\"California\",\"Washington\",\"Seine (Paris)\",\"California\",\"California\",\"California\",\"California\",\"California\",\"California\",\"California\",\"Oregon\",\"California\",\"Oregon\",\"California\",\"California\",\"England\",\"Washington\",\"England\",\"Essonne\",\"California\",\"Washington\",\"Seine (Paris)\",\"Seine (Paris)\",\"Oregon\",\"Seine (Paris)\",\"Oregon\",\"Charente-Maritime\",\"Charente-Maritime\",\"Charente-Maritime\",\"Charente-Maritime\",\"Washington\",\"California\",\"California\",\"California\",\"Washington\",\"Ohio\",\"Ohio\",\"California\",\"California\",\"California\",\"Seine Saint Denis\",\"England\",\"England\",\"England\",\"California\",\"California\",\"Essonne\",\"Essonne\",\"Essonne\",\"California\",\"California\",\"England\",\"Hessen\",\"Washington\",\"Hessen\",\"Washington\",\"California\",\"California\",\"Washington\",\"England\",\"Essonne\",\"Essonne\",\"California\",\"Oregon\",\"California\",\"Seine Saint Denis\",\"California\",\"California\",\"California\",\"California\",\"California\",\"Yveline\",\"Hauts de Seine\",\"England\",\"England\",\"California\",\"California\",\"Saarland\",\"California\",\"Nordrhein-Westfalen\",\"Washington\",\"Washington\",\"Minnesota\",\"Val d'Oise\",\"Val d'Oise\",\"Val d'Oise\",\"Val d'Oise\",\"England\",\"California\",\"England\",\"Nord\",\"England\",\"Nord\",\"Nord\",\"Nord\",\"California\",\"Yveline\",\"England\",\"Hauts de Seine\",\"California\",\"Seine (Paris)\",\"California\",\"California\",\"California\",\"California\",\"Washington\",\"California\",\"California\",\"Oregon\",\"Oregon\",\"Oregon\",\"Oregon\",\"California\",\"California\",\"Oregon\",\"California\",\"California\",\"California\",\"California\",\"California\",\"California\",\"California\",\"California\",\"Hessen\",\"Hessen\",\"Hessen\",\"California\",\"England\",\"Oregon\",\"Oregon\",\"Oregon\",\"California\",\"California\",\"England\",\"Oregon\",\"Val d'Oise\",\"England\",\"Val d'Oise\",\"California\",\"California\",\"Oregon\",\"Washington\",\"Washington\",\"Washington\",\"California\",\"California\",\"California\",\"Washington\",\"California\",\"California\",\"Oregon\",\"Yveline\",\"California\",\"England\",\"Washington\",\"Oregon\",\"Washington\",\"Washington\",\"Washington\",\"Washington\",\"California\",\"Washington\",\"Washington\",\"Washington\",\"California\",\"Nordrhein-Westfalen\",\"California\",\"Washington\",\"Washington\",\"England\",\"California\",\"California\",\"Washington\",\"Seine (Paris)\",\"Seine (Paris)\",\"Seine (Paris)\",\"Washington\",\"Washington\",\"Washington\",\"Loiret\",\"California\",\"Seine et Marne\",\"Seine et Marne\",\"Seine et Marne\",\"California\",\"England\",\"Washington\",\"Hauts de Seine\",\"Hauts de Seine\",\"Hessen\",\"Hauts de Seine\",\"Hauts de Seine\",\"Hessen\",\"California\",\"Val d'Oise\",\"England\",\"Washington\",\"England\",\"Hessen\",\"Hessen\",\"Essonne\",\"California\",\"Washington\",\"Essonne\",\"Essonne\",\"Washington\",\"California\",\"California\",\"California\",\"California\",\"California\",\"California\",\"California\",\"California\",\"California\",\"California\",\"Washington\",\"California\",\"California\",\"California\",\"Seine Saint Denis\",\"Washington\",\"Seine (Paris)\",\"England\",\"Hessen\",\"Hessen\",\"England\",\"England\",\"California\",\"Hamburg\",\"California\",\"Hessen\",\"California\",\"California\",\"Seine (Paris)\",\"Saarland\",\"California\",\"California\",\"California\",\"Washington\",\"California\",\"Washington\",\"Washington\",\"Washington\",\"England\",\"England\",\"England\",\"England\",\"Yveline\",\"California\",\"Washington\",\"England\",\"England\",\"England\",\"England\",\"California\",\"California\",\"California\",\"California\",\"California\",\"California\",\"California\",\"California\",\"California\",\"California\",\"California\",\"California\",\"California\",\"Washington\",\"Washington\",\"Washington\",\"Washington\",\"Washington\",\"Washington\",\"Washington\",\"California\",\"California\",\"England\",\"England\",\"England\",\"California\",\"California\",\"California\",\"Washington\",\"Seine (Paris)\",\"Hessen\",\"Washington\",\"Washington\",\"Washington\",\"England\",\"England\",\"England\",\"England\",\"Yveline\",\"England\",\"Oregon\",\"Bayern\",\"Bayern\",\"Bayern\",\"Bayern\",\"Yveline\",\"Yveline\",\"Seine (Paris)\",\"England\",\"England\",\"England\",\"Washington\",\"England\",\"Hauts de Seine\",\"Washington\",\"California\",\"Washington\",\"California\",\"Washington\",\"California\",\"Oregon\",\"California\",\"Oregon\",\"Bayern\",\"Bayern\",\"Bayern\",\"California\",\"California\",\"England\",\"Washington\",\"California\",\"Hamburg\",\"Oregon\",\"England\",\"England\",\"Washington\",\"Washington\",\"Washington\",\"California\",\"California\",\"Washington\",\"California\",\"Washington\",\"California\",\"California\",\"California\",\"Hessen\",\"California\",\"California\",\"California\",\"England\",\"California\",\"California\",\"England\",\"Washington\",\"Washington\",\"Oregon\",\"California\",\"California\",\"Washington\",\"California\",\"Washington\",\"Washington\",\"Washington\",\"Nordrhein-Westfalen\",\"Seine (Paris)\",\"California\",\"Seine (Paris)\",\"England\",\"California\",\"California\",\"California\",\"California\",\"California\",\"Nord\",\"Nord\",\"Nord\",\"Washington\",\"California\",\"Washington\",\"Washington\",\"Washington\",\"Washington\",\"Washington\",\"Bayern\",\"Bayern\",\"Oregon\",\"Oregon\",\"England\",\"England\",\"England\",\"England\",\"California\",\"California\",\"California\",\"Oregon\",\"Washington\",\"Washington\",\"Hessen\",\"California\",\"Oregon\",\"England\",\"California\",\"England\",\"England\",\"Washington\",\"Washington\",\"Washington\",\"California\",\"California\",\"Washington\",\"Washington\",\"Washington\",\"Washington\",\"Washington\",\"Seine Saint Denis\",\"Seine Saint Denis\",\"Seine Saint Denis\",\"California\",\"Oregon\",\"California\",\"Washington\",\"Moselle\",\"Washington\",\"Bayern\",\"Washington\",\"Washington\",\"California\",\"Washington\",\"Val d'Oise\",\"Val d'Oise\",\"Val d'Oise\",\"Washington\",\"California\",\"California\",\"California\",\"California\",\"Hauts de Seine\",\"Hamburg\",\"Hamburg\",\"Saarland\",\"Washington\",\"California\",\"Washington\",\"Seine Saint Denis\",\"Seine Saint Denis\",\"England\",\"England\",\"Saarland\",\"Washington\",\"Oregon\",\"Seine Saint Denis\",\"California\",\"California\",\"California\",\"California\",\"Washington\",\"Washington\",\"Washington\",\"California\",\"Val d'Oise\",\"Val d'Oise\",\"England\",\"California\",\"California\",\"Washington\",\"California\",\"California\",\"California\",\"Oregon\",\"California\",\"Washington\",\"Washington\",\"Washington\",\"England\",\"England\",\"England\",\"England\",\"England\",\"California\",\"England\",\"California\",\"California\",\"California\",\"California\",\"California\",\"California\",\"California\",\"California\",\"Oregon\",\"England\",\"Seine (Paris)\",\"Washington\",\"Washington\",\"Essonne\",\"Val d'Oise\",\"Washington\",\"Washington\",\"California\",\"Val d'Oise\",\"Seine (Paris)\",\"Charente-Maritime\",\"Washington\",\"California\",\"California\",\"California\",\"Loiret\",\"California\",\"Washington\",\"Washington\",\"California\",\"California\",\"California\",\"California\",\"California\",\"Washington\",\"Seine Saint Denis\",\"Seine Saint Denis\",\"Seine Saint Denis\",\"England\",\"England\",\"California\",\"California\",\"England\",\"California\",\"Oregon\",\"England\",\"England\",\"Washington\",\"California\",\"Washington\",\"Washington\",\"California\",\"England\",\"England\",\"California\",\"Nord\",\"England\",\"California\",\"California\",\"Washington\",\"Nordrhein-Westfalen\",\"Nordrhein-Westfalen\",\"Seine Saint Denis\",\"California\",\"California\",\"Washington\",\"England\",\"California\",\"California\",\"Washington\",\"California\",\"Oregon\",\"Washington\",\"California\",\"Washington\",\"Washington\",\"Washington\",\"California\",\"California\",\"California\",\"California\",\"California\",\"Washington\",\"Nord\",\"California\",\"California\",\"California\",\"California\",\"California\",\"California\",\"Washington\",\"California\",\"California\",\"Washington\",\"California\",\"Hessen\",\"Washington\",\"Washington\",\"California\",\"Washington\",\"Washington\",\"Hessen\",\"Val d'Oise\",\"England\",\"Washington\",\"Washington\",\"Washington\",\"Val d'Oise\",\"Washington\",\"California\",\"California\",\"California\",\"Val d'Oise\",\"Val d'Oise\",\"Oregon\",\"Washington\",\"Washington\",\"Washington\",\"England\",\"England\",\"Hamburg\",\"Hamburg\",\"Washington\",\"California\",\"California\",\"California\",\"Hamburg\",\"England\",\"Hessen\",\"Washington\",\"England\",\"California\",\"California\",\"California\",\"Washington\",\"England\",\"Washington\",\"Washington\",\"Washington\",\"Hessen\",\"Hessen\",\"Hamburg\",\"Hessen\",\"California\",\"Yveline\",\"California\",\"California\",\"California\",\"California\",\"California\",\"England\",\"California\",\"Yveline\",\"Yveline\",\"Yveline\",\"Yveline\",\"Essonne\",\"California\",\"England\",\"California\",\"England\",\"California\",\"California\",\"California\",\"California\",\"California\",\"California\",\"England\",\"Washington\",\"England\",\"England\",\"England\",\"England\",\"England\",\"England\",\"California\",\"California\",\"England\",\"Bayern\",\"England\",\"England\",\"California\",\"California\",\"California\",\"Washington\",\"Washington\",\"California\",\"California\",\"California\",\"England\",\"California\",\"California\",\"California\",\"California\",\"England\",\"Washington\",\"California\",\"Washington\",\"Washington\",\"Washington\",\"Washington\",\"Washington\",\"California\",\"Nordrhein-Westfalen\",\"California\",\"Bayern\",\"California\",\"California\",\"Nordrhein-Westfalen\",\"Oregon\",\"Nordrhein-Westfalen\",\"Essonne\",\"Washington\",\"Washington\",\"Hessen\",\"Hessen\",\"Washington\",\"California\",\"California\",\"Hessen\",\"Washington\",\"Washington\",\"California\",\"England\",\"England\",\"England\",\"England\",\"California\",\"California\",\"California\",\"California\",\"Washington\",\"California\",\"California\",\"California\",\"California\",\"California\",\"Oregon\",\"Oregon\",\"Oregon\",\"England\",\"Oregon\",\"Seine et Marne\",\"Seine et Marne\",\"Seine et Marne\",\"California\",\"Washington\",\"Washington\",\"Moselle\",\"Seine Saint Denis\",\"Hauts de Seine\",\"Seine Saint Denis\",\"Washington\",\"Oregon\",\"Washington\",\"Oregon\",\"Washington\",\"California\",\"California\",\"England\",\"Hauts de Seine\",\"Hauts de Seine\",\"Hauts de Seine\",\"Oregon\",\"Hauts de Seine\",\"California\",\"Washington\",\"California\",\"California\",\"California\",\"Washington\",\"Washington\",\"Seine Saint Denis\",\"Seine (Paris)\",\"England\",\"Seine (Paris)\",\"England\",\"California\",\"Washington\",\"Washington\",\"England\",\"Seine (Paris)\",\"England\",\"Washington\",\"Seine (Paris)\",\"Bayern\",\"England\",\"Bayern\",\"Seine (Paris)\",\"Bayern\",\"Yveline\",\"California\",\"California\",\"California\",\"California\",\"California\",\"Washington\",\"Hessen\",\"Hessen\",\"Hessen\",\"Yveline\",\"Washington\",\"England\",\"Washington\",\"England\",\"England\",\"California\",\"California\",\"Washington\",\"Washington\",\"Washington\",\"Val d'Oise\",\"Val d'Oise\",\"Hessen\",\"Loir et Cher\",\"England\",\"California\",\"Oregon\",\"Oregon\",\"England\",\"Oregon\",\"England\",\"California\",\"Washington\",\"England\",\"California\",\"Oregon\",\"California\",\"Minnesota\",\"California\",\"Minnesota\",\"California\",\"California\",\"California\",\"California\",\"California\",\"England\",\"Nord\",\"Washington\",\"California\",\"California\",\"Seine et Marne\",\"Hessen\",\"Hessen\",\"England\",\"Washington\",\"England\",\"Washington\",\"England\",\"England\",\"Nordrhein-Westfalen\",\"California\",\"Washington\",\"Loiret\",\"England\",\"California\",\"England\",\"California\",\"Hauts de Seine\",\"Oregon\",\"California\",\"California\",\"California\",\"California\",\"California\",\"California\",\"Washington\",\"California\",\"Washington\",\"England\",\"England\",\"Hauts de Seine\",\"California\",\"England\",\"Washington\",\"Washington\",\"Seine Saint Denis\",\"Washington\",\"California\",\"Nord\",\"California\",\"Nord\",\"England\",\"England\",\"England\",\"California\",\"England\",\"England\",\"California\",\"England\",\"England\",\"England\",\"England\",\"Nordrhein-Westfalen\",\"Nordrhein-Westfalen\",\"Washington\",\"California\",\"Washington\",\"California\",\"England\",\"California\",\"California\",\"California\",\"Washington\",\"England\",\"California\",\"California\",\"Washington\",\"Washington\",\"California\",\"Washington\",\"Oregon\",\"England\",\"Nordrhein-Westfalen\",\"California\",\"California\",\"Hauts de Seine\",\"Hauts de Seine\",\"Nord\",\"Nordrhein-Westfalen\",\"Hamburg\",\"California\",\"California\",\"California\",\"California\",\"California\",\"Oregon\",\"Oregon\",\"Hamburg\",\"Washington\",\"California\",\"California\",\"California\",\"California\",\"Seine (Paris)\",\"Yveline\",\"Seine (Paris)\",\"Washington\",\"Washington\",\"Nordrhein-Westfalen\",\"Washington\",\"Washington\",\"California\",\"Washington\",\"California\",\"California\",\"California\",\"Washington\",\"Washington\",\"England\",\"England\",\"England\",\"Hauts de Seine\",\"Hauts de Seine\",\"Hauts de Seine\",\"Hauts de Seine\",\"California\",\"California\",\"California\",\"California\",\"California\",\"England\",\"Nordrhein-Westfalen\",\"Seine et Marne\",\"Seine et Marne\",\"Seine et Marne\",\"Oregon\",\"Hamburg\",\"Washington\",\"Washington\",\"Oregon\",\"Oregon\",\"Washington\",\"Hamburg\",\"Washington\",\"Washington\",\"England\",\"Nordrhein-Westfalen\",\"California\",\"Hamburg\",\"California\",\"California\",\"California\",\"California\",\"England\",\"England\",\"England\",\"California\",\"California\",\"England\",\"Oregon\",\"California\",\"California\",\"Washington\",\"Washington\",\"California\",\"California\",\"Washington\",\"England\",\"California\",\"Washington\",\"California\",\"Oregon\",\"England\",\"Hessen\",\"Hessen\",\"Hessen\",\"Washington\",\"Seine Saint Denis\",\"Seine Saint Denis\",\"Seine Saint Denis\",\"Seine Saint Denis\",\"Washington\",\"Washington\",\"Washington\",\"California\",\"Washington\",\"Washington\",\"Washington\",\"England\",\"England\",\"Bayern\",\"California\",\"Oregon\",\"California\",\"California\",\"California\",\"California\",\"Washington\",\"Washington\",\"Washington\",\"Nordrhein-Westfalen\",\"Nordrhein-Westfalen\",\"Nordrhein-Westfalen\",\"Nordrhein-Westfalen\",\"Hamburg\",\"Hamburg\",\"England\",\"Hamburg\",\"Oregon\",\"Washington\",\"Oregon\",\"Seine (Paris)\",\"Seine Saint Denis\",\"Seine Saint Denis\",\"Loiret\",\"Loiret\",\"California\",\"Seine et Marne\",\"Seine et Marne\",\"Nord\",\"Nord\",\"California\",\"California\",\"England\",\"England\",\"Seine Saint Denis\",\"Seine Saint Denis\",\"California\",\"Seine Saint Denis\",\"Seine Saint Denis\",\"Seine Saint Denis\",\"Saarland\",\"California\",\"California\",\"Saarland\",\"Seine Saint Denis\",\"California\",\"California\",\"Seine (Paris)\",\"Seine (Paris)\",\"Seine (Paris)\",\"Seine (Paris)\",\"Oregon\",\"England\",\"England\",\"England\",\"Saarland\",\"Bayern\",\"Washington\",\"Oregon\",\"Val de Marne\",\"California\",\"Washington\",\"California\",\"Seine (Paris)\",\"California\",\"Seine (Paris)\",\"Seine (Paris)\",\"Seine (Paris)\",\"California\",\"California\",\"California\",\"Yveline\",\"California\",\"Nordrhein-Westfalen\",\"Val d'Oise\",\"California\",\"Val d'Oise\",\"Val d'Oise\",\"Hauts de Seine\",\"Oregon\",\"England\",\"England\",\"England\",\"England\",\"California\",\"Washington\",\"Washington\",\"California\",\"California\",\"Washington\",\"Alabama\",\"California\",\"Washington\",\"Washington\",\"California\",\"Seine (Paris)\",\"England\",\"California\",\"California\",\"California\",\"Seine Saint Denis\",\"California\",\"California\",\"California\",\"California\",\"England\",\"England\",\"England\",\"California\",\"Hessen\",\"Hessen\",\"Washington\",\"California\",\"Hessen\",\"England\",\"Seine (Paris)\",\"Washington\",\"Seine (Paris)\",\"California\",\"Oregon\",\"Washington\",\"England\",\"California\",\"California\",\"California\",\"Washington\",\"California\",\"Washington\",\"Washington\",\"Saarland\",\"Washington\",\"California\",\"Hamburg\",\"England\",\"California\",\"California\",\"Washington\",\"Charente-Maritime\",\"Charente-Maritime\",\"Charente-Maritime\",\"Charente-Maritime\",\"Charente-Maritime\",\"California\",\"California\",\"England\",\"Oregon\",\"Oregon\",\"England\",\"England\",\"Washington\",\"Nord\",\"Washington\",\"Nord\",\"Washington\",\"Washington\",\"Hauts de Seine\",\"Seine (Paris)\",\"Seine (Paris)\",\"Oregon\",\"Hamburg\",\"Hamburg\",\"California\",\"Oregon\",\"California\",\"California\",\"California\",\"Oregon\",\"Oregon\",\"California\",\"Washington\",\"England\",\"England\",\"England\",\"Nord\",\"Seine (Paris)\",\"California\",\"California\",\"California\",\"England\",\"England\",\"England\",\"England\",\"England\",\"England\",\"Washington\",\"Washington\",\"Washington\",\"California\",\"Washington\",\"Washington\",\"Washington\",\"Yveline\",\"Yveline\",\"Yveline\",\"Yveline\",\"Oregon\",\"Oregon\",\"Val d'Oise\",\"Val d'Oise\",\"Oregon\",\"Washington\",\"California\",\"England\",\"Washington\",\"California\",\"Nord\",\"England\",\"Nord\",\"Nord\",\"England\",\"Washington\",\"California\",\"Nord\",\"California\",\"California\",\"California\",\"Washington\",\"Washington\",\"Washington\",\"Oregon\",\"England\",\"England\",\"Oregon\",\"Washington\",\"Washington\",\"England\",\"California\",\"Nord\",\"California\",\"Oregon\",\"Oregon\",\"Nord\",\"California\",\"California\",\"California\",\"California\",\"Saarland\",\"Saarland\",\"Saarland\",\"Nord\",\"Seine (Paris)\",\"Nord\",\"California\",\"Seine (Paris)\",\"Seine (Paris)\",\"Val d'Oise\",\"Oregon\",\"Val d'Oise\",\"Val d'Oise\",\"California\",\"Val d'Oise\",\"California\",\"Washington\",\"Washington\",\"Wyoming\",\"Nordrhein-Westfalen\",\"Wyoming\",\"Seine Saint Denis\",\"California\",\"Seine Saint Denis\",\"California\",\"California\",\"California\",\"California\",\"California\",\"California\",\"England\",\"England\",\"Bayern\",\"England\",\"Bayern\",\"Bayern\",\"Bayern\",\"California\",\"Saarland\",\"Oregon\",\"Seine Saint Denis\",\"California\",\"California\",\"California\",\"California\",\"California\",\"California\",\"Hessen\",\"California\",\"California\",\"Hessen\",\"California\",\"California\",\"England\",\"England\",\"Seine (Paris)\",\"Seine (Paris)\",\"England\",\"Washington\",\"Washington\",\"Seine et Marne\",\"Washington\",\"Seine et Marne\",\"California\",\"Seine Saint Denis\",\"Seine Saint Denis\",\"Seine Saint Denis\",\"Seine Saint Denis\",\"Seine Saint Denis\",\"England\",\"California\",\"England\",\"Washington\",\"Washington\",\"Washington\",\"Moselle\",\"Moselle\",\"Moselle\",\"Seine (Paris)\",\"Washington\",\"Washington\",\"Washington\",\"California\",\"Nord\",\"California\",\"California\",\"Washington\",\"Nord\",\"California\",\"Washington\",\"California\",\"California\",\"Washington\",\"California\",\"California\",\"Washington\",\"Washington\",\"Washington\",\"Washington\",\"Washington\",\"Washington\",\"California\",\"Oregon\",\"California\",\"California\",\"California\",\"Washington\",\"Washington\",\"Brandenburg\",\"Brandenburg\",\"California\",\"California\",\"California\",\"California\",\"California\",\"Val d'Oise\",\"Val d'Oise\",\"Val d'Oise\",\"California\",\"California\",\"Washington\",\"California\",\"California\",\"Washington\",\"Washington\",\"California\",\"California\",\"California\",\"California\",\"Saarland\",\"Hessen\",\"Hessen\",\"Hessen\",\"Washington\",\"Washington\",\"Loir et Cher\",\"Loir et Cher\",\"Loir et Cher\",\"Loir et Cher\",\"Loir et Cher\",\"Washington\",\"England\",\"Washington\",\"California\",\"Washington\",\"Washington\",\"Washington\",\"California\",\"California\",\"California\",\"Hamburg\",\"Washington\",\"Washington\",\"Washington\",\"England\",\"England\",\"Washington\",\"California\",\"Hauts de Seine\",\"Hauts de Seine\",\"Hessen\",\"Washington\",\"Washington\",\"California\",\"Washington\",\"Oregon\",\"California\",\"England\",\"England\",\"England\",\"Washington\",\"California\",\"Oregon\",\"California\",\"Oregon\",\"Saarland\",\"Nordrhein-Westfalen\",\"Nordrhein-Westfalen\",\"Nordrhein-Westfalen\",\"California\",\"Washington\",\"Washington\",\"England\",\"California\",\"England\",\"California\",\"California\",\"Hauts de Seine\",\"Seine (Paris)\",\"England\",\"England\",\"Oregon\",\"Oregon\",\"Washington\",\"Hessen\",\"Hessen\",\"Hessen\",\"Seine (Paris)\",\"Washington\",\"Washington\",\"Hamburg\",\"Hamburg\",\"Hamburg\",\"Oregon\",\"Washington\",\"Oregon\",\"California\",\"California\",\"Hessen\",\"Oregon\",\"California\",\"Oregon\",\"Nordrhein-Westfalen\",\"California\",\"Nordrhein-Westfalen\",\"California\",\"England\",\"California\",\"Washington\",\"Val d'Oise\",\"California\",\"California\",\"Nord\",\"Nord\",\"Hauts de Seine\",\"California\",\"California\",\"Seine (Paris)\",\"California\",\"California\",\"California\",\"England\",\"Seine Saint Denis\",\"England\",\"Seine Saint Denis\",\"Washington\",\"California\",\"Seine (Paris)\",\"England\",\"England\",\"California\",\"Bayern\",\"Bayern\",\"Oregon\",\"Bayern\",\"Loiret\",\"Oregon\",\"California\",\"Hamburg\",\"Hamburg\",\"Oregon\",\"Oregon\",\"California\",\"England\",\"California\",\"Oregon\",\"Nordrhein-Westfalen\",\"England\",\"Nordrhein-Westfalen\",\"England\",\"Seine Saint Denis\",\"Seine Saint Denis\",\"Seine Saint Denis\",\"Seine (Paris)\",\"England\",\"Nord\",\"California\",\"Nordrhein-Westfalen\",\"California\",\"California\",\"California\",\"California\",\"California\",\"England\",\"Washington\",\"Saarland\",\"California\",\"Hessen\",\"Saarland\",\"Washington\",\"Oregon\",\"Oregon\",\"Hauts de Seine\",\"Nordrhein-Westfalen\",\"Nordrhein-Westfalen\",\"California\",\"California\",\"California\",\"Oregon\",\"Oregon\",\"Nordrhein-Westfalen\",\"Nordrhein-Westfalen\",\"England\",\"California\",\"California\",\"California\",\"California\",\"Washington\",\"California\",\"California\",\"Washington\",\"California\",\"California\",\"Oregon\",\"Oregon\",\"Loiret\",\"Loiret\",\"Oregon\",\"Oregon\",\"California\",\"California\",\"England\",\"Washington\",\"Washington\",\"Washington\",\"Hessen\",\"Hessen\",\"Washington\",\"Oregon\",\"Nord\",\"Washington\",\"Oregon\",\"Washington\",\"Washington\",\"Washington\",\"Washington\",\"Saarland\",\"England\",\"England\",\"England\",\"England\",\"Saarland\",\"Saarland\",\"Washington\",\"Washington\",\"Pas de Calais\",\"Pas de Calais\",\"Hessen\",\"California\",\"Hessen\",\"Washington\",\"California\",\"Seine Saint Denis\",\"Nord\",\"Seine Saint Denis\",\"Val d'Oise\",\"Val d'Oise\",\"Seine Saint Denis\",\"Val d'Oise\",\"Oregon\",\"Hessen\",\"Oregon\",\"Oregon\",\"California\",\"California\",\"California\",\"Washington\",\"Washington\",\"Val d'Oise\",\"Hessen\",\"Hessen\",\"Val d'Oise\",\"Hamburg\",\"Washington\",\"Washington\",\"England\",\"Hamburg\",\"England\",\"Nordrhein-Westfalen\",\"Nordrhein-Westfalen\",\"Nordrhein-Westfalen\",\"Washington\",\"Washington\",\"Washington\",\"Washington\",\"Washington\",\"Nord\",\"Loiret\",\"Val d'Oise\",\"Val d'Oise\",\"Val d'Oise\",\"Washington\",\"Washington\",\"Val d'Oise\",\"California\",\"England\",\"California\",\"Hamburg\",\"Washington\",\"Washington\",\"Washington\",\"Hauts de Seine\",\"Oregon\",\"California\",\"Saarland\",\"Saarland\",\"Oregon\",\"California\",\"California\",\"California\",\"Washington\",\"Washington\",\"California\",\"England\",\"California\",\"California\",\"England\",\"California\",\"England\",\"England\",\"California\",\"England\",\"England\",\"Yveline\",\"England\",\"Moselle\",\"Moselle\",\"Moselle\",\"Washington\",\"Moselle\",\"England\",\"Bayern\",\"Bayern\",\"Bayern\",\"California\",\"California\",\"Oregon\",\"California\",\"Hamburg\",\"Hamburg\",\"California\",\"California\",\"Washington\",\"England\",\"California\",\"Washington\",\"Washington\",\"Washington\",\"Washington\",\"England\",\"California\",\"California\",\"Oregon\",\"Oregon\",\"California\",\"California\",\"California\",\"Washington\",\"Washington\",\"Washington\",\"Val d'Oise\",\"Nordrhein-Westfalen\",\"Nordrhein-Westfalen\",\"Nordrhein-Westfalen\",\"Val d'Oise\",\"Seine Saint Denis\",\"California\",\"California\",\"Hamburg\",\"Oregon\",\"California\",\"Washington\",\"Washington\",\"England\",\"California\",\"California\",\"California\",\"England\",\"California\",\"Washington\",\"Washington\",\"California\",\"England\",\"England\",\"Bayern\",\"California\",\"Washington\",\"Washington\",\"Washington\",\"Washington\",\"California\",\"Washington\",\"California\",\"California\",\"Washington\",\"California\",\"California\",\"California\",\"California\",\"California\",\"Washington\",\"Washington\",\"Washington\",\"England\",\"England\",\"California\",\"Saarland\",\"California\",\"England\",\"England\",\"California\",\"California\",\"California\",\"California\",\"California\",\"Hessen\",\"Hessen\",\"California\",\"California\",\"California\",\"California\",\"California\",\"Nordrhein-Westfalen\",\"Nordrhein-Westfalen\",\"California\",\"Washington\",\"California\",\"California\",\"Nordrhein-Westfalen\",\"California\",\"California\",\"Hessen\",\"Hessen\",\"Hessen\",\"California\",\"England\",\"California\",\"Washington\",\"England\",\"California\",\"California\",\"California\",\"California\",\"California\",\"England\",\"California\",\"Oregon\",\"Oregon\",\"England\",\"Oregon\",\"Essonne\",\"California\",\"California\",\"England\",\"Nord\",\"Nord\",\"England\",\"England\",\"England\",\"England\",\"England\",\"California\",\"California\",\"Nordrhein-Westfalen\",\"Nordrhein-Westfalen\",\"Seine Saint Denis\",\"Seine Saint Denis\",\"California\",\"California\",\"Bayern\",\"Bayern\",\"California\",\"California\",\"Bayern\",\"California\",\"Washington\",\"California\",\"California\",\"Washington\",\"Washington\",\"California\",\"Seine et Marne\",\"Seine et Marne\",\"California\",\"Seine et Marne\",\"California\",\"Seine et Marne\",\"California\",\"California\",\"California\",\"California\",\"California\",\"California\",\"California\",\"California\",\"Washington\",\"California\",\"Nord\",\"California\",\"California\",\"Nord\",\"Hauts de Seine\",\"California\",\"California\",\"California\",\"California\",\"California\",\"Washington\",\"California\",\"Washington\",\"England\",\"Washington\",\"Washington\",\"California\",\"England\",\"England\",\"California\",\"California\",\"England\",\"Washington\",\"Seine Saint Denis\",\"England\",\"Washington\",\"California\",\"California\",\"California\",\"California\",\"Washington\",\"Washington\",\"Washington\",\"England\",\"California\",\"California\",\"Washington\",\"California\",\"California\",\"Seine Saint Denis\",\"Seine (Paris)\",\"England\",\"England\",\"Seine (Paris)\",\"Seine (Paris)\",\"Seine (Paris)\",\"Seine (Paris)\",\"Washington\",\"California\",\"California\",\"Washington\",\"Oregon\",\"Washington\",\"California\",\"Alabama\",\"Oregon\",\"Washington\",\"California\",\"California\",\"California\",\"California\",\"Saarland\",\"Saarland\",\"California\",\"Washington\",\"Washington\",\"California\",\"California\",\"Yveline\",\"Washington\",\"California\",\"England\",\"England\",\"England\",\"California\",\"England\",\"California\",\"Washington\",\"England\",\"England\",\"Washington\",\"California\",\"England\",\"California\",\"California\",\"Washington\",\"California\",\"California\",\"California\",\"California\",\"Washington\",\"Washington\",\"Washington\",\"Washington\",\"Washington\",\"California\",\"Washington\",\"Washington\",\"Washington\",\"Washington\",\"Yveline\",\"California\",\"Hessen\",\"Washington\",\"Hessen\",\"California\",\"California\",\"California\",\"California\",\"California\",\"England\",\"Washington\",\"California\",\"California\",\"California\",\"California\",\"Seine Saint Denis\",\"Seine Saint Denis\",\"Yveline\",\"California\",\"California\",\"Hamburg\",\"England\",\"England\",\"California\",\"California\",\"California\",\"California\",\"England\",\"England\",\"Loir et Cher\",\"Loir et Cher\",\"Loir et Cher\",\"California\",\"Hessen\",\"England\",\"California\",\"England\",\"England\",\"England\",\"California\",\"Washington\",\"Washington\",\"Washington\",\"California\",\"Washington\",\"Saarland\",\"Saarland\",\"Yveline\",\"Yveline\",\"California\",\"England\",\"England\",\"England\",\"England\",\"England\",\"California\",\"California\",\"California\",\"Val d'Oise\",\"California\",\"Charente-Maritime\",\"Charente-Maritime\",\"Charente-Maritime\",\"Washington\",\"California\",\"England\",\"Val d'Oise\",\"Val d'Oise\",\"California\",\"Moselle\",\"Moselle\",\"England\",\"Seine Saint Denis\",\"Seine Saint Denis\",\"California\",\"Oregon\",\"California\",\"California\",\"Oregon\",\"England\",\"England\",\"Oregon\",\"Oregon\",\"California\",\"Oregon\",\"Oregon\",\"California\",\"California\",\"Washington\",\"Washington\",\"Washington\",\"Hessen\",\"California\",\"California\",\"California\",\"California\",\"California\",\"Washington\",\"Washington\",\"Washington\",\"Washington\",\"Washington\",\"Seine Saint Denis\",\"Seine Saint Denis\",\"Seine Saint Denis\",\"Washington\",\"Seine Saint Denis\",\"Seine Saint Denis\",\"Hessen\",\"Hessen\",\"Hessen\",\"Hessen\",\"California\",\"California\",\"California\",\"California\",\"California\",\"California\",\"Washington\",\"California\",\"California\",\"California\",\"Oregon\",\"Oregon\",\"Oregon\",\"Oregon\",\"California\",\"California\",\"England\",\"California\",\"Seine (Paris)\",\"Oregon\",\"California\",\"California\",\"Oregon\",\"Oregon\",\"Washington\",\"Hauts de Seine\",\"Washington\",\"California\",\"California\",\"California\",\"California\",\"California\",\"California\",\"Yveline\",\"Oregon\",\"Washington\",\"Washington\",\"Washington\",\"Yveline\",\"Val d'Oise\",\"Yveline\",\"Yveline\",\"Yveline\",\"Yveline\",\"Val d'Oise\",\"Val d'Oise\",\"Hessen\",\"Hessen\",\"California\",\"England\",\"Washington\",\"California\",\"California\",\"California\",\"California\",\"England\",\"Washington\",\"Washington\",\"Washington\",\"Ohio\",\"Ohio\",\"Ohio\",\"England\",\"California\",\"California\",\"Washington\",\"Nordrhein-Westfalen\",\"Nordrhein-Westfalen\",\"Nordrhein-Westfalen\",\"Seine (Paris)\",\"Seine (Paris)\",\"Washington\",\"Seine (Paris)\",\"Nordrhein-Westfalen\",\"Val d'Oise\",\"Val d'Oise\",\"Washington\",\"Val d'Oise\",\"California\",\"California\",\"California\",\"Hessen\",\"Nordrhein-Westfalen\",\"Nordrhein-Westfalen\",\"Nordrhein-Westfalen\",\"California\",\"Washington\",\"Washington\",\"California\",\"Hessen\",\"Hessen\",\"California\",\"Essonne\",\"Essonne\",\"California\",\"Essonne\",\"Essonne\",\"California\",\"California\",\"Hessen\",\"Essonne\",\"California\",\"California\",\"California\",\"Oregon\",\"California\",\"Essonne\",\"Washington\",\"Washington\",\"Washington\",\"Oregon\",\"Washington\",\"Washington\",\"Washington\",\"Seine (Paris)\",\"California\",\"Hessen\",\"Hessen\",\"California\",\"Washington\",\"Washington\",\"California\",\"Washington\",\"Washington\",\"Washington\",\"Washington\",\"Washington\",\"Washington\",\"Washington\",\"England\",\"Washington\",\"California\",\"Washington\",\"California\",\"California\",\"California\",\"Washington\",\"England\",\"Washington\",\"California\",\"California\",\"California\",\"California\",\"England\",\"England\",\"Washington\",\"England\",\"California\",\"California\",\"California\",\"Washington\",\"California\",\"Seine et Marne\",\"California\",\"California\",\"California\",\"Loiret\",\"Loiret\",\"Oregon\",\"Nord\",\"Nord\",\"California\",\"Washington\",\"Oregon\",\"Oregon\",\"Washington\",\"California\",\"England\",\"California\",\"California\",\"California\",\"California\",\"California\",\"Oregon\",\"Saarland\",\"England\",\"Washington\",\"Seine (Paris)\",\"Washington\",\"California\",\"California\",\"California\",\"Washington\",\"California\",\"Washington\",\"Hessen\",\"Hamburg\",\"Washington\",\"Hamburg\",\"California\",\"Washington\",\"California\",\"England\",\"England\",\"England\",\"Oregon\",\"Oregon\",\"Oregon\",\"California\",\"Washington\",\"Nord\",\"Nord\",\"Oregon\",\"California\",\"California\",\"California\",\"Washington\",\"Essonne\",\"Seine (Paris)\",\"Oregon\",\"Oregon\",\"California\",\"Essonne\",\"England\",\"England\",\"Seine Saint Denis\",\"Seine Saint Denis\",\"Seine Saint Denis\",\"Seine Saint Denis\",\"California\",\"California\",\"California\",\"California\",\"California\",\"California\",\"California\",\"Loiret\"],\"y\":[\"United States\",\"United States\",\"United Kingdom\",\"United Kingdom\",\"United States\",\"Germany\",\"United States\",\"Germany\",\"United States\",\"United States\",\"United States\",\"United States\",\"United States\",\"United States\",\"United States\",\"United States\",\"United States\",\"United States\",\"United States\",\"United States\",\"United States\",\"United States\",\"United States\",\"United States\",\"United States\",\"United States\",\"United States\",\"United Kingdom\",\"United States\",\"United States\",\"United States\",\"United States\",\"United States\",\"United States\",\"United States\",\"United States\",\"United States\",\"United Kingdom\",\"United Kingdom\",\"United States\",\"United States\",\"United States\",\"United States\",\"United States\",\"United Kingdom\",\"United States\",\"United States\",\"United States\",\"United States\",\"France\",\"France\",\"France\",\"United States\",\"United States\",\"France\",\"United States\",\"United States\",\"United States\",\"United States\",\"Germany\",\"United Kingdom\",\"United States\",\"United States\",\"United States\",\"United States\",\"Germany\",\"France\",\"United States\",\"United States\",\"United States\",\"Germany\",\"Germany\",\"Germany\",\"Germany\",\"United States\",\"United States\",\"Germany\",\"Germany\",\"Germany\",\"France\",\"United States\",\"France\",\"United States\",\"United States\",\"United States\",\"United States\",\"United States\",\"United States\",\"United States\",\"United States\",\"United Kingdom\",\"United Kingdom\",\"France\",\"France\",\"France\",\"United States\",\"United States\",\"United States\",\"Germany\",\"United States\",\"United States\",\"United States\",\"United States\",\"United States\",\"United States\",\"Germany\",\"United States\",\"United States\",\"United States\",\"France\",\"Germany\",\"Germany\",\"United States\",\"United Kingdom\",\"France\",\"France\",\"France\",\"Germany\",\"United States\",\"United States\",\"Germany\",\"Germany\",\"Germany\",\"United States\",\"France\",\"France\",\"Germany\",\"United States\",\"France\",\"France\",\"France\",\"France\",\"Germany\",\"United States\",\"United States\",\"United States\",\"United States\",\"United States\",\"United States\",\"United States\",\"United States\",\"United States\",\"United States\",\"United States\",\"United Kingdom\",\"United Kingdom\",\"United Kingdom\",\"United Kingdom\",\"United Kingdom\",\"United Kingdom\",\"United States\",\"United States\",\"United States\",\"United States\",\"United Kingdom\",\"United States\",\"United Kingdom\",\"United Kingdom\",\"United Kingdom\",\"United States\",\"France\",\"France\",\"France\",\"France\",\"France\",\"United Kingdom\",\"France\",\"France\",\"United States\",\"United States\",\"United Kingdom\",\"France\",\"France\",\"France\",\"France\",\"France\",\"United States\",\"United Kingdom\",\"United Kingdom\",\"United States\",\"United Kingdom\",\"United States\",\"United Kingdom\",\"United States\",\"United States\",\"United States\",\"United States\",\"United Kingdom\",\"United States\",\"United Kingdom\",\"United Kingdom\",\"United Kingdom\",\"United Kingdom\",\"United Kingdom\",\"United Kingdom\",\"United Kingdom\",\"United States\",\"United States\",\"United States\",\"France\",\"France\",\"France\",\"United States\",\"France\",\"France\",\"France\",\"France\",\"United States\",\"United States\",\"United States\",\"United States\",\"United States\",\"United States\",\"France\",\"France\",\"France\",\"France\",\"United States\",\"United States\",\"United States\",\"United Kingdom\",\"United States\",\"United States\",\"United States\",\"United States\",\"France\",\"Germany\",\"Germany\",\"France\",\"United States\",\"United States\",\"United States\",\"United States\",\"United States\",\"United States\",\"United States\",\"United States\",\"United States\",\"France\",\"France\",\"France\",\"United States\",\"United States\",\"France\",\"France\",\"United States\",\"Germany\",\"United States\",\"Germany\",\"United States\",\"United States\",\"United States\",\"United States\",\"United States\",\"United States\",\"France\",\"France\",\"United Kingdom\",\"United States\",\"United States\",\"United States\",\"United States\",\"United States\",\"United States\",\"Germany\",\"United States\",\"France\",\"France\",\"United States\",\"France\",\"United Kingdom\",\"United Kingdom\",\"United Kingdom\",\"United States\",\"United States\",\"United States\",\"United States\",\"Germany\",\"France\",\"United States\",\"United States\",\"United States\",\"France\",\"Germany\",\"Germany\",\"United Kingdom\",\"United States\",\"United States\",\"United States\",\"United States\",\"United States\",\"France\",\"United States\",\"United States\",\"France\",\"United States\",\"United Kingdom\",\"United Kingdom\",\"United Kingdom\",\"United States\",\"United States\",\"United States\",\"United States\",\"United States\",\"United States\",\"United Kingdom\",\"United Kingdom\",\"United States\",\"United States\",\"United States\",\"United States\",\"United States\",\"United States\",\"United States\",\"United States\",\"France\",\"United States\",\"United States\",\"United States\",\"United States\",\"United States\",\"United States\",\"United States\",\"United States\",\"United States\",\"United States\",\"United States\",\"United States\",\"United Kingdom\",\"United States\",\"United Kingdom\",\"France\",\"United States\",\"United States\",\"France\",\"France\",\"United States\",\"France\",\"United States\",\"France\",\"France\",\"France\",\"France\",\"United States\",\"United States\",\"United States\",\"United States\",\"United States\",\"United States\",\"United States\",\"United States\",\"United States\",\"United States\",\"France\",\"United Kingdom\",\"United Kingdom\",\"United Kingdom\",\"United States\",\"United States\",\"France\",\"France\",\"France\",\"United States\",\"United States\",\"United Kingdom\",\"Germany\",\"United States\",\"Germany\",\"United States\",\"United States\",\"United States\",\"United States\",\"United Kingdom\",\"France\",\"France\",\"United States\",\"United States\",\"United States\",\"France\",\"United States\",\"United States\",\"United States\",\"United States\",\"United States\",\"France\",\"France\",\"United Kingdom\",\"United Kingdom\",\"United States\",\"United States\",\"Germany\",\"United States\",\"Germany\",\"United States\",\"United States\",\"United States\",\"France\",\"France\",\"France\",\"France\",\"United Kingdom\",\"United States\",\"United Kingdom\",\"France\",\"United Kingdom\",\"France\",\"France\",\"France\",\"United States\",\"France\",\"United Kingdom\",\"France\",\"United States\",\"France\",\"United States\",\"United States\",\"United States\",\"United States\",\"United States\",\"United States\",\"United States\",\"United States\",\"United States\",\"United States\",\"United States\",\"United States\",\"United States\",\"United States\",\"United States\",\"United States\",\"United States\",\"United States\",\"United States\",\"United States\",\"United States\",\"United States\",\"Germany\",\"Germany\",\"Germany\",\"United States\",\"United Kingdom\",\"United States\",\"United States\",\"United States\",\"United States\",\"United States\",\"United Kingdom\",\"United States\",\"France\",\"United Kingdom\",\"France\",\"United States\",\"United States\",\"United States\",\"United States\",\"United States\",\"United States\",\"United States\",\"United States\",\"United States\",\"United States\",\"United States\",\"United States\",\"United States\",\"France\",\"United States\",\"United Kingdom\",\"United States\",\"United States\",\"United States\",\"United States\",\"United States\",\"United States\",\"United States\",\"United States\",\"United States\",\"United States\",\"United States\",\"Germany\",\"United States\",\"United States\",\"United States\",\"United Kingdom\",\"United States\",\"United States\",\"United States\",\"France\",\"France\",\"France\",\"United States\",\"United States\",\"United States\",\"France\",\"United States\",\"France\",\"France\",\"France\",\"United States\",\"United Kingdom\",\"United States\",\"France\",\"France\",\"Germany\",\"France\",\"France\",\"Germany\",\"United States\",\"France\",\"United Kingdom\",\"United States\",\"United Kingdom\",\"Germany\",\"Germany\",\"France\",\"United States\",\"United States\",\"France\",\"France\",\"United States\",\"United States\",\"United States\",\"United States\",\"United States\",\"United States\",\"United States\",\"United States\",\"United States\",\"United States\",\"United States\",\"United States\",\"United States\",\"United States\",\"United States\",\"France\",\"United States\",\"France\",\"United Kingdom\",\"Germany\",\"Germany\",\"United Kingdom\",\"United Kingdom\",\"United States\",\"Germany\",\"United States\",\"Germany\",\"United States\",\"United States\",\"France\",\"Germany\",\"United States\",\"United States\",\"United States\",\"United States\",\"United States\",\"United States\",\"United States\",\"United States\",\"United Kingdom\",\"United Kingdom\",\"United Kingdom\",\"United Kingdom\",\"France\",\"United States\",\"United States\",\"United Kingdom\",\"United Kingdom\",\"United Kingdom\",\"United Kingdom\",\"United States\",\"United States\",\"United States\",\"United States\",\"United States\",\"United States\",\"United States\",\"United States\",\"United States\",\"United States\",\"United States\",\"United States\",\"United States\",\"United States\",\"United States\",\"United States\",\"United States\",\"United States\",\"United States\",\"United States\",\"United States\",\"United States\",\"United Kingdom\",\"United Kingdom\",\"United Kingdom\",\"United States\",\"United States\",\"United States\",\"United States\",\"France\",\"Germany\",\"United States\",\"United States\",\"United States\",\"United Kingdom\",\"United Kingdom\",\"United Kingdom\",\"United Kingdom\",\"France\",\"United Kingdom\",\"United States\",\"Germany\",\"Germany\",\"Germany\",\"Germany\",\"France\",\"France\",\"France\",\"United Kingdom\",\"United Kingdom\",\"United Kingdom\",\"United States\",\"United Kingdom\",\"France\",\"United States\",\"United States\",\"United States\",\"United States\",\"United States\",\"United States\",\"United States\",\"United States\",\"United States\",\"Germany\",\"Germany\",\"Germany\",\"United States\",\"United States\",\"United Kingdom\",\"United States\",\"United States\",\"Germany\",\"United States\",\"United Kingdom\",\"United Kingdom\",\"United States\",\"United States\",\"United States\",\"United States\",\"United States\",\"United States\",\"United States\",\"United States\",\"United States\",\"United States\",\"United States\",\"Germany\",\"United States\",\"United States\",\"United States\",\"United Kingdom\",\"United States\",\"United States\",\"United Kingdom\",\"United States\",\"United States\",\"United States\",\"United States\",\"United States\",\"United States\",\"United States\",\"United States\",\"United States\",\"United States\",\"Germany\",\"France\",\"United States\",\"France\",\"United Kingdom\",\"United States\",\"United States\",\"United States\",\"United States\",\"United States\",\"France\",\"France\",\"France\",\"United States\",\"United States\",\"United States\",\"United States\",\"United States\",\"United States\",\"United States\",\"Germany\",\"Germany\",\"United States\",\"United States\",\"United Kingdom\",\"United Kingdom\",\"United Kingdom\",\"United Kingdom\",\"United States\",\"United States\",\"United States\",\"United States\",\"United States\",\"United States\",\"Germany\",\"United States\",\"United States\",\"United Kingdom\",\"United States\",\"United Kingdom\",\"United Kingdom\",\"United States\",\"United States\",\"United States\",\"United States\",\"United States\",\"United States\",\"United States\",\"United States\",\"United States\",\"United States\",\"France\",\"France\",\"France\",\"United States\",\"United States\",\"United States\",\"United States\",\"France\",\"United States\",\"Germany\",\"United States\",\"United States\",\"United States\",\"United States\",\"France\",\"France\",\"France\",\"United States\",\"United States\",\"United States\",\"United States\",\"United States\",\"France\",\"Germany\",\"Germany\",\"Germany\",\"United States\",\"United States\",\"United States\",\"France\",\"France\",\"United Kingdom\",\"United Kingdom\",\"Germany\",\"United States\",\"United States\",\"France\",\"United States\",\"United States\",\"United States\",\"United States\",\"United States\",\"United States\",\"United States\",\"United States\",\"France\",\"France\",\"United Kingdom\",\"United States\",\"United States\",\"United States\",\"United States\",\"United States\",\"United States\",\"United States\",\"United States\",\"United States\",\"United States\",\"United States\",\"United Kingdom\",\"United Kingdom\",\"United Kingdom\",\"United Kingdom\",\"United Kingdom\",\"United States\",\"United Kingdom\",\"United States\",\"United States\",\"United States\",\"United States\",\"United States\",\"United States\",\"United States\",\"United States\",\"United States\",\"United Kingdom\",\"France\",\"United States\",\"United States\",\"France\",\"France\",\"United States\",\"United States\",\"United States\",\"France\",\"France\",\"France\",\"United States\",\"United States\",\"United States\",\"United States\",\"France\",\"United States\",\"United States\",\"United States\",\"United States\",\"United States\",\"United States\",\"United States\",\"United States\",\"United States\",\"France\",\"France\",\"France\",\"United Kingdom\",\"United Kingdom\",\"United States\",\"United States\",\"United Kingdom\",\"United States\",\"United States\",\"United Kingdom\",\"United Kingdom\",\"United States\",\"United States\",\"United States\",\"United States\",\"United States\",\"United Kingdom\",\"United Kingdom\",\"United States\",\"France\",\"United Kingdom\",\"United States\",\"United States\",\"United States\",\"Germany\",\"Germany\",\"France\",\"United States\",\"United States\",\"United States\",\"United Kingdom\",\"United States\",\"United States\",\"United States\",\"United States\",\"United States\",\"United States\",\"United States\",\"United States\",\"United States\",\"United States\",\"United States\",\"United States\",\"United States\",\"United States\",\"United States\",\"United States\",\"France\",\"United States\",\"United States\",\"United States\",\"United States\",\"United States\",\"United States\",\"United States\",\"United States\",\"United States\",\"United States\",\"United States\",\"Germany\",\"United States\",\"United States\",\"United States\",\"United States\",\"United States\",\"Germany\",\"France\",\"United Kingdom\",\"United States\",\"United States\",\"United States\",\"France\",\"United States\",\"United States\",\"United States\",\"United States\",\"France\",\"France\",\"United States\",\"United States\",\"United States\",\"United States\",\"United Kingdom\",\"United Kingdom\",\"Germany\",\"Germany\",\"United States\",\"United States\",\"United States\",\"United States\",\"Germany\",\"United Kingdom\",\"Germany\",\"United States\",\"United Kingdom\",\"United States\",\"United States\",\"United States\",\"United States\",\"United Kingdom\",\"United States\",\"United States\",\"United States\",\"Germany\",\"Germany\",\"Germany\",\"Germany\",\"United States\",\"France\",\"United States\",\"United States\",\"United States\",\"United States\",\"United States\",\"United Kingdom\",\"United States\",\"France\",\"France\",\"France\",\"France\",\"France\",\"United States\",\"United Kingdom\",\"United States\",\"United Kingdom\",\"United States\",\"United States\",\"United States\",\"United States\",\"United States\",\"United States\",\"United Kingdom\",\"United States\",\"United Kingdom\",\"United Kingdom\",\"United Kingdom\",\"United Kingdom\",\"United Kingdom\",\"United Kingdom\",\"United States\",\"United States\",\"United Kingdom\",\"Germany\",\"United Kingdom\",\"United Kingdom\",\"United States\",\"United States\",\"United States\",\"United States\",\"United States\",\"United States\",\"United States\",\"United States\",\"United Kingdom\",\"United States\",\"United States\",\"United States\",\"United States\",\"United Kingdom\",\"United States\",\"United States\",\"United States\",\"United States\",\"United States\",\"United States\",\"United States\",\"United States\",\"Germany\",\"United States\",\"Germany\",\"United States\",\"United States\",\"Germany\",\"United States\",\"Germany\",\"France\",\"United States\",\"United States\",\"Germany\",\"Germany\",\"United States\",\"United States\",\"United States\",\"Germany\",\"United States\",\"United States\",\"United States\",\"United Kingdom\",\"United Kingdom\",\"United Kingdom\",\"United Kingdom\",\"United States\",\"United States\",\"United States\",\"United States\",\"United States\",\"United States\",\"United States\",\"United States\",\"United States\",\"United States\",\"United States\",\"United States\",\"United States\",\"United Kingdom\",\"United States\",\"France\",\"France\",\"France\",\"United States\",\"United States\",\"United States\",\"France\",\"France\",\"France\",\"France\",\"United States\",\"United States\",\"United States\",\"United States\",\"United States\",\"United States\",\"United States\",\"United Kingdom\",\"France\",\"France\",\"France\",\"United States\",\"France\",\"United States\",\"United States\",\"United States\",\"United States\",\"United States\",\"United States\",\"United States\",\"France\",\"France\",\"United Kingdom\",\"France\",\"United Kingdom\",\"United States\",\"United States\",\"United States\",\"United Kingdom\",\"France\",\"United Kingdom\",\"United States\",\"France\",\"Germany\",\"United Kingdom\",\"Germany\",\"France\",\"Germany\",\"France\",\"United States\",\"United States\",\"United States\",\"United States\",\"United States\",\"United States\",\"Germany\",\"Germany\",\"Germany\",\"France\",\"United States\",\"United Kingdom\",\"United States\",\"United Kingdom\",\"United Kingdom\",\"United States\",\"United States\",\"United States\",\"United States\",\"United States\",\"France\",\"France\",\"Germany\",\"France\",\"United Kingdom\",\"United States\",\"United States\",\"United States\",\"United Kingdom\",\"United States\",\"United Kingdom\",\"United States\",\"United States\",\"United Kingdom\",\"United States\",\"United States\",\"United States\",\"United States\",\"United States\",\"United States\",\"United States\",\"United States\",\"United States\",\"United States\",\"United States\",\"United Kingdom\",\"France\",\"United States\",\"United States\",\"United States\",\"France\",\"Germany\",\"Germany\",\"United Kingdom\",\"United States\",\"United Kingdom\",\"United States\",\"United Kingdom\",\"United Kingdom\",\"Germany\",\"United States\",\"United States\",\"France\",\"United Kingdom\",\"United States\",\"United Kingdom\",\"United States\",\"France\",\"United States\",\"United States\",\"United States\",\"United States\",\"United States\",\"United States\",\"United States\",\"United States\",\"United States\",\"United States\",\"United Kingdom\",\"United Kingdom\",\"France\",\"United States\",\"United Kingdom\",\"United States\",\"United States\",\"France\",\"United States\",\"United States\",\"France\",\"United States\",\"France\",\"United Kingdom\",\"United Kingdom\",\"United Kingdom\",\"United States\",\"United Kingdom\",\"United Kingdom\",\"United States\",\"United Kingdom\",\"United Kingdom\",\"United Kingdom\",\"United Kingdom\",\"Germany\",\"Germany\",\"United States\",\"United States\",\"United States\",\"United States\",\"United Kingdom\",\"United States\",\"United States\",\"United States\",\"United States\",\"United Kingdom\",\"United States\",\"United States\",\"United States\",\"United States\",\"United States\",\"United States\",\"United States\",\"United Kingdom\",\"Germany\",\"United States\",\"United States\",\"France\",\"France\",\"France\",\"Germany\",\"Germany\",\"United States\",\"United States\",\"United States\",\"United States\",\"United States\",\"United States\",\"United States\",\"Germany\",\"United States\",\"United States\",\"United States\",\"United States\",\"United States\",\"France\",\"France\",\"France\",\"United States\",\"United States\",\"Germany\",\"United States\",\"United States\",\"United States\",\"United States\",\"United States\",\"United States\",\"United States\",\"United States\",\"United States\",\"United Kingdom\",\"United Kingdom\",\"United Kingdom\",\"France\",\"France\",\"France\",\"France\",\"United States\",\"United States\",\"United States\",\"United States\",\"United States\",\"United Kingdom\",\"Germany\",\"France\",\"France\",\"France\",\"United States\",\"Germany\",\"United States\",\"United States\",\"United States\",\"United States\",\"United States\",\"Germany\",\"United States\",\"United States\",\"United Kingdom\",\"Germany\",\"United States\",\"Germany\",\"United States\",\"United States\",\"United States\",\"United States\",\"United Kingdom\",\"United Kingdom\",\"United Kingdom\",\"United States\",\"United States\",\"United Kingdom\",\"United States\",\"United States\",\"United States\",\"United States\",\"United States\",\"United States\",\"United States\",\"United States\",\"United Kingdom\",\"United States\",\"United States\",\"United States\",\"United States\",\"United Kingdom\",\"Germany\",\"Germany\",\"Germany\",\"United States\",\"France\",\"France\",\"France\",\"France\",\"United States\",\"United States\",\"United States\",\"United States\",\"United States\",\"United States\",\"United States\",\"United Kingdom\",\"United Kingdom\",\"Germany\",\"United States\",\"United States\",\"United States\",\"United States\",\"United States\",\"United States\",\"United States\",\"United States\",\"United States\",\"Germany\",\"Germany\",\"Germany\",\"Germany\",\"Germany\",\"Germany\",\"United Kingdom\",\"Germany\",\"United States\",\"United States\",\"United States\",\"France\",\"France\",\"France\",\"France\",\"France\",\"United States\",\"France\",\"France\",\"France\",\"France\",\"United States\",\"United States\",\"United Kingdom\",\"United Kingdom\",\"France\",\"France\",\"United States\",\"France\",\"France\",\"France\",\"Germany\",\"United States\",\"United States\",\"Germany\",\"France\",\"United States\",\"United States\",\"France\",\"France\",\"France\",\"France\",\"United States\",\"United Kingdom\",\"United Kingdom\",\"United Kingdom\",\"Germany\",\"Germany\",\"United States\",\"United States\",\"France\",\"United States\",\"United States\",\"United States\",\"France\",\"United States\",\"France\",\"France\",\"France\",\"United States\",\"United States\",\"United States\",\"France\",\"United States\",\"Germany\",\"France\",\"United States\",\"France\",\"France\",\"France\",\"United States\",\"United Kingdom\",\"United Kingdom\",\"United Kingdom\",\"United Kingdom\",\"United States\",\"United States\",\"United States\",\"United States\",\"United States\",\"United States\",\"United States\",\"United States\",\"United States\",\"United States\",\"United States\",\"France\",\"United Kingdom\",\"United States\",\"United States\",\"United States\",\"France\",\"United States\",\"United States\",\"United States\",\"United States\",\"United Kingdom\",\"United Kingdom\",\"United Kingdom\",\"United States\",\"Germany\",\"Germany\",\"United States\",\"United States\",\"Germany\",\"United Kingdom\",\"France\",\"United States\",\"France\",\"United States\",\"United States\",\"United States\",\"United Kingdom\",\"United States\",\"United States\",\"United States\",\"United States\",\"United States\",\"United States\",\"United States\",\"Germany\",\"United States\",\"United States\",\"Germany\",\"United Kingdom\",\"United States\",\"United States\",\"United States\",\"France\",\"France\",\"France\",\"France\",\"France\",\"United States\",\"United States\",\"United Kingdom\",\"United States\",\"United States\",\"United Kingdom\",\"United Kingdom\",\"United States\",\"France\",\"United States\",\"France\",\"United States\",\"United States\",\"France\",\"France\",\"France\",\"United States\",\"Germany\",\"Germany\",\"United States\",\"United States\",\"United States\",\"United States\",\"United States\",\"United States\",\"United States\",\"United States\",\"United States\",\"United Kingdom\",\"United Kingdom\",\"United Kingdom\",\"France\",\"France\",\"United States\",\"United States\",\"United States\",\"United Kingdom\",\"United Kingdom\",\"United Kingdom\",\"United Kingdom\",\"United Kingdom\",\"United Kingdom\",\"United States\",\"United States\",\"United States\",\"United States\",\"United States\",\"United States\",\"United States\",\"France\",\"France\",\"France\",\"France\",\"United States\",\"United States\",\"France\",\"France\",\"United States\",\"United States\",\"United States\",\"United Kingdom\",\"United States\",\"United States\",\"France\",\"United Kingdom\",\"France\",\"France\",\"United Kingdom\",\"United States\",\"United States\",\"France\",\"United States\",\"United States\",\"United States\",\"United States\",\"United States\",\"United States\",\"United States\",\"United Kingdom\",\"United Kingdom\",\"United States\",\"United States\",\"United States\",\"United Kingdom\",\"United States\",\"France\",\"United States\",\"United States\",\"United States\",\"France\",\"United States\",\"United States\",\"United States\",\"United States\",\"Germany\",\"Germany\",\"Germany\",\"France\",\"France\",\"France\",\"United States\",\"France\",\"France\",\"France\",\"United States\",\"France\",\"France\",\"United States\",\"France\",\"United States\",\"United States\",\"United States\",\"United States\",\"Germany\",\"United States\",\"France\",\"United States\",\"France\",\"United States\",\"United States\",\"United States\",\"United States\",\"United States\",\"United States\",\"United Kingdom\",\"United Kingdom\",\"Germany\",\"United Kingdom\",\"Germany\",\"Germany\",\"Germany\",\"United States\",\"Germany\",\"United States\",\"France\",\"United States\",\"United States\",\"United States\",\"United States\",\"United States\",\"United States\",\"Germany\",\"United States\",\"United States\",\"Germany\",\"United States\",\"United States\",\"United Kingdom\",\"United Kingdom\",\"France\",\"France\",\"United Kingdom\",\"United States\",\"United States\",\"France\",\"United States\",\"France\",\"United States\",\"France\",\"France\",\"France\",\"France\",\"France\",\"United Kingdom\",\"United States\",\"United Kingdom\",\"United States\",\"United States\",\"United States\",\"France\",\"France\",\"France\",\"France\",\"United States\",\"United States\",\"United States\",\"United States\",\"France\",\"United States\",\"United States\",\"United States\",\"France\",\"United States\",\"United States\",\"United States\",\"United States\",\"United States\",\"United States\",\"United States\",\"United States\",\"United States\",\"United States\",\"United States\",\"United States\",\"United States\",\"United States\",\"United States\",\"United States\",\"United States\",\"United States\",\"United States\",\"United States\",\"Germany\",\"Germany\",\"United States\",\"United States\",\"United States\",\"United States\",\"United States\",\"France\",\"France\",\"France\",\"United States\",\"United States\",\"United States\",\"United States\",\"United States\",\"United States\",\"United States\",\"United States\",\"United States\",\"United States\",\"United States\",\"Germany\",\"Germany\",\"Germany\",\"Germany\",\"United States\",\"United States\",\"France\",\"France\",\"France\",\"France\",\"France\",\"United States\",\"United Kingdom\",\"United States\",\"United States\",\"United States\",\"United States\",\"United States\",\"United States\",\"United States\",\"United States\",\"Germany\",\"United States\",\"United States\",\"United States\",\"United Kingdom\",\"United Kingdom\",\"United States\",\"United States\",\"France\",\"France\",\"Germany\",\"United States\",\"United States\",\"United States\",\"United States\",\"United States\",\"United States\",\"United Kingdom\",\"United Kingdom\",\"United Kingdom\",\"United States\",\"United States\",\"United States\",\"United States\",\"United States\",\"Germany\",\"Germany\",\"Germany\",\"Germany\",\"United States\",\"United States\",\"United States\",\"United Kingdom\",\"United States\",\"United Kingdom\",\"United States\",\"United States\",\"France\",\"France\",\"United Kingdom\",\"United Kingdom\",\"United States\",\"United States\",\"United States\",\"Germany\",\"Germany\",\"Germany\",\"France\",\"United States\",\"United States\",\"Germany\",\"Germany\",\"Germany\",\"United States\",\"United States\",\"United States\",\"United States\",\"United States\",\"Germany\",\"United States\",\"United States\",\"United States\",\"Germany\",\"United States\",\"Germany\",\"United States\",\"United Kingdom\",\"United States\",\"United States\",\"France\",\"United States\",\"United States\",\"France\",\"France\",\"France\",\"United States\",\"United States\",\"France\",\"United States\",\"United States\",\"United States\",\"United Kingdom\",\"France\",\"United Kingdom\",\"France\",\"United States\",\"United States\",\"France\",\"United Kingdom\",\"United Kingdom\",\"United States\",\"Germany\",\"Germany\",\"United States\",\"Germany\",\"France\",\"United States\",\"United States\",\"Germany\",\"Germany\",\"United States\",\"United States\",\"United States\",\"United Kingdom\",\"United States\",\"United States\",\"Germany\",\"United Kingdom\",\"Germany\",\"United Kingdom\",\"France\",\"France\",\"France\",\"France\",\"United Kingdom\",\"France\",\"United States\",\"Germany\",\"United States\",\"United States\",\"United States\",\"United States\",\"United States\",\"United Kingdom\",\"United States\",\"Germany\",\"United States\",\"Germany\",\"Germany\",\"United States\",\"United States\",\"United States\",\"France\",\"Germany\",\"Germany\",\"United States\",\"United States\",\"United States\",\"United States\",\"United States\",\"Germany\",\"Germany\",\"United Kingdom\",\"United States\",\"United States\",\"United States\",\"United States\",\"United States\",\"United States\",\"United States\",\"United States\",\"United States\",\"United States\",\"United States\",\"United States\",\"France\",\"France\",\"United States\",\"United States\",\"United States\",\"United States\",\"United Kingdom\",\"United States\",\"United States\",\"United States\",\"Germany\",\"Germany\",\"United States\",\"United States\",\"France\",\"United States\",\"United States\",\"United States\",\"United States\",\"United States\",\"United States\",\"Germany\",\"United Kingdom\",\"United Kingdom\",\"United Kingdom\",\"United Kingdom\",\"Germany\",\"Germany\",\"United States\",\"United States\",\"France\",\"France\",\"Germany\",\"United States\",\"Germany\",\"United States\",\"United States\",\"France\",\"France\",\"France\",\"France\",\"France\",\"France\",\"France\",\"United States\",\"Germany\",\"United States\",\"United States\",\"United States\",\"United States\",\"United States\",\"United States\",\"United States\",\"France\",\"Germany\",\"Germany\",\"France\",\"Germany\",\"United States\",\"United States\",\"United Kingdom\",\"Germany\",\"United Kingdom\",\"Germany\",\"Germany\",\"Germany\",\"United States\",\"United States\",\"United States\",\"United States\",\"United States\",\"France\",\"France\",\"France\",\"France\",\"France\",\"United States\",\"United States\",\"France\",\"United States\",\"United Kingdom\",\"United States\",\"Germany\",\"United States\",\"United States\",\"United States\",\"France\",\"United States\",\"United States\",\"Germany\",\"Germany\",\"United States\",\"United States\",\"United States\",\"United States\",\"United States\",\"United States\",\"United States\",\"United Kingdom\",\"United States\",\"United States\",\"United Kingdom\",\"United States\",\"United Kingdom\",\"United Kingdom\",\"United States\",\"United Kingdom\",\"United Kingdom\",\"France\",\"United Kingdom\",\"France\",\"France\",\"France\",\"United States\",\"France\",\"United Kingdom\",\"Germany\",\"Germany\",\"Germany\",\"United States\",\"United States\",\"United States\",\"United States\",\"Germany\",\"Germany\",\"United States\",\"United States\",\"United States\",\"United Kingdom\",\"United States\",\"United States\",\"United States\",\"United States\",\"United States\",\"United Kingdom\",\"United States\",\"United States\",\"United States\",\"United States\",\"United States\",\"United States\",\"United States\",\"United States\",\"United States\",\"United States\",\"France\",\"Germany\",\"Germany\",\"Germany\",\"France\",\"France\",\"United States\",\"United States\",\"Germany\",\"United States\",\"United States\",\"United States\",\"United States\",\"United Kingdom\",\"United States\",\"United States\",\"United States\",\"United Kingdom\",\"United States\",\"United States\",\"United States\",\"United States\",\"United Kingdom\",\"United Kingdom\",\"Germany\",\"United States\",\"United States\",\"United States\",\"United States\",\"United States\",\"United States\",\"United States\",\"United States\",\"United States\",\"United States\",\"United States\",\"United States\",\"United States\",\"United States\",\"United States\",\"United States\",\"United States\",\"United States\",\"United Kingdom\",\"United Kingdom\",\"United States\",\"Germany\",\"United States\",\"United Kingdom\",\"United Kingdom\",\"United States\",\"United States\",\"United States\",\"United States\",\"United States\",\"Germany\",\"Germany\",\"United States\",\"United States\",\"United States\",\"United States\",\"United States\",\"Germany\",\"Germany\",\"United States\",\"United States\",\"United States\",\"United States\",\"Germany\",\"United States\",\"United States\",\"Germany\",\"Germany\",\"Germany\",\"United States\",\"United Kingdom\",\"United States\",\"United States\",\"United Kingdom\",\"United States\",\"United States\",\"United States\",\"United States\",\"United States\",\"United Kingdom\",\"United States\",\"United States\",\"United States\",\"United Kingdom\",\"United States\",\"France\",\"United States\",\"United States\",\"United Kingdom\",\"France\",\"France\",\"United Kingdom\",\"United Kingdom\",\"United Kingdom\",\"United Kingdom\",\"United Kingdom\",\"United States\",\"United States\",\"Germany\",\"Germany\",\"France\",\"France\",\"United States\",\"United States\",\"Germany\",\"Germany\",\"United States\",\"United States\",\"Germany\",\"United States\",\"United States\",\"United States\",\"United States\",\"United States\",\"United States\",\"United States\",\"France\",\"France\",\"United States\",\"France\",\"United States\",\"France\",\"United States\",\"United States\",\"United States\",\"United States\",\"United States\",\"United States\",\"United States\",\"United States\",\"United States\",\"United States\",\"France\",\"United States\",\"United States\",\"France\",\"France\",\"United States\",\"United States\",\"United States\",\"United States\",\"United States\",\"United States\",\"United States\",\"United States\",\"United Kingdom\",\"United States\",\"United States\",\"United States\",\"United Kingdom\",\"United Kingdom\",\"United States\",\"United States\",\"United Kingdom\",\"United States\",\"France\",\"United Kingdom\",\"United States\",\"United States\",\"United States\",\"United States\",\"United States\",\"United States\",\"United States\",\"United States\",\"United Kingdom\",\"United States\",\"United States\",\"United States\",\"United States\",\"United States\",\"France\",\"France\",\"United Kingdom\",\"United Kingdom\",\"France\",\"France\",\"France\",\"France\",\"United States\",\"United States\",\"United States\",\"United States\",\"United States\",\"United States\",\"United States\",\"United States\",\"United States\",\"United States\",\"United States\",\"United States\",\"United States\",\"United States\",\"Germany\",\"Germany\",\"United States\",\"United States\",\"United States\",\"United States\",\"United States\",\"France\",\"United States\",\"United States\",\"United Kingdom\",\"United Kingdom\",\"United Kingdom\",\"United States\",\"United Kingdom\",\"United States\",\"United States\",\"United Kingdom\",\"United Kingdom\",\"United States\",\"United States\",\"United Kingdom\",\"United States\",\"United States\",\"United States\",\"United States\",\"United States\",\"United States\",\"United States\",\"United States\",\"United States\",\"United States\",\"United States\",\"United States\",\"United States\",\"United States\",\"United States\",\"United States\",\"United States\",\"France\",\"United States\",\"Germany\",\"United States\",\"Germany\",\"United States\",\"United States\",\"United States\",\"United States\",\"United States\",\"United Kingdom\",\"United States\",\"United States\",\"United States\",\"United States\",\"United States\",\"France\",\"France\",\"France\",\"United States\",\"United States\",\"Germany\",\"United Kingdom\",\"United Kingdom\",\"United States\",\"United States\",\"United States\",\"United States\",\"United Kingdom\",\"United Kingdom\",\"France\",\"France\",\"France\",\"United States\",\"Germany\",\"United Kingdom\",\"United States\",\"United Kingdom\",\"United Kingdom\",\"United Kingdom\",\"United States\",\"United States\",\"United States\",\"United States\",\"United States\",\"United States\",\"Germany\",\"Germany\",\"France\",\"France\",\"United States\",\"United Kingdom\",\"United Kingdom\",\"United Kingdom\",\"United Kingdom\",\"United Kingdom\",\"United States\",\"United States\",\"United States\",\"France\",\"United States\",\"France\",\"France\",\"France\",\"United States\",\"United States\",\"United Kingdom\",\"France\",\"France\",\"United States\",\"France\",\"France\",\"United Kingdom\",\"France\",\"France\",\"United States\",\"United States\",\"United States\",\"United States\",\"United States\",\"United Kingdom\",\"United Kingdom\",\"United States\",\"United States\",\"United States\",\"United States\",\"United States\",\"United States\",\"United States\",\"United States\",\"United States\",\"United States\",\"Germany\",\"United States\",\"United States\",\"United States\",\"United States\",\"United States\",\"United States\",\"United States\",\"United States\",\"United States\",\"United States\",\"France\",\"France\",\"France\",\"United States\",\"France\",\"France\",\"Germany\",\"Germany\",\"Germany\",\"Germany\",\"United States\",\"United States\",\"United States\",\"United States\",\"United States\",\"United States\",\"United States\",\"United States\",\"United States\",\"United States\",\"United States\",\"United States\",\"United States\",\"United States\",\"United States\",\"United States\",\"United Kingdom\",\"United States\",\"France\",\"United States\",\"United States\",\"United States\",\"United States\",\"United States\",\"United States\",\"France\",\"United States\",\"United States\",\"United States\",\"United States\",\"United States\",\"United States\",\"United States\",\"France\",\"United States\",\"United States\",\"United States\",\"United States\",\"France\",\"France\",\"France\",\"France\",\"France\",\"France\",\"France\",\"France\",\"Germany\",\"Germany\",\"United States\",\"United Kingdom\",\"United States\",\"United States\",\"United States\",\"United States\",\"United States\",\"United Kingdom\",\"United States\",\"United States\",\"United States\",\"United States\",\"United States\",\"United States\",\"United Kingdom\",\"United States\",\"United States\",\"United States\",\"Germany\",\"Germany\",\"Germany\",\"France\",\"France\",\"United States\",\"France\",\"Germany\",\"France\",\"France\",\"United States\",\"France\",\"United States\",\"United States\",\"United States\",\"Germany\",\"Germany\",\"Germany\",\"Germany\",\"United States\",\"United States\",\"United States\",\"United States\",\"Germany\",\"Germany\",\"United States\",\"France\",\"France\",\"United States\",\"France\",\"France\",\"United States\",\"United States\",\"Germany\",\"France\",\"United States\",\"United States\",\"United States\",\"United States\",\"United States\",\"France\",\"United States\",\"United States\",\"United States\",\"United States\",\"United States\",\"United States\",\"United States\",\"France\",\"United States\",\"Germany\",\"Germany\",\"United States\",\"United States\",\"United States\",\"United States\",\"United States\",\"United States\",\"United States\",\"United States\",\"United States\",\"United States\",\"United States\",\"United Kingdom\",\"United States\",\"United States\",\"United States\",\"United States\",\"United States\",\"United States\",\"United States\",\"United Kingdom\",\"United States\",\"United States\",\"United States\",\"United States\",\"United States\",\"United Kingdom\",\"United Kingdom\",\"United States\",\"United Kingdom\",\"United States\",\"United States\",\"United States\",\"United States\",\"United States\",\"France\",\"United States\",\"United States\",\"United States\",\"France\",\"France\",\"United States\",\"France\",\"France\",\"United States\",\"United States\",\"United States\",\"United States\",\"United States\",\"United States\",\"United Kingdom\",\"United States\",\"United States\",\"United States\",\"United States\",\"United States\",\"United States\",\"Germany\",\"United Kingdom\",\"United States\",\"France\",\"United States\",\"United States\",\"United States\",\"United States\",\"United States\",\"United States\",\"United States\",\"Germany\",\"Germany\",\"United States\",\"Germany\",\"United States\",\"United States\",\"United States\",\"United Kingdom\",\"United Kingdom\",\"United Kingdom\",\"United States\",\"United States\",\"United States\",\"United States\",\"United States\",\"France\",\"France\",\"United States\",\"United States\",\"United States\",\"United States\",\"United States\",\"France\",\"France\",\"United States\",\"United States\",\"United States\",\"France\",\"United Kingdom\",\"United Kingdom\",\"France\",\"France\",\"France\",\"France\",\"United States\",\"United States\",\"United States\",\"United States\",\"United States\",\"United States\",\"United States\",\"France\"],\"type\":\"scatter\"}],                        {\"template\":{\"data\":{\"barpolar\":[{\"marker\":{\"line\":{\"color\":\"#E5ECF6\",\"width\":0.5},\"pattern\":{\"fillmode\":\"overlay\",\"size\":10,\"solidity\":0.2}},\"type\":\"barpolar\"}],\"bar\":[{\"error_x\":{\"color\":\"#2a3f5f\"},\"error_y\":{\"color\":\"#2a3f5f\"},\"marker\":{\"line\":{\"color\":\"#E5ECF6\",\"width\":0.5},\"pattern\":{\"fillmode\":\"overlay\",\"size\":10,\"solidity\":0.2}},\"type\":\"bar\"}],\"carpet\":[{\"aaxis\":{\"endlinecolor\":\"#2a3f5f\",\"gridcolor\":\"white\",\"linecolor\":\"white\",\"minorgridcolor\":\"white\",\"startlinecolor\":\"#2a3f5f\"},\"baxis\":{\"endlinecolor\":\"#2a3f5f\",\"gridcolor\":\"white\",\"linecolor\":\"white\",\"minorgridcolor\":\"white\",\"startlinecolor\":\"#2a3f5f\"},\"type\":\"carpet\"}],\"choropleth\":[{\"colorbar\":{\"outlinewidth\":0,\"ticks\":\"\"},\"type\":\"choropleth\"}],\"contourcarpet\":[{\"colorbar\":{\"outlinewidth\":0,\"ticks\":\"\"},\"type\":\"contourcarpet\"}],\"contour\":[{\"colorbar\":{\"outlinewidth\":0,\"ticks\":\"\"},\"colorscale\":[[0.0,\"#0d0887\"],[0.1111111111111111,\"#46039f\"],[0.2222222222222222,\"#7201a8\"],[0.3333333333333333,\"#9c179e\"],[0.4444444444444444,\"#bd3786\"],[0.5555555555555556,\"#d8576b\"],[0.6666666666666666,\"#ed7953\"],[0.7777777777777778,\"#fb9f3a\"],[0.8888888888888888,\"#fdca26\"],[1.0,\"#f0f921\"]],\"type\":\"contour\"}],\"heatmapgl\":[{\"colorbar\":{\"outlinewidth\":0,\"ticks\":\"\"},\"colorscale\":[[0.0,\"#0d0887\"],[0.1111111111111111,\"#46039f\"],[0.2222222222222222,\"#7201a8\"],[0.3333333333333333,\"#9c179e\"],[0.4444444444444444,\"#bd3786\"],[0.5555555555555556,\"#d8576b\"],[0.6666666666666666,\"#ed7953\"],[0.7777777777777778,\"#fb9f3a\"],[0.8888888888888888,\"#fdca26\"],[1.0,\"#f0f921\"]],\"type\":\"heatmapgl\"}],\"heatmap\":[{\"colorbar\":{\"outlinewidth\":0,\"ticks\":\"\"},\"colorscale\":[[0.0,\"#0d0887\"],[0.1111111111111111,\"#46039f\"],[0.2222222222222222,\"#7201a8\"],[0.3333333333333333,\"#9c179e\"],[0.4444444444444444,\"#bd3786\"],[0.5555555555555556,\"#d8576b\"],[0.6666666666666666,\"#ed7953\"],[0.7777777777777778,\"#fb9f3a\"],[0.8888888888888888,\"#fdca26\"],[1.0,\"#f0f921\"]],\"type\":\"heatmap\"}],\"histogram2dcontour\":[{\"colorbar\":{\"outlinewidth\":0,\"ticks\":\"\"},\"colorscale\":[[0.0,\"#0d0887\"],[0.1111111111111111,\"#46039f\"],[0.2222222222222222,\"#7201a8\"],[0.3333333333333333,\"#9c179e\"],[0.4444444444444444,\"#bd3786\"],[0.5555555555555556,\"#d8576b\"],[0.6666666666666666,\"#ed7953\"],[0.7777777777777778,\"#fb9f3a\"],[0.8888888888888888,\"#fdca26\"],[1.0,\"#f0f921\"]],\"type\":\"histogram2dcontour\"}],\"histogram2d\":[{\"colorbar\":{\"outlinewidth\":0,\"ticks\":\"\"},\"colorscale\":[[0.0,\"#0d0887\"],[0.1111111111111111,\"#46039f\"],[0.2222222222222222,\"#7201a8\"],[0.3333333333333333,\"#9c179e\"],[0.4444444444444444,\"#bd3786\"],[0.5555555555555556,\"#d8576b\"],[0.6666666666666666,\"#ed7953\"],[0.7777777777777778,\"#fb9f3a\"],[0.8888888888888888,\"#fdca26\"],[1.0,\"#f0f921\"]],\"type\":\"histogram2d\"}],\"histogram\":[{\"marker\":{\"pattern\":{\"fillmode\":\"overlay\",\"size\":10,\"solidity\":0.2}},\"type\":\"histogram\"}],\"mesh3d\":[{\"colorbar\":{\"outlinewidth\":0,\"ticks\":\"\"},\"type\":\"mesh3d\"}],\"parcoords\":[{\"line\":{\"colorbar\":{\"outlinewidth\":0,\"ticks\":\"\"}},\"type\":\"parcoords\"}],\"pie\":[{\"automargin\":true,\"type\":\"pie\"}],\"scatter3d\":[{\"line\":{\"colorbar\":{\"outlinewidth\":0,\"ticks\":\"\"}},\"marker\":{\"colorbar\":{\"outlinewidth\":0,\"ticks\":\"\"}},\"type\":\"scatter3d\"}],\"scattercarpet\":[{\"marker\":{\"colorbar\":{\"outlinewidth\":0,\"ticks\":\"\"}},\"type\":\"scattercarpet\"}],\"scattergeo\":[{\"marker\":{\"colorbar\":{\"outlinewidth\":0,\"ticks\":\"\"}},\"type\":\"scattergeo\"}],\"scattergl\":[{\"marker\":{\"colorbar\":{\"outlinewidth\":0,\"ticks\":\"\"}},\"type\":\"scattergl\"}],\"scattermapbox\":[{\"marker\":{\"colorbar\":{\"outlinewidth\":0,\"ticks\":\"\"}},\"type\":\"scattermapbox\"}],\"scatterpolargl\":[{\"marker\":{\"colorbar\":{\"outlinewidth\":0,\"ticks\":\"\"}},\"type\":\"scatterpolargl\"}],\"scatterpolar\":[{\"marker\":{\"colorbar\":{\"outlinewidth\":0,\"ticks\":\"\"}},\"type\":\"scatterpolar\"}],\"scatter\":[{\"fillpattern\":{\"fillmode\":\"overlay\",\"size\":10,\"solidity\":0.2},\"type\":\"scatter\"}],\"scatterternary\":[{\"marker\":{\"colorbar\":{\"outlinewidth\":0,\"ticks\":\"\"}},\"type\":\"scatterternary\"}],\"surface\":[{\"colorbar\":{\"outlinewidth\":0,\"ticks\":\"\"},\"colorscale\":[[0.0,\"#0d0887\"],[0.1111111111111111,\"#46039f\"],[0.2222222222222222,\"#7201a8\"],[0.3333333333333333,\"#9c179e\"],[0.4444444444444444,\"#bd3786\"],[0.5555555555555556,\"#d8576b\"],[0.6666666666666666,\"#ed7953\"],[0.7777777777777778,\"#fb9f3a\"],[0.8888888888888888,\"#fdca26\"],[1.0,\"#f0f921\"]],\"type\":\"surface\"}],\"table\":[{\"cells\":{\"fill\":{\"color\":\"#EBF0F8\"},\"line\":{\"color\":\"white\"}},\"header\":{\"fill\":{\"color\":\"#C8D4E3\"},\"line\":{\"color\":\"white\"}},\"type\":\"table\"}]},\"layout\":{\"annotationdefaults\":{\"arrowcolor\":\"#2a3f5f\",\"arrowhead\":0,\"arrowwidth\":1},\"autotypenumbers\":\"strict\",\"coloraxis\":{\"colorbar\":{\"outlinewidth\":0,\"ticks\":\"\"}},\"colorscale\":{\"diverging\":[[0,\"#8e0152\"],[0.1,\"#c51b7d\"],[0.2,\"#de77ae\"],[0.3,\"#f1b6da\"],[0.4,\"#fde0ef\"],[0.5,\"#f7f7f7\"],[0.6,\"#e6f5d0\"],[0.7,\"#b8e186\"],[0.8,\"#7fbc41\"],[0.9,\"#4d9221\"],[1,\"#276419\"]],\"sequential\":[[0.0,\"#0d0887\"],[0.1111111111111111,\"#46039f\"],[0.2222222222222222,\"#7201a8\"],[0.3333333333333333,\"#9c179e\"],[0.4444444444444444,\"#bd3786\"],[0.5555555555555556,\"#d8576b\"],[0.6666666666666666,\"#ed7953\"],[0.7777777777777778,\"#fb9f3a\"],[0.8888888888888888,\"#fdca26\"],[1.0,\"#f0f921\"]],\"sequentialminus\":[[0.0,\"#0d0887\"],[0.1111111111111111,\"#46039f\"],[0.2222222222222222,\"#7201a8\"],[0.3333333333333333,\"#9c179e\"],[0.4444444444444444,\"#bd3786\"],[0.5555555555555556,\"#d8576b\"],[0.6666666666666666,\"#ed7953\"],[0.7777777777777778,\"#fb9f3a\"],[0.8888888888888888,\"#fdca26\"],[1.0,\"#f0f921\"]]},\"colorway\":[\"#636efa\",\"#EF553B\",\"#00cc96\",\"#ab63fa\",\"#FFA15A\",\"#19d3f3\",\"#FF6692\",\"#B6E880\",\"#FF97FF\",\"#FECB52\"],\"font\":{\"color\":\"#2a3f5f\"},\"geo\":{\"bgcolor\":\"white\",\"lakecolor\":\"white\",\"landcolor\":\"#E5ECF6\",\"showlakes\":true,\"showland\":true,\"subunitcolor\":\"white\"},\"hoverlabel\":{\"align\":\"left\"},\"hovermode\":\"closest\",\"mapbox\":{\"style\":\"light\"},\"paper_bgcolor\":\"white\",\"plot_bgcolor\":\"#E5ECF6\",\"polar\":{\"angularaxis\":{\"gridcolor\":\"white\",\"linecolor\":\"white\",\"ticks\":\"\"},\"bgcolor\":\"#E5ECF6\",\"radialaxis\":{\"gridcolor\":\"white\",\"linecolor\":\"white\",\"ticks\":\"\"}},\"scene\":{\"xaxis\":{\"backgroundcolor\":\"#E5ECF6\",\"gridcolor\":\"white\",\"gridwidth\":2,\"linecolor\":\"white\",\"showbackground\":true,\"ticks\":\"\",\"zerolinecolor\":\"white\"},\"yaxis\":{\"backgroundcolor\":\"#E5ECF6\",\"gridcolor\":\"white\",\"gridwidth\":2,\"linecolor\":\"white\",\"showbackground\":true,\"ticks\":\"\",\"zerolinecolor\":\"white\"},\"zaxis\":{\"backgroundcolor\":\"#E5ECF6\",\"gridcolor\":\"white\",\"gridwidth\":2,\"linecolor\":\"white\",\"showbackground\":true,\"ticks\":\"\",\"zerolinecolor\":\"white\"}},\"shapedefaults\":{\"line\":{\"color\":\"#2a3f5f\"}},\"ternary\":{\"aaxis\":{\"gridcolor\":\"white\",\"linecolor\":\"white\",\"ticks\":\"\"},\"baxis\":{\"gridcolor\":\"white\",\"linecolor\":\"white\",\"ticks\":\"\"},\"bgcolor\":\"#E5ECF6\",\"caxis\":{\"gridcolor\":\"white\",\"linecolor\":\"white\",\"ticks\":\"\"}},\"title\":{\"x\":0.05},\"xaxis\":{\"automargin\":true,\"gridcolor\":\"white\",\"linecolor\":\"white\",\"ticks\":\"\",\"title\":{\"standoff\":15},\"zerolinecolor\":\"white\",\"zerolinewidth\":2},\"yaxis\":{\"automargin\":true,\"gridcolor\":\"white\",\"linecolor\":\"white\",\"ticks\":\"\",\"title\":{\"standoff\":15},\"zerolinecolor\":\"white\",\"zerolinewidth\":2}}},\"title\":{\"text\":\"Distribu\\u00e7\\u00e3o de Clientes por Pa\\u00edses\"},\"xaxis\":{\"title\":{\"text\":\"Estados\"}},\"yaxis\":{\"title\":{\"text\":\"Pa\\u00edses\"}}},                        {\"responsive\": true}                    ).then(function(){\n",
              "                            \n",
              "var gd = document.getElementById('efb16e79-1190-4765-83a5-fe784463aaeb');\n",
              "var x = new MutationObserver(function (mutations, observer) {{\n",
              "        var display = window.getComputedStyle(gd).display;\n",
              "        if (!display || display === 'none') {{\n",
              "            console.log([gd, 'removed!']);\n",
              "            Plotly.purge(gd);\n",
              "            observer.disconnect();\n",
              "        }}\n",
              "}});\n",
              "\n",
              "// Listen for the removal of the full notebook cells\n",
              "var notebookContainer = gd.closest('#notebook-container');\n",
              "if (notebookContainer) {{\n",
              "    x.observe(notebookContainer, {childList: true});\n",
              "}}\n",
              "\n",
              "// Listen for the clearing of the current output cell\n",
              "var outputEl = gd.closest('.output');\n",
              "if (outputEl) {{\n",
              "    x.observe(outputEl, {childList: true});\n",
              "}}\n",
              "\n",
              "                        })                };                            </script>        </div>\n",
              "</body>\n",
              "</html>"
            ]
          },
          "metadata": {}
        }
      ]
    },
    {
      "cell_type": "markdown",
      "source": [
        "Há mais estados da FRança que consomem os protudos do que nos Estados e Alemanha."
      ],
      "metadata": {
        "id": "jPasReeDxrki"
      }
    },
    {
      "cell_type": "code",
      "source": [
        "#Criar a variável vendas_por_estados: que é a soma da receita gerada ['Receita'] pelos Estados ['Estado']\n",
        "vendas_por_estados = customer.groupby(by='Estado').Receita.sum()/1e3"
      ],
      "metadata": {
        "id": "LqMVhtREynpn"
      },
      "execution_count": 62,
      "outputs": []
    },
    {
      "cell_type": "code",
      "source": [
        "# Exibindo os valores\n",
        "vendas_por_estados"
      ],
      "metadata": {
        "colab": {
          "base_uri": "https://localhost:8080/"
        },
        "id": "ndcEndYjrPii",
        "outputId": "81dc9031-7dca-488e-cebd-977d1d012293"
      },
      "execution_count": 63,
      "outputs": [
        {
          "output_type": "execute_result",
          "data": {
            "text/plain": [
              "Estado\n",
              "Alabama                  1.214\n",
              "Bayern                  33.161\n",
              "Brandenburg              3.162\n",
              "California             468.387\n",
              "Charente-Maritime       10.548\n",
              "England                298.926\n",
              "Essonne                 17.265\n",
              "Garonne (Haute)          3.236\n",
              "Hamburg                 39.288\n",
              "Hauts de Seine          49.365\n",
              "Hessen                  86.363\n",
              "Loir et Cher             5.845\n",
              "Loiret                  17.620\n",
              "Minnesota                2.161\n",
              "Moselle                 11.098\n",
              "Nord                    52.305\n",
              "Nordrhein-Westfalen     59.765\n",
              "Ohio                     5.428\n",
              "Oregon                 112.327\n",
              "Pas de Calais            1.279\n",
              "Saarland                24.078\n",
              "Seine (Paris)           57.989\n",
              "Seine Saint Denis       67.821\n",
              "Seine et Marne          18.413\n",
              "Val d'Oise              18.137\n",
              "Val de Marne             0.861\n",
              "Washington             283.387\n",
              "Wyoming                  2.174\n",
              "Yveline                 59.784\n",
              "Name: Receita, dtype: float64"
            ]
          },
          "metadata": {},
          "execution_count": 63
        }
      ]
    },
    {
      "cell_type": "code",
      "source": [
        "# Criando gráfico Scatter\n",
        "\n",
        "# Atribuindo os valores de x e y\n",
        "trace1 =  go.Scatter(x = vendas_por_estados.index,\n",
        "                    y = vendas_por_estados.values,\n",
        "                    mode = 'markers', # apresentação em plots/markers\n",
        "                    marker = {'color': '#FF4500'} # definindo cor\n",
        "                   )\n",
        "\n",
        "# Armazenando o gráfico em uma lista\n",
        "data = [trace1]\n",
        "\n",
        "# Criando Layout\n",
        "layout = go.Layout(title='Distribução de Clientes/Estados pela Receita $ 2015-2016', # título do gráfico\n",
        "                   yaxis={'title':'Receita USD', # título do gráfico eixo y\n",
        "                          'ticksuffix':'k'}, # adicionar nos valores do eixo y o \"$\" no final\n",
        "                   xaxis={'title': 'Estados'}) # título do gráfico eixo x\n",
        "\n",
        "# Definindo objeto figura para print \n",
        "fig = go.Figure(data=data, layout=layout)\n",
        "\n",
        "py.iplot(fig)"
      ],
      "metadata": {
        "colab": {
          "base_uri": "https://localhost:8080/",
          "height": 542
        },
        "id": "JqQ34kUhyNQ0",
        "outputId": "7cedff70-1a5c-4a64-8986-acc190f19245"
      },
      "execution_count": 122,
      "outputs": [
        {
          "output_type": "display_data",
          "data": {
            "text/html": [
              "<html>\n",
              "<head><meta charset=\"utf-8\" /></head>\n",
              "<body>\n",
              "    <div>            <script src=\"https://cdnjs.cloudflare.com/ajax/libs/mathjax/2.7.5/MathJax.js?config=TeX-AMS-MML_SVG\"></script><script type=\"text/javascript\">if (window.MathJax && window.MathJax.Hub && window.MathJax.Hub.Config) {window.MathJax.Hub.Config({SVG: {font: \"STIX-Web\"}});}</script>                <script type=\"text/javascript\">window.PlotlyConfig = {MathJaxConfig: 'local'};</script>\n",
              "        <script src=\"https://cdn.plot.ly/plotly-2.18.2.min.js\"></script>                <div id=\"03722481-c3c2-4daf-b593-56b2d2b8ce5c\" class=\"plotly-graph-div\" style=\"height:525px; width:100%;\"></div>            <script type=\"text/javascript\">                                    window.PLOTLYENV=window.PLOTLYENV || {};                                    if (document.getElementById(\"03722481-c3c2-4daf-b593-56b2d2b8ce5c\")) {                    Plotly.newPlot(                        \"03722481-c3c2-4daf-b593-56b2d2b8ce5c\",                        [{\"marker\":{\"color\":\"#FF4500\"},\"mode\":\"markers\",\"x\":[\"Alabama\",\"Bayern\",\"Brandenburg\",\"California\",\"Charente-Maritime\",\"England\",\"Essonne\",\"Garonne (Haute)\",\"Hamburg\",\"Hauts de Seine\",\"Hessen\",\"Loir et Cher\",\"Loiret\",\"Minnesota\",\"Moselle\",\"Nord\",\"Nordrhein-Westfalen\",\"Ohio\",\"Oregon\",\"Pas de Calais\",\"Saarland\",\"Seine (Paris)\",\"Seine Saint Denis\",\"Seine et Marne\",\"Val d'Oise\",\"Val de Marne\",\"Washington\",\"Wyoming\",\"Yveline\"],\"y\":[1.214,33.161,3.162,468.387,10.548,298.926,17.265,3.236,39.288,49.365,86.363,5.845,17.62,2.161,11.098,52.305,59.765,5.428,112.327,1.279,24.078,57.989,67.821,18.413,18.137,0.861,283.387,2.174,59.784],\"type\":\"scatter\"}],                        {\"template\":{\"data\":{\"barpolar\":[{\"marker\":{\"line\":{\"color\":\"#E5ECF6\",\"width\":0.5},\"pattern\":{\"fillmode\":\"overlay\",\"size\":10,\"solidity\":0.2}},\"type\":\"barpolar\"}],\"bar\":[{\"error_x\":{\"color\":\"#2a3f5f\"},\"error_y\":{\"color\":\"#2a3f5f\"},\"marker\":{\"line\":{\"color\":\"#E5ECF6\",\"width\":0.5},\"pattern\":{\"fillmode\":\"overlay\",\"size\":10,\"solidity\":0.2}},\"type\":\"bar\"}],\"carpet\":[{\"aaxis\":{\"endlinecolor\":\"#2a3f5f\",\"gridcolor\":\"white\",\"linecolor\":\"white\",\"minorgridcolor\":\"white\",\"startlinecolor\":\"#2a3f5f\"},\"baxis\":{\"endlinecolor\":\"#2a3f5f\",\"gridcolor\":\"white\",\"linecolor\":\"white\",\"minorgridcolor\":\"white\",\"startlinecolor\":\"#2a3f5f\"},\"type\":\"carpet\"}],\"choropleth\":[{\"colorbar\":{\"outlinewidth\":0,\"ticks\":\"\"},\"type\":\"choropleth\"}],\"contourcarpet\":[{\"colorbar\":{\"outlinewidth\":0,\"ticks\":\"\"},\"type\":\"contourcarpet\"}],\"contour\":[{\"colorbar\":{\"outlinewidth\":0,\"ticks\":\"\"},\"colorscale\":[[0.0,\"#0d0887\"],[0.1111111111111111,\"#46039f\"],[0.2222222222222222,\"#7201a8\"],[0.3333333333333333,\"#9c179e\"],[0.4444444444444444,\"#bd3786\"],[0.5555555555555556,\"#d8576b\"],[0.6666666666666666,\"#ed7953\"],[0.7777777777777778,\"#fb9f3a\"],[0.8888888888888888,\"#fdca26\"],[1.0,\"#f0f921\"]],\"type\":\"contour\"}],\"heatmapgl\":[{\"colorbar\":{\"outlinewidth\":0,\"ticks\":\"\"},\"colorscale\":[[0.0,\"#0d0887\"],[0.1111111111111111,\"#46039f\"],[0.2222222222222222,\"#7201a8\"],[0.3333333333333333,\"#9c179e\"],[0.4444444444444444,\"#bd3786\"],[0.5555555555555556,\"#d8576b\"],[0.6666666666666666,\"#ed7953\"],[0.7777777777777778,\"#fb9f3a\"],[0.8888888888888888,\"#fdca26\"],[1.0,\"#f0f921\"]],\"type\":\"heatmapgl\"}],\"heatmap\":[{\"colorbar\":{\"outlinewidth\":0,\"ticks\":\"\"},\"colorscale\":[[0.0,\"#0d0887\"],[0.1111111111111111,\"#46039f\"],[0.2222222222222222,\"#7201a8\"],[0.3333333333333333,\"#9c179e\"],[0.4444444444444444,\"#bd3786\"],[0.5555555555555556,\"#d8576b\"],[0.6666666666666666,\"#ed7953\"],[0.7777777777777778,\"#fb9f3a\"],[0.8888888888888888,\"#fdca26\"],[1.0,\"#f0f921\"]],\"type\":\"heatmap\"}],\"histogram2dcontour\":[{\"colorbar\":{\"outlinewidth\":0,\"ticks\":\"\"},\"colorscale\":[[0.0,\"#0d0887\"],[0.1111111111111111,\"#46039f\"],[0.2222222222222222,\"#7201a8\"],[0.3333333333333333,\"#9c179e\"],[0.4444444444444444,\"#bd3786\"],[0.5555555555555556,\"#d8576b\"],[0.6666666666666666,\"#ed7953\"],[0.7777777777777778,\"#fb9f3a\"],[0.8888888888888888,\"#fdca26\"],[1.0,\"#f0f921\"]],\"type\":\"histogram2dcontour\"}],\"histogram2d\":[{\"colorbar\":{\"outlinewidth\":0,\"ticks\":\"\"},\"colorscale\":[[0.0,\"#0d0887\"],[0.1111111111111111,\"#46039f\"],[0.2222222222222222,\"#7201a8\"],[0.3333333333333333,\"#9c179e\"],[0.4444444444444444,\"#bd3786\"],[0.5555555555555556,\"#d8576b\"],[0.6666666666666666,\"#ed7953\"],[0.7777777777777778,\"#fb9f3a\"],[0.8888888888888888,\"#fdca26\"],[1.0,\"#f0f921\"]],\"type\":\"histogram2d\"}],\"histogram\":[{\"marker\":{\"pattern\":{\"fillmode\":\"overlay\",\"size\":10,\"solidity\":0.2}},\"type\":\"histogram\"}],\"mesh3d\":[{\"colorbar\":{\"outlinewidth\":0,\"ticks\":\"\"},\"type\":\"mesh3d\"}],\"parcoords\":[{\"line\":{\"colorbar\":{\"outlinewidth\":0,\"ticks\":\"\"}},\"type\":\"parcoords\"}],\"pie\":[{\"automargin\":true,\"type\":\"pie\"}],\"scatter3d\":[{\"line\":{\"colorbar\":{\"outlinewidth\":0,\"ticks\":\"\"}},\"marker\":{\"colorbar\":{\"outlinewidth\":0,\"ticks\":\"\"}},\"type\":\"scatter3d\"}],\"scattercarpet\":[{\"marker\":{\"colorbar\":{\"outlinewidth\":0,\"ticks\":\"\"}},\"type\":\"scattercarpet\"}],\"scattergeo\":[{\"marker\":{\"colorbar\":{\"outlinewidth\":0,\"ticks\":\"\"}},\"type\":\"scattergeo\"}],\"scattergl\":[{\"marker\":{\"colorbar\":{\"outlinewidth\":0,\"ticks\":\"\"}},\"type\":\"scattergl\"}],\"scattermapbox\":[{\"marker\":{\"colorbar\":{\"outlinewidth\":0,\"ticks\":\"\"}},\"type\":\"scattermapbox\"}],\"scatterpolargl\":[{\"marker\":{\"colorbar\":{\"outlinewidth\":0,\"ticks\":\"\"}},\"type\":\"scatterpolargl\"}],\"scatterpolar\":[{\"marker\":{\"colorbar\":{\"outlinewidth\":0,\"ticks\":\"\"}},\"type\":\"scatterpolar\"}],\"scatter\":[{\"fillpattern\":{\"fillmode\":\"overlay\",\"size\":10,\"solidity\":0.2},\"type\":\"scatter\"}],\"scatterternary\":[{\"marker\":{\"colorbar\":{\"outlinewidth\":0,\"ticks\":\"\"}},\"type\":\"scatterternary\"}],\"surface\":[{\"colorbar\":{\"outlinewidth\":0,\"ticks\":\"\"},\"colorscale\":[[0.0,\"#0d0887\"],[0.1111111111111111,\"#46039f\"],[0.2222222222222222,\"#7201a8\"],[0.3333333333333333,\"#9c179e\"],[0.4444444444444444,\"#bd3786\"],[0.5555555555555556,\"#d8576b\"],[0.6666666666666666,\"#ed7953\"],[0.7777777777777778,\"#fb9f3a\"],[0.8888888888888888,\"#fdca26\"],[1.0,\"#f0f921\"]],\"type\":\"surface\"}],\"table\":[{\"cells\":{\"fill\":{\"color\":\"#EBF0F8\"},\"line\":{\"color\":\"white\"}},\"header\":{\"fill\":{\"color\":\"#C8D4E3\"},\"line\":{\"color\":\"white\"}},\"type\":\"table\"}]},\"layout\":{\"annotationdefaults\":{\"arrowcolor\":\"#2a3f5f\",\"arrowhead\":0,\"arrowwidth\":1},\"autotypenumbers\":\"strict\",\"coloraxis\":{\"colorbar\":{\"outlinewidth\":0,\"ticks\":\"\"}},\"colorscale\":{\"diverging\":[[0,\"#8e0152\"],[0.1,\"#c51b7d\"],[0.2,\"#de77ae\"],[0.3,\"#f1b6da\"],[0.4,\"#fde0ef\"],[0.5,\"#f7f7f7\"],[0.6,\"#e6f5d0\"],[0.7,\"#b8e186\"],[0.8,\"#7fbc41\"],[0.9,\"#4d9221\"],[1,\"#276419\"]],\"sequential\":[[0.0,\"#0d0887\"],[0.1111111111111111,\"#46039f\"],[0.2222222222222222,\"#7201a8\"],[0.3333333333333333,\"#9c179e\"],[0.4444444444444444,\"#bd3786\"],[0.5555555555555556,\"#d8576b\"],[0.6666666666666666,\"#ed7953\"],[0.7777777777777778,\"#fb9f3a\"],[0.8888888888888888,\"#fdca26\"],[1.0,\"#f0f921\"]],\"sequentialminus\":[[0.0,\"#0d0887\"],[0.1111111111111111,\"#46039f\"],[0.2222222222222222,\"#7201a8\"],[0.3333333333333333,\"#9c179e\"],[0.4444444444444444,\"#bd3786\"],[0.5555555555555556,\"#d8576b\"],[0.6666666666666666,\"#ed7953\"],[0.7777777777777778,\"#fb9f3a\"],[0.8888888888888888,\"#fdca26\"],[1.0,\"#f0f921\"]]},\"colorway\":[\"#636efa\",\"#EF553B\",\"#00cc96\",\"#ab63fa\",\"#FFA15A\",\"#19d3f3\",\"#FF6692\",\"#B6E880\",\"#FF97FF\",\"#FECB52\"],\"font\":{\"color\":\"#2a3f5f\"},\"geo\":{\"bgcolor\":\"white\",\"lakecolor\":\"white\",\"landcolor\":\"#E5ECF6\",\"showlakes\":true,\"showland\":true,\"subunitcolor\":\"white\"},\"hoverlabel\":{\"align\":\"left\"},\"hovermode\":\"closest\",\"mapbox\":{\"style\":\"light\"},\"paper_bgcolor\":\"white\",\"plot_bgcolor\":\"#E5ECF6\",\"polar\":{\"angularaxis\":{\"gridcolor\":\"white\",\"linecolor\":\"white\",\"ticks\":\"\"},\"bgcolor\":\"#E5ECF6\",\"radialaxis\":{\"gridcolor\":\"white\",\"linecolor\":\"white\",\"ticks\":\"\"}},\"scene\":{\"xaxis\":{\"backgroundcolor\":\"#E5ECF6\",\"gridcolor\":\"white\",\"gridwidth\":2,\"linecolor\":\"white\",\"showbackground\":true,\"ticks\":\"\",\"zerolinecolor\":\"white\"},\"yaxis\":{\"backgroundcolor\":\"#E5ECF6\",\"gridcolor\":\"white\",\"gridwidth\":2,\"linecolor\":\"white\",\"showbackground\":true,\"ticks\":\"\",\"zerolinecolor\":\"white\"},\"zaxis\":{\"backgroundcolor\":\"#E5ECF6\",\"gridcolor\":\"white\",\"gridwidth\":2,\"linecolor\":\"white\",\"showbackground\":true,\"ticks\":\"\",\"zerolinecolor\":\"white\"}},\"shapedefaults\":{\"line\":{\"color\":\"#2a3f5f\"}},\"ternary\":{\"aaxis\":{\"gridcolor\":\"white\",\"linecolor\":\"white\",\"ticks\":\"\"},\"baxis\":{\"gridcolor\":\"white\",\"linecolor\":\"white\",\"ticks\":\"\"},\"bgcolor\":\"#E5ECF6\",\"caxis\":{\"gridcolor\":\"white\",\"linecolor\":\"white\",\"ticks\":\"\"}},\"title\":{\"x\":0.05},\"xaxis\":{\"automargin\":true,\"gridcolor\":\"white\",\"linecolor\":\"white\",\"ticks\":\"\",\"title\":{\"standoff\":15},\"zerolinecolor\":\"white\",\"zerolinewidth\":2},\"yaxis\":{\"automargin\":true,\"gridcolor\":\"white\",\"linecolor\":\"white\",\"ticks\":\"\",\"title\":{\"standoff\":15},\"zerolinecolor\":\"white\",\"zerolinewidth\":2}}},\"title\":{\"text\":\"Distribu\\u00e7\\u00e3o de Clientes/Estados pela Receita $ 2015-2016\"},\"xaxis\":{\"title\":{\"text\":\"Estados\"}},\"yaxis\":{\"ticksuffix\":\"k\",\"title\":{\"text\":\"Receita USD\"}}},                        {\"responsive\": true}                    ).then(function(){\n",
              "                            \n",
              "var gd = document.getElementById('03722481-c3c2-4daf-b593-56b2d2b8ce5c');\n",
              "var x = new MutationObserver(function (mutations, observer) {{\n",
              "        var display = window.getComputedStyle(gd).display;\n",
              "        if (!display || display === 'none') {{\n",
              "            console.log([gd, 'removed!']);\n",
              "            Plotly.purge(gd);\n",
              "            observer.disconnect();\n",
              "        }}\n",
              "}});\n",
              "\n",
              "// Listen for the removal of the full notebook cells\n",
              "var notebookContainer = gd.closest('#notebook-container');\n",
              "if (notebookContainer) {{\n",
              "    x.observe(notebookContainer, {childList: true});\n",
              "}}\n",
              "\n",
              "// Listen for the clearing of the current output cell\n",
              "var outputEl = gd.closest('.output');\n",
              "if (outputEl) {{\n",
              "    x.observe(outputEl, {childList: true});\n",
              "}}\n",
              "\n",
              "                        })                };                            </script>        </div>\n",
              "</body>\n",
              "</html>"
            ]
          },
          "metadata": {}
        }
      ]
    },
    {
      "cell_type": "markdown",
      "source": [
        "O gráfico scatter mostra uma distribuição de receita heterogênea entre os estados. Notamos que o estado da Califórnia e Washington representam os maiores geradores da receita da empresa nos Estados Unidos. \n",
        "Hessen na Alemenha e Seine Saint Denis na França;\n",
        "No Reino Unido, temos apenas a Inglaterra como estado gerador de renda no País.\n",
        "Por mais que a França contém mais Estados onde há aquisição dos produtos do que os Estados do Estados Unidos, não demostra que são os maiores geradores de renda. "
      ],
      "metadata": {
        "id": "bz4eD-IptQUu"
      }
    },
    {
      "cell_type": "markdown",
      "source": [
        "# Outras Análises"
      ],
      "metadata": {
        "id": "sWD5u96ZG20t"
      }
    },
    {
      "cell_type": "markdown",
      "source": [
        "Criando um dicionário dos Continentes para avaliar a receita por Continente."
      ],
      "metadata": {
        "id": "vpRX3TxyysgM"
      }
    },
    {
      "cell_type": "code",
      "source": [
        "# Dicionário para atribuir continentes aos países listados\n",
        "# Exibindo os valores somados em vendas_por_estado\n",
        "vendas_por_estados.index"
      ],
      "metadata": {
        "colab": {
          "base_uri": "https://localhost:8080/"
        },
        "id": "DWolSJfx0NjL",
        "outputId": "a5c46312-c530-40aa-c3d6-17f277a5f2b8"
      },
      "execution_count": 65,
      "outputs": [
        {
          "output_type": "execute_result",
          "data": {
            "text/plain": [
              "Index(['Alabama', 'Bayern', 'Brandenburg', 'California', 'Charente-Maritime',\n",
              "       'England', 'Essonne', 'Garonne (Haute)', 'Hamburg', 'Hauts de Seine',\n",
              "       'Hessen', 'Loir et Cher', 'Loiret', 'Minnesota', 'Moselle', 'Nord',\n",
              "       'Nordrhein-Westfalen', 'Ohio', 'Oregon', 'Pas de Calais', 'Saarland',\n",
              "       'Seine (Paris)', 'Seine Saint Denis', 'Seine et Marne', 'Val d'Oise',\n",
              "       'Val de Marne', 'Washington', 'Wyoming', 'Yveline'],\n",
              "      dtype='object', name='Estado')"
            ]
          },
          "metadata": {},
          "execution_count": 65
        }
      ]
    },
    {
      "cell_type": "code",
      "source": [
        "# Dicionário para atribuir estados aos países listados\n",
        "relContinente = {\n",
        "    \"Alabama\": \"USA\",\n",
        "    \"Bayern\": \"Europe\",\n",
        "    \"Brandenburg\": \"Europe\",\n",
        "    \"California\": \"USA\",\n",
        "    \"Charente-Maritime\" : \"Europe\",  \n",
        "    \"England\": \"USA\",\n",
        "    \"Essonne\": \"Europe\", \n",
        "    \"Garonne (Haute)\": \"Europe\",   \n",
        "    \"Hamburg\": \"Europe\",\n",
        "    \"Hauts de Seine\": \"Europe\",   \n",
        "    \"Hessen\": \"Europe\",\n",
        "    \"Loir et Cher\": \"Europe\",   \n",
        "    \"Loiret\": \"Europe\",   \n",
        "    \"Minnesota\": \"USA\",\n",
        "    \"Moselle\": \"Europe\",   \n",
        "    \"Nord\": \"Europe\",   \n",
        "    \"Nordrhein-Westfalen\": \"Europe\",\n",
        "    \"Ohio\": \"USA\",\n",
        "    \"Oregon\": \"USA\",\n",
        "    \"Pas de Calais\": \"Europe\",   \n",
        "    \"Saarland\": \"Europe\",\n",
        "    \"Seine (Paris)\": \"Europe\",   \n",
        "    \"Seine Saint Denis\": \"Europe\",   \n",
        "    \"Seine et Marne\": \"Europe\",   \n",
        "    \"Val d'Oise\": \"Europe\",   \n",
        "    \"Val de Marne\": \"Europe\",   \n",
        "    \"Washington\": \"USA\",\n",
        "    \"Wyoming\": \"USA\",\n",
        "    \"Yveline\": \"Europe\"\n",
        "                    }"
      ],
      "metadata": {
        "id": "BpwxS0Gv1FBk"
      },
      "execution_count": 66,
      "outputs": []
    },
    {
      "cell_type": "code",
      "source": [
        "# Cria uma coluna associando os continentes aos países\n",
        "customer[\"Continente\"] = customer.apply(lambda row: relContinente[row[\"Estado\"]], axis = 1) # axis=1 refere-se a coluna\n",
        "\n",
        "# Examina o dataframe resultante\n",
        "customer"
      ],
      "metadata": {
        "colab": {
          "base_uri": "https://localhost:8080/",
          "height": 658
        },
        "id": "pubPXATl6DH8",
        "outputId": "db67609d-f327-45c3-e536-30ac85b3531d"
      },
      "execution_count": 67,
      "outputs": [
        {
          "output_type": "execute_result",
          "data": {
            "text/plain": [
              "           Data     Ano       Mês  Idade Cliente Sexo            País  \\\n",
              "2150 2015-01-01  2015.0   January           19.0    F   United States   \n",
              "2055 2016-01-01  2016.0   January           39.0    F   United States   \n",
              "1068 2016-01-01  2016.0   January           30.0    F  United Kingdom   \n",
              "1132 2016-01-01  2016.0   January           31.0    M  United Kingdom   \n",
              "2604 2016-01-01  2016.0   January           33.0    M   United States   \n",
              "...         ...     ...       ...            ...  ...             ...   \n",
              "1808 2015-12-31  2015.0  December           28.0    M   United States   \n",
              "1807 2015-12-31  2015.0  December           28.0    M   United States   \n",
              "1806 2015-12-31  2015.0  December           28.0    M   United States   \n",
              "1805 2015-12-31  2015.0  December           28.0    M   United States   \n",
              "1222 2015-12-31  2015.0  December           23.0    M          France   \n",
              "\n",
              "          Estado Categoria Produto    Sub Categoria  Quantidade  \\\n",
              "2150  Washington             Bikes       Road Bikes         1.0   \n",
              "2055  California       Accessories          Helmets         1.0   \n",
              "1068     England          Clothing          Jerseys         1.0   \n",
              "1132     England       Accessories          Helmets         2.0   \n",
              "2604  California       Accessories         Cleaners         3.0   \n",
              "...          ...               ...              ...         ...   \n",
              "1808  California       Accessories  Tires and Tubes         2.0   \n",
              "1807  California       Accessories          Helmets         2.0   \n",
              "1806  California       Accessories  Tires and Tubes         1.0   \n",
              "1805  California       Accessories  Tires and Tubes         3.0   \n",
              "1222      Loiret             Bikes   Mountain Bikes         3.0   \n",
              "\n",
              "      Custo Unitário  Preço Unitário   Custo  Receita cliente_data Continente  \n",
              "2150         1000.00      938.000000  1000.0    938.0      2015-01        USA  \n",
              "2055          210.00      271.000000   210.0    271.0      2016-01        USA  \n",
              "1068          216.00      243.000000   216.0    243.0      2016-01        USA  \n",
              "1132          297.50      379.500000   595.0    759.0      2016-01        USA  \n",
              "2604           13.33       16.333333    40.0     49.0      2016-01        USA  \n",
              "...              ...             ...     ...      ...          ...        ...  \n",
              "1808          455.00      497.000000   910.0    994.0      2015-12        USA  \n",
              "1807           70.00       75.500000   140.0    151.0      2015-12        USA  \n",
              "1806           90.00       89.000000    90.0     89.0      2015-12        USA  \n",
              "1805           81.67       91.333333   245.0    274.0      2015-12        USA  \n",
              "1222          765.00      940.333333  2295.0   2821.0      2015-12     Europe  \n",
              "\n",
              "[2574 rows x 16 columns]"
            ],
            "text/html": [
              "\n",
              "  <div id=\"df-cd879fae-4d36-4ced-b1cc-93081534d8bc\">\n",
              "    <div class=\"colab-df-container\">\n",
              "      <div>\n",
              "<style scoped>\n",
              "    .dataframe tbody tr th:only-of-type {\n",
              "        vertical-align: middle;\n",
              "    }\n",
              "\n",
              "    .dataframe tbody tr th {\n",
              "        vertical-align: top;\n",
              "    }\n",
              "\n",
              "    .dataframe thead th {\n",
              "        text-align: right;\n",
              "    }\n",
              "</style>\n",
              "<table border=\"1\" class=\"dataframe\">\n",
              "  <thead>\n",
              "    <tr style=\"text-align: right;\">\n",
              "      <th></th>\n",
              "      <th>Data</th>\n",
              "      <th>Ano</th>\n",
              "      <th>Mês</th>\n",
              "      <th>Idade Cliente</th>\n",
              "      <th>Sexo</th>\n",
              "      <th>País</th>\n",
              "      <th>Estado</th>\n",
              "      <th>Categoria Produto</th>\n",
              "      <th>Sub Categoria</th>\n",
              "      <th>Quantidade</th>\n",
              "      <th>Custo Unitário</th>\n",
              "      <th>Preço Unitário</th>\n",
              "      <th>Custo</th>\n",
              "      <th>Receita</th>\n",
              "      <th>cliente_data</th>\n",
              "      <th>Continente</th>\n",
              "    </tr>\n",
              "  </thead>\n",
              "  <tbody>\n",
              "    <tr>\n",
              "      <th>2150</th>\n",
              "      <td>2015-01-01</td>\n",
              "      <td>2015.0</td>\n",
              "      <td>January</td>\n",
              "      <td>19.0</td>\n",
              "      <td>F</td>\n",
              "      <td>United States</td>\n",
              "      <td>Washington</td>\n",
              "      <td>Bikes</td>\n",
              "      <td>Road Bikes</td>\n",
              "      <td>1.0</td>\n",
              "      <td>1000.00</td>\n",
              "      <td>938.000000</td>\n",
              "      <td>1000.0</td>\n",
              "      <td>938.0</td>\n",
              "      <td>2015-01</td>\n",
              "      <td>USA</td>\n",
              "    </tr>\n",
              "    <tr>\n",
              "      <th>2055</th>\n",
              "      <td>2016-01-01</td>\n",
              "      <td>2016.0</td>\n",
              "      <td>January</td>\n",
              "      <td>39.0</td>\n",
              "      <td>F</td>\n",
              "      <td>United States</td>\n",
              "      <td>California</td>\n",
              "      <td>Accessories</td>\n",
              "      <td>Helmets</td>\n",
              "      <td>1.0</td>\n",
              "      <td>210.00</td>\n",
              "      <td>271.000000</td>\n",
              "      <td>210.0</td>\n",
              "      <td>271.0</td>\n",
              "      <td>2016-01</td>\n",
              "      <td>USA</td>\n",
              "    </tr>\n",
              "    <tr>\n",
              "      <th>1068</th>\n",
              "      <td>2016-01-01</td>\n",
              "      <td>2016.0</td>\n",
              "      <td>January</td>\n",
              "      <td>30.0</td>\n",
              "      <td>F</td>\n",
              "      <td>United Kingdom</td>\n",
              "      <td>England</td>\n",
              "      <td>Clothing</td>\n",
              "      <td>Jerseys</td>\n",
              "      <td>1.0</td>\n",
              "      <td>216.00</td>\n",
              "      <td>243.000000</td>\n",
              "      <td>216.0</td>\n",
              "      <td>243.0</td>\n",
              "      <td>2016-01</td>\n",
              "      <td>USA</td>\n",
              "    </tr>\n",
              "    <tr>\n",
              "      <th>1132</th>\n",
              "      <td>2016-01-01</td>\n",
              "      <td>2016.0</td>\n",
              "      <td>January</td>\n",
              "      <td>31.0</td>\n",
              "      <td>M</td>\n",
              "      <td>United Kingdom</td>\n",
              "      <td>England</td>\n",
              "      <td>Accessories</td>\n",
              "      <td>Helmets</td>\n",
              "      <td>2.0</td>\n",
              "      <td>297.50</td>\n",
              "      <td>379.500000</td>\n",
              "      <td>595.0</td>\n",
              "      <td>759.0</td>\n",
              "      <td>2016-01</td>\n",
              "      <td>USA</td>\n",
              "    </tr>\n",
              "    <tr>\n",
              "      <th>2604</th>\n",
              "      <td>2016-01-01</td>\n",
              "      <td>2016.0</td>\n",
              "      <td>January</td>\n",
              "      <td>33.0</td>\n",
              "      <td>M</td>\n",
              "      <td>United States</td>\n",
              "      <td>California</td>\n",
              "      <td>Accessories</td>\n",
              "      <td>Cleaners</td>\n",
              "      <td>3.0</td>\n",
              "      <td>13.33</td>\n",
              "      <td>16.333333</td>\n",
              "      <td>40.0</td>\n",
              "      <td>49.0</td>\n",
              "      <td>2016-01</td>\n",
              "      <td>USA</td>\n",
              "    </tr>\n",
              "    <tr>\n",
              "      <th>...</th>\n",
              "      <td>...</td>\n",
              "      <td>...</td>\n",
              "      <td>...</td>\n",
              "      <td>...</td>\n",
              "      <td>...</td>\n",
              "      <td>...</td>\n",
              "      <td>...</td>\n",
              "      <td>...</td>\n",
              "      <td>...</td>\n",
              "      <td>...</td>\n",
              "      <td>...</td>\n",
              "      <td>...</td>\n",
              "      <td>...</td>\n",
              "      <td>...</td>\n",
              "      <td>...</td>\n",
              "      <td>...</td>\n",
              "    </tr>\n",
              "    <tr>\n",
              "      <th>1808</th>\n",
              "      <td>2015-12-31</td>\n",
              "      <td>2015.0</td>\n",
              "      <td>December</td>\n",
              "      <td>28.0</td>\n",
              "      <td>M</td>\n",
              "      <td>United States</td>\n",
              "      <td>California</td>\n",
              "      <td>Accessories</td>\n",
              "      <td>Tires and Tubes</td>\n",
              "      <td>2.0</td>\n",
              "      <td>455.00</td>\n",
              "      <td>497.000000</td>\n",
              "      <td>910.0</td>\n",
              "      <td>994.0</td>\n",
              "      <td>2015-12</td>\n",
              "      <td>USA</td>\n",
              "    </tr>\n",
              "    <tr>\n",
              "      <th>1807</th>\n",
              "      <td>2015-12-31</td>\n",
              "      <td>2015.0</td>\n",
              "      <td>December</td>\n",
              "      <td>28.0</td>\n",
              "      <td>M</td>\n",
              "      <td>United States</td>\n",
              "      <td>California</td>\n",
              "      <td>Accessories</td>\n",
              "      <td>Helmets</td>\n",
              "      <td>2.0</td>\n",
              "      <td>70.00</td>\n",
              "      <td>75.500000</td>\n",
              "      <td>140.0</td>\n",
              "      <td>151.0</td>\n",
              "      <td>2015-12</td>\n",
              "      <td>USA</td>\n",
              "    </tr>\n",
              "    <tr>\n",
              "      <th>1806</th>\n",
              "      <td>2015-12-31</td>\n",
              "      <td>2015.0</td>\n",
              "      <td>December</td>\n",
              "      <td>28.0</td>\n",
              "      <td>M</td>\n",
              "      <td>United States</td>\n",
              "      <td>California</td>\n",
              "      <td>Accessories</td>\n",
              "      <td>Tires and Tubes</td>\n",
              "      <td>1.0</td>\n",
              "      <td>90.00</td>\n",
              "      <td>89.000000</td>\n",
              "      <td>90.0</td>\n",
              "      <td>89.0</td>\n",
              "      <td>2015-12</td>\n",
              "      <td>USA</td>\n",
              "    </tr>\n",
              "    <tr>\n",
              "      <th>1805</th>\n",
              "      <td>2015-12-31</td>\n",
              "      <td>2015.0</td>\n",
              "      <td>December</td>\n",
              "      <td>28.0</td>\n",
              "      <td>M</td>\n",
              "      <td>United States</td>\n",
              "      <td>California</td>\n",
              "      <td>Accessories</td>\n",
              "      <td>Tires and Tubes</td>\n",
              "      <td>3.0</td>\n",
              "      <td>81.67</td>\n",
              "      <td>91.333333</td>\n",
              "      <td>245.0</td>\n",
              "      <td>274.0</td>\n",
              "      <td>2015-12</td>\n",
              "      <td>USA</td>\n",
              "    </tr>\n",
              "    <tr>\n",
              "      <th>1222</th>\n",
              "      <td>2015-12-31</td>\n",
              "      <td>2015.0</td>\n",
              "      <td>December</td>\n",
              "      <td>23.0</td>\n",
              "      <td>M</td>\n",
              "      <td>France</td>\n",
              "      <td>Loiret</td>\n",
              "      <td>Bikes</td>\n",
              "      <td>Mountain Bikes</td>\n",
              "      <td>3.0</td>\n",
              "      <td>765.00</td>\n",
              "      <td>940.333333</td>\n",
              "      <td>2295.0</td>\n",
              "      <td>2821.0</td>\n",
              "      <td>2015-12</td>\n",
              "      <td>Europe</td>\n",
              "    </tr>\n",
              "  </tbody>\n",
              "</table>\n",
              "<p>2574 rows × 16 columns</p>\n",
              "</div>\n",
              "      <button class=\"colab-df-convert\" onclick=\"convertToInteractive('df-cd879fae-4d36-4ced-b1cc-93081534d8bc')\"\n",
              "              title=\"Convert this dataframe to an interactive table.\"\n",
              "              style=\"display:none;\">\n",
              "        \n",
              "  <svg xmlns=\"http://www.w3.org/2000/svg\" height=\"24px\"viewBox=\"0 0 24 24\"\n",
              "       width=\"24px\">\n",
              "    <path d=\"M0 0h24v24H0V0z\" fill=\"none\"/>\n",
              "    <path d=\"M18.56 5.44l.94 2.06.94-2.06 2.06-.94-2.06-.94-.94-2.06-.94 2.06-2.06.94zm-11 1L8.5 8.5l.94-2.06 2.06-.94-2.06-.94L8.5 2.5l-.94 2.06-2.06.94zm10 10l.94 2.06.94-2.06 2.06-.94-2.06-.94-.94-2.06-.94 2.06-2.06.94z\"/><path d=\"M17.41 7.96l-1.37-1.37c-.4-.4-.92-.59-1.43-.59-.52 0-1.04.2-1.43.59L10.3 9.45l-7.72 7.72c-.78.78-.78 2.05 0 2.83L4 21.41c.39.39.9.59 1.41.59.51 0 1.02-.2 1.41-.59l7.78-7.78 2.81-2.81c.8-.78.8-2.07 0-2.86zM5.41 20L4 18.59l7.72-7.72 1.47 1.35L5.41 20z\"/>\n",
              "  </svg>\n",
              "      </button>\n",
              "      \n",
              "  <style>\n",
              "    .colab-df-container {\n",
              "      display:flex;\n",
              "      flex-wrap:wrap;\n",
              "      gap: 12px;\n",
              "    }\n",
              "\n",
              "    .colab-df-convert {\n",
              "      background-color: #E8F0FE;\n",
              "      border: none;\n",
              "      border-radius: 50%;\n",
              "      cursor: pointer;\n",
              "      display: none;\n",
              "      fill: #1967D2;\n",
              "      height: 32px;\n",
              "      padding: 0 0 0 0;\n",
              "      width: 32px;\n",
              "    }\n",
              "\n",
              "    .colab-df-convert:hover {\n",
              "      background-color: #E2EBFA;\n",
              "      box-shadow: 0px 1px 2px rgba(60, 64, 67, 0.3), 0px 1px 3px 1px rgba(60, 64, 67, 0.15);\n",
              "      fill: #174EA6;\n",
              "    }\n",
              "\n",
              "    [theme=dark] .colab-df-convert {\n",
              "      background-color: #3B4455;\n",
              "      fill: #D2E3FC;\n",
              "    }\n",
              "\n",
              "    [theme=dark] .colab-df-convert:hover {\n",
              "      background-color: #434B5C;\n",
              "      box-shadow: 0px 1px 3px 1px rgba(0, 0, 0, 0.15);\n",
              "      filter: drop-shadow(0px 1px 2px rgba(0, 0, 0, 0.3));\n",
              "      fill: #FFFFFF;\n",
              "    }\n",
              "  </style>\n",
              "\n",
              "      <script>\n",
              "        const buttonEl =\n",
              "          document.querySelector('#df-cd879fae-4d36-4ced-b1cc-93081534d8bc button.colab-df-convert');\n",
              "        buttonEl.style.display =\n",
              "          google.colab.kernel.accessAllowed ? 'block' : 'none';\n",
              "\n",
              "        async function convertToInteractive(key) {\n",
              "          const element = document.querySelector('#df-cd879fae-4d36-4ced-b1cc-93081534d8bc');\n",
              "          const dataTable =\n",
              "            await google.colab.kernel.invokeFunction('convertToInteractive',\n",
              "                                                     [key], {});\n",
              "          if (!dataTable) return;\n",
              "\n",
              "          const docLinkHtml = 'Like what you see? Visit the ' +\n",
              "            '<a target=\"_blank\" href=https://colab.research.google.com/notebooks/data_table.ipynb>data table notebook</a>'\n",
              "            + ' to learn more about interactive tables.';\n",
              "          element.innerHTML = '';\n",
              "          dataTable['output_type'] = 'display_data';\n",
              "          await google.colab.output.renderOutput(dataTable, element);\n",
              "          const docLink = document.createElement('div');\n",
              "          docLink.innerHTML = docLinkHtml;\n",
              "          element.appendChild(docLink);\n",
              "        }\n",
              "      </script>\n",
              "    </div>\n",
              "  </div>\n",
              "  "
            ]
          },
          "metadata": {},
          "execution_count": 67
        }
      ]
    },
    {
      "cell_type": "code",
      "source": [
        "#Criar a variável vendas_continente: que é a soma da receita gerada ['Receita'] pelos Continentes ['Continente']\n",
        "vendas_continente = customer.groupby(by='Continente').Receita.sum()/1e3"
      ],
      "metadata": {
        "id": "mKnq8LH-GsAY"
      },
      "execution_count": 68,
      "outputs": []
    },
    {
      "cell_type": "markdown",
      "source": [
        "Grafico de Barras"
      ],
      "metadata": {
        "id": "nI9AQoonzhc_"
      }
    },
    {
      "cell_type": "code",
      "source": [
        "# Criando gráfico\n",
        "\n",
        "# Atribuindo os valores de x e y\n",
        "data = [go.Bar(x = vendas_continente.index,\n",
        "                y = vendas_continente.values,\n",
        "                marker = {'color': '#F08080', # definindo cor\n",
        "                          'line': {'color': '#333', # definindo cor da borda\n",
        "                          'width': 1}} # definindo espessura da borda\n",
        "              )\n",
        "       ]\n",
        "\n",
        "# Criando Layout\n",
        "layout = go.Layout(title='Vendas América x Europa USD (2015-2016)', # título do gráfico\n",
        "                   yaxis={'title':'Receita', # título no eixo y\n",
        "                          'tickprefix':'$',# adicionar nos valores do eixo y o \"$\" no início) \n",
        "                          'ticksuffix':'k'} # adicionar nos valores do eixo y o \"$\" no final\n",
        "                  )\n",
        " \n",
        "# Definindo objeto figura para print\n",
        "fig = go.Figure(data=data, layout=layout)\n",
        "\n",
        "py.iplot(fig)"
      ],
      "metadata": {
        "colab": {
          "base_uri": "https://localhost:8080/",
          "height": 542
        },
        "id": "Du5oyOfeG3dg",
        "outputId": "5f2a2944-64be-43ed-b2e0-4603d0c13480"
      },
      "execution_count": 69,
      "outputs": [
        {
          "output_type": "display_data",
          "data": {
            "text/html": [
              "<html>\n",
              "<head><meta charset=\"utf-8\" /></head>\n",
              "<body>\n",
              "    <div>            <script src=\"https://cdnjs.cloudflare.com/ajax/libs/mathjax/2.7.5/MathJax.js?config=TeX-AMS-MML_SVG\"></script><script type=\"text/javascript\">if (window.MathJax && window.MathJax.Hub && window.MathJax.Hub.Config) {window.MathJax.Hub.Config({SVG: {font: \"STIX-Web\"}});}</script>                <script type=\"text/javascript\">window.PlotlyConfig = {MathJaxConfig: 'local'};</script>\n",
              "        <script src=\"https://cdn.plot.ly/plotly-2.18.2.min.js\"></script>                <div id=\"b745a43f-3fad-4f9a-ac9c-a26e2e65e5bf\" class=\"plotly-graph-div\" style=\"height:525px; width:100%;\"></div>            <script type=\"text/javascript\">                                    window.PLOTLYENV=window.PLOTLYENV || {};                                    if (document.getElementById(\"b745a43f-3fad-4f9a-ac9c-a26e2e65e5bf\")) {                    Plotly.newPlot(                        \"b745a43f-3fad-4f9a-ac9c-a26e2e65e5bf\",                        [{\"marker\":{\"color\":\"#F08080\",\"line\":{\"color\":\"#333\",\"width\":1}},\"x\":[\"Europe\",\"USA\"],\"y\":[637.383,1174.004],\"type\":\"bar\"}],                        {\"template\":{\"data\":{\"barpolar\":[{\"marker\":{\"line\":{\"color\":\"#E5ECF6\",\"width\":0.5},\"pattern\":{\"fillmode\":\"overlay\",\"size\":10,\"solidity\":0.2}},\"type\":\"barpolar\"}],\"bar\":[{\"error_x\":{\"color\":\"#2a3f5f\"},\"error_y\":{\"color\":\"#2a3f5f\"},\"marker\":{\"line\":{\"color\":\"#E5ECF6\",\"width\":0.5},\"pattern\":{\"fillmode\":\"overlay\",\"size\":10,\"solidity\":0.2}},\"type\":\"bar\"}],\"carpet\":[{\"aaxis\":{\"endlinecolor\":\"#2a3f5f\",\"gridcolor\":\"white\",\"linecolor\":\"white\",\"minorgridcolor\":\"white\",\"startlinecolor\":\"#2a3f5f\"},\"baxis\":{\"endlinecolor\":\"#2a3f5f\",\"gridcolor\":\"white\",\"linecolor\":\"white\",\"minorgridcolor\":\"white\",\"startlinecolor\":\"#2a3f5f\"},\"type\":\"carpet\"}],\"choropleth\":[{\"colorbar\":{\"outlinewidth\":0,\"ticks\":\"\"},\"type\":\"choropleth\"}],\"contourcarpet\":[{\"colorbar\":{\"outlinewidth\":0,\"ticks\":\"\"},\"type\":\"contourcarpet\"}],\"contour\":[{\"colorbar\":{\"outlinewidth\":0,\"ticks\":\"\"},\"colorscale\":[[0.0,\"#0d0887\"],[0.1111111111111111,\"#46039f\"],[0.2222222222222222,\"#7201a8\"],[0.3333333333333333,\"#9c179e\"],[0.4444444444444444,\"#bd3786\"],[0.5555555555555556,\"#d8576b\"],[0.6666666666666666,\"#ed7953\"],[0.7777777777777778,\"#fb9f3a\"],[0.8888888888888888,\"#fdca26\"],[1.0,\"#f0f921\"]],\"type\":\"contour\"}],\"heatmapgl\":[{\"colorbar\":{\"outlinewidth\":0,\"ticks\":\"\"},\"colorscale\":[[0.0,\"#0d0887\"],[0.1111111111111111,\"#46039f\"],[0.2222222222222222,\"#7201a8\"],[0.3333333333333333,\"#9c179e\"],[0.4444444444444444,\"#bd3786\"],[0.5555555555555556,\"#d8576b\"],[0.6666666666666666,\"#ed7953\"],[0.7777777777777778,\"#fb9f3a\"],[0.8888888888888888,\"#fdca26\"],[1.0,\"#f0f921\"]],\"type\":\"heatmapgl\"}],\"heatmap\":[{\"colorbar\":{\"outlinewidth\":0,\"ticks\":\"\"},\"colorscale\":[[0.0,\"#0d0887\"],[0.1111111111111111,\"#46039f\"],[0.2222222222222222,\"#7201a8\"],[0.3333333333333333,\"#9c179e\"],[0.4444444444444444,\"#bd3786\"],[0.5555555555555556,\"#d8576b\"],[0.6666666666666666,\"#ed7953\"],[0.7777777777777778,\"#fb9f3a\"],[0.8888888888888888,\"#fdca26\"],[1.0,\"#f0f921\"]],\"type\":\"heatmap\"}],\"histogram2dcontour\":[{\"colorbar\":{\"outlinewidth\":0,\"ticks\":\"\"},\"colorscale\":[[0.0,\"#0d0887\"],[0.1111111111111111,\"#46039f\"],[0.2222222222222222,\"#7201a8\"],[0.3333333333333333,\"#9c179e\"],[0.4444444444444444,\"#bd3786\"],[0.5555555555555556,\"#d8576b\"],[0.6666666666666666,\"#ed7953\"],[0.7777777777777778,\"#fb9f3a\"],[0.8888888888888888,\"#fdca26\"],[1.0,\"#f0f921\"]],\"type\":\"histogram2dcontour\"}],\"histogram2d\":[{\"colorbar\":{\"outlinewidth\":0,\"ticks\":\"\"},\"colorscale\":[[0.0,\"#0d0887\"],[0.1111111111111111,\"#46039f\"],[0.2222222222222222,\"#7201a8\"],[0.3333333333333333,\"#9c179e\"],[0.4444444444444444,\"#bd3786\"],[0.5555555555555556,\"#d8576b\"],[0.6666666666666666,\"#ed7953\"],[0.7777777777777778,\"#fb9f3a\"],[0.8888888888888888,\"#fdca26\"],[1.0,\"#f0f921\"]],\"type\":\"histogram2d\"}],\"histogram\":[{\"marker\":{\"pattern\":{\"fillmode\":\"overlay\",\"size\":10,\"solidity\":0.2}},\"type\":\"histogram\"}],\"mesh3d\":[{\"colorbar\":{\"outlinewidth\":0,\"ticks\":\"\"},\"type\":\"mesh3d\"}],\"parcoords\":[{\"line\":{\"colorbar\":{\"outlinewidth\":0,\"ticks\":\"\"}},\"type\":\"parcoords\"}],\"pie\":[{\"automargin\":true,\"type\":\"pie\"}],\"scatter3d\":[{\"line\":{\"colorbar\":{\"outlinewidth\":0,\"ticks\":\"\"}},\"marker\":{\"colorbar\":{\"outlinewidth\":0,\"ticks\":\"\"}},\"type\":\"scatter3d\"}],\"scattercarpet\":[{\"marker\":{\"colorbar\":{\"outlinewidth\":0,\"ticks\":\"\"}},\"type\":\"scattercarpet\"}],\"scattergeo\":[{\"marker\":{\"colorbar\":{\"outlinewidth\":0,\"ticks\":\"\"}},\"type\":\"scattergeo\"}],\"scattergl\":[{\"marker\":{\"colorbar\":{\"outlinewidth\":0,\"ticks\":\"\"}},\"type\":\"scattergl\"}],\"scattermapbox\":[{\"marker\":{\"colorbar\":{\"outlinewidth\":0,\"ticks\":\"\"}},\"type\":\"scattermapbox\"}],\"scatterpolargl\":[{\"marker\":{\"colorbar\":{\"outlinewidth\":0,\"ticks\":\"\"}},\"type\":\"scatterpolargl\"}],\"scatterpolar\":[{\"marker\":{\"colorbar\":{\"outlinewidth\":0,\"ticks\":\"\"}},\"type\":\"scatterpolar\"}],\"scatter\":[{\"fillpattern\":{\"fillmode\":\"overlay\",\"size\":10,\"solidity\":0.2},\"type\":\"scatter\"}],\"scatterternary\":[{\"marker\":{\"colorbar\":{\"outlinewidth\":0,\"ticks\":\"\"}},\"type\":\"scatterternary\"}],\"surface\":[{\"colorbar\":{\"outlinewidth\":0,\"ticks\":\"\"},\"colorscale\":[[0.0,\"#0d0887\"],[0.1111111111111111,\"#46039f\"],[0.2222222222222222,\"#7201a8\"],[0.3333333333333333,\"#9c179e\"],[0.4444444444444444,\"#bd3786\"],[0.5555555555555556,\"#d8576b\"],[0.6666666666666666,\"#ed7953\"],[0.7777777777777778,\"#fb9f3a\"],[0.8888888888888888,\"#fdca26\"],[1.0,\"#f0f921\"]],\"type\":\"surface\"}],\"table\":[{\"cells\":{\"fill\":{\"color\":\"#EBF0F8\"},\"line\":{\"color\":\"white\"}},\"header\":{\"fill\":{\"color\":\"#C8D4E3\"},\"line\":{\"color\":\"white\"}},\"type\":\"table\"}]},\"layout\":{\"annotationdefaults\":{\"arrowcolor\":\"#2a3f5f\",\"arrowhead\":0,\"arrowwidth\":1},\"autotypenumbers\":\"strict\",\"coloraxis\":{\"colorbar\":{\"outlinewidth\":0,\"ticks\":\"\"}},\"colorscale\":{\"diverging\":[[0,\"#8e0152\"],[0.1,\"#c51b7d\"],[0.2,\"#de77ae\"],[0.3,\"#f1b6da\"],[0.4,\"#fde0ef\"],[0.5,\"#f7f7f7\"],[0.6,\"#e6f5d0\"],[0.7,\"#b8e186\"],[0.8,\"#7fbc41\"],[0.9,\"#4d9221\"],[1,\"#276419\"]],\"sequential\":[[0.0,\"#0d0887\"],[0.1111111111111111,\"#46039f\"],[0.2222222222222222,\"#7201a8\"],[0.3333333333333333,\"#9c179e\"],[0.4444444444444444,\"#bd3786\"],[0.5555555555555556,\"#d8576b\"],[0.6666666666666666,\"#ed7953\"],[0.7777777777777778,\"#fb9f3a\"],[0.8888888888888888,\"#fdca26\"],[1.0,\"#f0f921\"]],\"sequentialminus\":[[0.0,\"#0d0887\"],[0.1111111111111111,\"#46039f\"],[0.2222222222222222,\"#7201a8\"],[0.3333333333333333,\"#9c179e\"],[0.4444444444444444,\"#bd3786\"],[0.5555555555555556,\"#d8576b\"],[0.6666666666666666,\"#ed7953\"],[0.7777777777777778,\"#fb9f3a\"],[0.8888888888888888,\"#fdca26\"],[1.0,\"#f0f921\"]]},\"colorway\":[\"#636efa\",\"#EF553B\",\"#00cc96\",\"#ab63fa\",\"#FFA15A\",\"#19d3f3\",\"#FF6692\",\"#B6E880\",\"#FF97FF\",\"#FECB52\"],\"font\":{\"color\":\"#2a3f5f\"},\"geo\":{\"bgcolor\":\"white\",\"lakecolor\":\"white\",\"landcolor\":\"#E5ECF6\",\"showlakes\":true,\"showland\":true,\"subunitcolor\":\"white\"},\"hoverlabel\":{\"align\":\"left\"},\"hovermode\":\"closest\",\"mapbox\":{\"style\":\"light\"},\"paper_bgcolor\":\"white\",\"plot_bgcolor\":\"#E5ECF6\",\"polar\":{\"angularaxis\":{\"gridcolor\":\"white\",\"linecolor\":\"white\",\"ticks\":\"\"},\"bgcolor\":\"#E5ECF6\",\"radialaxis\":{\"gridcolor\":\"white\",\"linecolor\":\"white\",\"ticks\":\"\"}},\"scene\":{\"xaxis\":{\"backgroundcolor\":\"#E5ECF6\",\"gridcolor\":\"white\",\"gridwidth\":2,\"linecolor\":\"white\",\"showbackground\":true,\"ticks\":\"\",\"zerolinecolor\":\"white\"},\"yaxis\":{\"backgroundcolor\":\"#E5ECF6\",\"gridcolor\":\"white\",\"gridwidth\":2,\"linecolor\":\"white\",\"showbackground\":true,\"ticks\":\"\",\"zerolinecolor\":\"white\"},\"zaxis\":{\"backgroundcolor\":\"#E5ECF6\",\"gridcolor\":\"white\",\"gridwidth\":2,\"linecolor\":\"white\",\"showbackground\":true,\"ticks\":\"\",\"zerolinecolor\":\"white\"}},\"shapedefaults\":{\"line\":{\"color\":\"#2a3f5f\"}},\"ternary\":{\"aaxis\":{\"gridcolor\":\"white\",\"linecolor\":\"white\",\"ticks\":\"\"},\"baxis\":{\"gridcolor\":\"white\",\"linecolor\":\"white\",\"ticks\":\"\"},\"bgcolor\":\"#E5ECF6\",\"caxis\":{\"gridcolor\":\"white\",\"linecolor\":\"white\",\"ticks\":\"\"}},\"title\":{\"x\":0.05},\"xaxis\":{\"automargin\":true,\"gridcolor\":\"white\",\"linecolor\":\"white\",\"ticks\":\"\",\"title\":{\"standoff\":15},\"zerolinecolor\":\"white\",\"zerolinewidth\":2},\"yaxis\":{\"automargin\":true,\"gridcolor\":\"white\",\"linecolor\":\"white\",\"ticks\":\"\",\"title\":{\"standoff\":15},\"zerolinecolor\":\"white\",\"zerolinewidth\":2}}},\"title\":{\"text\":\"Vendas Am\\u00e9rica x Europa USD (2015-2016)\"},\"yaxis\":{\"tickprefix\":\"$\",\"ticksuffix\":\"k\",\"title\":{\"text\":\"Receita\"}}},                        {\"responsive\": true}                    ).then(function(){\n",
              "                            \n",
              "var gd = document.getElementById('b745a43f-3fad-4f9a-ac9c-a26e2e65e5bf');\n",
              "var x = new MutationObserver(function (mutations, observer) {{\n",
              "        var display = window.getComputedStyle(gd).display;\n",
              "        if (!display || display === 'none') {{\n",
              "            console.log([gd, 'removed!']);\n",
              "            Plotly.purge(gd);\n",
              "            observer.disconnect();\n",
              "        }}\n",
              "}});\n",
              "\n",
              "// Listen for the removal of the full notebook cells\n",
              "var notebookContainer = gd.closest('#notebook-container');\n",
              "if (notebookContainer) {{\n",
              "    x.observe(notebookContainer, {childList: true});\n",
              "}}\n",
              "\n",
              "// Listen for the clearing of the current output cell\n",
              "var outputEl = gd.closest('.output');\n",
              "if (outputEl) {{\n",
              "    x.observe(outputEl, {childList: true});\n",
              "}}\n",
              "\n",
              "                        })                };                            </script>        </div>\n",
              "</body>\n",
              "</html>"
            ]
          },
          "metadata": {}
        }
      ]
    },
    {
      "cell_type": "markdown",
      "source": [
        "Ao somar a receita dos estados da Europa e os estados da USA, os maiores geradores de receita se concentram da USA."
      ],
      "metadata": {
        "id": "GJHfmduPQuZJ"
      }
    },
    {
      "cell_type": "markdown",
      "source": [
        "Categoria de produtos mais vendidos"
      ],
      "metadata": {
        "id": "BhalQHNkBGrL"
      }
    },
    {
      "cell_type": "code",
      "source": [
        "# Criando uma variável vendas_por_categoria com o método count() retorna o número de elementos com o valor especificado. ['Categoria Produto'] por ['Quantidade']\n",
        "vendas_por_categoria = customer.groupby(by='Categoria Produto').Quantidade.count()"
      ],
      "metadata": {
        "id": "woobl9Ma8hBZ"
      },
      "execution_count": 70,
      "outputs": []
    },
    {
      "cell_type": "code",
      "source": [
        "# Exibindo variável\n",
        "vendas_por_categoria"
      ],
      "metadata": {
        "colab": {
          "base_uri": "https://localhost:8080/"
        },
        "id": "qkztY6jY-z7X",
        "outputId": "bc442a7b-0c4f-4dc3-e762-1f17885ad6a6"
      },
      "execution_count": 71,
      "outputs": [
        {
          "output_type": "execute_result",
          "data": {
            "text/plain": [
              "Categoria Produto\n",
              "Accessories    1653\n",
              "Bikes           528\n",
              "Clothing        393\n",
              "Name: Quantidade, dtype: int64"
            ]
          },
          "metadata": {},
          "execution_count": 71
        }
      ]
    },
    {
      "cell_type": "code",
      "source": [
        "# Colocando em sentido horário o maior valor\n",
        "vendas_por_categoria.sort_values(ascending=False, inplace=True)"
      ],
      "metadata": {
        "id": "Xpl8jkEJAdgP"
      },
      "execution_count": 72,
      "outputs": []
    },
    {
      "cell_type": "markdown",
      "source": [
        "**Grafico de Pizza:** análise de proporção das Categorias mais vendidas"
      ],
      "metadata": {
        "id": "epbTqJ1sCXE6"
      }
    },
    {
      "cell_type": "code",
      "source": [
        "# Gráfico de Pizza\n",
        "\n",
        "# Definindo cores para o gráfico\n",
        "cores = ['#3CB371', '#FFFACD', '#FF6347'] \n",
        "\n",
        "# Atribuindo os valores de x e y\n",
        "trace2 = go.Pie(labels = vendas_por_categoria.index, # index\n",
        "               values = vendas_por_categoria.values, # valores\n",
        "               marker = {'colors': cores, # inserindo as cores\n",
        "                         'line': {'color': '#000000', 'width': 1} # definindo cor de borda e linha de borda\n",
        "                        },\n",
        "               direction='clockwise' # direção dos valores em sentido horário\n",
        "               )\n",
        "\n",
        "# Armazenando gráfico em uma lista\n",
        "data = [trace2]\n",
        "\n",
        "# Criando Layout\n",
        "layout = go.Layout(title='Classificação de Categorias Mais Vendidas')\n",
        "\n",
        "# Definindo objeto figura para print\n",
        "fig = go.Figure(data=data, layout=layout)\n",
        "\n",
        "py.iplot(fig)"
      ],
      "metadata": {
        "colab": {
          "base_uri": "https://localhost:8080/",
          "height": 542
        },
        "id": "UERiQvOaE7aq",
        "outputId": "073e1821-38a1-4cbe-9880-d695c931fed9"
      },
      "execution_count": 73,
      "outputs": [
        {
          "output_type": "display_data",
          "data": {
            "text/html": [
              "<html>\n",
              "<head><meta charset=\"utf-8\" /></head>\n",
              "<body>\n",
              "    <div>            <script src=\"https://cdnjs.cloudflare.com/ajax/libs/mathjax/2.7.5/MathJax.js?config=TeX-AMS-MML_SVG\"></script><script type=\"text/javascript\">if (window.MathJax && window.MathJax.Hub && window.MathJax.Hub.Config) {window.MathJax.Hub.Config({SVG: {font: \"STIX-Web\"}});}</script>                <script type=\"text/javascript\">window.PlotlyConfig = {MathJaxConfig: 'local'};</script>\n",
              "        <script src=\"https://cdn.plot.ly/plotly-2.18.2.min.js\"></script>                <div id=\"4e05d776-74f8-42cf-8fbd-e4b1719b2f69\" class=\"plotly-graph-div\" style=\"height:525px; width:100%;\"></div>            <script type=\"text/javascript\">                                    window.PLOTLYENV=window.PLOTLYENV || {};                                    if (document.getElementById(\"4e05d776-74f8-42cf-8fbd-e4b1719b2f69\")) {                    Plotly.newPlot(                        \"4e05d776-74f8-42cf-8fbd-e4b1719b2f69\",                        [{\"direction\":\"clockwise\",\"labels\":[\"Accessories\",\"Bikes\",\"Clothing\"],\"marker\":{\"colors\":[\"#3CB371\",\"#FFFACD\",\"#FF6347\"],\"line\":{\"color\":\"#000000\",\"width\":1}},\"values\":[1653,528,393],\"type\":\"pie\"}],                        {\"template\":{\"data\":{\"barpolar\":[{\"marker\":{\"line\":{\"color\":\"#E5ECF6\",\"width\":0.5},\"pattern\":{\"fillmode\":\"overlay\",\"size\":10,\"solidity\":0.2}},\"type\":\"barpolar\"}],\"bar\":[{\"error_x\":{\"color\":\"#2a3f5f\"},\"error_y\":{\"color\":\"#2a3f5f\"},\"marker\":{\"line\":{\"color\":\"#E5ECF6\",\"width\":0.5},\"pattern\":{\"fillmode\":\"overlay\",\"size\":10,\"solidity\":0.2}},\"type\":\"bar\"}],\"carpet\":[{\"aaxis\":{\"endlinecolor\":\"#2a3f5f\",\"gridcolor\":\"white\",\"linecolor\":\"white\",\"minorgridcolor\":\"white\",\"startlinecolor\":\"#2a3f5f\"},\"baxis\":{\"endlinecolor\":\"#2a3f5f\",\"gridcolor\":\"white\",\"linecolor\":\"white\",\"minorgridcolor\":\"white\",\"startlinecolor\":\"#2a3f5f\"},\"type\":\"carpet\"}],\"choropleth\":[{\"colorbar\":{\"outlinewidth\":0,\"ticks\":\"\"},\"type\":\"choropleth\"}],\"contourcarpet\":[{\"colorbar\":{\"outlinewidth\":0,\"ticks\":\"\"},\"type\":\"contourcarpet\"}],\"contour\":[{\"colorbar\":{\"outlinewidth\":0,\"ticks\":\"\"},\"colorscale\":[[0.0,\"#0d0887\"],[0.1111111111111111,\"#46039f\"],[0.2222222222222222,\"#7201a8\"],[0.3333333333333333,\"#9c179e\"],[0.4444444444444444,\"#bd3786\"],[0.5555555555555556,\"#d8576b\"],[0.6666666666666666,\"#ed7953\"],[0.7777777777777778,\"#fb9f3a\"],[0.8888888888888888,\"#fdca26\"],[1.0,\"#f0f921\"]],\"type\":\"contour\"}],\"heatmapgl\":[{\"colorbar\":{\"outlinewidth\":0,\"ticks\":\"\"},\"colorscale\":[[0.0,\"#0d0887\"],[0.1111111111111111,\"#46039f\"],[0.2222222222222222,\"#7201a8\"],[0.3333333333333333,\"#9c179e\"],[0.4444444444444444,\"#bd3786\"],[0.5555555555555556,\"#d8576b\"],[0.6666666666666666,\"#ed7953\"],[0.7777777777777778,\"#fb9f3a\"],[0.8888888888888888,\"#fdca26\"],[1.0,\"#f0f921\"]],\"type\":\"heatmapgl\"}],\"heatmap\":[{\"colorbar\":{\"outlinewidth\":0,\"ticks\":\"\"},\"colorscale\":[[0.0,\"#0d0887\"],[0.1111111111111111,\"#46039f\"],[0.2222222222222222,\"#7201a8\"],[0.3333333333333333,\"#9c179e\"],[0.4444444444444444,\"#bd3786\"],[0.5555555555555556,\"#d8576b\"],[0.6666666666666666,\"#ed7953\"],[0.7777777777777778,\"#fb9f3a\"],[0.8888888888888888,\"#fdca26\"],[1.0,\"#f0f921\"]],\"type\":\"heatmap\"}],\"histogram2dcontour\":[{\"colorbar\":{\"outlinewidth\":0,\"ticks\":\"\"},\"colorscale\":[[0.0,\"#0d0887\"],[0.1111111111111111,\"#46039f\"],[0.2222222222222222,\"#7201a8\"],[0.3333333333333333,\"#9c179e\"],[0.4444444444444444,\"#bd3786\"],[0.5555555555555556,\"#d8576b\"],[0.6666666666666666,\"#ed7953\"],[0.7777777777777778,\"#fb9f3a\"],[0.8888888888888888,\"#fdca26\"],[1.0,\"#f0f921\"]],\"type\":\"histogram2dcontour\"}],\"histogram2d\":[{\"colorbar\":{\"outlinewidth\":0,\"ticks\":\"\"},\"colorscale\":[[0.0,\"#0d0887\"],[0.1111111111111111,\"#46039f\"],[0.2222222222222222,\"#7201a8\"],[0.3333333333333333,\"#9c179e\"],[0.4444444444444444,\"#bd3786\"],[0.5555555555555556,\"#d8576b\"],[0.6666666666666666,\"#ed7953\"],[0.7777777777777778,\"#fb9f3a\"],[0.8888888888888888,\"#fdca26\"],[1.0,\"#f0f921\"]],\"type\":\"histogram2d\"}],\"histogram\":[{\"marker\":{\"pattern\":{\"fillmode\":\"overlay\",\"size\":10,\"solidity\":0.2}},\"type\":\"histogram\"}],\"mesh3d\":[{\"colorbar\":{\"outlinewidth\":0,\"ticks\":\"\"},\"type\":\"mesh3d\"}],\"parcoords\":[{\"line\":{\"colorbar\":{\"outlinewidth\":0,\"ticks\":\"\"}},\"type\":\"parcoords\"}],\"pie\":[{\"automargin\":true,\"type\":\"pie\"}],\"scatter3d\":[{\"line\":{\"colorbar\":{\"outlinewidth\":0,\"ticks\":\"\"}},\"marker\":{\"colorbar\":{\"outlinewidth\":0,\"ticks\":\"\"}},\"type\":\"scatter3d\"}],\"scattercarpet\":[{\"marker\":{\"colorbar\":{\"outlinewidth\":0,\"ticks\":\"\"}},\"type\":\"scattercarpet\"}],\"scattergeo\":[{\"marker\":{\"colorbar\":{\"outlinewidth\":0,\"ticks\":\"\"}},\"type\":\"scattergeo\"}],\"scattergl\":[{\"marker\":{\"colorbar\":{\"outlinewidth\":0,\"ticks\":\"\"}},\"type\":\"scattergl\"}],\"scattermapbox\":[{\"marker\":{\"colorbar\":{\"outlinewidth\":0,\"ticks\":\"\"}},\"type\":\"scattermapbox\"}],\"scatterpolargl\":[{\"marker\":{\"colorbar\":{\"outlinewidth\":0,\"ticks\":\"\"}},\"type\":\"scatterpolargl\"}],\"scatterpolar\":[{\"marker\":{\"colorbar\":{\"outlinewidth\":0,\"ticks\":\"\"}},\"type\":\"scatterpolar\"}],\"scatter\":[{\"fillpattern\":{\"fillmode\":\"overlay\",\"size\":10,\"solidity\":0.2},\"type\":\"scatter\"}],\"scatterternary\":[{\"marker\":{\"colorbar\":{\"outlinewidth\":0,\"ticks\":\"\"}},\"type\":\"scatterternary\"}],\"surface\":[{\"colorbar\":{\"outlinewidth\":0,\"ticks\":\"\"},\"colorscale\":[[0.0,\"#0d0887\"],[0.1111111111111111,\"#46039f\"],[0.2222222222222222,\"#7201a8\"],[0.3333333333333333,\"#9c179e\"],[0.4444444444444444,\"#bd3786\"],[0.5555555555555556,\"#d8576b\"],[0.6666666666666666,\"#ed7953\"],[0.7777777777777778,\"#fb9f3a\"],[0.8888888888888888,\"#fdca26\"],[1.0,\"#f0f921\"]],\"type\":\"surface\"}],\"table\":[{\"cells\":{\"fill\":{\"color\":\"#EBF0F8\"},\"line\":{\"color\":\"white\"}},\"header\":{\"fill\":{\"color\":\"#C8D4E3\"},\"line\":{\"color\":\"white\"}},\"type\":\"table\"}]},\"layout\":{\"annotationdefaults\":{\"arrowcolor\":\"#2a3f5f\",\"arrowhead\":0,\"arrowwidth\":1},\"autotypenumbers\":\"strict\",\"coloraxis\":{\"colorbar\":{\"outlinewidth\":0,\"ticks\":\"\"}},\"colorscale\":{\"diverging\":[[0,\"#8e0152\"],[0.1,\"#c51b7d\"],[0.2,\"#de77ae\"],[0.3,\"#f1b6da\"],[0.4,\"#fde0ef\"],[0.5,\"#f7f7f7\"],[0.6,\"#e6f5d0\"],[0.7,\"#b8e186\"],[0.8,\"#7fbc41\"],[0.9,\"#4d9221\"],[1,\"#276419\"]],\"sequential\":[[0.0,\"#0d0887\"],[0.1111111111111111,\"#46039f\"],[0.2222222222222222,\"#7201a8\"],[0.3333333333333333,\"#9c179e\"],[0.4444444444444444,\"#bd3786\"],[0.5555555555555556,\"#d8576b\"],[0.6666666666666666,\"#ed7953\"],[0.7777777777777778,\"#fb9f3a\"],[0.8888888888888888,\"#fdca26\"],[1.0,\"#f0f921\"]],\"sequentialminus\":[[0.0,\"#0d0887\"],[0.1111111111111111,\"#46039f\"],[0.2222222222222222,\"#7201a8\"],[0.3333333333333333,\"#9c179e\"],[0.4444444444444444,\"#bd3786\"],[0.5555555555555556,\"#d8576b\"],[0.6666666666666666,\"#ed7953\"],[0.7777777777777778,\"#fb9f3a\"],[0.8888888888888888,\"#fdca26\"],[1.0,\"#f0f921\"]]},\"colorway\":[\"#636efa\",\"#EF553B\",\"#00cc96\",\"#ab63fa\",\"#FFA15A\",\"#19d3f3\",\"#FF6692\",\"#B6E880\",\"#FF97FF\",\"#FECB52\"],\"font\":{\"color\":\"#2a3f5f\"},\"geo\":{\"bgcolor\":\"white\",\"lakecolor\":\"white\",\"landcolor\":\"#E5ECF6\",\"showlakes\":true,\"showland\":true,\"subunitcolor\":\"white\"},\"hoverlabel\":{\"align\":\"left\"},\"hovermode\":\"closest\",\"mapbox\":{\"style\":\"light\"},\"paper_bgcolor\":\"white\",\"plot_bgcolor\":\"#E5ECF6\",\"polar\":{\"angularaxis\":{\"gridcolor\":\"white\",\"linecolor\":\"white\",\"ticks\":\"\"},\"bgcolor\":\"#E5ECF6\",\"radialaxis\":{\"gridcolor\":\"white\",\"linecolor\":\"white\",\"ticks\":\"\"}},\"scene\":{\"xaxis\":{\"backgroundcolor\":\"#E5ECF6\",\"gridcolor\":\"white\",\"gridwidth\":2,\"linecolor\":\"white\",\"showbackground\":true,\"ticks\":\"\",\"zerolinecolor\":\"white\"},\"yaxis\":{\"backgroundcolor\":\"#E5ECF6\",\"gridcolor\":\"white\",\"gridwidth\":2,\"linecolor\":\"white\",\"showbackground\":true,\"ticks\":\"\",\"zerolinecolor\":\"white\"},\"zaxis\":{\"backgroundcolor\":\"#E5ECF6\",\"gridcolor\":\"white\",\"gridwidth\":2,\"linecolor\":\"white\",\"showbackground\":true,\"ticks\":\"\",\"zerolinecolor\":\"white\"}},\"shapedefaults\":{\"line\":{\"color\":\"#2a3f5f\"}},\"ternary\":{\"aaxis\":{\"gridcolor\":\"white\",\"linecolor\":\"white\",\"ticks\":\"\"},\"baxis\":{\"gridcolor\":\"white\",\"linecolor\":\"white\",\"ticks\":\"\"},\"bgcolor\":\"#E5ECF6\",\"caxis\":{\"gridcolor\":\"white\",\"linecolor\":\"white\",\"ticks\":\"\"}},\"title\":{\"x\":0.05},\"xaxis\":{\"automargin\":true,\"gridcolor\":\"white\",\"linecolor\":\"white\",\"ticks\":\"\",\"title\":{\"standoff\":15},\"zerolinecolor\":\"white\",\"zerolinewidth\":2},\"yaxis\":{\"automargin\":true,\"gridcolor\":\"white\",\"linecolor\":\"white\",\"ticks\":\"\",\"title\":{\"standoff\":15},\"zerolinecolor\":\"white\",\"zerolinewidth\":2}}},\"title\":{\"text\":\"Classifica\\u00e7\\u00e3o de Categorias Mais Vendidas\"}},                        {\"responsive\": true}                    ).then(function(){\n",
              "                            \n",
              "var gd = document.getElementById('4e05d776-74f8-42cf-8fbd-e4b1719b2f69');\n",
              "var x = new MutationObserver(function (mutations, observer) {{\n",
              "        var display = window.getComputedStyle(gd).display;\n",
              "        if (!display || display === 'none') {{\n",
              "            console.log([gd, 'removed!']);\n",
              "            Plotly.purge(gd);\n",
              "            observer.disconnect();\n",
              "        }}\n",
              "}});\n",
              "\n",
              "// Listen for the removal of the full notebook cells\n",
              "var notebookContainer = gd.closest('#notebook-container');\n",
              "if (notebookContainer) {{\n",
              "    x.observe(notebookContainer, {childList: true});\n",
              "}}\n",
              "\n",
              "// Listen for the clearing of the current output cell\n",
              "var outputEl = gd.closest('.output');\n",
              "if (outputEl) {{\n",
              "    x.observe(outputEl, {childList: true});\n",
              "}}\n",
              "\n",
              "                        })                };                            </script>        </div>\n",
              "</body>\n",
              "</html>"
            ]
          },
          "metadata": {}
        }
      ]
    },
    {
      "cell_type": "markdown",
      "source": [
        "A categoria Acessórios representa o maior índice de requisição pelos consumidores"
      ],
      "metadata": {
        "id": "oxmQV0_gCVIH"
      }
    },
    {
      "cell_type": "markdown",
      "source": [
        "**Aálise dos itens que geram a maior receita**"
      ],
      "metadata": {
        "id": "ckz4oPq_DkCK"
      }
    },
    {
      "cell_type": "code",
      "source": [
        "#Criar a variável vendas_sub_categoria: que é a soma da receita gerada ['Receita'] pela Sub Categoria ['Sub Categoria']\n",
        "vendas_sub_categoria = customer.groupby(by='Sub Categoria').Receita.sum()/1e3"
      ],
      "metadata": {
        "id": "W7EiCYf2Le-A"
      },
      "execution_count": 74,
      "outputs": []
    },
    {
      "cell_type": "code",
      "source": [
        "# Colocando os valores em ordem crescente\n",
        "vendas_sub_categoria.sort_values(ascending=True, inplace=True)"
      ],
      "metadata": {
        "id": "Qc8-xfckDXh5"
      },
      "execution_count": 75,
      "outputs": []
    },
    {
      "cell_type": "code",
      "source": [
        "# Mostrando as primeiras linhas\n",
        "vendas_sub_categoria.head() "
      ],
      "metadata": {
        "colab": {
          "base_uri": "https://localhost:8080/"
        },
        "id": "4GDdlkSNLs3O",
        "outputId": "7fa0ec48-219c-4d42-9a90-115ad75212c5"
      },
      "execution_count": 76,
      "outputs": [
        {
          "output_type": "execute_result",
          "data": {
            "text/plain": [
              "Sub Categoria\n",
              "Socks           1.657\n",
              "Cleaners       12.546\n",
              "Bike Stands    14.436\n",
              "Gloves         14.574\n",
              "Vests          18.740\n",
              "Name: Receita, dtype: float64"
            ]
          },
          "metadata": {},
          "execution_count": 76
        }
      ]
    },
    {
      "cell_type": "code",
      "source": [
        "# Atribuindo valores de y e x \n",
        "data = [go.Bar(y=vendas_sub_categoria.index,\n",
        "               x=vendas_sub_categoria.values,                      \n",
        "               orientation='h', # gráfico na horizontal\n",
        "               marker = {'color': 'PaleVioletRed', # definindo cor\n",
        "                         'line': {'color': '#333', #definindo cor da borda\n",
        "                         'width': 1,}   #definindo espessura da borda                               \n",
        "                        }                      \n",
        "              )\n",
        "       ]\n",
        "\n",
        "# Criando Layout\n",
        "config_layout = go.Layout(title= 'Receita Produtos $K (2015-2016)', # título do gráfico\n",
        "                          titlefont=dict(size=30), # tamanho do título       \n",
        "                          yaxis={'title':'Produtos',}, # título do eixo y    \n",
        "                          xaxis={'title':'Faturamento $ K', # título do eixo x\n",
        "                                 'tickprefix':'$', # Adicionando o '$' no eixo x\n",
        "                                 'ticksuffix':'k'} # adicionar nos valores do eixo x o \"$\" no final\n",
        "                          )\n",
        "\n",
        "# Definindo objeto figura para print\n",
        "fig= go.Figure(data = data, layout=config_layout)\n",
        "\n",
        "py.iplot(fig)\n"
      ],
      "metadata": {
        "colab": {
          "base_uri": "https://localhost:8080/",
          "height": 542
        },
        "id": "DKMBWnSEMKqX",
        "outputId": "23874889-446c-4bad-d3b7-9134b2a04eaf"
      },
      "execution_count": 77,
      "outputs": [
        {
          "output_type": "display_data",
          "data": {
            "text/html": [
              "<html>\n",
              "<head><meta charset=\"utf-8\" /></head>\n",
              "<body>\n",
              "    <div>            <script src=\"https://cdnjs.cloudflare.com/ajax/libs/mathjax/2.7.5/MathJax.js?config=TeX-AMS-MML_SVG\"></script><script type=\"text/javascript\">if (window.MathJax && window.MathJax.Hub && window.MathJax.Hub.Config) {window.MathJax.Hub.Config({SVG: {font: \"STIX-Web\"}});}</script>                <script type=\"text/javascript\">window.PlotlyConfig = {MathJaxConfig: 'local'};</script>\n",
              "        <script src=\"https://cdn.plot.ly/plotly-2.18.2.min.js\"></script>                <div id=\"ecb28387-5964-4b86-b5a0-855ee8d92d63\" class=\"plotly-graph-div\" style=\"height:525px; width:100%;\"></div>            <script type=\"text/javascript\">                                    window.PLOTLYENV=window.PLOTLYENV || {};                                    if (document.getElementById(\"ecb28387-5964-4b86-b5a0-855ee8d92d63\")) {                    Plotly.newPlot(                        \"ecb28387-5964-4b86-b5a0-855ee8d92d63\",                        [{\"marker\":{\"color\":\"PaleVioletRed\",\"line\":{\"color\":\"#333\",\"width\":1}},\"orientation\":\"h\",\"x\":[1.657,12.546,14.436,14.574,18.74,19.558,19.682,26.119,26.631,31.877,175.938,189.692,198.109,199.415,242.123,620.29],\"y\":[\"Socks\",\"Cleaners\",\"Bike Stands\",\"Gloves\",\"Vests\",\"Bike Racks\",\"Caps\",\"Hydration Packs\",\"Fenders\",\"Bottles and Cages\",\"Road Bikes\",\"Jerseys\",\"Helmets\",\"Touring Bikes\",\"Tires and Tubes\",\"Mountain Bikes\"],\"type\":\"bar\"}],                        {\"template\":{\"data\":{\"barpolar\":[{\"marker\":{\"line\":{\"color\":\"#E5ECF6\",\"width\":0.5},\"pattern\":{\"fillmode\":\"overlay\",\"size\":10,\"solidity\":0.2}},\"type\":\"barpolar\"}],\"bar\":[{\"error_x\":{\"color\":\"#2a3f5f\"},\"error_y\":{\"color\":\"#2a3f5f\"},\"marker\":{\"line\":{\"color\":\"#E5ECF6\",\"width\":0.5},\"pattern\":{\"fillmode\":\"overlay\",\"size\":10,\"solidity\":0.2}},\"type\":\"bar\"}],\"carpet\":[{\"aaxis\":{\"endlinecolor\":\"#2a3f5f\",\"gridcolor\":\"white\",\"linecolor\":\"white\",\"minorgridcolor\":\"white\",\"startlinecolor\":\"#2a3f5f\"},\"baxis\":{\"endlinecolor\":\"#2a3f5f\",\"gridcolor\":\"white\",\"linecolor\":\"white\",\"minorgridcolor\":\"white\",\"startlinecolor\":\"#2a3f5f\"},\"type\":\"carpet\"}],\"choropleth\":[{\"colorbar\":{\"outlinewidth\":0,\"ticks\":\"\"},\"type\":\"choropleth\"}],\"contourcarpet\":[{\"colorbar\":{\"outlinewidth\":0,\"ticks\":\"\"},\"type\":\"contourcarpet\"}],\"contour\":[{\"colorbar\":{\"outlinewidth\":0,\"ticks\":\"\"},\"colorscale\":[[0.0,\"#0d0887\"],[0.1111111111111111,\"#46039f\"],[0.2222222222222222,\"#7201a8\"],[0.3333333333333333,\"#9c179e\"],[0.4444444444444444,\"#bd3786\"],[0.5555555555555556,\"#d8576b\"],[0.6666666666666666,\"#ed7953\"],[0.7777777777777778,\"#fb9f3a\"],[0.8888888888888888,\"#fdca26\"],[1.0,\"#f0f921\"]],\"type\":\"contour\"}],\"heatmapgl\":[{\"colorbar\":{\"outlinewidth\":0,\"ticks\":\"\"},\"colorscale\":[[0.0,\"#0d0887\"],[0.1111111111111111,\"#46039f\"],[0.2222222222222222,\"#7201a8\"],[0.3333333333333333,\"#9c179e\"],[0.4444444444444444,\"#bd3786\"],[0.5555555555555556,\"#d8576b\"],[0.6666666666666666,\"#ed7953\"],[0.7777777777777778,\"#fb9f3a\"],[0.8888888888888888,\"#fdca26\"],[1.0,\"#f0f921\"]],\"type\":\"heatmapgl\"}],\"heatmap\":[{\"colorbar\":{\"outlinewidth\":0,\"ticks\":\"\"},\"colorscale\":[[0.0,\"#0d0887\"],[0.1111111111111111,\"#46039f\"],[0.2222222222222222,\"#7201a8\"],[0.3333333333333333,\"#9c179e\"],[0.4444444444444444,\"#bd3786\"],[0.5555555555555556,\"#d8576b\"],[0.6666666666666666,\"#ed7953\"],[0.7777777777777778,\"#fb9f3a\"],[0.8888888888888888,\"#fdca26\"],[1.0,\"#f0f921\"]],\"type\":\"heatmap\"}],\"histogram2dcontour\":[{\"colorbar\":{\"outlinewidth\":0,\"ticks\":\"\"},\"colorscale\":[[0.0,\"#0d0887\"],[0.1111111111111111,\"#46039f\"],[0.2222222222222222,\"#7201a8\"],[0.3333333333333333,\"#9c179e\"],[0.4444444444444444,\"#bd3786\"],[0.5555555555555556,\"#d8576b\"],[0.6666666666666666,\"#ed7953\"],[0.7777777777777778,\"#fb9f3a\"],[0.8888888888888888,\"#fdca26\"],[1.0,\"#f0f921\"]],\"type\":\"histogram2dcontour\"}],\"histogram2d\":[{\"colorbar\":{\"outlinewidth\":0,\"ticks\":\"\"},\"colorscale\":[[0.0,\"#0d0887\"],[0.1111111111111111,\"#46039f\"],[0.2222222222222222,\"#7201a8\"],[0.3333333333333333,\"#9c179e\"],[0.4444444444444444,\"#bd3786\"],[0.5555555555555556,\"#d8576b\"],[0.6666666666666666,\"#ed7953\"],[0.7777777777777778,\"#fb9f3a\"],[0.8888888888888888,\"#fdca26\"],[1.0,\"#f0f921\"]],\"type\":\"histogram2d\"}],\"histogram\":[{\"marker\":{\"pattern\":{\"fillmode\":\"overlay\",\"size\":10,\"solidity\":0.2}},\"type\":\"histogram\"}],\"mesh3d\":[{\"colorbar\":{\"outlinewidth\":0,\"ticks\":\"\"},\"type\":\"mesh3d\"}],\"parcoords\":[{\"line\":{\"colorbar\":{\"outlinewidth\":0,\"ticks\":\"\"}},\"type\":\"parcoords\"}],\"pie\":[{\"automargin\":true,\"type\":\"pie\"}],\"scatter3d\":[{\"line\":{\"colorbar\":{\"outlinewidth\":0,\"ticks\":\"\"}},\"marker\":{\"colorbar\":{\"outlinewidth\":0,\"ticks\":\"\"}},\"type\":\"scatter3d\"}],\"scattercarpet\":[{\"marker\":{\"colorbar\":{\"outlinewidth\":0,\"ticks\":\"\"}},\"type\":\"scattercarpet\"}],\"scattergeo\":[{\"marker\":{\"colorbar\":{\"outlinewidth\":0,\"ticks\":\"\"}},\"type\":\"scattergeo\"}],\"scattergl\":[{\"marker\":{\"colorbar\":{\"outlinewidth\":0,\"ticks\":\"\"}},\"type\":\"scattergl\"}],\"scattermapbox\":[{\"marker\":{\"colorbar\":{\"outlinewidth\":0,\"ticks\":\"\"}},\"type\":\"scattermapbox\"}],\"scatterpolargl\":[{\"marker\":{\"colorbar\":{\"outlinewidth\":0,\"ticks\":\"\"}},\"type\":\"scatterpolargl\"}],\"scatterpolar\":[{\"marker\":{\"colorbar\":{\"outlinewidth\":0,\"ticks\":\"\"}},\"type\":\"scatterpolar\"}],\"scatter\":[{\"fillpattern\":{\"fillmode\":\"overlay\",\"size\":10,\"solidity\":0.2},\"type\":\"scatter\"}],\"scatterternary\":[{\"marker\":{\"colorbar\":{\"outlinewidth\":0,\"ticks\":\"\"}},\"type\":\"scatterternary\"}],\"surface\":[{\"colorbar\":{\"outlinewidth\":0,\"ticks\":\"\"},\"colorscale\":[[0.0,\"#0d0887\"],[0.1111111111111111,\"#46039f\"],[0.2222222222222222,\"#7201a8\"],[0.3333333333333333,\"#9c179e\"],[0.4444444444444444,\"#bd3786\"],[0.5555555555555556,\"#d8576b\"],[0.6666666666666666,\"#ed7953\"],[0.7777777777777778,\"#fb9f3a\"],[0.8888888888888888,\"#fdca26\"],[1.0,\"#f0f921\"]],\"type\":\"surface\"}],\"table\":[{\"cells\":{\"fill\":{\"color\":\"#EBF0F8\"},\"line\":{\"color\":\"white\"}},\"header\":{\"fill\":{\"color\":\"#C8D4E3\"},\"line\":{\"color\":\"white\"}},\"type\":\"table\"}]},\"layout\":{\"annotationdefaults\":{\"arrowcolor\":\"#2a3f5f\",\"arrowhead\":0,\"arrowwidth\":1},\"autotypenumbers\":\"strict\",\"coloraxis\":{\"colorbar\":{\"outlinewidth\":0,\"ticks\":\"\"}},\"colorscale\":{\"diverging\":[[0,\"#8e0152\"],[0.1,\"#c51b7d\"],[0.2,\"#de77ae\"],[0.3,\"#f1b6da\"],[0.4,\"#fde0ef\"],[0.5,\"#f7f7f7\"],[0.6,\"#e6f5d0\"],[0.7,\"#b8e186\"],[0.8,\"#7fbc41\"],[0.9,\"#4d9221\"],[1,\"#276419\"]],\"sequential\":[[0.0,\"#0d0887\"],[0.1111111111111111,\"#46039f\"],[0.2222222222222222,\"#7201a8\"],[0.3333333333333333,\"#9c179e\"],[0.4444444444444444,\"#bd3786\"],[0.5555555555555556,\"#d8576b\"],[0.6666666666666666,\"#ed7953\"],[0.7777777777777778,\"#fb9f3a\"],[0.8888888888888888,\"#fdca26\"],[1.0,\"#f0f921\"]],\"sequentialminus\":[[0.0,\"#0d0887\"],[0.1111111111111111,\"#46039f\"],[0.2222222222222222,\"#7201a8\"],[0.3333333333333333,\"#9c179e\"],[0.4444444444444444,\"#bd3786\"],[0.5555555555555556,\"#d8576b\"],[0.6666666666666666,\"#ed7953\"],[0.7777777777777778,\"#fb9f3a\"],[0.8888888888888888,\"#fdca26\"],[1.0,\"#f0f921\"]]},\"colorway\":[\"#636efa\",\"#EF553B\",\"#00cc96\",\"#ab63fa\",\"#FFA15A\",\"#19d3f3\",\"#FF6692\",\"#B6E880\",\"#FF97FF\",\"#FECB52\"],\"font\":{\"color\":\"#2a3f5f\"},\"geo\":{\"bgcolor\":\"white\",\"lakecolor\":\"white\",\"landcolor\":\"#E5ECF6\",\"showlakes\":true,\"showland\":true,\"subunitcolor\":\"white\"},\"hoverlabel\":{\"align\":\"left\"},\"hovermode\":\"closest\",\"mapbox\":{\"style\":\"light\"},\"paper_bgcolor\":\"white\",\"plot_bgcolor\":\"#E5ECF6\",\"polar\":{\"angularaxis\":{\"gridcolor\":\"white\",\"linecolor\":\"white\",\"ticks\":\"\"},\"bgcolor\":\"#E5ECF6\",\"radialaxis\":{\"gridcolor\":\"white\",\"linecolor\":\"white\",\"ticks\":\"\"}},\"scene\":{\"xaxis\":{\"backgroundcolor\":\"#E5ECF6\",\"gridcolor\":\"white\",\"gridwidth\":2,\"linecolor\":\"white\",\"showbackground\":true,\"ticks\":\"\",\"zerolinecolor\":\"white\"},\"yaxis\":{\"backgroundcolor\":\"#E5ECF6\",\"gridcolor\":\"white\",\"gridwidth\":2,\"linecolor\":\"white\",\"showbackground\":true,\"ticks\":\"\",\"zerolinecolor\":\"white\"},\"zaxis\":{\"backgroundcolor\":\"#E5ECF6\",\"gridcolor\":\"white\",\"gridwidth\":2,\"linecolor\":\"white\",\"showbackground\":true,\"ticks\":\"\",\"zerolinecolor\":\"white\"}},\"shapedefaults\":{\"line\":{\"color\":\"#2a3f5f\"}},\"ternary\":{\"aaxis\":{\"gridcolor\":\"white\",\"linecolor\":\"white\",\"ticks\":\"\"},\"baxis\":{\"gridcolor\":\"white\",\"linecolor\":\"white\",\"ticks\":\"\"},\"bgcolor\":\"#E5ECF6\",\"caxis\":{\"gridcolor\":\"white\",\"linecolor\":\"white\",\"ticks\":\"\"}},\"title\":{\"x\":0.05},\"xaxis\":{\"automargin\":true,\"gridcolor\":\"white\",\"linecolor\":\"white\",\"ticks\":\"\",\"title\":{\"standoff\":15},\"zerolinecolor\":\"white\",\"zerolinewidth\":2},\"yaxis\":{\"automargin\":true,\"gridcolor\":\"white\",\"linecolor\":\"white\",\"ticks\":\"\",\"title\":{\"standoff\":15},\"zerolinecolor\":\"white\",\"zerolinewidth\":2}}},\"title\":{\"font\":{\"size\":30},\"text\":\"Receita Produtos $K (2015-2016)\"},\"xaxis\":{\"tickprefix\":\"$\",\"ticksuffix\":\"k\",\"title\":{\"text\":\"Faturamento $ K\"}},\"yaxis\":{\"title\":{\"text\":\"Produtos\"}}},                        {\"responsive\": true}                    ).then(function(){\n",
              "                            \n",
              "var gd = document.getElementById('ecb28387-5964-4b86-b5a0-855ee8d92d63');\n",
              "var x = new MutationObserver(function (mutations, observer) {{\n",
              "        var display = window.getComputedStyle(gd).display;\n",
              "        if (!display || display === 'none') {{\n",
              "            console.log([gd, 'removed!']);\n",
              "            Plotly.purge(gd);\n",
              "            observer.disconnect();\n",
              "        }}\n",
              "}});\n",
              "\n",
              "// Listen for the removal of the full notebook cells\n",
              "var notebookContainer = gd.closest('#notebook-container');\n",
              "if (notebookContainer) {{\n",
              "    x.observe(notebookContainer, {childList: true});\n",
              "}}\n",
              "\n",
              "// Listen for the clearing of the current output cell\n",
              "var outputEl = gd.closest('.output');\n",
              "if (outputEl) {{\n",
              "    x.observe(outputEl, {childList: true});\n",
              "}}\n",
              "\n",
              "                        })                };                            </script>        </div>\n",
              "</body>\n",
              "</html>"
            ]
          },
          "metadata": {}
        }
      ]
    },
    {
      "cell_type": "markdown",
      "source": [
        "Ao análisar os item Acessários como mais requisitados pelos consumidores. Os produtos que geram maior receita se enquadram na categoria Bike, que é item que gera maior receita a empresa = mountain bikes. Seguido por Acessórios, no item Tire and Tubes"
      ],
      "metadata": {
        "id": "sRSIg7WcEUjL"
      }
    },
    {
      "cell_type": "markdown",
      "source": [
        "# Conclusão"
      ],
      "metadata": {
        "id": "pZN8XTPfG-Qx"
      }
    },
    {
      "cell_type": "markdown",
      "source": [
        "O dataset apresenta uma ampla perspectiva sobre os hábitos dos consumidores. Ao explorar o dataset nomeado como 'customer', nos revelou que é um mercado variado e com opções para atingir diversos tipos de consumidores. Foi explorado que a carteira de clientes é diversificada e não específica, pois abrange diversas faixas etárias de consumidores e referente ao sexo, possui uma igualdade de gênero para aquisição das categorias dos produtos. \n",
        "ALém disso, foi abordado a receita gerada pelos produtos consumidos e que mostra-se um mercado em tendência para investimento em diversas áreas do globo. Ao mostrar uma país, como Estados Unidos, que possui elevado consumo, mostrou-se verdadeiro a receita gerada para a Empresa, pois há uma demanda ascendente dos produtos.\n",
        "Há diversas perspectivas que podem ser exploradas no dataset, como produto com maior desconto, distribuição das categorias por estados, dias da semana que há maior receita gerada, entre outros pontos.\n"
      ],
      "metadata": {
        "id": "6xgUmHK8HBrg"
      }
    }
  ]
}